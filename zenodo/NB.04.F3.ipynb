{
 "cells": [
  {
   "cell_type": "markdown",
   "id": "d68ceab6-c9fc-4ad2-aa88-b7047f91e7b0",
   "metadata": {},
   "source": [
    "# Proposition"
   ]
  },
  {
   "cell_type": "markdown",
   "id": "e0b9e8b8-90c3-47a9-be7c-e7873230b063",
   "metadata": {},
   "source": [
    "Let $P_1, \\dotsc, P_5$ be a $V$-configuration such that it holds\n",
    "$$\n",
    "   \\delta_1(P_1, P_2, P_4)=\\overline{\\delta}_1(P_1, P_2, P_3) =\n",
    "  \\overline{\\delta}_1(P_1, P_4, P_5) = 0\n",
    "$$\n",
    "Then $P_4$ is orthogonal to $s_{11} \\, P_2 - s_{12} \\, P_1$ and one of the four conditions obtained by considering\n",
    "$$\n",
    "   P_3 = (s_{12}^2+s_{11}s_{22}) \\, P_1 - 2s_{11}s_{12} \\, P_2 \\,, \\quad\n",
    "   P_5 = (s_{14}^2+s_{11}s_{44}) \\, P_1 - 2s_{11}s_{14} \\, P_4 \\,.\n",
    "$$\n",
    "  and swapping in the latter formulas $2 \\leftrightarrow 3$ and $4 \\leftrightarrow 5$ holds."
   ]
  },
  {
   "cell_type": "markdown",
   "id": "b7e122cb-b1de-4276-9c7c-28c90f54c9fe",
   "metadata": {},
   "source": [
    "To prove this result, we need to show that none of the following situations may happen:\n",
    "* $\\left\\langle P_1, P_1 \\right\\rangle = \\sigma(P_1, P_2) = 0$ and $P_5 = (s_{14}^2+s_{11}s_{44}) \\, P_1 - 2s_{11}s_{14} \\, P_4$\n",
    "* $\\left\\langle P_1, P_1 \\right\\rangle = \\sigma(P_1, P_2) = 0$ and $P_4 = (s_{15}^2+s_{11}s_{55}) \\, P_1 - 2s_{11}s_{15} \\, P_5$\n",
    "* $\\left\\langle P_1, P_1 \\right\\rangle = \\sigma(P_1, P_4) = 0$ and $P_3 = (s_{12}^2+s_{11}s_{22}) \\, P_1 - 2s_{11}s_{12} \\, P_2$\n",
    "* $\\left\\langle P_1, P_1 \\right\\rangle = \\sigma(P_1, P_4) = 0$ and $P_2 = (s_{13}^2+s_{11}s_{33}) \\, P_1 - 2s_{11}s_{13} \\, P_3$"
   ]
  },
  {
   "cell_type": "code",
   "execution_count": 5,
   "id": "07fc69cb-f995-4269-a322-42ba85a694ce",
   "metadata": {},
   "outputs": [],
   "source": [
    "load(\"basic_functions.sage\")"
   ]
  },
  {
   "cell_type": "markdown",
   "id": "ef8f7a35-b9dd-4bef-b0bc-44ccef010a2d",
   "metadata": {},
   "source": [
    "We define five points, so that $P_1$, $P_2$, and $P_3$ are aligned and $P_1$, $P_4$, and $P_5$ are aligned."
   ]
  },
  {
   "cell_type": "code",
   "execution_count": 6,
   "id": "bd5a2764-f42c-4b94-94d9-55c909c11cf7",
   "metadata": {},
   "outputs": [],
   "source": [
    "P1 = vector(S, (A1, B1, C1))\n",
    "P2 = vector(S, (A2, B2, C2))\n",
    "P3 = u1*P1 + u2*P2\n",
    "P4 = vector(S, (A4, B4, C4))\n",
    "P5 = v1*P1 + v2*P4"
   ]
  },
  {
   "cell_type": "code",
   "execution_count": 7,
   "id": "0041d3cc-9dff-4eec-8b13-ee4687bfa1af",
   "metadata": {},
   "outputs": [],
   "source": [
    "S11 = scalar_product(P1, P1)\n",
    "S12 = scalar_product(P1, P2)\n",
    "S13 = scalar_product(P1, P3)\n",
    "S14 = scalar_product(P1, P4)\n",
    "S15 = scalar_product(P1, P5)\n",
    "S22 = scalar_product(P2, P2)\n",
    "S33 = scalar_product(P3, P3)\n",
    "S44 = scalar_product(P4, P4)\n",
    "S55 = scalar_product(P5, P5)"
   ]
  },
  {
   "cell_type": "markdown",
   "id": "7dbbd770-4cba-441b-9018-702edf730dc9",
   "metadata": {
    "jp-MarkdownHeadingCollapsed": true
   },
   "source": [
    "## Proof that \n",
    "## $$ \\left\\langle P_1, P_1 \\right\\rangle = \\sigma(P_1, P_2) = 0 \\text{ and } P_5 = (s_{14}^2+s_{11}s_{44}) \\, P_1 - 2s_{11}s_{14} \\, P_4 $$\n",
    "## cannot happen."
   ]
  },
  {
   "cell_type": "code",
   "execution_count": 13,
   "id": "dab9c92d-b1d5-429d-b366-7cbe220c6323",
   "metadata": {},
   "outputs": [],
   "source": [
    "I = S.ideal(scalar_product(P1, P1), sigma(P1, P2))\n",
    "m2 = matrix([(S14^2 + S11*S44)*P1 - 2*S11*S14*P4, P5]).minors(2)\n",
    "J = S.ideal(m2)"
   ]
  },
  {
   "cell_type": "code",
   "execution_count": 14,
   "id": "e9385e07-758b-45db-85fe-d95f37985024",
   "metadata": {},
   "outputs": [],
   "source": [
    "assert(\n",
    "    (I + J).radical().saturation(\n",
    "        S.ideal(list(P1))\n",
    "    )[0].saturation(\n",
    "        u1*u2*v1*v2\n",
    "    )[0].saturation(\n",
    "        matrix([P1, P2, P4]).det()\n",
    "    )[0] == S.ideal(S.one())\n",
    ")"
   ]
  },
  {
   "cell_type": "markdown",
   "id": "f984a5c9-5899-4dd8-b910-0e2f96826ee1",
   "metadata": {
    "jp-MarkdownHeadingCollapsed": true
   },
   "source": [
    "## Proof that \n",
    "## $$ \\left\\langle P_1, P_1 \\right\\rangle = \\sigma(P_1, P_2) = 0 \\text{ and } P_4 = (s_{15}^2+s_{11}s_{55}) \\, P_1 - 2s_{11}s_{15} \\, P_5 $$\n",
    "## cannot happen."
   ]
  },
  {
   "cell_type": "code",
   "execution_count": 15,
   "id": "cc9e99c9-d737-44ca-9423-be8613053af2",
   "metadata": {},
   "outputs": [],
   "source": [
    "I = S.ideal(scalar_product(P1, P1), sigma(P1, P2))\n",
    "m2 = matrix([(S15^2 + S11*S55)*P1 - 2*S11*S15*P5, P4]).minors(2)\n",
    "J = S.ideal(m2)"
   ]
  },
  {
   "cell_type": "code",
   "execution_count": 16,
   "id": "a6ec4334-ea09-46f8-b9cf-08e507c97e4c",
   "metadata": {},
   "outputs": [],
   "source": [
    "assert(\n",
    "    (I + J).radical().saturation(\n",
    "        S.ideal(list(P1))\n",
    "    )[0].saturation(\n",
    "        u1*u2*v1*v2\n",
    "    )[0].saturation(\n",
    "        matrix([P1, P2, P4]).det()\n",
    "    )[0] == S.ideal(S.one())\n",
    ")"
   ]
  },
  {
   "cell_type": "markdown",
   "id": "79166e80-5727-4482-8cd3-4cf453df1471",
   "metadata": {
    "jp-MarkdownHeadingCollapsed": true
   },
   "source": [
    "## Proof that \n",
    "## $$ \\left\\langle P_1, P_1 \\right\\rangle = \\sigma(P_1, P_4) = 0 \\text{ and } P_3 = (s_{12}^2+s_{11}s_{22}) \\, P_1 - 2s_{11}s_{12} \\, P_2 $$\n",
    "## cannot happen."
   ]
  },
  {
   "cell_type": "code",
   "execution_count": 17,
   "id": "ecd05e43-3106-4775-8f03-3ebcda57e411",
   "metadata": {},
   "outputs": [],
   "source": [
    "I = S.ideal(scalar_product(P1, P1), sigma(P1, P4))\n",
    "m2 = matrix([(S12^2 + S11*S22)*P1 - 2*S11*S12*P2, P3]).minors(2)\n",
    "J = S.ideal(m2)"
   ]
  },
  {
   "cell_type": "code",
   "execution_count": 18,
   "id": "72bb40f4-fbb1-4d64-a3df-ccd37daf0ced",
   "metadata": {},
   "outputs": [],
   "source": [
    "assert(\n",
    "    (I + J).radical().saturation(\n",
    "        S.ideal(list(P1))\n",
    "    )[0].saturation(\n",
    "        u1*u2*v1*v2\n",
    "    )[0].saturation(\n",
    "        matrix([P1, P2, P4]).det()\n",
    "    )[0] == S.ideal(S.one())\n",
    ")"
   ]
  },
  {
   "cell_type": "markdown",
   "id": "232bb613-f223-46d7-a8e8-f8fc0ecc8c4f",
   "metadata": {
    "jp-MarkdownHeadingCollapsed": true
   },
   "source": [
    "## Proof that \n",
    "## $$ \\left\\langle P_1, P_1 \\right\\rangle = \\sigma(P_1, P_4) = 0 \\text{ and } P_2 = (s_{13}^2+s_{11}s_{33}) \\, P_1 - 2s_{11}s_{13} \\, P_3 $$\n",
    "## cannot happen."
   ]
  },
  {
   "cell_type": "code",
   "execution_count": 19,
   "id": "45c7d25e-72c4-4471-b6a5-dc84dc925b94",
   "metadata": {},
   "outputs": [],
   "source": [
    "I = S.ideal(scalar_product(P1, P1), sigma(P1, P4))\n",
    "m2 = matrix([(S13^2 + S11*S33)*P1 - 2*S11*S13*P3, P2]).minors(2)\n",
    "J = S.ideal(m2)"
   ]
  },
  {
   "cell_type": "code",
   "execution_count": 20,
   "id": "ae2b23c3-ed05-4966-b3a2-66c1a19db7c2",
   "metadata": {},
   "outputs": [],
   "source": [
    "assert(\n",
    "    (I + J).radical().saturation(\n",
    "        S.ideal(list(P1))\n",
    "    )[0].saturation(\n",
    "        u1*u2*v1*v2\n",
    "    )[0].saturation(\n",
    "        matrix([P1, P2, P4]).det()\n",
    "    )[0] == S.ideal(S.one())\n",
    ")"
   ]
  }
 ],
 "metadata": {
  "kernelspec": {
   "display_name": "SageMath 10.2",
   "language": "sage",
   "name": "sagemath"
  },
  "language_info": {
   "codemirror_mode": {
    "name": "ipython",
    "version": 3
   },
   "file_extension": ".py",
   "mimetype": "text/x-python",
   "name": "python",
   "nbconvert_exporter": "python",
   "pygments_lexer": "ipython3",
   "version": "3.9.15"
  }
 },
 "nbformat": 4,
 "nbformat_minor": 5
}
