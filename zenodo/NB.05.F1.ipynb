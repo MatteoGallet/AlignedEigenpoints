{
 "cells": [
  {
   "cell_type": "markdown",
   "id": "cf3fb7ff-a9ab-4f18-b65e-b0d7e2d7a3c0",
   "metadata": {},
   "source": [
    "# Theorem"
   ]
  },
  {
   "cell_type": "markdown",
   "id": "ab3303ec-3df8-4739-b536-faeac6f7a2f5",
   "metadata": {},
   "source": [
    "The variety $\\mathcal{L}$ is an irreducible hypersurface."
   ]
  },
  {
   "cell_type": "markdown",
   "id": "c44b888f-608a-4c46-afba-0560b49c9f9c",
   "metadata": {},
   "source": [
    "Here we provide some computations that aid the proof of the result."
   ]
  },
  {
   "cell_type": "code",
   "execution_count": 1,
   "id": "914f2151-928e-426c-acc3-d9ff5c21cc29",
   "metadata": {},
   "outputs": [],
   "source": [
    "load(\"basic_functions.sage\")"
   ]
  },
  {
   "cell_type": "code",
   "execution_count": 2,
   "id": "ef6e6431-c565-42c9-aa15-5b3fb107c414",
   "metadata": {},
   "outputs": [],
   "source": [
    "P1 = vector(S, (A1, B1, C1))\n",
    "P2 = vector(S, (A2, B2, C2))\n",
    "P3 = u1*P1+u2*P2\n",
    "M = condition_matrix([P1, P2, P3], S, standard=\"all\")"
   ]
  },
  {
   "cell_type": "markdown",
   "id": "0a85524c-7403-4a8c-9e12-4ed4edd81728",
   "metadata": {},
   "source": [
    "The following columns of $M$ are linearly dependent:\n",
    "0, 1, 2, 4, 5, 7 or 1, 2, 3, 5, 6, 8 or 4, 5, 6, 7, 8, 9.\n",
    "We can verify this directly, as follows:"
   ]
  },
  {
   "cell_type": "code",
   "execution_count": 3,
   "id": "44728923-e0ba-44e2-bdd4-faa3ed2282c8",
   "metadata": {},
   "outputs": [],
   "source": [
    "for cols in [\n",
    "    [0, 1, 2, 4, 5, 7],\n",
    "    [1, 2, 3, 5, 6, 8],\n",
    "    [4, 5, 6, 7, 8, 9]\n",
    "]:\n",
    "    Ma = M.matrix_from_columns(cols)\n",
    "    assert(\n",
    "        (\n",
    "            S.ideal(Ma.minors(6))\n",
    "        ).is_zero()\n",
    "    )"
   ]
  },
  {
   "cell_type": "markdown",
   "id": "1dda72ac-5ff2-45b0-a723-45e83baaf057",
   "metadata": {},
   "source": [
    "or we can see the dependencies of the columns in a more explicit way. We select the 10 columns of $M$:"
   ]
  },
  {
   "cell_type": "code",
   "execution_count": 4,
   "id": "69fd2523-6d24-4f2b-ac4c-496ea0df22c1",
   "metadata": {},
   "outputs": [],
   "source": [
    "c = {}\n",
    "for i in range(10):\n",
    "    c[i] = M.matrix_from_columns([i])"
   ]
  },
  {
   "cell_type": "markdown",
   "id": "eb830b35-9141-4753-a734-5ce7842c11b0",
   "metadata": {},
   "source": [
    "We call $\\alpha$, $\\beta$, $\\gamma$ the entries of $P_1 \\times P_2$"
   ]
  },
  {
   "cell_type": "code",
   "execution_count": 5,
   "id": "d49e19d6-e4d4-46c6-b9ea-db72ca1b1a63",
   "metadata": {},
   "outputs": [],
   "source": [
    "alpha, beta, gamma = tuple(wedge_product(P1, P2))"
   ]
  },
  {
   "cell_type": "markdown",
   "id": "795e0f97-507c-4399-bd61-41c5890baced",
   "metadata": {},
   "source": [
    "We call $N_1$ and $N_2$ the following matrices: \n",
    "$$\n",
    "\\left(\\begin{array}{ccc}\n",
    "    \\alpha & 0 & 0 \\\\\n",
    "    0 & \\beta & 0 \\\\\n",
    "    0 & 0 & \\gamma\n",
    "\\end{array} \\right)\n",
    "\\quad \\text{and} \\quad\n",
    "\\left(\\begin{array}{ccc}\n",
    "    0 & \\alpha & 0 \\\\\n",
    "    \\gamma & 0 & 0 \\\\\n",
    "    0 & 0 & \\beta\n",
    "\\end{array} \\right)\n",
    "$$"
   ]
  },
  {
   "cell_type": "code",
   "execution_count": 6,
   "id": "b7627688-dbd5-48df-9ff0-7942f419e3d9",
   "metadata": {},
   "outputs": [],
   "source": [
    "N1 = matrix([[alpha, 0, 0], [0, beta, 0], [0, 0, gamma]])\n",
    "N2 = matrix([[0, alpha, 0], [gamma, 0, 0], [0, 0, beta]])"
   ]
  },
  {
   "cell_type": "markdown",
   "id": "bfc82d99-0fb0-407d-a14a-d46e5e9fcb61",
   "metadata": {},
   "source": [
    "Then we see that \n",
    "* c0, c1, c2, c4, c5, c7\n",
    "* c1, c2, c3, c5, c6, c8\n",
    "* c4, c5, c6, c7, c8, c9\n",
    "\n",
    "are linearly dependend:"
   ]
  },
  {
   "cell_type": "code",
   "execution_count": 7,
   "id": "73a6b9e7-213e-400e-9b34-5fa554ebe2c9",
   "metadata": {},
   "outputs": [],
   "source": [
    "L1 = c[0].augment(c[2]).augment(c[7])\n",
    "L2 = c[1].augment(c[4]).augment(c[5])\n",
    "assert(\n",
    "    (\n",
    "        (L1*N1 + 2*L2*N2)*wedge_product(P1, P2)\n",
    "    ).is_zero()\n",
    ")"
   ]
  },
  {
   "cell_type": "code",
   "execution_count": 8,
   "id": "346bec75-6fd1-4bbc-9299-3687d7cc84bc",
   "metadata": {
    "scrolled": true
   },
   "outputs": [],
   "source": [
    "L1 = c[1].augment(c[3]).augment(c[8])\n",
    "L2 = c[2].augment(c[5]).augment(c[6])\n",
    "assert(\n",
    "    (\n",
    "        (L1*N1 + 2*L2*N2)*wedge_product(P1, P2)\n",
    "    ).is_zero()\n",
    ")"
   ]
  },
  {
   "cell_type": "code",
   "execution_count": 9,
   "id": "203b5805-cba4-48bd-a1e9-6317588e851d",
   "metadata": {},
   "outputs": [],
   "source": [
    "L1 = c[4].augment(c[6]).augment(c[9])\n",
    "L2 = c[5].augment(c[7]).augment(c[8])\n",
    "assert(\n",
    "    (\n",
    "        (L1*N1 + 2*L2*N2)*wedge_product(P1, P2)\n",
    "    ).is_zero()\n",
    ")"
   ]
  }
 ],
 "metadata": {
  "kernelspec": {
   "display_name": "SageMath 10.2",
   "language": "sage",
   "name": "sagemath"
  },
  "language_info": {
   "codemirror_mode": {
    "name": "ipython",
    "version": 3
   },
   "file_extension": ".py",
   "mimetype": "text/x-python",
   "name": "python",
   "nbconvert_exporter": "python",
   "pygments_lexer": "ipython3",
   "version": "3.9.15"
  }
 },
 "nbformat": 4,
 "nbformat_minor": 5
}
