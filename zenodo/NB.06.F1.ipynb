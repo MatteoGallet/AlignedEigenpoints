{
 "cells": [
  {
   "cell_type": "markdown",
   "id": "b91cf53b-0c1a-4a07-8ee1-3a6d88a5da7e",
   "metadata": {},
   "source": [
    "# Lemma"
   ]
  },
  {
   "cell_type": "markdown",
   "id": "60ffd8fb-3901-492d-9f3d-54343ed2f2e2",
   "metadata": {},
   "source": [
    "Let $r = ax+by+cz$ be a line of the plane \n",
    "and suppose it intersects $\\mathcal{Q}_{\\mathrm{iso}}$ in two\n",
    "distinct points $P_1$ and $P_2$. Consider the cubic:\n",
    "$$\n",
    "  C(r) = \\bigl( r^2-3\\left(a^2+b^2+c^2\\right) \\mathcal{Q}_{\\mathrm{iso}} \\bigr) \\, r \\,\n",
    "$$\n",
    "then, the two tangent lines to $\\mathcal{Q}_{\\mathrm{iso}}$ in $P_1$ and $P_2$\n",
    "are contained in the eigenscheme of~$C(r)$."
   ]
  },
  {
   "cell_type": "markdown",
   "id": "ecfccbf0-0b21-418a-95bf-e378641edcba",
   "metadata": {},
   "source": [
    "About 10'' of computations"
   ]
  },
  {
   "cell_type": "code",
   "execution_count": 1,
   "id": "fb81b619-b9d7-4caa-b229-82cd7143d9af",
   "metadata": {},
   "outputs": [],
   "source": [
    "load(\"basic_functions.sage\")"
   ]
  },
  {
   "cell_type": "markdown",
   "id": "09845e40-071f-42ad-b72b-6e29fe55ff7c",
   "metadata": {},
   "source": [
    "Construction of a generic point on the isotropic conic (which will be discovered of \n",
    "the form $(l_1^2+l_2^2, i(l_1^2-l_2^2), 2il_1l_2)$:"
   ]
  },
  {
   "cell_type": "code",
   "execution_count": 2,
   "id": "c9ef98d8-b2e3-4ae0-abaa-36e8d14c83b5",
   "metadata": {},
   "outputs": [],
   "source": [
    "P1 = vector(S, (1, ii, 0))"
   ]
  },
  {
   "cell_type": "code",
   "execution_count": 3,
   "id": "142584e1-8799-4f39-a1b8-8035f3b6a2c6",
   "metadata": {},
   "outputs": [],
   "source": [
    "rt1 = l1*(y-ii*x)+l2*z\n",
    "rt1.subs(substitution(P1))\n",
    "\n",
    "scndP = S.ideal(Ciso, rt1).radical().primary_decomposition()[1]\n",
    "aux = scndP.gens()[:2]\n",
    "mm2 = matrix(\n",
    "    [\n",
    "        [aux[0].coefficient(x), aux[0].coefficient(y), aux[0].coefficient(z)],\n",
    "        [aux[1].coefficient(x), aux[1].coefficient(y), aux[1].coefficient(z)]\n",
    "    ]\n",
    ").minors(2)\n",
    "\n",
    "## Generic point on the isotropic conic (depending on two parameters):\n",
    "PP = vector(S, (mm2[2], -mm2[1], mm2[0]))"
   ]
  },
  {
   "cell_type": "code",
   "execution_count": 4,
   "id": "593d3bbe-ffd3-4529-99cc-d797a51e59af",
   "metadata": {},
   "outputs": [],
   "source": [
    "assert(scndP.subs(substitution(PP)) == S.ideal(S(0)))\n",
    "assert(Ciso.subs(substitution(PP)) == S(0))\n",
    "assert(PP*ii == vector(S, (l1^2 + l2^2, ii*l1^2 + (-ii)*l2^2, (2*ii)*l1*l2)))"
   ]
  },
  {
   "cell_type": "markdown",
   "id": "68ec8365-a335-4f78-8b5c-010dc818d694",
   "metadata": {},
   "source": [
    "We can always assume that $l_2 \\neq 0$, since $l_2 = 0$ gives that $PP = P_1$:"
   ]
  },
  {
   "cell_type": "code",
   "execution_count": 5,
   "id": "9ed946fe-25c9-4b94-bbb0-d6f65fbdadf9",
   "metadata": {},
   "outputs": [],
   "source": [
    "assert(matrix([P1, PP.subs(l2=0)]).rank() == 1)"
   ]
  },
  {
   "cell_type": "markdown",
   "id": "200d6171-45f9-4e19-bf66-b7f9a53acc8a",
   "metadata": {},
   "source": [
    "Now that we know the generic point of $\\mathcal{Q}_{\\mathrm{iso}}$, we define two (distinct) points on \n",
    "the isotropic conic $\\mathcal{Q}_{\\mathrm{iso}}$:"
   ]
  },
  {
   "cell_type": "code",
   "execution_count": 6,
   "id": "ca5463ea-915f-459a-b763-095743838570",
   "metadata": {},
   "outputs": [],
   "source": [
    "PP1 = vector(S, ((-ii)*l1^2 + (-ii)*l2^2, l1^2 - l2^2, 2*l1*l2))\n",
    "PP2 = vector(S, ((-ii)*m1^2 + (-ii)*m2^2, m1^2 - m2^2, 2*m1*m2))"
   ]
  },
  {
   "cell_type": "markdown",
   "id": "1782620c-f827-44d6-88f5-835a223cd72d",
   "metadata": {},
   "source": [
    "And we defines the lines ttg1 and ttg2, the first is tangent to $\\mathcal{Q}_{\\mathrm{iso}}$ in PP1, \n",
    "the second is tangent ot $\\mathcal{Q}_{\\mathrm{iso}}$ in PP2."
   ]
  },
  {
   "cell_type": "markdown",
   "id": "16f4eee6-1d40-442d-a5e3-15716f998e48",
   "metadata": {},
   "source": [
    "Tangent to isotropic conic in PP1:"
   ]
  },
  {
   "cell_type": "code",
   "execution_count": 7,
   "id": "44153fcb-3c03-4edc-9dbc-b29e31da29c1",
   "metadata": {},
   "outputs": [],
   "source": [
    "subP1 = substitution(PP1)\n",
    "ttg1 = (\n",
    "    (derivative(Ciso, x).subs(subP1))*(PP1[0]-x) \n",
    "    + (derivative(Ciso, y).subs(subP1))*(PP1[1]-y)\n",
    "    + (derivative(Ciso, z).subs(subP1))*(PP1[2]-z)\n",
    ")"
   ]
  },
  {
   "cell_type": "markdown",
   "id": "2863c4f5-508a-4ae7-b4b3-2114f07e1cf1",
   "metadata": {},
   "source": [
    "Tangent to isotropic conic in PP2:"
   ]
  },
  {
   "cell_type": "code",
   "execution_count": 8,
   "id": "5345f6c5-dcdb-40af-8688-383155cc549c",
   "metadata": {},
   "outputs": [],
   "source": [
    "subP2 = substitution(PP2)\n",
    "ttg2 = (\n",
    "    (derivative(Ciso, x).subs(subP2))*(PP2[0]-x)\n",
    "    + (derivative(Ciso, y).subs(subP2))*(PP2[1]-y)\n",
    "    + (derivative(Ciso, z).subs(subP2))*(PP2[2]-z)\n",
    ")"
   ]
  },
  {
   "cell_type": "markdown",
   "id": "6e8be768-2ac1-4809-b9af-d969485d05d7",
   "metadata": {},
   "source": [
    "Just to be sure, we verify that ttg1 is tangent:"
   ]
  },
  {
   "cell_type": "code",
   "execution_count": 9,
   "id": "2417f4f2-7d7c-49c7-9dd7-add1de450a0e",
   "metadata": {},
   "outputs": [],
   "source": [
    "assert(\n",
    "    S.ideal(ttg1, Ciso).radical() == S.ideal(z*l1 + (-ii)*x*l2 - y*l2, x*l1 + ii*y*l1 + ii*z*l2, x^2 + y^2 + z^2)\n",
    ")"
   ]
  },
  {
   "cell_type": "markdown",
   "id": "54fae2d5-40d2-4639-a4ca-68a0071db811",
   "metadata": {},
   "source": [
    "We define the line $PP1 \\vee PP2$:"
   ]
  },
  {
   "cell_type": "code",
   "execution_count": 10,
   "id": "afa6c369-b305-41e5-8796-9a0ebcc284dc",
   "metadata": {},
   "outputs": [],
   "source": [
    "rr = matrix([PP1, PP2, (x, y, z)]).det().factor()[-1][0]"
   ]
  },
  {
   "cell_type": "markdown",
   "id": "5aa6fa96-a083-4c79-91d4-6fdd7fac5202",
   "metadata": {},
   "source": [
    "Finally, we define the cubic \n",
    "$$C(r) = r(r^2-3(a^2+b^2+c^2)\\mathcal{Q}_{iso})$$\n",
    "and we verify that $C(r)$ has ttg1 and ttg2 as eigenpoints (10 seconds of computation)"
   ]
  },
  {
   "cell_type": "code",
   "execution_count": 11,
   "id": "a62cc8c7-564e-4f15-840c-eba5b092d58e",
   "metadata": {},
   "outputs": [],
   "source": [
    "Cr = rr*(rr^2-3*(rr.coefficient(x)^2 + rr.coefficient(y)^2 + rr.coefficient(z)^2)*Ciso)\n",
    "\n",
    "JJ = S.ideal(matrix(\n",
    "    [\n",
    "        [Cr.derivative(x), Cr.derivative(y), Cr.derivative(z)],\n",
    "        [x, y, z]\n",
    "    ]\n",
    ").minors(2))\n",
    "\n",
    "PDJ = JJ.radical().primary_decomposition()"
   ]
  },
  {
   "cell_type": "code",
   "execution_count": 12,
   "id": "a0f38073-5da2-485f-9631-89b5d01ddd19",
   "metadata": {},
   "outputs": [],
   "source": [
    "assert(len(PDJ) == 2)\n",
    "assert(Set(PDJ) == Set([S.ideal(ttg1), S.ideal(ttg2)]))"
   ]
  },
  {
   "cell_type": "markdown",
   "id": "81188b98-0dca-422d-afd3-ede4cf984c52",
   "metadata": {},
   "source": [
    "This concludes the proof of the lemma."
   ]
  }
 ],
 "metadata": {
  "kernelspec": {
   "display_name": "SageMath 10.2",
   "language": "sage",
   "name": "sagemath"
  },
  "language_info": {
   "codemirror_mode": {
    "name": "ipython",
    "version": 3
   },
   "file_extension": ".py",
   "mimetype": "text/x-python",
   "name": "python",
   "nbconvert_exporter": "python",
   "pygments_lexer": "ipython3",
   "version": "3.9.15"
  }
 },
 "nbformat": 4,
 "nbformat_minor": 5
}
