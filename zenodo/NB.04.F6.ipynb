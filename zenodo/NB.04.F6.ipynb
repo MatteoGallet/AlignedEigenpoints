{
 "cells": [
  {
   "cell_type": "markdown",
   "id": "6c697a83-79ba-48b1-b71a-663f54bac4d4",
   "metadata": {},
   "source": [
    "# Proposition"
   ]
  },
  {
   "cell_type": "markdown",
   "id": "0331f4d7-fa29-45dd-8774-02f51ef313d9",
   "metadata": {},
   "source": [
    "If the five points $P_1, \\dots, P_5$ satisfy\n",
    "$$\n",
    "\\delta_1(P_1, P_2, P_4)=\\overline{\\delta}_1(P_1, P_2, P_3) =\n",
    "  \\overline{\\delta}_1(P_1, P_4, P_5) = 0\n",
    "$$\n",
    "and if we impose the condition that there is an eigenpoint, say $P_6$,\n",
    "aligned with $P_2$ and $P_4$, then the eigenpoints satisfy all these\n",
    "alignments:\n",
    "$$  (P_1, P_2, P_3), (P_1, P_4, P_5),  (P_2, P_4, P_6), (P_2, P_5, P_7),\n",
    "  (P_3, P_4, P_7), (P_3, P_5, P_6)$$\n",
    "Hence the points $P_6$ and $P_7$ are determined by $P_1, \\dots, P_5$\n",
    "since\n",
    "$P_6 = (P_2 \\vee P_4) \\cap (P_3 \\vee P_5)$\n",
    "and $P_7 = (P_3 \\vee P_4) \\cap (P_2 \\vee P_5)$.\n",
    "A similar result holds if we take $P_3$ in place of $P_2$ or $P_5$\n",
    "in place of $P_4$."
   ]
  },
  {
   "cell_type": "code",
   "execution_count": 1,
   "id": "aa9b413d-f446-4003-bc99-bf69c679d4c1",
   "metadata": {},
   "outputs": [],
   "source": [
    "load(\"basic_functions.sage\")"
   ]
  },
  {
   "cell_type": "markdown",
   "id": "c5051c45-fd93-4ad4-8026-490dc174893a",
   "metadata": {},
   "source": [
    "# $\\delta_1(P_1, P_2, P_4) = 0$. "
   ]
  },
  {
   "cell_type": "markdown",
   "id": "acffb13a-27c9-4b8a-b7ac-4ce317c1bacb",
   "metadata": {},
   "source": [
    "$P_1$ cannot be on the isotropic conic, so we can assume $P_1 = (1:0:0)$."
   ]
  },
  {
   "cell_type": "code",
   "execution_count": 2,
   "id": "9d15e5a2-e27b-47f1-9ed0-c30ec37049a3",
   "metadata": {},
   "outputs": [],
   "source": [
    "P1 = vector((1, 0, 0))\n",
    "P2 = vector(S, (A2, B2, C2))\n",
    "P4 = vector(S, (A4, B4, C4))"
   ]
  },
  {
   "cell_type": "markdown",
   "id": "12cfa5dc-2266-46ed-95d6-c0cb7d8d1235",
   "metadata": {},
   "source": [
    "We define $P_3$ and $P_5$ according to the Propositioin 4.8"
   ]
  },
  {
   "cell_type": "code",
   "execution_count": 3,
   "id": "452f45c6-081d-47f2-b6c4-d7d74517f6c2",
   "metadata": {},
   "outputs": [],
   "source": [
    "P3 = (\n",
    "    (scalar_product(P1, P2)^2+scalar_product(P1, P1)*scalar_product(P2, P2))*P1\n",
    "    - 2*(scalar_product(P1, P1)*scalar_product(P1, P2))*P2\n",
    ")\n",
    "P5 = (\n",
    "    (scalar_product(P1, P4)^2+scalar_product(P1, P1)*scalar_product(P4, P4))*P1\n",
    "    - 2*(scalar_product(P1, P1)*scalar_product(P1, P4))*P4\n",
    ")"
   ]
  },
  {
   "cell_type": "markdown",
   "id": "36b367e8-3969-42c4-b7df-aeab8816e10c",
   "metadata": {},
   "source": [
    "We have: $\\overline{\\delta}_1(P_1, P_2, P_3) = 0$,  $\\overline{\\delta}_1(P_1, P_4, P_5) = 0$, \n",
    " $\\delta_2(P_1, P_2, P_3, P_4, P_5) = 0$"
   ]
  },
  {
   "cell_type": "code",
   "execution_count": 4,
   "id": "9c82c1fd-44c7-4015-870f-f2640644194c",
   "metadata": {},
   "outputs": [],
   "source": [
    "assert(delta1b(P1, P2, P3) == 0)\n",
    "assert(delta1b(P1, P4, P5) == 0)\n",
    "assert(delta2(P1, P2, P3, P4, P5) == 0)"
   ]
  },
  {
   "cell_type": "markdown",
   "id": "7b136b8d-ca9c-438c-b850-7fb2537deac6",
   "metadata": {},
   "source": [
    "Remember that we also must have $\\delta_1(P_1, P_2, P_4) = 0$, which means that\n",
    "$B_2B_4 + C_2C_4 = 0$"
   ]
  },
  {
   "cell_type": "code",
   "execution_count": 5,
   "id": "48364f9c-b496-4baa-bc3f-cc6f3575597f",
   "metadata": {},
   "outputs": [],
   "source": [
    "D = B2*B4 + C2*C4\n",
    "assert(delta1(P1, P2, P4) == B2*B4 + C2*C4)"
   ]
  },
  {
   "cell_type": "markdown",
   "id": "476fc350-7cb8-4896-8fb0-54e9c0373ef9",
   "metadata": {},
   "source": [
    "We define a generic point PP on the line $P_2 \\vee P_4$"
   ]
  },
  {
   "cell_type": "code",
   "execution_count": 6,
   "id": "dcb4dd09-d695-40ff-97cf-9b59bcd7fb32",
   "metadata": {},
   "outputs": [],
   "source": [
    "PP = w1*P2+w2*P4"
   ]
  },
  {
   "cell_type": "markdown",
   "id": "48d0ff56-d21e-4fa5-8379-291ed38e4648",
   "metadata": {},
   "source": [
    "We know that the condition matrix of $P_1, P_2, P_3, P_4, P_5$ is of rank 8. We select a submatrix of it of rank 8"
   ]
  },
  {
   "cell_type": "code",
   "execution_count": 7,
   "id": "d1bb37a0-88c0-4b86-bada-61220805cb8e",
   "metadata": {},
   "outputs": [],
   "source": [
    "M = condition_matrix([P1, P2, P3, P4, P5], S, standard=\"all\")"
   ]
  },
  {
   "cell_type": "code",
   "execution_count": 8,
   "id": "5fa2c7b4-7d39-4d7a-a35e-4a819b00a4cc",
   "metadata": {},
   "outputs": [],
   "source": [
    "M1 = M.matrix_from_rows([0, 1, 3, 4, 6, 7, 9, 10])\n",
    "assert(M1.rank() == 8)"
   ]
  },
  {
   "cell_type": "markdown",
   "id": "4376673a-59fa-4d45-bb21-9939e69cd923",
   "metadata": {},
   "source": [
    "If $PP$ is an eigenpoint, the determinant of the three matrices below must be zero:"
   ]
  },
  {
   "cell_type": "code",
   "execution_count": 9,
   "id": "e3dda061-3cfd-49ef-8f4d-96db6da6e863",
   "metadata": {},
   "outputs": [],
   "source": [
    "Ma = M1.stack(phi(PP, S)[0]).stack(phi(PP, S)[1])\n",
    "Mb = M1.stack(phi(PP, S)[0]).stack(phi(PP, S)[2])\n",
    "Mc = M1.stack(phi(PP, S)[1]).stack(phi(PP, S)[2])"
   ]
  },
  {
   "cell_type": "code",
   "execution_count": 10,
   "id": "bdf9d26f-847e-48f8-acaf-7ef662c032e4",
   "metadata": {},
   "outputs": [],
   "source": [
    "da = Ma.det()\n",
    "db = Mb.det()\n",
    "dc = Mc.det()"
   ]
  },
  {
   "cell_type": "markdown",
   "id": "72adf95b-a073-4138-83b2-c27829efa598",
   "metadata": {},
   "source": [
    "Now we consider the ideal of da, db, dc plus the condition $\\delta_1(P_1, P_2, P_4) = 0$ and we saturate it as much as possible"
   ]
  },
  {
   "cell_type": "code",
   "execution_count": 11,
   "id": "cb9e3c41-80d3-41d8-a0a4-7546b323b94f",
   "metadata": {},
   "outputs": [],
   "source": [
    "J = S.ideal(da, db, dc, delta1(P1, P2, P4)).saturation(w1*w2)[0]\n",
    "J = J.saturation(matrix([P1, P2, P4]).det())[0]\n",
    "J = J.saturation(S.ideal(matrix([P1, P2]).minors(2)))[0]\n",
    "J = J.saturation(S.ideal(matrix([P1, P3]).minors(2)))[0]\n",
    "J = J.saturation(S.ideal(matrix([P2, P3]).minors(2)))[0]\n",
    "J = J.saturation(S.ideal(matrix([P1, P4]).minors(2)))[0]\n",
    "J = J.saturation(S.ideal(matrix([P1, P5]).minors(2)))[0]\n",
    "J = J.saturation(S.ideal(matrix([P2, P5]).minors(2)))[0]"
   ]
  },
  {
   "cell_type": "markdown",
   "id": "7427bdc4-eed2-4c79-9602-1a3cb32bf253",
   "metadata": {},
   "source": [
    "The ideal $J$ is prime and is generated by:\n",
    "$\\delta_1(P_1, P_2, P_4), F$, where \n",
    "$$\n",
    "F = 2w_1A_2^2A_4 + w_1B_2^2A_4 + w_1C_2^2A_4 + 2w_2A_2A_4^2 + w_2A_2B_4^2 + w_2A_2C_4^2\n",
    "$$"
   ]
  },
  {
   "cell_type": "code",
   "execution_count": 12,
   "id": "f5949898-4dc7-406b-ba20-4ee47eec020d",
   "metadata": {},
   "outputs": [],
   "source": [
    "assert(J.is_prime())\n",
    "F = 2*w1*A2^2*A4 + w1*B2^2*A4 + w1*C2^2*A4 + 2*w2*A2*A4^2 + w2*A2*B4^2 + w2*A2*C4^2\n",
    "assert(J == S.ideal(F, delta1(P1, P2, P4)))"
   ]
  },
  {
   "cell_type": "markdown",
   "id": "2593ffcd-dc4c-41d4-af6b-c949da046ac4",
   "metadata": {},
   "source": [
    "$F$ is a polynomial linear in $w_1, w_2$ and the values of $w_1$ and $w_2$ such that $F = 0$ give a point $PP$ which is candiate to be an eigenpoint."
   ]
  },
  {
   "cell_type": "markdown",
   "id": "2a769d3b-5a0b-4dc5-9615-2f362f143bca",
   "metadata": {},
   "source": [
    "Remember that $\\delta_1(P_1, P_2, P_4) = B_2B_4+C_2C_4$ must be zero, so we have two possibilities:\n"
   ]
  },
  {
   "cell_type": "markdown",
   "id": "96b897b3-2617-4f89-b322-b88ce0fa4fa0",
   "metadata": {},
   "source": [
    "## Case 1:\n",
    "$B_2 = 0$ and $C_4$ = 0"
   ]
  },
  {
   "cell_type": "code",
   "execution_count": 13,
   "id": "bb77f0f3-5fe6-4a8e-88de-20547e3a0bde",
   "metadata": {},
   "outputs": [],
   "source": [
    "sst = {B2:0, C4:0}\n",
    "p1 = P1.subs(sst)\n",
    "p2 = P2.subs(sst)\n",
    "p3 = P3.subs(sst)\n",
    "p4 = P4.subs(sst)\n",
    "p5 = P5.subs(sst)\n",
    "pp = PP.subs(sst)\n",
    "\n",
    "F1 = F.subs(sst)"
   ]
  },
  {
   "cell_type": "code",
   "execution_count": 14,
   "id": "5af34199-8407-4b03-9bbe-9fbc18bb7d0c",
   "metadata": {},
   "outputs": [],
   "source": [
    "assert(F1.subs({w1: F1.coefficient(w2), w2: -F1.coefficient(w1)}) == 0)\n",
    "p6 = pp.subs({w1: F1.coefficient(w2), w2: -F1.coefficient(w1)})"
   ]
  },
  {
   "cell_type": "markdown",
   "id": "ce1cbc93-e5f0-4119-b9c6-fdf70fa7f55c",
   "metadata": {},
   "source": [
    "The following computation shows that $p_6$ is an eigenpoint:"
   ]
  },
  {
   "cell_type": "code",
   "execution_count": 15,
   "id": "9935dc88-a1c6-4344-85c0-6bbf5311e279",
   "metadata": {},
   "outputs": [],
   "source": [
    "mm = condition_matrix([p1, p2, p3, p4, p5, p6], S, standard=\"all\")\n",
    "assert(mm.rank() == 9)"
   ]
  },
  {
   "cell_type": "markdown",
   "id": "457ee52d-54b8-469b-b060-dbbc65051fbc",
   "metadata": {},
   "source": [
    "The point $p_6$ is always define, i.e. it is not possible to have that the coefficients of $w_1$ and of $w_2$ in $F_1$ are both zero."
   ]
  },
  {
   "cell_type": "code",
   "execution_count": 16,
   "id": "a5229530-aed0-4e04-b33e-5885bd85e1a1",
   "metadata": {},
   "outputs": [],
   "source": [
    "J = S.ideal(F1.coefficient(w1), F1.coefficient(w2))\n",
    "J = J.saturation(S.ideal(matrix([p1, p2]).minors(2)))[0]\n",
    "J = J.saturation(S.ideal(matrix([p1, p4]).minors(2)))[0]\n",
    "J = J.saturation(S.ideal(matrix([p1, p5]).minors(2)))[0]\n",
    "J = J.saturation(S.ideal(matrix([p2, p3]).minors(2)))[0]\n",
    "assert(J == S.ideal(1))"
   ]
  },
  {
   "cell_type": "markdown",
   "id": "7adc1e62-4801-49b9-9583-6dc404e37bca",
   "metadata": {},
   "source": [
    "We define a point $p_7$ as the intersection point of the lines $p_3 \\vee p_4$ and $p_2 \\vee p_5$\n",
    "and we verify that it is an eigenpoint"
   ]
  },
  {
   "cell_type": "code",
   "execution_count": 17,
   "id": "cd4954f0-68d7-4646-944a-721c0c080f19",
   "metadata": {},
   "outputs": [],
   "source": [
    "p7 = vector(S, intersection_lines(p3, p4, p2, p5))\n",
    "mm = condition_matrix([p1, p2, p3, p4, p5, p7], S, standard=\"all\")\n",
    "assert(mm.rank() == 9)"
   ]
  },
  {
   "cell_type": "markdown",
   "id": "d480c614-41b9-4ce5-bc74-ec3cb200eedb",
   "metadata": {},
   "source": [
    "Now we see that the points $p_1, \\dots, p_7$ have the alignments:\n",
    "$$\n",
    "[(1, 2, 3), (1, 4, 5), (2, 4, 6), (2, 5, 7), (3, 4, 7), (3, 5, 6)]\n",
    "$$"
   ]
  },
  {
   "cell_type": "code",
   "execution_count": 18,
   "id": "81bf7035-bc50-49d8-be45-f750ab832533",
   "metadata": {},
   "outputs": [],
   "source": [
    "assert(\n",
    "    alignments([p1, p2, p3, p4, p5, p6, p7]) \n",
    "    == [(1, 2, 3), (1, 4, 5), (2, 4, 6), (2, 5, 7), (3, 4, 7), (3, 5, 6)]\n",
    ")"
   ]
  },
  {
   "cell_type": "markdown",
   "id": "5d321283-2bfc-44f7-b3be-ec1d6a8cb067",
   "metadata": {},
   "source": [
    "Hence the points are in configuration (8). Note that  $p_1, p_6, p_7$ are not aligned, although we have $\\delta_2(p_1, p_2, p_3, p_4, p_5) = 0$."
   ]
  },
  {
   "cell_type": "markdown",
   "id": "1dd2985a-35b1-44ee-9515-44cb74834436",
   "metadata": {},
   "source": [
    "We have the following orthogonalities:\n",
    "* $p_1 \\vee p_4$ orthogonal to $p_1 \\vee p_2$,\n",
    "* $p_2 \\vee p_4$ orthogonal to $p_3 \\vee p_5$,\n",
    "* $p_2 \\vee p_5$ orthogonal to $p_3 \\vee p_4$."
   ]
  },
  {
   "cell_type": "code",
   "execution_count": 19,
   "id": "4baf4831-d0c2-4356-96ba-0149bbcf265f",
   "metadata": {},
   "outputs": [],
   "source": [
    "assert(scalar_product(wedge_product(p1, p4), wedge_product(p1, p2))==0)\n",
    "assert(scalar_product(wedge_product(p2, p4), wedge_product(p3, p5))==0)\n",
    "assert(scalar_product(wedge_product(p2, p5), wedge_product(p3, p4))==0)"
   ]
  },
  {
   "cell_type": "markdown",
   "id": "aca57596-829c-4ddd-88dc-a920b06823b4",
   "metadata": {},
   "source": [
    "Here we verify that $p_4$ can be obtained from $p_2, p_5, p_7$ via the formula:\n",
    "$$\n",
    "p_4 = (p_2 \\times p_3) s_{25}s_{35}-s_{23} (p_2 \\times p_5) s_{35}+ s_{23}s_{25}(p_3 \\times p_5)\n",
    "$$"
   ]
  },
  {
   "cell_type": "code",
   "execution_count": 20,
   "id": "6e56bf73-8364-45ff-9a9e-7b5b9b778fbb",
   "metadata": {},
   "outputs": [],
   "source": [
    "q4 = (\n",
    "    wedge_product(p2, p3)*scalar_product(p2, p5)*scalar_product(p3, p5)\n",
    "    - scalar_product(p2, p3)*wedge_product(p2, p5)*scalar_product(p3, p5)\n",
    "    + scalar_product(p2, p3)*scalar_product(p2, p5)*wedge_product(p3, p5)\n",
    ")"
   ]
  },
  {
   "cell_type": "code",
   "execution_count": 21,
   "id": "1f6b951c-05e2-4344-8d8b-2674e2bc425b",
   "metadata": {},
   "outputs": [],
   "source": [
    "assert(matrix([p4, q4]).minors(2) == [0, 0, 0])"
   ]
  },
  {
   "cell_type": "markdown",
   "id": "b05b75fa-a47f-479f-8890-a7395294a638",
   "metadata": {},
   "source": [
    "## Case 2:\n",
    "$B_4 = -C_2C_4/B_2$"
   ]
  },
  {
   "cell_type": "code",
   "execution_count": 22,
   "id": "9d11e025-b7d6-400b-9758-f16864a89915",
   "metadata": {},
   "outputs": [],
   "source": [
    "sst = {B4: -C2*C4, C4: C4*B2}"
   ]
  },
  {
   "cell_type": "code",
   "execution_count": 23,
   "id": "9db21f02-00e8-44ae-97b5-f01714e83985",
   "metadata": {},
   "outputs": [],
   "source": [
    "assert(D.subs(sst) == 0)"
   ]
  },
  {
   "cell_type": "code",
   "execution_count": 24,
   "id": "7de65cbe-cbff-47ea-8460-2b7ec291f74b",
   "metadata": {},
   "outputs": [],
   "source": [
    "p1 = P1.subs(sst)\n",
    "p2 = P2.subs(sst)\n",
    "p3 = P3.subs(sst)\n",
    "p4 = P4.subs(sst)\n",
    "p5 = P5.subs(sst)\n",
    "pp = PP.subs(sst)\n",
    "\n",
    "F2 = F.subs(sst)"
   ]
  },
  {
   "cell_type": "code",
   "execution_count": 25,
   "id": "d91f4798-4477-457b-ba2c-b1309fdbd467",
   "metadata": {},
   "outputs": [],
   "source": [
    "assert(F2.subs({w1: F2.coefficient(w2), w2: -F2.coefficient(w1)}) == 0)\n",
    "p6 = pp.subs({w1: F2.coefficient(w2), w2: -F2.coefficient(w1)})"
   ]
  },
  {
   "cell_type": "markdown",
   "id": "7f38cc7f-4c2c-46d3-9695-c2d8c17d54e4",
   "metadata": {},
   "source": [
    "The following computation shows that $p_6$ is an eigenpoint:"
   ]
  },
  {
   "cell_type": "code",
   "execution_count": 26,
   "id": "5adf7a37-f626-4530-8548-472c8a08f5b8",
   "metadata": {},
   "outputs": [],
   "source": [
    "mm = condition_matrix([p1, p2, p3, p4, p5, p6], S, standard=\"all\")\n",
    "assert(mm.rank() == 9)"
   ]
  },
  {
   "cell_type": "markdown",
   "id": "f2c67719-5171-45f1-80ed-9efc9f02bf93",
   "metadata": {},
   "source": [
    "The point $p_6$ is always defined, i.e. it is not possible to have that the coefficients of $w_1$ and of $w_2$ in $F_1$ are both zero."
   ]
  },
  {
   "cell_type": "code",
   "execution_count": 27,
   "id": "b3536bfd-2c1f-4ae3-98be-9d3cb1f20717",
   "metadata": {},
   "outputs": [],
   "source": [
    "J = S.ideal(F2.coefficient(w1), F2.coefficient(w2))\n",
    "J = J.saturation(S.ideal(matrix([p1, p2]).minors(2)))[0]\n",
    "J = J.saturation(S.ideal(matrix([p1, p4]).minors(2)))[0]\n",
    "J = J.saturation(S.ideal(matrix([p1, p5]).minors(2)))[0]\n",
    "J = J.saturation(S.ideal(matrix([p2, p3]).minors(2)))[0]\n",
    "assert(J == S.ideal(1))"
   ]
  },
  {
   "cell_type": "markdown",
   "id": "81d27f06-6bfc-47e2-a351-90724397a44c",
   "metadata": {},
   "source": [
    "We define a point $p_7$ as the intersection point of the lines $p_3 \\vee p_4$ and $p_2 \\vee p_5$\n",
    "and we verify that it is an eigenpoint"
   ]
  },
  {
   "cell_type": "code",
   "execution_count": 28,
   "id": "cddb0d01-f5b6-4eed-a13b-3485aaa1e039",
   "metadata": {},
   "outputs": [],
   "source": [
    "p7 = vector(S, intersection_lines(p3, p4, p2, p5))\n",
    "mm = condition_matrix([p1, p2, p3, p4, p5, p7], S, standard=\"all\")\n",
    "assert(mm.rank() == 9)"
   ]
  },
  {
   "cell_type": "markdown",
   "id": "a1abd09f-886f-4a60-b578-e41d2a2d7272",
   "metadata": {},
   "source": [
    "Now we see that the points $p_1, \\dots, p_7$ have the alignments:\n",
    "$$\n",
    "[(1, 2, 3), (1, 4, 5), (2, 4, 6), (2, 5, 7), (3, 4, 7), (3, 5, 6)]\n",
    "$$"
   ]
  },
  {
   "cell_type": "code",
   "execution_count": 29,
   "id": "2de01584-0cf1-41fd-84e7-fd21a8a65b05",
   "metadata": {},
   "outputs": [],
   "source": [
    "assert(\n",
    "    alignments([p1, p2, p3, p4, p5, p6, p7]) \n",
    "    == [(1, 2, 3), (1, 4, 5), (2, 4, 6), (2, 5, 7), (3, 4, 7), (3, 5, 6)]\n",
    ")"
   ]
  },
  {
   "cell_type": "markdown",
   "id": "4c28f7d2-c25c-4c24-9f9d-6a012bf49ca9",
   "metadata": {},
   "source": [
    "Hence the points are in configuration (8). Note that  $p_1, p_6, p_7$ are not aligned, although we have $\\delta_2(p_1, p_2, p_3, p_4, p_5) = 0$."
   ]
  },
  {
   "cell_type": "markdown",
   "id": "4a218965-555f-4b6f-846d-48036fa5bd22",
   "metadata": {},
   "source": [
    "we have the following orthogonalities:\n",
    "$p_1 \\vee p_4$ ort to $p_1 \\vee p_2$, $p_2 \\vee p_4$ ort to $p_3 \\vee p_5$, $p_2 \\vee p_5$ ort to $p_3 \\vee p_4$"
   ]
  },
  {
   "cell_type": "code",
   "execution_count": 30,
   "id": "192ecac7-efb6-46d0-83a2-f1a6890c480c",
   "metadata": {},
   "outputs": [],
   "source": [
    "assert(scalar_product(wedge_product(p1, p4), wedge_product(p1, p2))==0)\n",
    "assert(scalar_product(wedge_product(p2, p4), wedge_product(p3, p5))==0)\n",
    "assert(scalar_product(wedge_product(p2, p5), wedge_product(p3, p4))==0)"
   ]
  },
  {
   "cell_type": "markdown",
   "id": "4d9ead02-aa44-4118-a369-27822177cca1",
   "metadata": {},
   "source": [
    "Here we verify that $p_4$ can be obtained from $p_2, p_5, p_7$ via the formula:\n",
    "$$\n",
    "p_4 = (p_2 \\times p_3) s_{25}s_{35}-s_{23} (p_2 \\times p_5) s_{35}+ s_{23}s_{25}(p_3 \\times p_5)\n",
    "$$"
   ]
  },
  {
   "cell_type": "code",
   "execution_count": 31,
   "id": "a76505d7-f854-4909-b739-61b7a2adf1f2",
   "metadata": {},
   "outputs": [],
   "source": [
    "q4 = (\n",
    "    wedge_product(p2, p3)*scalar_product(p2, p5)*scalar_product(p3, p5)\n",
    "    - scalar_product(p2, p3)*wedge_product(p2, p5)*scalar_product(p3, p5)\n",
    "    + scalar_product(p2, p3)*scalar_product(p2, p5)*wedge_product(p3, p5)\n",
    ")"
   ]
  },
  {
   "cell_type": "code",
   "execution_count": 32,
   "id": "14aec5a0-ef15-4a8b-8f07-53eb27a7a8c4",
   "metadata": {},
   "outputs": [],
   "source": [
    "assert(matrix([p4, q4]).minors(2) == [0, 0, 0])"
   ]
  }
 ],
 "metadata": {
  "kernelspec": {
   "display_name": "SageMath 10.2",
   "language": "sage",
   "name": "sagemath"
  },
  "language_info": {
   "codemirror_mode": {
    "name": "ipython",
    "version": 3
   },
   "file_extension": ".py",
   "mimetype": "text/x-python",
   "name": "python",
   "nbconvert_exporter": "python",
   "pygments_lexer": "ipython3",
   "version": "3.9.15"
  }
 },
 "nbformat": 4,
 "nbformat_minor": 5
}
