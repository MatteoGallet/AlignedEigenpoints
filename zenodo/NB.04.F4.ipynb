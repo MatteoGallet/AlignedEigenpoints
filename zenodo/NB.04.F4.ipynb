{
 "cells": [
  {
   "cell_type": "markdown",
   "id": "61387019-93fd-43b8-b779-a78a4fed5931",
   "metadata": {},
   "source": [
    "# Remark"
   ]
  },
  {
   "cell_type": "markdown",
   "id": "1e5ed585-1a86-4813-babd-ad43a419d9d8",
   "metadata": {},
   "source": [
    "Example of five points for which the matrix of conditions has rank $8$"
   ]
  },
  {
   "cell_type": "code",
   "execution_count": 3,
   "id": "cb301136-0e5a-4d5f-9d1a-4b17df884b84",
   "metadata": {},
   "outputs": [],
   "source": [
    "load(\"basic_functions.sage\")"
   ]
  },
  {
   "cell_type": "code",
   "execution_count": 4,
   "id": "9cfeecaf-f479-4a13-9079-39e140a223fb",
   "metadata": {},
   "outputs": [],
   "source": [
    "P1 = vector(S, (1, 0, 0))\n",
    "P2 = vector(S, (A2, B2, C2))"
   ]
  },
  {
   "cell_type": "markdown",
   "id": "96ffedc6-6fac-4f80-bf8a-1fa0be3c84c8",
   "metadata": {},
   "source": [
    "We want $\\delta_1(P_1, P_2, P_4) = 0$.\n",
    "Hence $\\left\\langle P_4,  s_{11} P_1 - s_{12} P_2 \\right\\rangle = 0$, so:"
   ]
  },
  {
   "cell_type": "code",
   "execution_count": 5,
   "id": "ab8263a0-c8c9-4317-a9ce-c26b18509ea8",
   "metadata": {},
   "outputs": [],
   "source": [
    "Ptmp4 = vector(S, (A4, B4, C4))\n",
    "Q4 = scalar_product(P1,P1)*P2 - scalar_product(P1,P2)*P1\n",
    "aa4, bb4, cc4 = (\n",
    "    scalar_product(Ptmp4, Q4).coefficient(A4), \n",
    "    scalar_product(Ptmp4, Q4).coefficient(B4),\n",
    "    scalar_product(Ptmp4, Q4).coefficient(C4)\n",
    ")"
   ]
  },
  {
   "cell_type": "markdown",
   "id": "70edd562-6c22-452d-8922-1373fcd9315e",
   "metadata": {},
   "source": [
    "Two alternative definitions of $P_4$ (solving $\\delta_1 = 0$ w.r.t. $A_4$ or $C_4$)"
   ]
  },
  {
   "cell_type": "code",
   "execution_count": 6,
   "id": "0318d39a-5b50-43ec-9944-79365ff91b70",
   "metadata": {},
   "outputs": [],
   "source": [
    "P4 = vector(S, (cc4*A4, cc4*B4, -aa4*A4-bb4*B4))\n",
    "P4 = vector(S, (bb4*A4, -aa4*A4-cc4*C4, bb4*C4))"
   ]
  },
  {
   "cell_type": "code",
   "execution_count": 7,
   "id": "9a319fd4-1cc5-42e4-a55b-0f77599964b0",
   "metadata": {},
   "outputs": [],
   "source": [
    "assert(delta1(P1, P2, P4) == 0)"
   ]
  },
  {
   "cell_type": "code",
   "execution_count": 8,
   "id": "9d3dac7e-8c77-4012-aa3d-5b5840f8bdb1",
   "metadata": {},
   "outputs": [],
   "source": [
    "P3 = (\n",
    "    (scalar_product(P1, P2)^2+scalar_product(P1, P1)*scalar_product(P2, P2))*P1\n",
    "    - 2*scalar_product(P1, P1)*scalar_product(P1, P2)*P2\n",
    ")\n",
    "assert(delta1b(P1, P2, P3) == 0)"
   ]
  },
  {
   "cell_type": "code",
   "execution_count": 9,
   "id": "69730e8b-1395-42ae-b111-26ca12973b4e",
   "metadata": {},
   "outputs": [],
   "source": [
    "P5 = (\n",
    "    (scalar_product(P1, P4)^2+scalar_product(P1, P1)*scalar_product(P4, P4))*P1\n",
    "    - 2*scalar_product(P1, P1)*scalar_product(P1, P4)*P4\n",
    ")\n",
    "assert(delta1b(P1, P4, P5) == 0)"
   ]
  },
  {
   "cell_type": "code",
   "execution_count": 10,
   "id": "37e344c9-9154-4646-94bb-4346c6392917",
   "metadata": {},
   "outputs": [],
   "source": [
    "M = condition_matrix([P1, P2, P3, P4, P5], S, standard=\"all\")"
   ]
  },
  {
   "cell_type": "code",
   "execution_count": 12,
   "id": "1091fc56-0ddd-431c-821f-ce3edb7860f2",
   "metadata": {},
   "outputs": [],
   "source": [
    "M1 = M.matrix_from_rows([0, 1, 3, 4, 6, 7, 9, 11, 12, 13])\n",
    "assert(M1.rank() == 8)"
   ]
  },
  {
   "cell_type": "code",
   "execution_count": 13,
   "id": "5cf1ba49-37a6-4fbe-90c3-4fb834593103",
   "metadata": {},
   "outputs": [],
   "source": [
    "m9 = M1.minors(9)\n",
    "assert(Set(m9) == Set([0]))"
   ]
  }
 ],
 "metadata": {
  "kernelspec": {
   "display_name": "SageMath 10.2",
   "language": "sage",
   "name": "sagemath"
  },
  "language_info": {
   "codemirror_mode": {
    "name": "ipython",
    "version": 3
   },
   "file_extension": ".py",
   "mimetype": "text/x-python",
   "name": "python",
   "nbconvert_exporter": "python",
   "pygments_lexer": "ipython3",
   "version": "3.9.15"
  }
 },
 "nbformat": 4,
 "nbformat_minor": 5
}
