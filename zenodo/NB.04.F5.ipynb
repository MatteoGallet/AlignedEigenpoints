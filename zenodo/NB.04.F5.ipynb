{
 "cells": [
  {
   "cell_type": "markdown",
   "id": "ee8ea935-a627-4cc7-95f2-3ffd65921abe",
   "metadata": {},
   "source": [
    "# Proposition"
   ]
  },
  {
   "cell_type": "markdown",
   "id": "88d67a00-1553-4db9-8706-552a75591c2c",
   "metadata": {},
   "source": [
    "If five points $P_1, \\dots, P_5$ in a $V$-configuration satisfy\n",
    "$$\n",
    "  \\delta_1(P_1, P_2, P_4) = \n",
    "  \\bar{\\delta}_1(P_1, P_2, P_3) =\n",
    "  \\bar{\\delta}_1(P_1, P_4, P_5) = 0\n",
    "$$\n",
    "then, in $\\Lambda \\bigl( \\Phi(P_1, \\dotsc, P_5)\\bigr)$ there is\n",
    "a cubic curve with $7$ eigenpoints with the following three alignments:\n",
    "$$\n",
    " (P_1, P_2, P_3) \\,, \\quad (P_1, P_4, P_5) \\,, \\quad \\text{and} \\quad (P_1, P_6, P_7) \\,.\n",
    "$$\n",
    "No choices of $P_1, \\dots, P_5$ allow one to obtain further alignments of the\n",
    "$7$ eigenpoints."
   ]
  },
  {
   "cell_type": "code",
   "execution_count": 1,
   "id": "df13c050-424f-426d-a451-33f270f3464d",
   "metadata": {},
   "outputs": [],
   "source": [
    "load(\"basic_functions.sage\")"
   ]
  },
  {
   "cell_type": "markdown",
   "id": "678a337d-6b97-4311-96b1-93a06a7b9aa7",
   "metadata": {},
   "source": [
    "We define three points $P_1, \\dotsc, P_5$ so that they form a $V$-configuration"
   ]
  },
  {
   "cell_type": "code",
   "execution_count": 2,
   "id": "73fa967a-29f5-48ea-8a46-23809a34e842",
   "metadata": {},
   "outputs": [],
   "source": [
    "P1 = vector((1, 0, 0))\n",
    "P2 = vector(S, (A2, B2, C2))\n",
    "P3 = u1*P1+u2*P2\n",
    "P4 = vector(S, (A4, B4, C4))\n",
    "P5 = v1*P1+v2*P4"
   ]
  },
  {
   "cell_type": "markdown",
   "id": "567b31cd-5b67-4df0-b1d2-c205231844f2",
   "metadata": {},
   "source": [
    "We want to impose $\\delta_1(P_1, P_2, P_4) = 0$.\n",
    "We check that $\\delta_1(P_1, P_2, P_4) = 0$ is $B_2 B_4 + C_2 C_4$:"
   ]
  },
  {
   "cell_type": "code",
   "execution_count": 3,
   "id": "2799bda5-669c-4aac-b6b1-cad8d8b6b379",
   "metadata": {},
   "outputs": [],
   "source": [
    "assert(delta1(P1, P2, P4) == B2*B4+C2*C4)"
   ]
  },
  {
   "cell_type": "markdown",
   "id": "c4256e2b-f15a-42ac-b3a8-11d95898d16b",
   "metadata": {},
   "source": [
    "It is not possible to have $C_2 = C_4 = 0$.\n",
    "\n",
    "If $C_2 = 0$, necessarily $B_2 \\neq 0$.\n",
    "\n",
    "If $C_2 \\neq 0$ and $B_4 = 0$, we get $C_4 = 0$, but $P_4 \\neq P_1$, so\n",
    "if $C_2 \\neq 0$, we can assume $B_4 \\neq 0$.\n",
    "\n",
    "Hence, the other situation to consider is $C_2 = B_4 = 0$,\n",
    "in which case the points are \n",
    "$p_1 = (1, 0, 0)$, $p_2 = (A_2, B_2, 0)$, $p_4 = (A_4, 0, C_4)$."
   ]
  },
  {
   "cell_type": "markdown",
   "id": "90fca3be-2477-486e-89bf-cccec70639d3",
   "metadata": {},
   "source": [
    "## We assume $C_2 \\neq 0$"
   ]
  },
  {
   "cell_type": "code",
   "execution_count": 4,
   "id": "903d7967-c6a5-4b78-b2cc-93d5df1207bb",
   "metadata": {},
   "outputs": [],
   "source": [
    "st1 = {A4: A4*C2, B4: B4*C2, C4:-B2*B4}\n",
    "p1 = P1.subs(st1)\n",
    "p2 = P2.subs(st1)\n",
    "p4 = P4.subs(st1)\n",
    "assert(delta1(p1, p2, p4) == 0)"
   ]
  },
  {
   "cell_type": "markdown",
   "id": "497f91a3-d7a0-4127-9345-1c9e1aaa167a",
   "metadata": {},
   "source": [
    "We define $p_3$ and $p_5$ according to the known formulas:"
   ]
  },
  {
   "cell_type": "code",
   "execution_count": 5,
   "id": "a3519653-d75e-4d4e-92f7-b656a163b3aa",
   "metadata": {},
   "outputs": [],
   "source": [
    "p3 = (scalar_product(p1, p2)^2+scalar_product(p1, p1)*scalar_product(p2, p2))*p1-2*(scalar_product(p1, p1)*scalar_product(p1, p2))*p2\n",
    "p5 = (scalar_product(p1, p4)^2+scalar_product(p1, p1)*scalar_product(p4, p4))*p1-2*(scalar_product(p1, p1)*scalar_product(p1, p4))*p4"
   ]
  },
  {
   "cell_type": "markdown",
   "id": "283fa492-289b-488f-83f2-0b65d124767d",
   "metadata": {},
   "source": [
    "The entries of $p_5$ can be divided by $B_4$ (which is, as said, not 0)"
   ]
  },
  {
   "cell_type": "code",
   "execution_count": 6,
   "id": "2e85c465-b0ae-4481-8a4d-632ea8b5c58f",
   "metadata": {},
   "outputs": [],
   "source": [
    "assert(gcd(list(p5)) == B4)"
   ]
  },
  {
   "cell_type": "code",
   "execution_count": 7,
   "id": "56254a4e-3aec-4eae-b100-22582958481a",
   "metadata": {},
   "outputs": [],
   "source": [
    "p5 = vector(S, [px.quo_rem(B4)[0] for px in list(p5)])"
   ]
  },
  {
   "cell_type": "code",
   "execution_count": 8,
   "id": "6f208fae-8c25-4c9b-ae78-71abbd00da68",
   "metadata": {},
   "outputs": [],
   "source": [
    "assert(delta1b(p1, p2, p3) == 0)\n",
    "assert(delta1b(p1, p4, p5) == 0)\n",
    "## Incidentally, delta2 is also 0:\n",
    "assert(delta2(p1, p2, p3, p4, p5) == 0)"
   ]
  },
  {
   "cell_type": "markdown",
   "id": "0d0a81ae-5a07-4f06-86c1-ca76f0fa2879",
   "metadata": {},
   "source": [
    "An example shows that, in general, $p_6$ and $p_7$ are not aligned with $p_1$.\n",
    "Here is an example."
   ]
  },
  {
   "cell_type": "code",
   "execution_count": 9,
   "id": "12827853-01ea-4acc-a04b-b3f07be51619",
   "metadata": {},
   "outputs": [],
   "source": [
    "ss3 = {A2:1, B2:-5, C2:-3, A4:7, B4:-5}\n",
    "pp1 = p1.subs(ss3)\n",
    "pp2 = p2.subs(ss3)\n",
    "pp3 = p3.subs(ss3)\n",
    "pp4 = p4.subs(ss3)\n",
    "pp5 = p5.subs(ss3)\n",
    "cb = cubic_from_matrix(\n",
    "    condition_matrix(\n",
    "        [pp1, pp2, pp3, pp4, pp5],\n",
    "         S, \n",
    "        standard=\"all\"\n",
    "    ).stack(\n",
    "        matrix(\n",
    "            [\n",
    "                [2, 3, 4, 5, 6, 7, 8, 9, 1, 2]\n",
    "            ]\n",
    "        )\n",
    "    )\n",
    ")"
   ]
  },
  {
   "cell_type": "markdown",
   "id": "f0c6b563-0359-43b9-b87f-c72df9594397",
   "metadata": {},
   "source": [
    "NOW WE WANT TO SEE WHAT HAPPENS IF WE IMPOSE THE ALIGNMENT $p_1$, $p_6$, $p_7$.\n",
    "\n",
    "We start with $p_1$, $p_2$, $p_3$, $p_4$, $p_5$ as above, such that \n",
    "$\\delta_1(p_1, p_2, p_4)$, $\\bar{\\delta}_1(p_1, p_2, p_3)$ and $\\bar{\\delta}_1(p_1, p_4, p_5)$ are $0$"
   ]
  },
  {
   "cell_type": "markdown",
   "id": "27c507c2-9de7-484b-a54e-4cc54a9129d4",
   "metadata": {},
   "source": [
    "The matrix $\\Phi(p_1, p_2, p_3, p_4, p_5)$ has rank 8. "
   ]
  },
  {
   "cell_type": "code",
   "execution_count": 10,
   "id": "28630a17-4dd9-4504-9d4a-779640d739b7",
   "metadata": {},
   "outputs": [],
   "source": [
    "M = condition_matrix([p1, p2, p3, p4, p5], S, standard=\"all\")\n",
    "assert(M.rank() == 8)"
   ]
  },
  {
   "cell_type": "markdown",
   "id": "1a7e4b24-d174-4a90-967f-97b936ff0244",
   "metadata": {},
   "source": [
    "We select 8 linearly independent rows: "
   ]
  },
  {
   "cell_type": "code",
   "execution_count": 11,
   "id": "87d6c730-e363-4fd7-9674-e75718f868f7",
   "metadata": {},
   "outputs": [],
   "source": [
    "mm = M.matrix_from_rows([0, 1, 4, 5, 7, 8, 12, 14])"
   ]
  },
  {
   "cell_type": "code",
   "execution_count": 12,
   "id": "bd9d3ec9-7c22-4c93-b510-1196a72b15bf",
   "metadata": {},
   "outputs": [],
   "source": [
    "# in general, mm has rank 8\n",
    "assert(mm.rank() == 8)  "
   ]
  },
  {
   "cell_type": "code",
   "execution_count": 13,
   "id": "c3613232-2830-45a3-9256-129e745a7c9d",
   "metadata": {},
   "outputs": [],
   "source": [
    "# let us see when the rank is not 8:\n",
    "hj = S.ideal(mm.minors(8))\n",
    "hj = hj.saturation(S.ideal(matrix([p3, p5]).minors(2)))[0]\n",
    "hj = hj.saturation(S.ideal(matrix([p1, p3]).minors(2)))[0]\n",
    "hj = hj.saturation(S.ideal(matrix([p1, p5]).minors(2)))[0]\n",
    "hj = hj.saturation(S.ideal(matrix([p2, p3]).minors(2)))[0]\n",
    "# \n",
    "# it holds: hj = (1)\n",
    "assert(hj == S.ideal(1))\n",
    "# hence the order 8 minor mm has always rank 8."
   ]
  },
  {
   "cell_type": "markdown",
   "id": "edf4d06e-a294-4c19-b56e-50483bad089f",
   "metadata": {},
   "source": [
    "The cubics of $\\mathbb{P}^9$ that have $p_1, \\dotsc, p_5$ as eigenpoints are a line $L$ of $\\mathbb{P}^9$.\n",
    "\n",
    "We want to see if, among the points of this line, we can find\n",
    "some which give cubic curves with the eigenpoints $p_1$, $p_6$, $p_7$ collinear.\n",
    "Here is the way in which we procede.\n",
    "We fix two 10-components vectors like:\n",
    "$(1, 2, 5, 6, 0, 2, 3, 4, 9, 11)$ and $(-1, 3, 6, 5, 0, 1, 3, 7, 9, -5)$\n",
    "and we consider the following matrices: mmA and mmB\n",
    "(we put an index \"1\" because later we shall repeat the computation):"
   ]
  },
  {
   "cell_type": "code",
   "execution_count": 14,
   "id": "709cf8b9-c712-45bb-87c3-a77642df4f40",
   "metadata": {},
   "outputs": [],
   "source": [
    "mmA_1 = mm.stack(matrix([1, 2, 5, 6, 0, 2, 3, 4, 9, 11]))\n",
    "mmB_1 = mm.stack(matrix([-1, 3, 6, 5, 0, 1, 3, 7, 9, -5]))"
   ]
  },
  {
   "cell_type": "markdown",
   "id": "12340059-03e3-4b5f-8056-7d89ef955f63",
   "metadata": {},
   "source": [
    "mmA and mmB have rank 9 (if not, take two other points!)\n",
    "From mmA we get one cubic curve cbA, from mmB we get one\n",
    "cubic cbB and they are two points of the line $L$ of $\\mathbb{P}^9$.\n",
    "Both cbA and cbB have, among the eigenpoints, $p_1$, $p_2$, $p_3$, $_4$, $p_5$.\n",
    "\n",
    "Given the generic point $P = (x: y: z)$ of $\\mathbb{P}^2$, consider the three \n",
    "matrices obtained from mmA_1 given by\n",
    "* mmA plus the row $\\Phi(P)_{(1)}$, \n",
    "* mmA plus the row $\\Phi(P)_{(2)}$, and\n",
    "* mmA plus the row $\\Phi(P)_{(3)}$.\n",
    "\n",
    "We get three square matrices with determinant GA1, GA2, GA3 such \n",
    "that $p_{1, z} GA1 - p_{1, y} GA2 + p_{1, x} GA3$ splits, as a polynomial in \n",
    "x, y, z, into three linear factors, one corresponds to the line \n",
    "$p_1 \\vee p_2$, the other to the line $p_1 \\vee p_4$ and the third to the line\n",
    "passing through the two remaining eigenpoints of cbA.\n",
    "A simplification comes from the fact that $p_1$ is the point \n",
    "$(1: 0: 0)$, hence $p_{1, z} GA1 - p_{1, y} GA2 + p_{1, x} GA3$ is $GA3$. \n",
    "Hence we have to factorize it."
   ]
  },
  {
   "cell_type": "markdown",
   "id": "33d9d21f-65bc-4991-9a55-83c0249fd4d0",
   "metadata": {},
   "source": [
    "The same construction can be done for mmB and we get a polynomial \n",
    "GB3 which factorizes into three linear factors in x, y, z, the \n",
    "first two correspond again to the lines $p_1 \\vee p_2$ and $p_1 \\vee p_4$, the third \n",
    "corresponds to the line through the two remaining eigenpoints of cbB.\n",
    "\n",
    "A point of the line $L$ corresponds to the cubic cb = w1*cbA+w2*cbB,\n",
    "where w1 and w2 are parameters.\n",
    "\n",
    "The cubic cb has $p_1$, $p_2$, $p_3$, $p_4$, $p_5$ as eigenpoints and two other \n",
    "eigenpints, say p6 and p7, that are obtained from the factorization \n",
    "of w1*GA3+w2*GB3.\n",
    "\n",
    "Now the explicit computations (we repeat\n",
    "the construction twice):"
   ]
  },
  {
   "cell_type": "code",
   "execution_count": 15,
   "id": "9c80b9d1-a355-4c0b-b370-53fd2f5eb39f",
   "metadata": {},
   "outputs": [],
   "source": [
    "GA3_1 = mmA_1.stack(matrix([phi((x, y, z), S)[2]])).det()\n",
    "GB3_1 = mmB_1.stack(matrix([phi((x, y, z), S)[2]])).det()\n",
    "\n",
    "rr3_1 = list(\n",
    "    filter(\n",
    "        lambda uu: w1 in uu[0].variables(),\n",
    "        list(factor(w1*GA3_1+w2*GB3_1))\n",
    "    )\n",
    ")[0][0]"
   ]
  },
  {
   "cell_type": "markdown",
   "id": "38e4651d-197a-483a-9d15-544825bdc5c6",
   "metadata": {},
   "source": [
    "rr3_1 is a polynomial of degree 1 in x, y, z which gives \n",
    "the line passing through the eigenpoints p6 and p7 of \n",
    "cb (it depends of w1 and w2)."
   ]
  },
  {
   "cell_type": "markdown",
   "id": "b139b786-5ce1-4663-810a-3ad44204a342",
   "metadata": {},
   "source": [
    "We want to see if, among the cubics cb = cb(w1, w2), it is possible \n",
    "to find a cubic with p1, p6, p7 aligned. Hence p1 must be a point of rr3_1,\n",
    "so the following polynomial must be zero:"
   ]
  },
  {
   "cell_type": "code",
   "execution_count": 16,
   "id": "c3b458b4-997c-4ade-84ff-f7a5fbdfec78",
   "metadata": {},
   "outputs": [],
   "source": [
    "hh1 = rr3_1.subs({x:1, y:0, z:0})"
   ]
  },
  {
   "cell_type": "markdown",
   "id": "f1a59a22-da6f-4588-a57f-30ff3b8ba486",
   "metadata": {},
   "source": [
    "In order to get rid of the choice of the two rows above (i.e. the \n",
    "choice of two points of L), we repeat the construction for two other \n",
    "random rows:"
   ]
  },
  {
   "cell_type": "code",
   "execution_count": 17,
   "id": "d89d05bd-2f87-4c4a-99df-aa6f2ea4ce28",
   "metadata": {},
   "outputs": [],
   "source": [
    "mmA_2 = mm.stack(matrix([1, -5, 1, 2, 0, 1, -2, 1, 3, 7]))\n",
    "mmB_2 = mm.stack(matrix([-1, -1, 0, 4, 0, 1, 0, 1, 0, -5]))\n",
    "\n",
    "GA3_2 = mmA_2.stack(matrix([phi((x, y, z), S)[2]])).det()\n",
    "GB3_2 = mmB_2.stack(matrix([phi((x, y, z), S)[2]])).det()\n",
    "\n",
    "rr3_2 = list(\n",
    "    filter(\n",
    "        lambda uu: w1 in uu[0].variables(),\n",
    "        list(factor(w1*GA3_2+w2*GB3_2))\n",
    "    )\n",
    ")[0][0]"
   ]
  },
  {
   "cell_type": "code",
   "execution_count": 18,
   "id": "4bbada21-90ab-433c-82a8-b04435c0821e",
   "metadata": {},
   "outputs": [],
   "source": [
    "## if p1, p6, p7 are alligned, also the following polynomial must be zero\n",
    "hh2 = rr3_2.subs({x:1, y:0, z:0})"
   ]
  },
  {
   "cell_type": "markdown",
   "id": "10f286ed-507a-4ad9-a93b-84954dfe1680",
   "metadata": {},
   "source": [
    "hh1 (and hh2) are of the form w1*()+w2*(). Hence hh1 (and hh2) \n",
    "is zero iff w1 and w2 are chosen as solution of the equation \n",
    "w1*()+w2*() = 0 or if the coefficients of w1 and w2 are both zero.\n",
    "In the first case, we construct r3_1 and r3_2 as follows:"
   ]
  },
  {
   "cell_type": "code",
   "execution_count": 23,
   "id": "2c296aec-32f2-4ac1-9e92-f84fd9a181ef",
   "metadata": {},
   "outputs": [],
   "source": [
    "r3_1 = (w1*GA3_1+w2*GB3_1).subs(\n",
    "    {\n",
    "        w1: hh1.coefficient(w2),\n",
    "        w2: -hh1.coefficient(w1)\n",
    "    }\n",
    ").factor()[-2][0]\n",
    "r3_2 = (w1*GA3_2+w2*GB3_2).subs(\n",
    "    {\n",
    "        w1: hh2.coefficient(w2),\n",
    "        w2: -hh2.coefficient(w1)\n",
    "    }\n",
    ").factor()[-2][0]"
   ]
  },
  {
   "cell_type": "markdown",
   "id": "ccbfa68c-c195-41b6-9f45-fbac2423fbee",
   "metadata": {},
   "source": [
    "(i.e. r3_1 and r3_2 are the line passing through p1, p6, p7.\n",
    "They should be equal, because they should not depend of the \n",
    "two points of the line L chosen. Indeed, they are equal:"
   ]
  },
  {
   "cell_type": "code",
   "execution_count": 24,
   "id": "a0244eb9-00e6-45d1-954f-2cf8d7bb20d0",
   "metadata": {},
   "outputs": [],
   "source": [
    "assert(r3_1 == r3_2)"
   ]
  },
  {
   "cell_type": "markdown",
   "id": "a9af4bf3-5cfb-4dd7-8585-dbea4ad7adf3",
   "metadata": {},
   "source": [
    "Now we have to consider the case in which r3_1 and r3_2 are not defined,\n",
    "i.e. when the coefficients of w1 and w2 in hh1 and hh2 are all zero:"
   ]
  },
  {
   "cell_type": "code",
   "execution_count": 25,
   "id": "c40e0196-af37-4ae2-93be-e442c791c1dd",
   "metadata": {},
   "outputs": [],
   "source": [
    "HH = [hh1, hh2]\n",
    "JJ = S.ideal([hh.coefficient(w1) for hh in HH] + [hh.coefficient(w2) for hh in HH])"
   ]
  },
  {
   "cell_type": "markdown",
   "id": "d7c08fec-feb6-475e-be2a-843af5448f60",
   "metadata": {},
   "source": [
    "If we have some values of the points p1, ..., p5 such that give a zero\n",
    "of JJ, we have to study that case."
   ]
  },
  {
   "cell_type": "markdown",
   "id": "48629c77-0500-4da3-bfee-285a15375153",
   "metadata": {},
   "source": [
    "But JJ, after saturation, is (1):"
   ]
  },
  {
   "cell_type": "code",
   "execution_count": 26,
   "id": "8971e0ba-b2bb-4cad-8e75-500b66b2ac7d",
   "metadata": {},
   "outputs": [],
   "source": [
    "JJ = JJ.saturation(S.ideal(matrix([p1, p2]).minors(2)))[0]\n",
    "JJ = JJ.saturation(S.ideal(matrix([p1, p3]).minors(2)))[0]\n",
    "JJ = JJ.saturation(S.ideal(matrix([p1, p4]).minors(2)))[0]\n",
    "JJ = JJ.saturation(S.ideal(matrix([p1, p5]).minors(2)))[0]\n",
    "JJ = JJ.saturation(S.ideal(matrix([p3, p5]).minors(2)))[0]"
   ]
  },
  {
   "cell_type": "code",
   "execution_count": 27,
   "id": "c1b09f6d-eff4-4fd6-bc23-d21a02cdc60b",
   "metadata": {},
   "outputs": [],
   "source": [
    "assert(JJ == S.ideal(1))"
   ]
  },
  {
   "cell_type": "markdown",
   "id": "c3d4792f-95a8-4e4b-853e-744742cd2b09",
   "metadata": {},
   "source": [
    "This computation shows that there are no exceptions to consider.\n",
    "\n",
    "On the line $L$ of $\\mathbb{P}^9$ there is a point that \n",
    "corresponds to a cubic which has the alignments $p_1$, $p_2$, $p_3$, and \n",
    "$p_1$, $p_4$, $p_5$, and $p_1$, $p_6$, $p_7$ among the eigenpoints.\n",
    "\n",
    "We can determine the cubic:"
   ]
  },
  {
   "cell_type": "code",
   "execution_count": 28,
   "id": "ce18af59-fc38-4c9b-9dd7-c788ce35f129",
   "metadata": {},
   "outputs": [],
   "source": [
    "MM_1 = (w1*mmA_1+w2*mmB_1).subs(\n",
    "    {\n",
    "        w1: hh1.coefficient(w2),\n",
    "        w2: -hh1.coefficient(w1)\n",
    "    }\n",
    ")\n",
    "\n",
    "Mcb1 = MM_1.stack(vector(S, mon))\n",
    "\n",
    "MM_2 = (w1*mmA_2+w2*mmB_2).subs(\n",
    "    {\n",
    "        w1: hh2.coefficient(w2),\n",
    "        w2: -hh2.coefficient(w1)\n",
    "    }\n",
    ")\n",
    "\n",
    "Mcb2 = MM_2.stack(vector(S, mon))"
   ]
  },
  {
   "cell_type": "markdown",
   "id": "c293814c-fe61-430a-b8ee-9f5bd105049c",
   "metadata": {},
   "source": [
    "The cubic is the determinant of Mcb1 (or of Mcb2)."
   ]
  },
  {
   "cell_type": "markdown",
   "id": "ccfd4b0b-4e08-420b-b573-9e5924115fc0",
   "metadata": {},
   "source": [
    "The following computations require, respectively, about 3000 and \n",
    "4000 seconds. We omit them but we define below the cubic cb which \n",
    "is obtained:"
   ]
  },
  {
   "cell_type": "code",
   "execution_count": 29,
   "id": "11ee1fdf-a996-491e-8a22-72153e48b84c",
   "metadata": {},
   "outputs": [],
   "source": [
    "# ttA = cputime()\n",
    "# cb1 = Mcb1.det()\n",
    "# print(cputime()-ttA)\n",
    "# \n",
    "# ttA = cputime()\n",
    "# cb2 = Mcb2.det()\n",
    "# print(cputime()-ttA)\n",
    "# \n",
    "# assert(cb1.factor()[-1][0]  == cb2.factor()[-1][0])"
   ]
  },
  {
   "cell_type": "code",
   "execution_count": 30,
   "id": "5d4297ef-29d6-4bf3-9c29-a3d78dbb1ffd",
   "metadata": {},
   "outputs": [],
   "source": [
    "cb = (\n",
    "    z^3*A2*B2^3*C2^2*A4^2 - 3*y*z^2*A2*B2^2*C2^3*A4^2 + 3*y^2*z*A2*B2*C2^4*A4^2 \n",
    "    - y^3*A2*C2^5*A4^2 - y^3*A2^2*B2^3*C2*A4*B4 + 3/2*x*y^2*A2*B2^4*C2*A4*B4 \n",
    "    + 3/2*x*z^2*A2*B2^4*C2*A4*B4 + 1/2*y^3*B2^5*C2*A4*B4 - 3*y^2*z*A2^2*B2^2*C2^2*A4*B4 \n",
    "    + 3/2*y^2*z*B2^4*C2^2*A4*B4 - 3*y*z^2*A2^2*B2*C2^3*A4*B4 + 3*x*y^2*A2*B2^2*C2^3*A4*B4 \n",
    "    + 3*x*z^2*A2*B2^2*C2^3*A4*B4 + 1/2*y^3*B2^3*C2^3*A4*B4 + 3/2*y*z^2*B2^3*C2^3*A4*B4 \n",
    "    - z^3*A2^2*C2^4*A4*B4 + 3/2*y^2*z*B2^2*C2^4*A4*B4 + 1/2*z^3*B2^2*C2^4*A4*B4 \n",
    "    + 3/2*x*y^2*A2*C2^5*A4*B4 + 3/2*x*z^2*A2*C2^5*A4*B4 + 3/2*y*z^2*B2*C2^5*A4*B4 \n",
    "    + 1/2*z^3*C2^6*A4*B4 - 1/2*z^3*A2*B2^5*B4^2 + 3/2*y*z^2*A2*B2^4*C2*B4^2 \n",
    "    - 3/2*y^2*z*A2*B2^3*C2^2*B4^2 - 1/2*z^3*A2*B2^3*C2^2*B4^2 + 1/2*y^3*A2*B2^2*C2^3*B4^2 \n",
    "    + 3/2*y*z^2*A2*B2^2*C2^3*B4^2 - 3/2*y^2*z*A2*B2*C2^4*B4^2 + 1/2*y^3*A2*C2^5*B4^2\n",
    ")"
   ]
  },
  {
   "cell_type": "markdown",
   "id": "2906da36-ef47-4d0f-8c2f-14125e1d35d5",
   "metadata": {},
   "source": [
    "We remark however that cb can be computed in 12 seconds using the \n",
    "fact that the rows of Mcb1 have big common factors:"
   ]
  },
  {
   "cell_type": "code",
   "execution_count": 31,
   "id": "29d8966e-b019-4774-875c-df641d351a9c",
   "metadata": {},
   "outputs": [],
   "source": [
    "Ms = []\n",
    "for i in range(10):\n",
    "    gd = gcd([Mcb1[i,j] for j in range(10)])\n",
    "    Ms.append([Mcb1[i,j].quo_rem(gd)[0] for j in range(10)])\n",
    "\n",
    "cb_alt = matrix(Ms).det().factor()[-1][0]"
   ]
  },
  {
   "cell_type": "code",
   "execution_count": 32,
   "id": "18b79eb9-e492-40b6-83e3-652c5cc6cc37",
   "metadata": {},
   "outputs": [],
   "source": [
    "assert(cb_alt == cb)"
   ]
  },
  {
   "cell_type": "markdown",
   "id": "71438de0-302f-4d67-b73a-e534af293720",
   "metadata": {},
   "source": [
    "An example shows that cb, in general, has the following aligned eigenpoints:\n",
    "p1, p2, p3 and p1, p4, p5 and p1, p6, p7. The cubic is irreducible and \n",
    "singular in p1."
   ]
  },
  {
   "cell_type": "code",
   "execution_count": 33,
   "id": "abf42d3f-95d9-442f-8f2b-8965021ef9a3",
   "metadata": {},
   "outputs": [],
   "source": [
    "ccb = cb.subs({A2:5, B2:-3, C2:-1, A4:2, B4:-7})"
   ]
  },
  {
   "cell_type": "markdown",
   "id": "228475b5-bbc2-470c-b3b9-9d75130ded3f",
   "metadata": {},
   "source": [
    "HERE WE CONCLUDE THE FIRST PART OF THE COMPUTATION:\n",
    "\n",
    "In case $C_2 \\neq 0$, \n",
    "IT IS POSSIBLE TO HAVE THREE ALIGNMENTS: (1, 2, 3), (1, 4, 5), (1, 6, 7)"
   ]
  },
  {
   "cell_type": "markdown",
   "id": "5a3c3f01-4f58-4772-9088-f4734ceed81a",
   "metadata": {},
   "source": [
    "Now we want to see if it is possible to have more then three alignments\n",
    "(We continue to assume C2 != 0)\n",
    "\n",
    "Recall that cb is our cubic.\n",
    "\n",
    "Recall that r3_1 (= r3_2) is the line through p6 and p7.\n",
    "\n",
    "Up to a permutation of the indices of the points, if there is another \n",
    "alignment among the eigenpoints, p6 must be on the line p2+p4. Hence\n",
    "we can find it, since is the intersection or p2+p4 and r3."
   ]
  },
  {
   "cell_type": "code",
   "execution_count": 34,
   "id": "d3edf24d-dde5-4786-b737-1234c25ce758",
   "metadata": {},
   "outputs": [],
   "source": [
    "r24 = matrix([p2, p4, (x, y, z)]).det()\n",
    "\n",
    "E1 = matrix(\n",
    "    [\n",
    "        [r3_1.coefficient(xx) for xx in [x, y, z]],\n",
    "        [r24.coefficient(xx) for xx in [x, y, z]]\n",
    "    ]\n",
    ").minors(2)"
   ]
  },
  {
   "cell_type": "markdown",
   "id": "93cf1ef3-5501-41f3-aad3-bb75437245bd",
   "metadata": {},
   "source": [
    "All the entries of E1 can be divided \n",
    "by $B_2^2 B_4 + C_2^2 B_4$ and we know that $B_2^2 B_4 + C_2^2 B_4 = 0$ implies \n",
    "$p_3 = p_5$, hence we divide with no problems."
   ]
  },
  {
   "cell_type": "code",
   "execution_count": 35,
   "id": "1d60c076-1a3f-4564-b91c-98e837a1a81d",
   "metadata": {},
   "outputs": [],
   "source": [
    "p6 = vector(\n",
    "    S,\n",
    "    (\n",
    "        E1[2]/(B2^2*B4 + C2^2*B4), \n",
    "        -E1[1]/(B2^2*B4 + C2^2*B4),\n",
    "        E1[0]/(B2^2*B4 + C2^2*B4)\n",
    "    )\n",
    ")"
   ]
  },
  {
   "cell_type": "markdown",
   "id": "f3c592f8-8104-4f30-877d-3ae8c3539634",
   "metadata": {},
   "source": [
    "Now we compute the ideal kJ of the eigenpoints of cb and we \n",
    "saturate it as much as possible (in particular, we saturate it\n",
    "w.r.t. the ideals of the points p1, p2, p3, p4, p5):"
   ]
  },
  {
   "cell_type": "code",
   "execution_count": 36,
   "id": "711271c0-71af-4e67-8ee9-5836f7709d4c",
   "metadata": {},
   "outputs": [],
   "source": [
    "kJ = S.ideal(\n",
    "    matrix(\n",
    "        [\n",
    "            [x, y, z],\n",
    "            [cb.derivative(x), cb.derivative(y), cb.derivative(z)]\n",
    "        ]\n",
    "    ).minors(2)\n",
    ")"
   ]
  },
  {
   "cell_type": "code",
   "execution_count": 37,
   "id": "1ff94ba2-41ac-4c39-a210-a2959b0669b9",
   "metadata": {},
   "outputs": [],
   "source": [
    "kJ = kJ.saturation(B2^2*B4 + C2^2*B4)[0]\n",
    "kJ = kJ.saturation(S.ideal(matrix([p1, p3]).minors(2)))[0]\n",
    "kJ = kJ.saturation(S.ideal(matrix([p1, p5]).minors(2)))[0]\n",
    "kJ = kJ.saturation(S.ideal(z, y))[0]  ##p1\n",
    "kJ = kJ.saturation(S.ideal(p2[0]*y-p2[1]*x, p2[0]*z-p2[2]*x, p2[1]*z-p2[2]*y))[0] ## p2\n",
    "kJ = kJ.saturation(S.ideal(p3[0]*y-p3[1]*x, p3[0]*z-p3[2]*x, p3[1]*z-p3[2]*y))[0] ## p3\n",
    "kJ = kJ.saturation(S.ideal(p4[0]*y-p4[1]*x, p4[0]*z-p4[2]*x, p4[1]*z-p4[2]*y))[0] ## p4\n",
    "kJ = kJ.saturation(S.ideal(p5[0]*y-p5[1]*x, p5[0]*z-p5[2]*x, p5[1]*z-p5[2]*y))[0] ## p5"
   ]
  },
  {
   "cell_type": "markdown",
   "id": "40532814-eca0-4b1e-8ded-7d0be8095058",
   "metadata": {},
   "source": [
    "After these computations, kJ is the ideal of the two reminining eigenpoints.\n",
    "we want that p1 defined above is an eigenpoint, so the ideal kkJ \n",
    "here defined must be zero:"
   ]
  },
  {
   "cell_type": "code",
   "execution_count": 39,
   "id": "e8d7dd0a-79e2-433f-8cdb-21890f8b26b1",
   "metadata": {},
   "outputs": [],
   "source": [
    "kkJ = kJ.subs({x:p6[0], y:p6[1], z:p6[2]}).radical()"
   ]
  },
  {
   "cell_type": "markdown",
   "id": "270bbce6-58b3-4931-afe5-6fbdb85af8ba",
   "metadata": {},
   "source": [
    "We saturate kkJ and we get a primary decomposiiton:"
   ]
  },
  {
   "cell_type": "code",
   "execution_count": 40,
   "id": "ee970345-168a-43c9-8e9d-554296f2a18f",
   "metadata": {},
   "outputs": [],
   "source": [
    "kkJ = kkJ.saturation(S.ideal(matrix([p1, p3]).minors(2)))[0]\n",
    "kkJ = kkJ.saturation(S.ideal(matrix([p1, p4]).minors(2)))[0]\n",
    "kkJ = kkJ.saturation(S.ideal(matrix([p1, p5]).minors(2)))[0]\n",
    "kkJ = kkJ.saturation(S.ideal(matrix([p3, p5]).minors(2)))[0]\n",
    "kkJ = kkJ.saturation(S.ideal(matrix([p2, p6]).minors(2)))[0]\n",
    "kkJ = kkJ.saturation(S.ideal(matrix([p4, p6]).minors(2)))[0]"
   ]
  },
  {
   "cell_type": "markdown",
   "id": "de8a6e0d-072e-4496-8560-e197193e921b",
   "metadata": {},
   "source": [
    "kkJ is (1), so there are no solutions:"
   ]
  },
  {
   "cell_type": "code",
   "execution_count": 41,
   "id": "f312c8c3-6827-4627-a661-74403576f763",
   "metadata": {},
   "outputs": [],
   "source": [
    "assert(kkJ == S.ideal(1))"
   ]
  },
  {
   "cell_type": "markdown",
   "id": "e2b6062a-fdbc-4f9f-bd96-7492e9bdc82b",
   "metadata": {},
   "source": [
    "CONCLUSION (for the case $C_2 \\neq 0$) when the three deltas are zero, \n",
    "(hence rank of the matrix of the five points is 8), we have \n",
    "also $\\delta_2 = 0$ and we have the collinearities (1, 2, 3) (1, 4, 5).\n",
    "We have a sub-case in which there is the further collinearity (1, 6, 7).\n",
    "No other collinearities among the 7 eigenpoints are possible."
   ]
  },
  {
   "cell_type": "markdown",
   "id": "3f6bd325-249c-4798-88e6-ab827784c974",
   "metadata": {},
   "source": [
    "## We assume $C_2 = 0$"
   ]
  },
  {
   "cell_type": "code",
   "execution_count": 68,
   "id": "c8e11529-d3c2-467d-9e54-965ce96016ab",
   "metadata": {},
   "outputs": [],
   "source": [
    "p1 = vector(S, (1, 0, 0))\n",
    "p2 = vector(S, (A2, B2, 0))\n",
    "p4 = vector(S, (A4, 0, C4))"
   ]
  },
  {
   "cell_type": "markdown",
   "id": "cad32ba0-75dc-416a-8b9a-8384a951a5d8",
   "metadata": {},
   "source": [
    "We are sure that $B_2 \\neq 0$ (since $p_2 \\neq p_1$) and $C_4 \\neq 0$ (since $p_4 \\neq p_1$)"
   ]
  },
  {
   "cell_type": "code",
   "execution_count": 69,
   "id": "4cbb8108-dff4-4a31-994b-13c65282b759",
   "metadata": {},
   "outputs": [],
   "source": [
    "p3 = (\n",
    "    (scalar_product(p1, p2)^2 + scalar_product(p1, p1)*scalar_product(p2, p2))*p1\n",
    "    -2*(scalar_product(p1, p1)*scalar_product(p1, p2))*p2\n",
    ")\n",
    "p5 = (\n",
    "    (scalar_product(p1, p4)^2 + scalar_product(p1, p1)*scalar_product(p4, p4))*p1\n",
    "    -2*(scalar_product(p1, p1)*scalar_product(p1, p4))*p4\n",
    ")"
   ]
  },
  {
   "cell_type": "markdown",
   "id": "90d83383-94f1-443e-bfa3-3e8fb066fc9a",
   "metadata": {},
   "source": [
    "We redefine the points, since $B_2$ and $C_4$ are not 0."
   ]
  },
  {
   "cell_type": "code",
   "execution_count": 70,
   "id": "96af3bcf-16c6-4645-9c25-8518e9869671",
   "metadata": {},
   "outputs": [],
   "source": [
    "p3, p5 = p3/B2, p5/C4"
   ]
  },
  {
   "cell_type": "code",
   "execution_count": 71,
   "id": "0ee0d27f-d06f-41de-beb1-e4ad75650632",
   "metadata": {},
   "outputs": [],
   "source": [
    "assert(delta1b(p1, p2, p3) == 0)\n",
    "assert(delta1b(p1, p4, p5) == 0)\n",
    "## Incidentally, delta2 is also 0:\n",
    "assert(delta2(p1, p2, p3, p4, p5) == 0)"
   ]
  },
  {
   "cell_type": "markdown",
   "id": "7cbebe02-f21a-42a5-bf04-d4a67b477551",
   "metadata": {},
   "source": [
    "An example shows that, in general, $p_6$ and $p_7$ are not aligned with $p_1$.\n",
    "Here is an example."
   ]
  },
  {
   "cell_type": "code",
   "execution_count": 72,
   "id": "80d66600-fb01-4163-b845-290674f8d700",
   "metadata": {},
   "outputs": [],
   "source": [
    "ss3 = {A2:1, B2:-5, A4:7, C4:-5}\n",
    "pp1 = p1.subs(ss3)\n",
    "pp2 = p2.subs(ss3)\n",
    "pp3 = p3.subs(ss3)\n",
    "pp4 = p4.subs(ss3)\n",
    "pp5 = p5.subs(ss3)\n",
    "cb = cubic_from_matrix(\n",
    "    condition_matrix(\n",
    "        [pp1, pp2, pp3, pp4, pp5],\n",
    "         S, \n",
    "        standard=\"all\"\n",
    "    ).stack(\n",
    "        matrix(\n",
    "            [\n",
    "                [2, 3, 4, 5, 6, 7, 8, 9, 1, 2]\n",
    "            ]\n",
    "        )\n",
    "    )\n",
    ")"
   ]
  },
  {
   "cell_type": "markdown",
   "id": "c4277d22-5fb0-47a5-810a-f14e5aa93314",
   "metadata": {},
   "source": [
    "NOW WE WANT TO SEE WHAT HAPPENS IF WE IMPOSE THE ALIGNMENT $p_1$, $p_6$, $p_7$.\n",
    "\n",
    "We start with $p_1$, $p_2$, $p_3$, $p_4$, $p_5$ as above, such that \n",
    "$\\delta_1(p_1, p_2, p_4)$, $\\bar{\\delta}_1(p_1, p_2, p_3)$ and $\\bar{\\delta}_1(p_1, p_4, p_5)$ are $0$"
   ]
  },
  {
   "cell_type": "markdown",
   "id": "44080d79-b388-49fc-b8d7-8e821e33de6e",
   "metadata": {},
   "source": [
    "The matrix $\\Phi(p_1, p_2, p_3, p_4, p_5)$ has rank 8. "
   ]
  },
  {
   "cell_type": "code",
   "execution_count": 73,
   "id": "7637e668-8628-4ee5-a8b7-64d36071201f",
   "metadata": {},
   "outputs": [],
   "source": [
    "M = condition_matrix([p1, p2, p3, p4, p5], S, standard=\"all\")\n",
    "assert(M.rank() == 8)"
   ]
  },
  {
   "cell_type": "markdown",
   "id": "24e0f405-ae67-480e-ac0e-442e85e9c910",
   "metadata": {},
   "source": [
    "We select 8 linearly independent rows: "
   ]
  },
  {
   "cell_type": "code",
   "execution_count": 74,
   "id": "f2e03470-7284-4ff5-9e9a-f62574fd5515",
   "metadata": {},
   "outputs": [],
   "source": [
    "mm = M.matrix_from_rows([0, 1, 3, 4, 6, 7, 9, 10])"
   ]
  },
  {
   "cell_type": "code",
   "execution_count": 75,
   "id": "70bbc257-a8fe-41e6-88ff-83d411c7609c",
   "metadata": {},
   "outputs": [],
   "source": [
    "# in general, mm has rank 8\n",
    "assert(mm.rank() == 8)  "
   ]
  },
  {
   "cell_type": "code",
   "execution_count": 76,
   "id": "a350139d-da73-459a-85d5-3fd61920d546",
   "metadata": {},
   "outputs": [],
   "source": [
    "# let us see when it is not 8:\n",
    "hj = S.ideal(mm.minors(8))"
   ]
  },
  {
   "cell_type": "code",
   "execution_count": 77,
   "id": "34287e56-3e35-481e-8a67-7ff5e38549e8",
   "metadata": {},
   "outputs": [],
   "source": [
    "hj = hj.saturation(S.ideal(matrix([p1, p2]).minors(2)))[0]\n",
    "hj = hj.saturation(S.ideal(matrix([p1, p3]).minors(2)))[0]\n",
    "hj = hj.saturation(S.ideal(matrix([p1, p4]).minors(2)))[0]\n",
    "hj = hj.saturation(S.ideal(matrix([p1, p5]).minors(2)))[0]\n",
    "hj = hj.saturation(S.ideal(matrix([p2, p3]).minors(2)))[0]"
   ]
  },
  {
   "cell_type": "markdown",
   "id": "5e5afa88-9f4b-4d37-bed9-5ccd340ab8e9",
   "metadata": {},
   "source": [
    "hj is (1), so mm has always rank 8."
   ]
  },
  {
   "cell_type": "code",
   "execution_count": 82,
   "id": "e60817ed-86ff-4348-96c6-08fb535732d4",
   "metadata": {},
   "outputs": [],
   "source": [
    "assert(hj == S.ideal(S.one()))"
   ]
  },
  {
   "cell_type": "markdown",
   "id": "997bd48b-1538-44bf-b799-f9e314d1bc4f",
   "metadata": {},
   "source": [
    "Hence the order 8 minor mm has always rank 8.\n",
    "As above, we construct mmA_1 and mmB_1.\n",
    "The construction is the same as above."
   ]
  },
  {
   "cell_type": "code",
   "execution_count": 83,
   "id": "29ede0b4-59ba-4ad0-b705-7975fd9c724a",
   "metadata": {},
   "outputs": [],
   "source": [
    "mmA_1 = mm.stack(matrix([1, 2, 5, 6, 0, 2, 3, 4, 9, 11]))\n",
    "mmB_1 = mm.stack(matrix([-1, 3, 6, 5, 0, 1, 3, 7, 9, -5]))"
   ]
  },
  {
   "cell_type": "markdown",
   "id": "732c8a04-452b-4420-82c2-433fc5a69394",
   "metadata": {},
   "source": [
    "These two matrices have rank 9"
   ]
  },
  {
   "cell_type": "code",
   "execution_count": 84,
   "id": "1c37d8b2-8171-4490-9470-8cf802ab8e5a",
   "metadata": {},
   "outputs": [],
   "source": [
    "assert(mmA_1.rank() == 9)\n",
    "assert(mmB_1.rank() == 9)"
   ]
  },
  {
   "cell_type": "code",
   "execution_count": 87,
   "id": "0d443d1e-70b3-4b41-9f16-0bc5486b6b4d",
   "metadata": {},
   "outputs": [],
   "source": [
    "GA3_1 = mmA_1.stack(matrix([phi((x, y, z), S)[2]])).det()\n",
    "GB3_1 = mmB_1.stack(matrix([phi((x, y, z), S)[2]])).det()"
   ]
  },
  {
   "cell_type": "code",
   "execution_count": 88,
   "id": "8ba01a33-7e9a-4357-992f-6568475c0817",
   "metadata": {},
   "outputs": [],
   "source": [
    "rr3_1 = list(\n",
    "    filter(\n",
    "        lambda uu: w1 in uu[0].variables(),\n",
    "        list(factor(w1*GA3_1+w2*GB3_1))\n",
    "    )\n",
    ")[0][0]\n",
    "\n",
    "hh1 = rr3_1.subs({x:1, y:0, z:0})"
   ]
  },
  {
   "cell_type": "code",
   "execution_count": 91,
   "id": "cacf132d-e636-457f-bbd5-14fe543a63ff",
   "metadata": {},
   "outputs": [],
   "source": [
    "mmA_2 = mm.stack(matrix([1, -5, 1, 2, 0, 1, -2, 1, 3, 7]))\n",
    "mmB_2 = mm.stack(matrix([-1, -1, 0, 4, 0, 1, 0, 1, 0, -5]))\n",
    "\n",
    "GA3_2 = mmA_2.stack(matrix([phi((x, y, z), S)[2]])).det()\n",
    "GB3_2 = mmB_2.stack(matrix([phi((x, y, z), S)[2]])).det()\n",
    "\n",
    "rr3_2 = list(\n",
    "    filter(\n",
    "        lambda uu: w1 in uu[0].variables(),\n",
    "        list(factor(w1*GA3_2+w2*GB3_2))\n",
    "    )\n",
    ")[0][0]"
   ]
  },
  {
   "cell_type": "markdown",
   "id": "af34fa37-00cb-40e2-a4f7-25196cd1d478",
   "metadata": {},
   "source": [
    "If $p_1$, $p_6$, $p_7$ are aligned, also the following polynomial must be zero"
   ]
  },
  {
   "cell_type": "code",
   "execution_count": 92,
   "id": "5f3f4cdd-986f-4df4-bd9e-40c321f66f1a",
   "metadata": {},
   "outputs": [],
   "source": [
    "hh2 = rr3_2.subs({x:1, y:0, z:0})"
   ]
  },
  {
   "cell_type": "code",
   "execution_count": 93,
   "id": "22e55d25-9b0d-4037-a273-a871c34eb69a",
   "metadata": {},
   "outputs": [],
   "source": [
    "r3_1 = (w1*GA3_1+w2*GB3_1).subs(\n",
    "    {\n",
    "        w1: hh1.coefficient(w2),\n",
    "        w2: -hh1.coefficient(w1)\n",
    "    }\n",
    ").factor()[-1][0]\n",
    "\n",
    "r3_2 = (w1*GA3_2+w2*GB3_2).subs(\n",
    "    {\n",
    "        w1: hh2.coefficient(w2),\n",
    "        w2: -hh2.coefficient(w1)\n",
    "    }\n",
    ").factor()[-1][0]"
   ]
  },
  {
   "cell_type": "markdown",
   "id": "2644d209-2183-4967-8f71-c4815ff51f96",
   "metadata": {},
   "source": [
    "(i.e. r3_1 and r3_2 are the line passing through p1, p6, p7.\n",
    "They should be equal, because they should not depend of the \n",
    "two points of the line L chosen. Indeed, they are equal:"
   ]
  },
  {
   "cell_type": "code",
   "execution_count": 96,
   "id": "204eed65-d7ee-47a3-93ae-bfcdff67c537",
   "metadata": {},
   "outputs": [],
   "source": [
    "assert(r3_1 == r3_2)"
   ]
  },
  {
   "cell_type": "code",
   "execution_count": 97,
   "id": "31cae84c-b4e7-4123-8c41-a0b025a63945",
   "metadata": {},
   "outputs": [],
   "source": [
    "HH = [hh1, hh2]\n",
    "JJ = S.ideal([hh.coefficient(w1) for hh in HH]+[hh.coefficient(w2) for hh in HH])"
   ]
  },
  {
   "cell_type": "code",
   "execution_count": 98,
   "id": "74084479-13c6-40ac-ab64-e08d222b2eef",
   "metadata": {},
   "outputs": [],
   "source": [
    "JJ = JJ.saturation(S.ideal(matrix([p1, p2]).minors(2)))[0]\n",
    "JJ = JJ.saturation(S.ideal(matrix([p1, p3]).minors(2)))[0]\n",
    "JJ = JJ.saturation(S.ideal(matrix([p1, p4]).minors(2)))[0]"
   ]
  },
  {
   "cell_type": "code",
   "execution_count": 100,
   "id": "cdf5c728-d9ef-46d3-87fc-9c38d4287f8e",
   "metadata": {},
   "outputs": [],
   "source": [
    "assert(JJ == S.ideal(S.one()))"
   ]
  },
  {
   "cell_type": "markdown",
   "id": "a9885ecb-4d5e-4c3c-9c2d-2172a4c41c4e",
   "metadata": {},
   "source": [
    "This computation shows that there are no exceptions to consider. "
   ]
  },
  {
   "cell_type": "code",
   "execution_count": null,
   "id": "0b85659a-54ef-4bbb-9009-5f9473f8b628",
   "metadata": {},
   "outputs": [],
   "source": [
    "MM_1 = (w1*mmA_1+w2*mmB_1).subs(\n",
    "    {\n",
    "        w1: hh1.coefficient(w2),\n",
    "        w2: -hh1.coefficient(w1)\n",
    "    }\n",
    ")\n",
    "\n",
    "Mcb1 = MM_1.stack(vector(S, mon))\n",
    "\n",
    "MM_2 = (w1*mmA_2+w2*mmB_2).subs(\n",
    "    {\n",
    "        w1: hh2.coefficient(w2),\n",
    "        w2: -hh2.coefficient(w1)\n",
    "    }\n",
    ")\n",
    "\n",
    "Mcb2 = MM_2.stack(vector(S, mon))"
   ]
  },
  {
   "cell_type": "markdown",
   "id": "22787612-9cdb-48f3-bdb8-c9de4ca46e68",
   "metadata": {},
   "source": [
    "The cubic is the determinant of Mcb1 (or of Mcb2).\n",
    "one possibility is the following computation (not long)"
   ]
  },
  {
   "cell_type": "code",
   "execution_count": 101,
   "id": "f11e6c2d-68a9-4199-b951-8f60f7ad3d37",
   "metadata": {},
   "outputs": [
    {
     "ename": "KeyboardInterrupt",
     "evalue": "",
     "output_type": "error",
     "traceback": [
      "\u001b[1;31m---------------------------------------------------------------------------\u001b[0m",
      "\u001b[1;31mKeyboardInterrupt\u001b[0m                         Traceback (most recent call last)",
      "Cell \u001b[1;32mIn[101], line 1\u001b[0m\n\u001b[1;32m----> 1\u001b[0m cb1 \u001b[38;5;241m=\u001b[39m \u001b[43mMcb1\u001b[49m\u001b[38;5;241;43m.\u001b[39;49m\u001b[43mdet\u001b[49m\u001b[43m(\u001b[49m\u001b[43m)\u001b[49m\u001b[38;5;241m.\u001b[39mfactor()[\u001b[38;5;241m-\u001b[39mInteger(\u001b[38;5;241m1\u001b[39m)][Integer(\u001b[38;5;241m0\u001b[39m)]\n\u001b[0;32m      2\u001b[0m cb2 \u001b[38;5;241m=\u001b[39m Mcb2\u001b[38;5;241m.\u001b[39mdet()\u001b[38;5;241m.\u001b[39mfactor()[\u001b[38;5;241m-\u001b[39mInteger(\u001b[38;5;241m1\u001b[39m)][Integer(\u001b[38;5;241m0\u001b[39m)]\n",
      "File \u001b[1;32m~/miniforge3/lib/python3.9/site-packages/sage/matrix/matrix2.pyx:1984\u001b[0m, in \u001b[0;36msage.matrix.matrix2.Matrix.det (build/cythonized/sage/matrix/matrix2.c:23316)\u001b[1;34m()\u001b[0m\n\u001b[0;32m   1982\u001b[0m         6\n\u001b[0;32m   1983\u001b[0m     \"\"\"\n\u001b[1;32m-> 1984\u001b[0m     return self.determinant(*args, **kwds)\n\u001b[0;32m   1985\u001b[0m \n\u001b[0;32m   1986\u001b[0m def determinant(self, algorithm=None):\n",
      "File \u001b[1;32m~/miniforge3/lib/python3.9/site-packages/sage/matrix/matrix_mpolynomial_dense.pyx:610\u001b[0m, in \u001b[0;36msage.matrix.matrix_mpolynomial_dense.Matrix_mpolynomial_dense.determinant (build/cythonized/sage/matrix/matrix_mpolynomial_dense.cpp:12320)\u001b[1;34m()\u001b[0m\n\u001b[0;32m    608\u001b[0m if isinstance(R, MPolynomialRing_libsingular) and R.base_ring().is_field():\n\u001b[0;32m    609\u001b[0m     singular_det = singular_function(\"det\")\n\u001b[1;32m--> 610\u001b[0m     d = singular_det(self)\n\u001b[0;32m    611\u001b[0m \n\u001b[0;32m    612\u001b[0m elif can_convert_to_singular(self.base_ring()):\n",
      "File \u001b[1;32m~/miniforge3/lib/python3.9/site-packages/sage/libs/singular/function.pyx:1298\u001b[0m, in \u001b[0;36msage.libs.singular.function.SingularFunction.__call__ (build/cythonized/sage/libs/singular/function.cpp:21339)\u001b[1;34m()\u001b[0m\n\u001b[0;32m   1296\u001b[0m     if not (isinstance(ring, MPolynomialRing_libsingular) or isinstance(ring, NCPolynomialRing_plural)):\n\u001b[0;32m   1297\u001b[0m         raise TypeError(\"cannot call Singular function '%s' with ring parameter of type '%s'\" % (self._name,type(ring)))\n\u001b[1;32m-> 1298\u001b[0m     return call_function(self, args, ring, interruptible, attributes)\n\u001b[0;32m   1299\u001b[0m \n\u001b[0;32m   1300\u001b[0m def _instancedoc_(self):\n",
      "File \u001b[1;32m~/miniforge3/lib/python3.9/site-packages/sage/libs/singular/function.pyx:1477\u001b[0m, in \u001b[0;36msage.libs.singular.function.call_function (build/cythonized/sage/libs/singular/function.cpp:23326)\u001b[1;34m()\u001b[0m\n\u001b[0;32m   1475\u001b[0m     error_messages.pop()\n\u001b[0;32m   1476\u001b[0m \n\u001b[1;32m-> 1477\u001b[0m with opt_ctx: # we are preserving the global options state here\n\u001b[0;32m   1478\u001b[0m     if signal_handler:\n\u001b[0;32m   1479\u001b[0m         sig_on()\n",
      "File \u001b[1;32m~/miniforge3/lib/python3.9/site-packages/sage/libs/singular/function.pyx:1479\u001b[0m, in \u001b[0;36msage.libs.singular.function.call_function (build/cythonized/sage/libs/singular/function.cpp:23238)\u001b[1;34m()\u001b[0m\n\u001b[0;32m   1477\u001b[0m with opt_ctx: # we are preserving the global options state here\n\u001b[0;32m   1478\u001b[0m     if signal_handler:\n\u001b[1;32m-> 1479\u001b[0m         sig_on()\n\u001b[0;32m   1480\u001b[0m         _res = self.call_handler.handle_call(argument_list, si_ring)\n\u001b[0;32m   1481\u001b[0m         sig_off()\n",
      "\u001b[1;31mKeyboardInterrupt\u001b[0m: "
     ]
    }
   ],
   "source": [
    "cb1 = Mcb1.det().factor()[-1][0]\n",
    "cb2 = Mcb2.det().factor()[-1][0]"
   ]
  },
  {
   "cell_type": "code",
   "execution_count": 102,
   "id": "445e3546-ce9f-49d6-9eb1-a2884a1afbdd",
   "metadata": {},
   "outputs": [],
   "source": [
    "# here is an alternative:\n",
    "Ms = []\n",
    "for i in range(10):\n",
    "    gd = gcd([Mcb1[i,j] for j in range(10)])\n",
    "    Ms.append([Mcb1[i,j].quo_rem(gd)[0] for j in range(10)])\n",
    "\n",
    "cb_alt = matrix(Ms).det().factor()[-1][0]"
   ]
  },
  {
   "cell_type": "markdown",
   "id": "3ef1bbb4-533b-4c26-a0d4-d660162b630a",
   "metadata": {},
   "source": [
    "We have:\n",
    "cb1 = cb2 and cb2 = cb_alt:"
   ]
  },
  {
   "cell_type": "code",
   "execution_count": 103,
   "id": "8199c554-ad68-4169-84cf-e6f36d91f1af",
   "metadata": {},
   "outputs": [
    {
     "ename": "NameError",
     "evalue": "name 'cb1' is not defined",
     "output_type": "error",
     "traceback": [
      "\u001b[1;31m---------------------------------------------------------------------------\u001b[0m",
      "\u001b[1;31mNameError\u001b[0m                                 Traceback (most recent call last)",
      "Cell \u001b[1;32mIn[103], line 1\u001b[0m\n\u001b[1;32m----> 1\u001b[0m \u001b[38;5;28;01massert\u001b[39;00m(\u001b[43mcb1\u001b[49m \u001b[38;5;241m==\u001b[39m cb2)\n\u001b[0;32m      2\u001b[0m \u001b[38;5;28;01massert\u001b[39;00m(cb1 \u001b[38;5;241m==\u001b[39m cb_alt)\n",
      "\u001b[1;31mNameError\u001b[0m: name 'cb1' is not defined"
     ]
    }
   ],
   "source": [
    "assert(cb1 == cb2)\n",
    "assert(cb1 == cb_alt)"
   ]
  },
  {
   "cell_type": "markdown",
   "id": "9d4f4271-3a1e-44fa-870e-8f303107ad42",
   "metadata": {},
   "source": [
    "The following example shows that in general there are only the \n",
    "collinearities (1, 2, 3), (1, 4, 5), (1, 6, 7)"
   ]
  },
  {
   "cell_type": "code",
   "execution_count": null,
   "id": "e60d98bc-c2ff-499c-8064-0e9818fffa27",
   "metadata": {},
   "outputs": [],
   "source": [
    "ccb = cb_alt.subs({A2:5, B2:-3, A4:2, C4:-7})\n",
    "pp1 = p1.subs({A2:5, B2:-3, A4:2, C4:-7})\n",
    "pp2 = p2.subs({A2:5, B2:-3, A4:2, C4:-7})\n",
    "pp3 = p3.subs({A2:5, B2:-3, A4:2, C4:-7})\n",
    "pp4 = p4.subs({A2:5, B2:-3, A4:2, C4:-7})\n",
    "pp5 = p5.subs({A2:5, B2:-3, A4:2, C4:-7})"
   ]
  },
  {
   "cell_type": "markdown",
   "id": "a912f362-7164-4366-9ab9-4bdc27f07439",
   "metadata": {},
   "source": [
    "HERE WE CONCLUDE THE FIRST PART OF THE COMPUTATION:\n",
    "\n",
    "In case $C_2 = 0$, \n",
    "IT IS POSSIBLE TO HAVE THREE ALIGNMENTS: (1, 2, 3), (1, 4, 5), (1, 6, 7)"
   ]
  },
  {
   "cell_type": "markdown",
   "id": "db89ff00-2730-414c-b783-0da4d27309df",
   "metadata": {},
   "source": [
    "Now we want to see if it is possible to have more then three alignments\n",
    "(We continue to assume $C2 = 0$)\n",
    "\n",
    "Recall that cb_alt is our cubic.\n",
    "\n",
    "Recall that r3_1 (= r3_2) is the line through $p_6$ and $p_7$.\n",
    "\n",
    "Up to a permutation of the indices of the points, if there is another \n",
    "alignment among the eigenpoints, $p_6$ must be on the line $p_2 \\vee p_4$. \n",
    "Hence we can find it, since is the intersection of $p_2 \\vee p_4$ and r3."
   ]
  },
  {
   "cell_type": "code",
   "execution_count": 106,
   "id": "929c249d-46e7-4abf-9681-c58d35895a0a",
   "metadata": {},
   "outputs": [],
   "source": [
    "r24 = det(matrix([p2, p4, (x, y, z)]))"
   ]
  },
  {
   "cell_type": "code",
   "execution_count": 107,
   "id": "42bd83d3-7098-451f-a0cc-512f88b981c4",
   "metadata": {},
   "outputs": [],
   "source": [
    "E1 = matrix(\n",
    "    [\n",
    "        [r3_1.coefficient(xx) for xx in [x, y, z]],\n",
    "        [r24.coefficient(xx) for xx in [x, y, z]]\n",
    "    ]\n",
    ").minors(2)"
   ]
  },
  {
   "cell_type": "code",
   "execution_count": 108,
   "id": "680ca500-0377-4ee1-a247-fe9b3ea8fd30",
   "metadata": {},
   "outputs": [],
   "source": [
    "p6 = vector(S, (E1[2], -E1[1], E1[0]))"
   ]
  },
  {
   "cell_type": "code",
   "execution_count": 109,
   "id": "f42cd993-d43a-4b77-9f18-4c3ad14b584c",
   "metadata": {},
   "outputs": [],
   "source": [
    "kJ = S.ideal(\n",
    "    matrix(\n",
    "        [\n",
    "            [x, y, z],\n",
    "            [cb_alt.derivative(x), cb_alt.derivative(y), cb_alt.derivative(z)]\n",
    "        ]\n",
    "    ).minors(2)\n",
    ")"
   ]
  },
  {
   "cell_type": "code",
   "execution_count": 111,
   "id": "4e082464-223a-4627-b69f-494919b75ff7",
   "metadata": {
    "scrolled": true
   },
   "outputs": [
    {
     "name": "stdout",
     "output_type": "stream",
     "text": [
      "// ** `sat_with_exp` in use, can not be killed\n",
      "// ** redefining id (parameter def id; parameter ideal j;  ) elim.lib::sat_with_exp:745\n",
      "// ** redefining j (parameter def id; parameter ideal j;  ) elim.lib::sat_with_exp:745\n",
      "// ** redefining ii (   int ii,kk;) elim.lib::sat_with_exp:746\n",
      "// ** redefining kk (   int ii,kk;) elim.lib::sat_with_exp:746\n",
      "// ** redefining i (   def i=id;) elim.lib::sat_with_exp:747\n",
      "// ** redefining p (   int p = printlevel-voice+2;  // p=printlevel (default: p=0)) elim.lib::sat_with_exp:749\n"
     ]
    },
    {
     "ename": "KeyboardInterrupt",
     "evalue": "",
     "output_type": "error",
     "traceback": [
      "\u001b[1;31m---------------------------------------------------------------------------\u001b[0m",
      "\u001b[1;31mKeyboardInterrupt\u001b[0m                         Traceback (most recent call last)",
      "Cell \u001b[1;32mIn[111], line 6\u001b[0m\n\u001b[0;32m      4\u001b[0m kJ \u001b[38;5;241m=\u001b[39m kJ\u001b[38;5;241m.\u001b[39msaturation(S\u001b[38;5;241m.\u001b[39mideal(p4[Integer(\u001b[38;5;241m0\u001b[39m)]\u001b[38;5;241m*\u001b[39my\u001b[38;5;241m-\u001b[39mp4[Integer(\u001b[38;5;241m1\u001b[39m)]\u001b[38;5;241m*\u001b[39mx, p4[Integer(\u001b[38;5;241m0\u001b[39m)]\u001b[38;5;241m*\u001b[39mz\u001b[38;5;241m-\u001b[39mp4[Integer(\u001b[38;5;241m2\u001b[39m)]\u001b[38;5;241m*\u001b[39mx, p4[Integer(\u001b[38;5;241m1\u001b[39m)]\u001b[38;5;241m*\u001b[39mz\u001b[38;5;241m-\u001b[39mp4[Integer(\u001b[38;5;241m2\u001b[39m)]\u001b[38;5;241m*\u001b[39my))[Integer(\u001b[38;5;241m0\u001b[39m)] \u001b[38;5;66;03m## p4\u001b[39;00m\n\u001b[0;32m      5\u001b[0m kJ \u001b[38;5;241m=\u001b[39m kJ\u001b[38;5;241m.\u001b[39msaturation(S\u001b[38;5;241m.\u001b[39mideal(p5[Integer(\u001b[38;5;241m0\u001b[39m)]\u001b[38;5;241m*\u001b[39my\u001b[38;5;241m-\u001b[39mp5[Integer(\u001b[38;5;241m1\u001b[39m)]\u001b[38;5;241m*\u001b[39mx, p5[Integer(\u001b[38;5;241m0\u001b[39m)]\u001b[38;5;241m*\u001b[39mz\u001b[38;5;241m-\u001b[39mp5[Integer(\u001b[38;5;241m2\u001b[39m)]\u001b[38;5;241m*\u001b[39mx, p5[Integer(\u001b[38;5;241m1\u001b[39m)]\u001b[38;5;241m*\u001b[39mz\u001b[38;5;241m-\u001b[39mp5[Integer(\u001b[38;5;241m2\u001b[39m)]\u001b[38;5;241m*\u001b[39my))[Integer(\u001b[38;5;241m0\u001b[39m)] \u001b[38;5;66;03m## p5\u001b[39;00m\n\u001b[1;32m----> 6\u001b[0m kJ \u001b[38;5;241m=\u001b[39m \u001b[43mkJ\u001b[49m\u001b[38;5;241;43m.\u001b[39;49m\u001b[43msaturation\u001b[49m\u001b[43m(\u001b[49m\u001b[43mS\u001b[49m\u001b[38;5;241;43m.\u001b[39;49m\u001b[43mideal\u001b[49m\u001b[43m(\u001b[49m\u001b[43mmatrix\u001b[49m\u001b[43m(\u001b[49m\u001b[43m[\u001b[49m\u001b[43mp1\u001b[49m\u001b[43m,\u001b[49m\u001b[43m \u001b[49m\u001b[43mp2\u001b[49m\u001b[43m]\u001b[49m\u001b[43m)\u001b[49m\u001b[38;5;241;43m.\u001b[39;49m\u001b[43mminors\u001b[49m\u001b[43m(\u001b[49m\u001b[43mInteger\u001b[49m\u001b[43m(\u001b[49m\u001b[38;5;241;43m2\u001b[39;49m\u001b[43m)\u001b[49m\u001b[43m)\u001b[49m\u001b[43m)\u001b[49m\u001b[43m)\u001b[49m[Integer(\u001b[38;5;241m0\u001b[39m)]\n\u001b[0;32m      7\u001b[0m kJ \u001b[38;5;241m=\u001b[39m kJ\u001b[38;5;241m.\u001b[39msaturation(S\u001b[38;5;241m.\u001b[39mideal(matrix([p1, p3])\u001b[38;5;241m.\u001b[39mminors(Integer(\u001b[38;5;241m2\u001b[39m))))[Integer(\u001b[38;5;241m0\u001b[39m)]\n\u001b[0;32m      8\u001b[0m kJ \u001b[38;5;241m=\u001b[39m kJ\u001b[38;5;241m.\u001b[39msaturation(S\u001b[38;5;241m.\u001b[39mideal(matrix([p1, p4])\u001b[38;5;241m.\u001b[39mminors(Integer(\u001b[38;5;241m2\u001b[39m))))[Integer(\u001b[38;5;241m0\u001b[39m)]\n",
      "File \u001b[1;32m~/miniforge3/lib/python3.9/site-packages/sage/rings/qqbar_decorators.py:96\u001b[0m, in \u001b[0;36mhandle_AA_and_QQbar.<locals>.wrapper\u001b[1;34m(*args, **kwds)\u001b[0m\n\u001b[0;32m     90\u001b[0m \u001b[38;5;28;01mfrom\u001b[39;00m \u001b[38;5;21;01msage\u001b[39;00m\u001b[38;5;21;01m.\u001b[39;00m\u001b[38;5;21;01mrings\u001b[39;00m\u001b[38;5;21;01m.\u001b[39;00m\u001b[38;5;21;01mabc\u001b[39;00m \u001b[38;5;28;01mimport\u001b[39;00m AlgebraicField_common\n\u001b[0;32m     92\u001b[0m \u001b[38;5;28;01mif\u001b[39;00m \u001b[38;5;129;01mnot\u001b[39;00m \u001b[38;5;28many\u001b[39m(\u001b[38;5;28misinstance\u001b[39m(a, (Polynomial, MPolynomial, Ideal_generic))\n\u001b[0;32m     93\u001b[0m            \u001b[38;5;129;01mand\u001b[39;00m \u001b[38;5;28misinstance\u001b[39m(a\u001b[38;5;241m.\u001b[39mbase_ring(), AlgebraicField_common)\n\u001b[0;32m     94\u001b[0m            \u001b[38;5;129;01mor\u001b[39;00m is_PolynomialSequence(a)\n\u001b[0;32m     95\u001b[0m            \u001b[38;5;129;01mand\u001b[39;00m \u001b[38;5;28misinstance\u001b[39m(a\u001b[38;5;241m.\u001b[39mring()\u001b[38;5;241m.\u001b[39mbase_ring(), AlgebraicField_common) \u001b[38;5;28;01mfor\u001b[39;00m a \u001b[38;5;129;01min\u001b[39;00m args):\n\u001b[1;32m---> 96\u001b[0m     \u001b[38;5;28;01mreturn\u001b[39;00m \u001b[43mfunc\u001b[49m\u001b[43m(\u001b[49m\u001b[38;5;241;43m*\u001b[39;49m\u001b[43margs\u001b[49m\u001b[43m,\u001b[49m\u001b[43m \u001b[49m\u001b[38;5;241;43m*\u001b[39;49m\u001b[38;5;241;43m*\u001b[39;49m\u001b[43mkwds\u001b[49m\u001b[43m)\u001b[49m\n\u001b[0;32m     98\u001b[0m polynomials \u001b[38;5;241m=\u001b[39m []\n\u001b[0;32m    100\u001b[0m \u001b[38;5;28;01mfor\u001b[39;00m a \u001b[38;5;129;01min\u001b[39;00m flatten(args, ltypes\u001b[38;5;241m=\u001b[39m(\u001b[38;5;28mlist\u001b[39m, \u001b[38;5;28mtuple\u001b[39m, \u001b[38;5;28mset\u001b[39m)):\n",
      "File \u001b[1;32m~/miniforge3/lib/python3.9/site-packages/sage/rings/polynomial/multi_polynomial_ideal.py:2477\u001b[0m, in \u001b[0;36mMPolynomialIdeal_singular_repr.saturation\u001b[1;34m(self, other)\u001b[0m\n\u001b[0;32m   2475\u001b[0m     sat \u001b[38;5;241m=\u001b[39m ff\u001b[38;5;241m.\u001b[39melim__lib\u001b[38;5;241m.\u001b[39msat\n\u001b[0;32m   2476\u001b[0m R \u001b[38;5;241m=\u001b[39m \u001b[38;5;28mself\u001b[39m\u001b[38;5;241m.\u001b[39mring()\n\u001b[1;32m-> 2477\u001b[0m ideal, expo \u001b[38;5;241m=\u001b[39m \u001b[43msat\u001b[49m\u001b[43m(\u001b[49m\u001b[38;5;28;43mself\u001b[39;49m\u001b[43m,\u001b[49m\u001b[43m \u001b[49m\u001b[43mother\u001b[49m\u001b[43m)\u001b[49m\n\u001b[0;32m   2478\u001b[0m \u001b[38;5;28;01mreturn\u001b[39;00m (R\u001b[38;5;241m.\u001b[39mideal(ideal), ZZ(expo))\n",
      "File \u001b[1;32m~/miniforge3/lib/python3.9/site-packages/sage/libs/singular/function.pyx:1298\u001b[0m, in \u001b[0;36msage.libs.singular.function.SingularFunction.__call__ (build/cythonized/sage/libs/singular/function.cpp:21339)\u001b[1;34m()\u001b[0m\n\u001b[0;32m   1296\u001b[0m     if not (isinstance(ring, MPolynomialRing_libsingular) or isinstance(ring, NCPolynomialRing_plural)):\n\u001b[0;32m   1297\u001b[0m         raise TypeError(\"cannot call Singular function '%s' with ring parameter of type '%s'\" % (self._name,type(ring)))\n\u001b[1;32m-> 1298\u001b[0m     return call_function(self, args, ring, interruptible, attributes)\n\u001b[0;32m   1299\u001b[0m \n\u001b[0;32m   1300\u001b[0m def _instancedoc_(self):\n",
      "File \u001b[1;32m~/miniforge3/lib/python3.9/site-packages/sage/libs/singular/function.pyx:1477\u001b[0m, in \u001b[0;36msage.libs.singular.function.call_function (build/cythonized/sage/libs/singular/function.cpp:23326)\u001b[1;34m()\u001b[0m\n\u001b[0;32m   1475\u001b[0m     error_messages.pop()\n\u001b[0;32m   1476\u001b[0m \n\u001b[1;32m-> 1477\u001b[0m with opt_ctx: # we are preserving the global options state here\n\u001b[0;32m   1478\u001b[0m     if signal_handler:\n\u001b[0;32m   1479\u001b[0m         sig_on()\n",
      "File \u001b[1;32m~/miniforge3/lib/python3.9/site-packages/sage/libs/singular/function.pyx:1479\u001b[0m, in \u001b[0;36msage.libs.singular.function.call_function (build/cythonized/sage/libs/singular/function.cpp:23238)\u001b[1;34m()\u001b[0m\n\u001b[0;32m   1477\u001b[0m with opt_ctx: # we are preserving the global options state here\n\u001b[0;32m   1478\u001b[0m     if signal_handler:\n\u001b[1;32m-> 1479\u001b[0m         sig_on()\n\u001b[0;32m   1480\u001b[0m         _res = self.call_handler.handle_call(argument_list, si_ring)\n\u001b[0;32m   1481\u001b[0m         sig_off()\n",
      "\u001b[1;31mKeyboardInterrupt\u001b[0m: "
     ]
    }
   ],
   "source": [
    "kJ = kJ.saturation(S.ideal(z, y))[0]  ##p1\n",
    "kJ = kJ.saturation(S.ideal(p2[0]*y-p2[1]*x, p2[0]*z-p2[2]*x, p2[1]*z-p2[2]*y))[0] ## p2\n",
    "kJ = kJ.saturation(S.ideal(p3[0]*y-p3[1]*x, p3[0]*z-p3[2]*x, p3[1]*z-p3[2]*y))[0] ## p3\n",
    "kJ = kJ.saturation(S.ideal(p4[0]*y-p4[1]*x, p4[0]*z-p4[2]*x, p4[1]*z-p4[2]*y))[0] ## p4\n",
    "kJ = kJ.saturation(S.ideal(p5[0]*y-p5[1]*x, p5[0]*z-p5[2]*x, p5[1]*z-p5[2]*y))[0] ## p5\n",
    "kJ = kJ.saturation(S.ideal(matrix([p1, p2]).minors(2)))[0]\n",
    "kJ = kJ.saturation(S.ideal(matrix([p1, p3]).minors(2)))[0]\n",
    "kJ = kJ.saturation(S.ideal(matrix([p1, p4]).minors(2)))[0]\n",
    "kJ = kJ.saturation(S.ideal(matrix([p1, p5]).minors(2)))[0]"
   ]
  },
  {
   "cell_type": "markdown",
   "id": "580fc0b7-9919-47b8-b339-86a63cb3b7ac",
   "metadata": {},
   "source": [
    "after these computations, kJ is the ideal of the two reminining eigenpoints.\n",
    "we want that p1 defined above is an eigenpoint, so the ideal kkJ \n",
    "here defined must be zero:"
   ]
  },
  {
   "cell_type": "code",
   "execution_count": null,
   "id": "bb94c42c-5f09-4755-b74e-6d371eb15737",
   "metadata": {},
   "outputs": [],
   "source": [
    "kkJ = kJ.subs({x:p6[0], y:p6[1], z:p6[2]}).radical()"
   ]
  },
  {
   "cell_type": "markdown",
   "id": "f464a1df-9bbf-458d-85df-0bafb8ba0ddc",
   "metadata": {},
   "source": [
    "We saturate kkJ"
   ]
  },
  {
   "cell_type": "code",
   "execution_count": null,
   "id": "bb2a1900-a3a3-4eb0-aa9a-f07ea0190244",
   "metadata": {},
   "outputs": [],
   "source": [
    "kkJ = kkJ.saturation(S.ideal(matrix([p1, p3]).minors(2)))[0]\n",
    "kkJ = kkJ.saturation(S.ideal(matrix([p1, p4]).minors(2)))[0]\n",
    "kkJ = kkJ.saturation(S.ideal(matrix([p1, p5]).minors(2)))[0]\n",
    "kkJ = kkJ.saturation(S.ideal(matrix([p3, p5]).minors(2)))[0]\n",
    "kkJ = kkJ.saturation(S.ideal(matrix([p2, p6]).minors(2)))[0]\n",
    "kkJ = kkJ.saturation(S.ideal(matrix([p4, p6]).minors(2)))[0]"
   ]
  },
  {
   "cell_type": "markdown",
   "id": "15967645-3122-4a10-8e9a-95535fbf59c3",
   "metadata": {},
   "source": [
    "kkJ is (1), so there are no solutions:"
   ]
  },
  {
   "cell_type": "code",
   "execution_count": null,
   "id": "f37d1dc9-9304-48a0-8831-2d87f08f0329",
   "metadata": {},
   "outputs": [],
   "source": [
    "assert(kkJ == S.ideal(1))"
   ]
  },
  {
   "cell_type": "markdown",
   "id": "04e49c37-0069-4a85-97f8-b5c99fffff82",
   "metadata": {},
   "source": [
    "CONCLUSION (for the case $C_2 = 0$) when the three deltas are zero, \n",
    "(hence rank of the matrix of the five points is $8$), we have \n",
    "also $\\delta_2 = 0$ and we have the collinearities $(1, 2, 3)$, $(1, 4, 5)$.\n",
    "We have a sub-case in which there is the further collinearity $(1, 6, 7)$.\n",
    "No other collinearities among the 7 eigenpoints are possible."
   ]
  },
  {
   "cell_type": "code",
   "execution_count": null,
   "id": "60bbfafb-d4ef-41d7-9ddd-0d1e34240bd2",
   "metadata": {},
   "outputs": [],
   "source": []
  }
 ],
 "metadata": {
  "kernelspec": {
   "display_name": "SageMath 10.2",
   "language": "sage",
   "name": "sagemath"
  },
  "language_info": {
   "codemirror_mode": {
    "name": "ipython",
    "version": 3
   },
   "file_extension": ".py",
   "mimetype": "text/x-python",
   "name": "python",
   "nbconvert_exporter": "python",
   "pygments_lexer": "ipython3",
   "version": "3.9.15"
  }
 },
 "nbformat": 4,
 "nbformat_minor": 5
}
