{
 "cells": [
  {
   "cell_type": "markdown",
   "id": "e9ac85a8-ba77-45ad-9855-a8382b0d0261",
   "metadata": {},
   "source": [
    "# Proposition"
   ]
  },
  {
   "cell_type": "markdown",
   "id": "97037b60-eac3-4e9b-92a4-c0ebfecafa4b",
   "metadata": {},
   "source": [
    "Any cubic that has a line $t$ in the eigenscheme is the limit of a family of cubics whose general member has a $0$-dimensional eigenscheme with an aligned triple."
   ]
  },
  {
   "cell_type": "code",
   "execution_count": 1,
   "id": "9df0946b-9606-4201-b267-4b37adcfe0e2",
   "metadata": {},
   "outputs": [],
   "source": [
    "load(\"basic_functions.sage\")"
   ]
  },
  {
   "cell_type": "markdown",
   "id": "b8d03407-ff92-4e35-9476-20a6691f2492",
   "metadata": {},
   "source": [
    "## CASE 1: CUBICS WITH A LINE OF EIGENPOINTS (NOT TANGENT TO THE ISOTROPIC CONIC)\n",
    "## A cubic of the form $r^2l$ is the limit of a family of cubics with three \n",
    "## aligned points (depending on one parameter u1)."
   ]
  },
  {
   "cell_type": "markdown",
   "id": "a47b3c92-8d2c-44e3-b370-78c8fba4176a",
   "metadata": {},
   "source": [
    "We choose three points $P_1$, $P_2$, and $P_3$ aligned on the line $z = 0$"
   ]
  },
  {
   "cell_type": "code",
   "execution_count": 2,
   "id": "50e73bc0-e552-44d7-a8fd-94a21886a80f",
   "metadata": {},
   "outputs": [],
   "source": [
    "P1 = vector(S, (1, 0, 0))\n",
    "P2 = vector(S, (0, 1, 0))\n",
    "P3 = P1 + P2"
   ]
  },
  {
   "cell_type": "markdown",
   "id": "6ca3487d-e520-41a8-a02b-bcdd679dc410",
   "metadata": {},
   "source": [
    "We construct the space of all the cubics that have $P_1$, $P_2$, $P_3$ among the eigenpoints."
   ]
  },
  {
   "cell_type": "code",
   "execution_count": 3,
   "id": "ccf7452d-2d14-4077-9be9-b153cafa09c2",
   "metadata": {},
   "outputs": [],
   "source": [
    "M = condition_matrix([P1, P2, P3], S, standard=\"all\")"
   ]
  },
  {
   "cell_type": "markdown",
   "id": "99f50f5f-d402-468c-b37a-32c8ba6e86ca",
   "metadata": {},
   "source": [
    "We extract $6$ linearly independent rows from $M$:"
   ]
  },
  {
   "cell_type": "code",
   "execution_count": 4,
   "id": "b29cf26f-f620-4144-99ac-ca1ac3af5a8c",
   "metadata": {},
   "outputs": [],
   "source": [
    "M1 = M.matrix_from_rows([0, 1, 3, 5, 6, 7])\n",
    "assert(M1.rank() == 6)"
   ]
  },
  {
   "cell_type": "markdown",
   "id": "dcad6cc5-a96b-4b4c-81a6-c4ef93ceccdc",
   "metadata": {},
   "source": [
    "We construct $4$ cubics that have $P_1$, $P_2$, $P_3$ among the eigenpoints."
   ]
  },
  {
   "cell_type": "code",
   "execution_count": 5,
   "id": "78b6758e-9a42-41fc-b116-8b629d4a42d6",
   "metadata": {},
   "outputs": [],
   "source": [
    "M2 = M1.stack(vector(S, (0, 2, 0, 4, 0, 0, 0, 6, -7, 3)))\n",
    "M2 = M2.stack(vector(S, (1, 1, 0, 2, 0, 0, 0, 8, 5, 3)))\n",
    "M2 = M2.stack(vector(S, (4, 7, 0, 1, 0, 0, 0, 11, -4, 2)))\n",
    "M2 = M2.stack(vector(S, mon))\n",
    "cb1 = M2.det()\n",
    "\n",
    "M2 = M1.stack(vector(S, (4, 1, 0, -2, 0, 0, 0, 3, -1, 5)))\n",
    "M2 = M2.stack(vector(S, (2, -3, 0, 1, 0, 0, 0, 2, 1, 4)))\n",
    "M2 = M2.stack(vector(S, (1, 2, 0, -1, 0, 0, 0, 9, -1, -2)))\n",
    "M2 = M2.stack(vector(S, mon))\n",
    "cb2 = M2.det()\n",
    "\n",
    "M2 = M1.stack(vector(S, (7, 7, 0, 1, 0, 0, 0, 5, -2, -5)))\n",
    "M2 = M2.stack(vector(S, (9, 7, 0, 2, 0, 0, 0, 1, -1, 3)))\n",
    "M2 = M2.stack(vector(S, (5, 3, 0, 8, 0, 0, 0, 1, 11, 3)))\n",
    "M2 = M2.stack(vector(S, mon))\n",
    "cb3 = M2.det()\n",
    "\n",
    "M2 = M1.stack(vector(S, (3, 5, 0, 2, 0, 0, 0, -1, 6, -1)))\n",
    "M2 = M2.stack(vector(S, (2, 3, 0, 11, 0, 0, 0, -1, 1, 2)))\n",
    "M2 = M2.stack(vector(S, (1, 2, 0, 1, 0, 0, 0, -1, 1, 4)))\n",
    "M2 = M2.stack(vector(S, mon))\n",
    "cb4 = M2.det()"
   ]
  },
  {
   "cell_type": "markdown",
   "id": "848d2657-8d06-408e-b801-e091b784a77e",
   "metadata": {},
   "source": [
    "$cb_1$, $cb_2$, $cb_3$, $cb_4$ are linearly independent:"
   ]
  },
  {
   "cell_type": "code",
   "execution_count": 6,
   "id": "ac5dce00-61f1-40a3-9234-e6b2dbf8c9a2",
   "metadata": {},
   "outputs": [],
   "source": [
    "assert(matrix(\n",
    "    [\n",
    "        [cb1.coefficient(mm) for mm in mon],\n",
    "        [cb2.coefficient(mm) for mm in mon],\n",
    "        [cb3.coefficient(mm) for mm in mon],\n",
    "        [cb4.coefficient(mm) for mm in mon]\n",
    "    ]\n",
    ").rank() == 4)"
   ]
  },
  {
   "cell_type": "markdown",
   "id": "8552be71-7736-48c7-9ee0-a54a3fb5e1b4",
   "metadata": {},
   "source": [
    "We use $cb_1$, $cb_2$, $cb_3$, $cb_4$ to construct a simpler basis of the 3-dim space of all the cubics with P1, P2, P3 eigenpoints:"
   ]
  },
  {
   "cell_type": "code",
   "execution_count": 7,
   "id": "edb20a21-d673-48ac-a5c9-91c6f47a9c17",
   "metadata": {},
   "outputs": [],
   "source": [
    "Ma = matrix(\n",
    "    [\n",
    "        [cb1.coefficient(mm) for mm in mon],\n",
    "        [cb2.coefficient(mm) for mm in mon],\n",
    "        [cb3.coefficient(mm) for mm in mon],\n",
    "        [cb4.coefficient(mm) for mm in mon]\n",
    "    ]\n",
    ")\n",
    "\n",
    "Ma = Ma.echelon_form()"
   ]
  },
  {
   "cell_type": "markdown",
   "id": "c6dbccde-f83d-4b97-879b-012928019ffa",
   "metadata": {},
   "source": [
    "We redefine $cb_1$, $cb_2$, $cb_3$, $cb_4$:"
   ]
  },
  {
   "cell_type": "code",
   "execution_count": 8,
   "id": "2687a11b-ebc3-4a6e-a61e-72b760d1abd3",
   "metadata": {},
   "outputs": [],
   "source": [
    "cb1 = add([Ma[0][i]*mon[i] for i in range(10)])\n",
    "cb2 = add([Ma[1][i]*mon[i] for i in range(10)])\n",
    "cb3 = add([Ma[2][i]*mon[i] for i in range(10)])\n",
    "cb4 = add([Ma[3][i]*mon[i] for i in range(10)])"
   ]
  },
  {
   "cell_type": "code",
   "execution_count": 9,
   "id": "b4a36ed2-f92f-475b-9d98-850d13d46e37",
   "metadata": {},
   "outputs": [],
   "source": [
    "assert(cb1 == x^3+y^3)\n",
    "assert(cb2 == x*z^2)\n",
    "assert(cb3 == y*z^2)\n",
    "assert(cb4 == z^3)"
   ]
  },
  {
   "cell_type": "markdown",
   "id": "26aa7182-fb0b-438f-9e3a-81d90cd8bfea",
   "metadata": {},
   "source": [
    "Now $cb_1$, $cb_2$, $cb_3$, $cb_4$ is a good basis. \n",
    "From it, we construct the generic cubic that has $P_1$, $P_2$, $P_3$ among the eigenpoints."
   ]
  },
  {
   "cell_type": "code",
   "execution_count": 10,
   "id": "c46a9f33-3a52-4922-8ced-0c8a9001ebd7",
   "metadata": {},
   "outputs": [],
   "source": [
    "cb = u1*cb1+v1*cb2+w1*cb3+l1*cb4"
   ]
  },
  {
   "cell_type": "markdown",
   "id": "2ec8638a-2891-418a-a254-baf225c25694",
   "metadata": {},
   "source": [
    "If $u_1 = 0$, cb is the double line $z=0$ and a generic line:"
   ]
  },
  {
   "cell_type": "code",
   "execution_count": 11,
   "id": "27acac3e-7b1c-40dc-82d4-c0d04f4d9ab1",
   "metadata": {},
   "outputs": [],
   "source": [
    "assert(cb.subs(u1=0) == z^2*(v1*x+w1*y+l1*z))"
   ]
  },
  {
   "cell_type": "markdown",
   "id": "8f5dc40e-69f6-4502-be90-67668493f26b",
   "metadata": {},
   "source": [
    "We extract the eigenpoints of cb (and we erase $P_1$, $P_2$, $P_3$ and we assume $u_1 \\neq 0$)."
   ]
  },
  {
   "cell_type": "code",
   "execution_count": 12,
   "id": "77dc9089-de35-41cf-a6d6-a8a93ff0509c",
   "metadata": {},
   "outputs": [],
   "source": [
    "Jc = S.ideal(\n",
    "    matrix(\n",
    "        [\n",
    "            [x, y, z], \n",
    "            [cb.derivative(x), cb.derivative(y), cb.derivative(z)]\n",
    "        ]\n",
    "    ).minors(2)\n",
    ")"
   ]
  },
  {
   "cell_type": "code",
   "execution_count": 13,
   "id": "6ec3e733-f749-42be-aadd-707c0eb6bc5f",
   "metadata": {},
   "outputs": [],
   "source": [
    "Jc = Jc.saturation(S.ideal(matrix([(x, y, z), P1]).minors(2)))[0]\n",
    "Jc = Jc.saturation(S.ideal(matrix([(x, y, z), P2]).minors(2)))[0]\n",
    "Jc = Jc.saturation(S.ideal(matrix([(x, y, z), P3]).minors(2)))[0]\n",
    "Jc = Jc.saturation(u1)[0]"
   ]
  },
  {
   "cell_type": "code",
   "execution_count": 14,
   "id": "04d56575-303e-4b45-a1d1-7fade5e361fc",
   "metadata": {},
   "outputs": [],
   "source": [
    "assert(Jc.is_prime())"
   ]
  },
  {
   "cell_type": "markdown",
   "id": "3429b555-de28-4ca4-8671-98a4c73436b3",
   "metadata": {},
   "source": [
    "Jc is generated by $g_1$, $g_2$ below:"
   ]
  },
  {
   "cell_type": "code",
   "execution_count": 15,
   "id": "ba94bbe1-0620-4055-bdec-60bf8de1329b",
   "metadata": {},
   "outputs": [],
   "source": [
    "g1 = 3*y^2*u1 - 2*x*y*v1 - 2*y^2*w1 + z^2*w1 - 3*y*z*l1\n",
    "g2 = 3*x^2*u1 - 2*x^2*v1 + z^2*v1 - 2*x*y*w1 - 3*x*z*l1 "
   ]
  },
  {
   "cell_type": "code",
   "execution_count": 16,
   "id": "c6a5c98f-9249-4e93-b7f5-f25dd35d65ee",
   "metadata": {},
   "outputs": [],
   "source": [
    "assert(Jc == S.ideal(g1, g2))"
   ]
  },
  {
   "cell_type": "markdown",
   "id": "5b2ccf7b-5cbd-4e83-8dd9-45fbcc1658b4",
   "metadata": {},
   "source": [
    "The zeros of Jc should be 4 points which are (in general) distinct and with no other collinearities)."
   ]
  },
  {
   "cell_type": "markdown",
   "id": "32ad675d-db4a-4411-9181-1c61b9c3bc6c",
   "metadata": {},
   "source": [
    "## CASE 2: CUBICS WITH EIGENPOINTS ON A LINE TANGENT TO THE ISOTROPIC CONIC"
   ]
  },
  {
   "cell_type": "markdown",
   "id": "4a98dd85-e2e3-413d-a264-83719d25b60b",
   "metadata": {},
   "source": [
    "We choose three points $P_1$, $P_2$, and $P_3$ aligned on the line $x + i \\,y = 0$"
   ]
  },
  {
   "cell_type": "code",
   "execution_count": 17,
   "id": "ed2164e6-9102-4542-a972-909348548649",
   "metadata": {},
   "outputs": [],
   "source": [
    "P1 = vector(S, (1, ii, 0))\n",
    "P2 = vector(S, (0, 0, 1))\n",
    "P3 = P1 + P2"
   ]
  },
  {
   "cell_type": "markdown",
   "id": "5d891464-3b47-4cc7-9ddd-67f5d7a3bb9f",
   "metadata": {},
   "source": [
    "We construct the space of all the cubics that have $P_1$, $P_2$, $P_3$ among the eigenpoints."
   ]
  },
  {
   "cell_type": "code",
   "execution_count": 18,
   "id": "af05b261-0d56-40a4-a605-b77c8a31178b",
   "metadata": {},
   "outputs": [],
   "source": [
    "M = condition_matrix([P1, P2, P3], S, standard=\"all\")"
   ]
  },
  {
   "cell_type": "markdown",
   "id": "7440080e-85ed-4c8e-af9c-399ddb480329",
   "metadata": {},
   "source": [
    "We extract $5$ linearly independent rows:"
   ]
  },
  {
   "cell_type": "code",
   "execution_count": 19,
   "id": "ffcc6f16-9f6d-464f-9a0c-51d4bafc6bfc",
   "metadata": {},
   "outputs": [],
   "source": [
    "M1 = M.matrix_from_rows([0, 1, 4, 5, 7])"
   ]
  },
  {
   "cell_type": "code",
   "execution_count": 20,
   "id": "f5b4ed2a-cfc9-4072-b3c3-f1afd6ccc909",
   "metadata": {},
   "outputs": [],
   "source": [
    "assert(M1.rank() == 5)"
   ]
  },
  {
   "cell_type": "markdown",
   "id": "b636dad0-bd83-488a-98da-5b36e99623db",
   "metadata": {},
   "source": [
    "We construct 5 cubics which are a basis for the space of allo\n",
    "the cubics with $P_1$, $P_2$, $P_3$ as eigenpoints."
   ]
  },
  {
   "cell_type": "code",
   "execution_count": 21,
   "id": "27890528-b42d-4b89-994c-8bbafa4abd25",
   "metadata": {},
   "outputs": [],
   "source": [
    "M2 = M1.stack(vector(S, (0, 0, 1, 2, 0, -1, 3, 0, 0, 1)))\n",
    "M2 = M2.stack(vector(S, (0, 0, -2, 1, 0, 1, 1, 0, 0, 2)))\n",
    "M2 = M2.stack(vector(S, (0, 0, 4, -3, 0, 1, 1, 0, 0, 3)))\n",
    "M2 = M2.stack(vector(S, (0, 0, 2, 1, 0, -3, 2, 0, 0, 1)))\n",
    "M2 = M2.stack(vector(S, mon))\n",
    "cb1 = M2.det()\n",
    "\n",
    "M2 = M1.stack(vector(S, (0, 0, 6, 3, 0, 5, 2, 0, 0, -1)))\n",
    "M2 = M2.stack(vector(S, (0, 0, -2, 1, 0, -3, -1, 0, 0, 2)))\n",
    "M2 = M2.stack(vector(S, (0, 0, 4, 6, 0, 2, 5, 0, 0, 3)))\n",
    "M2 = M2.stack(vector(S, (0, 0, 1, 7, 0, -5, 4, 0, 0, 4)))\n",
    "M2 = M2.stack(vector(S, mon))\n",
    "cb2 = M2.det()\n",
    "\n",
    "M2 = M1.stack(vector(S, (0, 0, 5, 3, 0, 3, 2, 0, 0, -3)))\n",
    "M2 = M2.stack(vector(S, (0, 0, -3, 1, 0, -6, -1, 0, 0, 2)))\n",
    "M2 = M2.stack(vector(S, (0, 0, 5, 6, 0, 5, 5, 0, 0, 6)))\n",
    "M2 = M2.stack(vector(S, (0, 0, 2, 7, 0, -5, 7, 0, 0, 5)))\n",
    "M2 = M2.stack(vector(S, mon))\n",
    "cb3 = M2.det()\n",
    "\n",
    "M2 = M1.stack(vector(S, (0, 0, 1, 3, 0, 3, 2, 0, 0, -2)))\n",
    "M2 = M2.stack(vector(S, (0, 0, -3, 1, 0, -7, -4, 0, 0, 5)))\n",
    "M2 = M2.stack(vector(S, (0, 0, 5, 3, 0, 5, 8, 0, 0, 2)))\n",
    "M2 = M2.stack(vector(S, (0, 0, 2, 1, 0, -5, 7, 0, 0, 3)))\n",
    "M2 = M2.stack(vector(S, mon))\n",
    "cb4 = M2.det()\n",
    "\n",
    "M2 = M1.stack(vector(S, (0, 0, 7, 1, 0, 3, 2, 0, 0, -2)))\n",
    "M2 = M2.stack(vector(S, (0, 0, -3, 1, 0, -5, -2, 0, 0, 5)))\n",
    "M2 = M2.stack(vector(S, (0, 0, 1, 3, 0, 5, 1, 0, 0, 7)))\n",
    "M2 = M2.stack(vector(S, (0, 0, 3, 2, 0, -1, 5, 0, 0, 3)))\n",
    "M2 = M2.stack(vector(S, mon))\n",
    "cb5 = M2.det()"
   ]
  },
  {
   "cell_type": "code",
   "execution_count": 22,
   "id": "24311e0a-9604-4fe8-a9e0-ac864d695a19",
   "metadata": {},
   "outputs": [],
   "source": [
    "Ma = matrix(\n",
    "    [\n",
    "        [cb1.coefficient(mm) for mm in mon],\n",
    "        [cb2.coefficient(mm) for mm in mon],\n",
    "        [cb3.coefficient(mm) for mm in mon],\n",
    "        [cb4.coefficient(mm) for mm in mon],\n",
    "        [cb5.coefficient(mm) for mm in mon]\n",
    "    ]\n",
    ")"
   ]
  },
  {
   "cell_type": "code",
   "execution_count": 23,
   "id": "226e63ba-eb8b-4f83-919d-54dcfd552dc6",
   "metadata": {},
   "outputs": [],
   "source": [
    "assert(Ma.rank() == 5)"
   ]
  },
  {
   "cell_type": "markdown",
   "id": "09e289dd-52cb-414e-86ff-999d97094372",
   "metadata": {},
   "source": [
    "$cb_1, \\dotsc, cb_5$ is a basis. \n",
    "We want a better basis.\n",
    "We choose:"
   ]
  },
  {
   "cell_type": "code",
   "execution_count": 24,
   "id": "75152ae7-a5ac-480f-ae93-a971003d4d8d",
   "metadata": {},
   "outputs": [],
   "source": [
    "ccb1 = (x+ii*y)^2*x\n",
    "ccb2 = (x+ii*y)^2*y\n",
    "ccb3 = (x+ii*y)^2*z\n",
    "ccb4 = z*(x^2+y^2+2/3*z^2)\n",
    "ccb5 = x^3 + (-ii)*y^3 + z^3"
   ]
  },
  {
   "cell_type": "markdown",
   "id": "2794e8ff-717e-4c8a-bb67-81bb6814d8f6",
   "metadata": {},
   "source": [
    "We verify that also this is a basis:"
   ]
  },
  {
   "cell_type": "code",
   "execution_count": 25,
   "id": "5910f07c-c4c5-49d2-aee1-c773869a901a",
   "metadata": {},
   "outputs": [],
   "source": [
    "MMa = matrix(\n",
    "    [\n",
    "        [ccb1.coefficient(mm) for mm in mon],\n",
    "        [ccb2.coefficient(mm) for mm in mon],\n",
    "        [ccb3.coefficient(mm) for mm in mon],\n",
    "        [ccb4.coefficient(mm) for mm in mon],\n",
    "        [ccb5.coefficient(mm) for mm in mon]\n",
    "    ]\n",
    ")"
   ]
  },
  {
   "cell_type": "code",
   "execution_count": 26,
   "id": "55d0d721-9021-487b-86be-a4332cf78633",
   "metadata": {},
   "outputs": [],
   "source": [
    "assert(Ma.echelon_form() == MMa.echelon_form())"
   ]
  },
  {
   "cell_type": "markdown",
   "id": "a2ab0e13-9cb3-4f2a-91a4-435580e96c6e",
   "metadata": {},
   "source": [
    "We define the generic cubic linear combinations of $ccb_1, \\dotsc, ccb_5$"
   ]
  },
  {
   "cell_type": "code",
   "execution_count": 27,
   "id": "87d6d03f-3470-4f0d-9167-27325944a94b",
   "metadata": {},
   "outputs": [],
   "source": [
    "cb = u1*ccb1+u2*ccb2+v1*ccb3+v2*ccb4+w1*ccb5"
   ]
  },
  {
   "cell_type": "markdown",
   "id": "bd253f4c-97ce-4607-82a9-ff22ec3f2108",
   "metadata": {},
   "source": [
    "For $w_1 = 0$, we get that cb is of the form $t^2 \\ell + \\lambda \\, C(r)$, \n",
    "so it is the generic cubic with a line of eigenpints tangent to the isotropic conic;\n",
    "for $w_1 \\neq 0$, the ideal of the remaining 4 eigenpoints is given by:"
   ]
  },
  {
   "cell_type": "code",
   "execution_count": 28,
   "id": "de2277a5-5fd4-4332-86f7-c519d0523255",
   "metadata": {},
   "outputs": [],
   "source": [
    "Jc = S.ideal(\n",
    "    matrix(\n",
    "        [\n",
    "            [x, y, z], \n",
    "            [cb.derivative(x), cb.derivative(y), cb.derivative(z)]\n",
    "        ]\n",
    "    ).minors(2)\n",
    ")"
   ]
  },
  {
   "cell_type": "code",
   "execution_count": 29,
   "id": "aea32d19-6adb-4ff4-a023-c0e341b893ae",
   "metadata": {},
   "outputs": [],
   "source": [
    "Jc = Jc.saturation(S.ideal(matrix([(x, y, z), P1]).minors(2)))[0]\n",
    "Jc = Jc.saturation(S.ideal(matrix([(x, y, z), P2]).minors(2)))[0]\n",
    "Jc = Jc.saturation(S.ideal(matrix([(x, y, z), P3]).minors(2)))[0]\n",
    "Jc = Jc.saturation(w1)[0]"
   ]
  },
  {
   "cell_type": "code",
   "execution_count": 30,
   "id": "da0b32a0-67bc-4e55-9c73-006e052a5fee",
   "metadata": {},
   "outputs": [],
   "source": [
    "Jcrad = Jc.radical()"
   ]
  },
  {
   "cell_type": "markdown",
   "id": "0b356f16-7a72-4b10-8ee0-cccf44926dff",
   "metadata": {},
   "source": [
    "The ideal Jcrad gives the 4 eigenpoints."
   ]
  }
 ],
 "metadata": {
  "kernelspec": {
   "display_name": "SageMath 10.2",
   "language": "sage",
   "name": "sagemath"
  },
  "language_info": {
   "codemirror_mode": {
    "name": "ipython",
    "version": 3
   },
   "file_extension": ".py",
   "mimetype": "text/x-python",
   "name": "python",
   "nbconvert_exporter": "python",
   "pygments_lexer": "ipython3",
   "version": "3.9.15"
  }
 },
 "nbformat": 4,
 "nbformat_minor": 5
}
