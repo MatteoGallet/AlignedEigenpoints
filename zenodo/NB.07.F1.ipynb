{
 "cells": [
  {
   "cell_type": "markdown",
   "id": "3d3d9b58-61c3-4717-95f8-d503a49e6922",
   "metadata": {},
   "source": [
    "# Configuration $(C_3)$"
   ]
  },
  {
   "cell_type": "code",
   "execution_count": 3,
   "id": "caf4818e-b208-44d5-938f-8b9f1ab9314f",
   "metadata": {},
   "outputs": [],
   "source": [
    "load(\"basic_functions.sage\")"
   ]
  },
  {
   "cell_type": "markdown",
   "id": "bdc990e1-8e2d-467e-94ba-50e16de1559b",
   "metadata": {},
   "source": [
    "We define 7 generic points in configuration $(C_3)$ and we study the case in which $\\delta_1(P_1, P_2, P_4)=0$ \n",
    "and $\\delta_1(P_1, P_2, P_6)=0$. We get two linear equations in the coordinates of $P_2$. If the matrix has \n",
    "maximal rank, we construct the unique solution of the system and we call it `PP2`. But we verify that the point \n",
    "`PP2` coincides with $P_1$, which is impossible."
   ]
  },
  {
   "cell_type": "code",
   "execution_count": 4,
   "id": "352cde6b-772b-4deb-b9cb-9695204e0e16",
   "metadata": {},
   "outputs": [],
   "source": [
    "P1 = vector(S, (A1, B1, C1))\n",
    "P2 = vector(S, (A2, B2, C2))\n",
    "P3 = u1*P1+u2*P2\n",
    "P4 = vector(S, (A4, B4, C4))\n",
    "P5 = v1*P1+v2*P4\n",
    "P6 = vector(S, (A6, B6, C6))\n",
    "P7 = w1*P1+w2*P6\n",
    "## we study the condition delta1(P1, P2, P4)=0 and \n",
    "## delta1(P1, P2, P6) = 0, in order to see if the configuration (3)\n",
    "## of the figure can be realized in this way.\n",
    "pl1 = delta1(P1, P2, P4)\n",
    "pl2 = delta1(P1, P2, P6)\n",
    "\n",
    "## Here we have two linear equations in the coordinates of P2\n",
    "## We construct the matrix of the system: \n",
    "M = matrix([[pl1.coefficient(aa) for aa in (A2, B2, C2)],\\\n",
    "            [pl2.coefficient(aa) for aa in (A2, B2, C2)]])\n",
    "\n",
    "## and the solution:\n",
    "m2 = M.minors(2)\n",
    "slz = {A2: m2[2], B2: -m2[1], C2: m2[0]}\n",
    "## we verify that this is the solution of pl1 = pl2 = 0:\n",
    "assert((pl1.subs(slz), pl2.subs(slz)) == (S(0), S(0)))\n",
    "\n",
    "## we get that the solution is given PP2:\n",
    "\n",
    "PP2 = scalar_product(P1, P1)*det(matrix([P1, P4, P6]))*P1\n",
    "\n",
    "assert(PP2 == P2.subs(slz))\n",
    "\n",
    "## but with this solution, P1 and PP2 coincide as projective points:\n",
    "\n",
    "assert(matrix([P1, PP2]).minors(2) == [S(0), S(0), S(0)])\n"
   ]
  },
  {
   "cell_type": "markdown",
   "id": "5c31228a-840a-470a-9b1b-c4ad057fcb05",
   "metadata": {},
   "source": [
    "Hence we consider the case in which the above matrix $M$ does not have maximal rank.\n",
    "In this block we are going to see that in this case $P_1$ is on the isotropic conic, \n",
    "so we redefine the points adding the condition that $P_1 = (1: i: 0)$"
   ]
  },
  {
   "cell_type": "code",
   "execution_count": 5,
   "id": "76ee3aa7-906d-4070-a469-21e25f23efbd",
   "metadata": {},
   "outputs": [],
   "source": [
    "## Finally, we want to consider the case in which M does not have \n",
    "## maximal rank. \n",
    "J = S.ideal(m2)\n",
    "pdJ = J.radical().primary_decomposition()\n",
    "\n",
    "## pdJ has two components: det([P1, P4, P6]) and (P1|P1):\n",
    "\n",
    "assert(len(pdJ) == 2)\n",
    "\n",
    "assert(pdJ[1] == S.ideal(det(matrix([P1, P4, P6]))))\n",
    "\n",
    "assert(pdJ[0] == S.ideal(scalar_product(P1, P1)))\n",
    "\n",
    "## Since P1, P4, P6 are assumed not collinear, it remain to study \n",
    "## the case P1 a point on the isotropic conic.\n",
    "\n",
    "## We can assume therefore P1 = (1, ii, 0) and we redefine the \n",
    "## other points:\n",
    "\n",
    "P1 = vector(S, (1, ii, 0))\n",
    "P2 = vector(S, (A2, B2, C2))\n",
    "P3 = u1*P1+u2*P2\n",
    "P4 = vector(S, (A4, B4, C4))\n",
    "P5 = v1*P1+v2*P4\n",
    "P6 = vector(S, (A6, B6, C6))\n",
    "P7 = w1*P1+w2*P6\n"
   ]
  },
  {
   "cell_type": "markdown",
   "id": "2bf018c4-de1e-4921-9369-a831df2af021",
   "metadata": {},
   "source": [
    "We consider again the case $\\delta_1(P_1, P_2, P_4)=0$ and \n",
    "$\\delta_1(P_1, P_2, P_6)=0$, we solve the linear system in the \n",
    "coordinates of $P_2$ and we define one more time the seven points (that \n",
    "now will be called $p_1, \\dotsc, p_7$), \n",
    "using the coordinates of $P_2$ obtained in this way."
   ]
  },
  {
   "cell_type": "code",
   "execution_count": 6,
   "id": "1404d7dc-2e75-4245-a332-086bb48396b3",
   "metadata": {},
   "outputs": [],
   "source": [
    "## we study when delta1(P1, P2, P4) and \n",
    "## delta1(P1, P2, P6) is zero:\n",
    "\n",
    "pl1 = delta1(P1, P2, P4)\n",
    "pl2 = delta1(P1, P2, P6)\n",
    "\n",
    "## Here we have two linear equations in the coordinates of P2\n",
    "## We construct the matrix of the system: \n",
    "M = matrix([[pl1.coefficient(aa) for aa in (A2, B2, C2)],\\\n",
    "            [pl2.coefficient(aa) for aa in (A2, B2, C2)]])\n",
    "\n",
    "## and the solution:\n",
    "slz = {A2: (-ii)*B2*A4 + B2*B4, B2: (A4+ii*B4)*B2, C2: (A4+ii*B4)*C2}\n",
    "assert((pl1.subs(slz), pl2.subs(slz)) == (S(0), S(0)))\n",
    "\n",
    "## we redefine the points, according to this condition on A2, B2, C2:\n",
    "p1 = P1.subs(slz)\n",
    "p2 = P2.subs(slz)\n",
    "p3 = P3.subs(slz)\n",
    "p4 = P4.subs(slz)\n",
    "p5 = P5.subs(slz)\n",
    "p6 = P6.subs(slz)\n",
    "p7 = P7.subs(slz)\n",
    "\n",
    "## now delta1(p1, p2, p4) and delta1(p1, p2, p6) are zero:\n",
    "assert((delta1(p1, p2, p4), delta1(p1, p2, p6)) == (S(0), S(0)))\n"
   ]
  },
  {
   "cell_type": "markdown",
   "id": "c2efe515-097f-4d6a-9f52-763f732ac7e3",
   "metadata": {},
   "source": [
    "We have that $\\Phi(p_1, p_4, p_5, p_6, p_7)$ must have rank $\\leq 9$ hence \n",
    "$\\delta_1(p_1, p_4, p_6) \\delta_2(p_1, p_4, p_5, p_6, p_7) = 0$. If the second \n",
    "factor is zero, we have a $\\delta_2=0$ and we are done, so we assume \n",
    "$\\delta_1(p_1, p_4, p_6) = 0$. But it holds:\n",
    "$\\delta_1(p_1, p_4, p_6) = (A_6+iB_6)(A_4+iB_4)$, so we have to study two cases."
   ]
  },
  {
   "cell_type": "code",
   "execution_count": 7,
   "id": "54109f62-3ed4-42d1-9ed5-1853b09e0115",
   "metadata": {},
   "outputs": [],
   "source": [
    "assert(delta1(p1, p4, p6) == -(A6 + ii*B6) * (A4 + ii*B4))"
   ]
  },
  {
   "cell_type": "markdown",
   "id": "6988c8cf-c4b4-4af0-8ebd-a487188de785",
   "metadata": {},
   "source": [
    "## Case $A_6+iB_6 = 0$"
   ]
  },
  {
   "cell_type": "markdown",
   "id": "021880f6-7e3c-40fc-9b57-6bb45dfa03f3",
   "metadata": {},
   "source": [
    "In this case we redefine the points and we see that we get a $\\delta_2=0$"
   ]
  },
  {
   "cell_type": "code",
   "execution_count": 7,
   "id": "5b666a3e-d035-40c6-ae03-724a76883ce1",
   "metadata": {},
   "outputs": [],
   "source": [
    "slz1 = {A6: -ii*B6}\n",
    "pp1 = p1.subs(slz1)\n",
    "pp2 = p2.subs(slz1)\n",
    "pp3 = p3.subs(slz1)\n",
    "pp4 = p4.subs(slz1)\n",
    "pp5 = p5.subs(slz1)\n",
    "pp6 = p6.subs(slz1)\n",
    "pp7 = p7.subs(slz1)\n",
    "\n",
    "## In this case we have delta2(pp1, pp2, pp3, pp6, pp7), \n",
    "## so the configuration is realized by a delta2 condition:\n",
    "assert(delta2(pp1, pp2, pp3, pp6, pp7) == S(0))"
   ]
  },
  {
   "cell_type": "markdown",
   "id": "85e405cc-88bb-4d96-a573-ee5c079fd339",
   "metadata": {},
   "source": [
    "## Case $A_4+iB_4=0$"
   ]
  },
  {
   "cell_type": "code",
   "execution_count": 8,
   "id": "3cbc97dd-9919-4e50-9e08-d4467dd1ea56",
   "metadata": {},
   "outputs": [],
   "source": [
    "slz1 = {A4: -ii*B4}\n",
    "pp1 = p1.subs(slz1)\n",
    "pp2 = p2.subs(slz1)\n",
    "pp3 = p3.subs(slz1)\n",
    "pp4 = p4.subs(slz1)\n",
    "pp5 = p5.subs(slz1)\n",
    "\n",
    "## In this case we have delta2(pp1, pp2, pp3, pp4, pp5)=0, \n",
    "## so the configuration is realized by a delta2 condition:\n",
    "assert(delta2(pp1, pp2, pp3, pp4, pp5) == S(0))"
   ]
  },
  {
   "cell_type": "markdown",
   "id": "040d9837-8ade-4216-8001-1955d0c76d34",
   "metadata": {},
   "source": [
    "Hence we conclude that among the seven points in configuration (C3) we always have a $\\delta_2=0$ condition."
   ]
  }
 ],
 "metadata": {
  "kernelspec": {
   "display_name": "SageMath 10.0",
   "language": "sage",
   "name": "sagemath"
  },
  "language_info": {
   "codemirror_mode": {
    "name": "ipython",
    "version": 3
   },
   "file_extension": ".py",
   "mimetype": "text/x-python",
   "name": "python",
   "nbconvert_exporter": "python",
   "pygments_lexer": "ipython3",
   "version": "3.10.12"
  }
 },
 "nbformat": 4,
 "nbformat_minor": 5
}
