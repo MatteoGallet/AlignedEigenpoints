{
 "cells": [
  {
   "cell_type": "markdown",
   "id": "69311fe2-725c-4762-9447-ce2eeeec739a",
   "metadata": {},
   "source": [
    "# Lemma"
   ]
  },
  {
   "cell_type": "markdown",
   "id": "91b34225-2278-4d8e-a8f4-6705becff9f0",
   "metadata": {},
   "source": [
    "* $\\delta_1(P_1, P_2, P_4) = 0$ iff $\\left\\langle P_4, s_{11}P_2-s_{12}P_1 \\right\\rangle = 0$ iff $\\left\\langle P_2, s_{11}P_4-s_{14}P_1 \\right\\rangle = 0$\n",
    "* $\\bar{\\delta}_1(P_1, P_2, P_3) = 0$ iff ($\\left\\langle P_1, P_1 \\right\\rangle$ and $P_1 \\vee P_2 \\vee P_3$ is tangent to the isotropic conic in $P_1$) or $P_3 = (s_{12}^2 + s_{11} s_{22}) P_1 - 2 s_{11} s_{12}P_2$ or $P_2 = (s_{13}^2 + s_{11} s_{33}) P_1 - 2 s_{11} s_{13}P_3$"
   ]
  },
  {
   "cell_type": "code",
   "execution_count": 1,
   "id": "194880d6-32e0-4d31-9a04-d8cd19ee9986",
   "metadata": {},
   "outputs": [],
   "source": [
    "load(\"basic_functions.sage\")"
   ]
  },
  {
   "cell_type": "markdown",
   "id": "095a8328-5a6b-453b-bae4-ff5eabcfee0b",
   "metadata": {},
   "source": [
    "## Proof of $\\delta_1(P_1, P_2, P_4) = 0$ iff $\\left\\langle P_4, s_{11}P_2-s_{12}P_1 \\right\\rangle = 0$ iff $\\left\\langle P_2, s_{11}P_4-s_{14}P_1 \\right\\rangle = 0$ "
   ]
  },
  {
   "cell_type": "markdown",
   "id": "99b2bf8e-caba-40a7-b480-2ca94b1a4a1d",
   "metadata": {},
   "source": [
    "We define three points $P_1$, $P_2$, and $P_4$."
   ]
  },
  {
   "cell_type": "code",
   "execution_count": 27,
   "id": "caee730b-0300-409b-9f20-692ef7673fa6",
   "metadata": {},
   "outputs": [],
   "source": [
    "P1 = vector([A1, B1, C1])\n",
    "P2 = vector([A2, B2, C2])\n",
    "P4 = vector([A4, B4, C4])"
   ]
  },
  {
   "cell_type": "code",
   "execution_count": 28,
   "id": "659fad0b-da48-4c39-89af-b8d129cdd88a",
   "metadata": {},
   "outputs": [],
   "source": [
    "S11 = scalar_product(P1, P1)\n",
    "S12 = scalar_product(P1, P2)\n",
    "S14 = scalar_product(P1, P4)"
   ]
  },
  {
   "cell_type": "code",
   "execution_count": 29,
   "id": "d9fbba97-e4dc-4725-bf24-d3f074b42858",
   "metadata": {},
   "outputs": [],
   "source": [
    "assert(delta1(P1, P2, P4) == scalar_product(P4, S11*P2 - S12*P1))\n",
    "assert(delta1(P1, P2, P4) == scalar_product(P2, S11*P4 - S14*P1))"
   ]
  },
  {
   "cell_type": "markdown",
   "id": "3e317f9f-1d0b-4e94-a9b3-c0a808e310c4",
   "metadata": {},
   "source": [
    "## Proof of $\\bar{\\delta}_1(P_1, P_2, P_3) = 0$ iff ($\\left\\langle P_1, P_1 \\right\\rangle$ and $P_1 \\vee P_2 \\vee P_3$ is tangent to the isotropic conic in $P_1$) or $P_3 = (s_{12}^2 + s_{11} s_{22}) P_1 - 2 s_{11} s_{12}P_2$ or $P_2 = (s_{13}^2 + s_{11} s_{33}) P_1 - 2 s_{11} s_{13}P_3$"
   ]
  },
  {
   "cell_type": "markdown",
   "id": "09ce2d8b-b730-4279-9ef9-b1fb1ddcdbe9",
   "metadata": {},
   "source": [
    "We define three aligned points $P_1$, $P_2$, and $P_3$."
   ]
  },
  {
   "cell_type": "code",
   "execution_count": 30,
   "id": "4c60f801-6cab-40ec-8a35-1999641c5528",
   "metadata": {},
   "outputs": [],
   "source": [
    "P1 = vector([A1, B1, C1])\n",
    "P2 = vector([A2, B2, C2])\n",
    "P3 = u1*P1 + u2*P2"
   ]
  },
  {
   "cell_type": "code",
   "execution_count": 34,
   "id": "94cff392-b554-4825-9963-208456274f87",
   "metadata": {},
   "outputs": [],
   "source": [
    "S11 = scalar_product(P1, P1)\n",
    "S12 = scalar_product(P1, P2)\n",
    "S13 = scalar_product(P1, P3)\n",
    "S22 = scalar_product(P2, P2)\n",
    "S33 = scalar_product(P3, P3)"
   ]
  },
  {
   "cell_type": "markdown",
   "id": "a54bb7da-b829-47c1-8771-0eb3cafce5d1",
   "metadata": {
    "jp-MarkdownHeadingCollapsed": true
   },
   "source": [
    "### We prove that if $s_{12}^2 + s_{11} s_{22} \\neq 0$ and $s_{11} s_{12} \\neq 0$, then $\\bar{\\delta}_1(P_1, P_2, P_3) = 0$ iff $P_3 = (s_{12}^2 + s_{11} s_{22}) P_1 - 2 s_{11} s_{12}P_2$."
   ]
  },
  {
   "cell_type": "code",
   "execution_count": 32,
   "id": "6da729d6-c9bc-4eb4-a6fa-48628ba156e4",
   "metadata": {},
   "outputs": [],
   "source": [
    "m2 = matrix([(S12^2 + S11*S22)*P1 - 2*S11*S12*P2, P3]).minors(2)\n",
    "J2 = S.ideal(m2).saturation(\n",
    "    S.ideal(matrix([P1, P2]).minors(2))\n",
    ")[0].saturation(\n",
    "    S.ideal(matrix([P1, P3]).minors(2))\n",
    ")[0].saturation(\n",
    "    S.ideal(matrix([P2, P3]).minors(2))\n",
    ")[0].saturation(\n",
    "    S.ideal([(S12^2 + S11*S22), 2*S11*S12])\n",
    ")[0].saturation(\n",
    "    S.ideal(u1, u2)\n",
    ")[0]"
   ]
  },
  {
   "cell_type": "code",
   "execution_count": 33,
   "id": "d016bcee-2e96-447a-9a20-bdd27b31805b",
   "metadata": {},
   "outputs": [],
   "source": [
    "assert(J2 == S.ideal(delta1b(P1, P2, P3)))"
   ]
  },
  {
   "cell_type": "markdown",
   "id": "ab9e68ab-ecb5-40be-95d1-8c8c47f1483f",
   "metadata": {
    "jp-MarkdownHeadingCollapsed": true
   },
   "source": [
    "### We prove that if $s_{13}^2 + s_{11} s_{33} \\neq 0$ and $s_{11} s_{13} \\neq 0$, then $\\bar{\\delta}_1(P_1, P_2, P_3) = 0$ iff $P_2 = (s_{13}^2 + s_{11} s_{33}) P_1 - 2 s_{11} s_{13}P_3$."
   ]
  },
  {
   "cell_type": "code",
   "execution_count": 35,
   "id": "14e70cb9-119c-490d-97c7-f38f8ea6fed4",
   "metadata": {},
   "outputs": [],
   "source": [
    "m2 = matrix([(S13^2 + S11*S33)*P1 - 2*S11*S13*P3, P2]).minors(2)\n",
    "J2 = S.ideal(m2).saturation(\n",
    "    S.ideal(matrix([P1, P2]).minors(2))\n",
    ")[0].saturation(\n",
    "    S.ideal(matrix([P1, P3]).minors(2))\n",
    ")[0].saturation(\n",
    "    S.ideal(matrix([P2, P3]).minors(2))\n",
    ")[0].saturation(\n",
    "    S.ideal([(S13^2 + S11*S33), 2*S11*S13])\n",
    ")[0].saturation(\n",
    "    S.ideal(u1, u2)\n",
    ")[0]"
   ]
  },
  {
   "cell_type": "code",
   "execution_count": 36,
   "id": "02365ce7-3fb5-4649-9c84-6707062f646f",
   "metadata": {},
   "outputs": [],
   "source": [
    "assert(J2 == S.ideal(delta1b(P1, P2, P3)))"
   ]
  },
  {
   "cell_type": "markdown",
   "id": "f54254f2-9785-45be-a8a6-0fd0989ba37b",
   "metadata": {
    "jp-MarkdownHeadingCollapsed": true
   },
   "source": [
    "### We prove that if $s_{12}^2 + s_{11} s_{22} = s_{11} s_{12} = s_{13}^2 + s_{11} s_{33} = s_{11} s_{13} = 0$, then $\\bar{\\delta}_1(P_1, P_2, P_3) = 0$ iff $\\left\\langle P_1, P_1 \\right\\rangle$ and $P_1 \\vee P_2 \\vee P_3$ is tangent to the isotropic conic in $P_1$"
   ]
  },
  {
   "cell_type": "code",
   "execution_count": 88,
   "id": "544afa5e-0d33-4c08-a3a8-315825301dbf",
   "metadata": {},
   "outputs": [],
   "source": [
    "I = S.ideal(delta1b(P1, P2, P3), S12^2 + S11*S22, S11*S12, S13^2 + S11*S33)\n",
    "I = I.saturation(\n",
    "    S.ideal(matrix([P1, P2]).minors(2))\n",
    ")[0].saturation(\n",
    "    S.ideal(matrix([P1, P3]).minors(2))\n",
    ")[0].saturation(\n",
    "    S.ideal(matrix([P2, P3]).minors(2))\n",
    ")[0].saturation(\n",
    "    S.ideal(u1, u2)\n",
    ")[0].radical()"
   ]
  },
  {
   "cell_type": "code",
   "execution_count": 89,
   "id": "6fd65202-f203-48bd-8fb8-a86050db7020",
   "metadata": {},
   "outputs": [],
   "source": [
    "J = S.ideal(scalar_product(P1, P1), sigma(P1, P2)).radical()"
   ]
  },
  {
   "cell_type": "code",
   "execution_count": 90,
   "id": "494062d9-53d3-4937-9d5f-b2813f765f61",
   "metadata": {},
   "outputs": [],
   "source": [
    "assert(I == J)"
   ]
  }
 ],
 "metadata": {
  "kernelspec": {
   "display_name": "SageMath 10.1",
   "language": "sage",
   "name": "sagemath"
  },
  "language_info": {
   "codemirror_mode": {
    "name": "ipython",
    "version": 3
   },
   "file_extension": ".py",
   "mimetype": "text/x-python",
   "name": "python",
   "nbconvert_exporter": "python",
   "pygments_lexer": "ipython3",
   "version": "3.10.6"
  }
 },
 "nbformat": 4,
 "nbformat_minor": 5
}
