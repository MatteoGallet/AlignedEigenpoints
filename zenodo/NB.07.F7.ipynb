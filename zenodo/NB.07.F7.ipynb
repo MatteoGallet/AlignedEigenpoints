{
 "cells": [
  {
   "cell_type": "markdown",
   "id": "d793c4a2-70eb-48ec-946f-9331ca1b14a8",
   "metadata": {},
   "source": [
    "# Configuration $(C_8)$"
   ]
  },
  {
   "cell_type": "code",
   "execution_count": 1,
   "id": "fb51505d-9ea6-4a6a-a68b-937f64b9331a",
   "metadata": {},
   "outputs": [],
   "source": [
    "load(\"basic_functions.sage\")"
   ]
  },
  {
   "cell_type": "markdown",
   "id": "f73fdacc-0a91-47db-b664-7571f6815b7c",
   "metadata": {},
   "source": [
    "## Construction of a $(C_8)$ configuration:\n",
    "We define 4 generic points ($P_1, P_2, P_4, P_7$) in the plane and we define $P_3$, $P_5$, $P_6$\n",
    "in such a way that the seven points are in a $(C_8)$ configuration with the alignments:\n",
    "\n",
    "$(1, 2, 3), (1, 4, 5), (1, 6, 7), (2, 4, 6), (2, 5, 7), (3, 4, 7) $"
   ]
  },
  {
   "cell_type": "code",
   "execution_count": 138,
   "id": "91d83fcd-9ddd-4ca4-a985-8d786407fe73",
   "metadata": {},
   "outputs": [],
   "source": [
    "P1 = vector((A1, B1, C1))\n",
    "P2 = vector((A2, B2, C2))\n",
    "P4 = vector((A4, B4, C4))\n",
    "P7 = vector((A7, B7, C7))  \n",
    "P3 = intersection_lines(P1, P2, P7, P4) \n",
    "P5 = intersection_lines(P1, P4, P2, P7) \n",
    "P6 = intersection_lines(P1, P7, P2, P4) "
   ]
  },
  {
   "cell_type": "markdown",
   "id": "5f1919c7-b3cc-4ebf-ba5e-0b5acd2d564b",
   "metadata": {},
   "source": [
    "The points $P_3, P_5, P_6$ are always defined (i.e. it is not possible that their coordinates are all zero), as follows from the block below:"
   ]
  },
  {
   "cell_type": "code",
   "execution_count": 139,
   "id": "d4f67fc0-3bd5-4274-ac18-fe853400eff5",
   "metadata": {},
   "outputs": [],
   "source": [
    "J1 = S.ideal(list(P3))\n",
    "J1 = J1.saturation(S.ideal(matrix([P2, P7]).minors(2)))[0]\n",
    "J1 = J1.saturation(S.ideal(matrix([P4, P7]).minors(2)))[0]\n",
    "J1 = J1.saturation(matrix([P2, P4, P7]).det())[0]\n",
    "J1 = J1.saturation(S.ideal(matrix([P1, P2]).minors(2)))[0]\n",
    "assert(J1 == S.ideal(S(1)))\n",
    "\n",
    "J1 = S.ideal(list(P5))\n",
    "J1 = J1.saturation(S.ideal(matrix([P2, P4]).minors(2)))[0]\n",
    "J1 = J1.saturation(S.ideal(matrix([P4, P7]).minors(2)))[0]\n",
    "J1 = J1.saturation(matrix([P2, P4, P7]).det())[0]\n",
    "J1 = J1.saturation(S.ideal(matrix([P1, P4]).minors(2)))[0]\n",
    "assert(J1 == S.ideal(1))\n",
    "\n",
    "J1 = S.ideal(list(P6))\n",
    "J1 = J1.saturation(S.ideal(matrix([P2, P7]).minors(2)))[0]\n",
    "J1 = J1.saturation(S.ideal(matrix([P4, P7]).minors(2)))[0]\n",
    "J1 = J1.saturation(matrix([P2, P4, P7]).det())[0]\n",
    "J1 = J1.saturation(S.ideal(matrix([P1, P7]).minors(2)))[0]\n",
    "assert(J1 == S.ideal(1))"
   ]
  },
  {
   "cell_type": "markdown",
   "id": "d17882c9-8304-44be-8b03-8205aae8430f",
   "metadata": {},
   "source": [
    "If configuration $(C_8)$ is given by eigenpoints, we must have\n",
    "$e_1 = e_2 = e_3 = 0$, where:\n",
    "\n",
    "$e_1 = \\delta_1(P_5, P_1, P_2), e_2 = \\delta_1(P_6, P_1, P_2), e_3 = \\delta_1(P_3, P_1, P_4)$"
   ]
  },
  {
   "cell_type": "code",
   "execution_count": 140,
   "id": "9cba8878-7b07-47e2-9e01-d202d83c64b3",
   "metadata": {},
   "outputs": [],
   "source": [
    "e1 = delta1(P5, P1, P2)\n",
    "e2 = delta1(P6, P1, P2)\n",
    "e3 = delta1(P3, P1, P4)"
   ]
  },
  {
   "cell_type": "markdown",
   "id": "50d46934-60ae-4507-85e9-cc396b2f2d2c",
   "metadata": {},
   "source": [
    "We have:\n",
    "\n",
    "$e_1 = (s_{12}s_{47}-s_{17}s_{24})$*matrix([P1, P2, P7]).det()*matrix([P1, P2, P4]).det()\n",
    "\n",
    "and similarly for $e_2$ and $e_3$:\n"
   ]
  },
  {
   "cell_type": "code",
   "execution_count": 141,
   "id": "291e6e83-658d-460d-88d7-aef3a192d06e",
   "metadata": {},
   "outputs": [],
   "source": [
    "assert(\n",
    "    e1 == \n",
    "    matrix([P1, P2, P7]).det()*matrix([P1, P2, P4]).det()\n",
    "    * (scalar_product(P1, P2)*scalar_product(P4, P7)-scalar_product(P1, P7)*scalar_product(P2, P4))\n",
    ")\n",
    "\n",
    "assert(\n",
    "    e2 == \n",
    "    matrix([P1, P2, P7]).det()*matrix([P1, P2, P4]).det()\n",
    "    * (scalar_product(P1, P2)*scalar_product(P4, P7)-scalar_product(P1, P4)*scalar_product(P2, P7))\n",
    ")\n",
    "\n",
    "assert(\n",
    "    e3 == \n",
    "    -matrix([P1, P4, P7]).det()*matrix([P1, P2, P4]).det()\n",
    "    * (scalar_product(P1, P4)*scalar_product(P2, P7)-scalar_product(P1, P7)*scalar_product(P2, P4))\n",
    ")"
   ]
  },
  {
   "cell_type": "markdown",
   "id": "8a004e0d-1c7f-4f57-9ba5-4687e4402b9a",
   "metadata": {},
   "source": [
    "Hence we redefine $e_1, e_2, e_3$ as \n",
    "\n",
    "* $e_1 = s_{12}s_{47}-s_{17}s_{24}$, \n",
    "* $e_2 = s_{12}s_{47}-s_{14}s_{27}$, and \n",
    "* $e_3 = s_{14}s_{27}-s_{17}s_{24}$"
   ]
  },
  {
   "cell_type": "code",
   "execution_count": 142,
   "id": "95553e7c-d4c5-44a1-b7ba-24c71c9cbded",
   "metadata": {},
   "outputs": [],
   "source": [
    "e1 = scalar_product(P1, P2)*scalar_product(P4, P7)-scalar_product(P1, P7)*scalar_product(P2, P4)\n",
    "e2 = scalar_product(P1, P2)*scalar_product(P4, P7)-scalar_product(P1, P4)*scalar_product(P2, P7)\n",
    "e3 = -scalar_product(P1, P4)*scalar_product(P2, P7)+scalar_product(P1, P7)*scalar_product(P2, P4)"
   ]
  },
  {
   "cell_type": "markdown",
   "id": "58fa2e33-329b-4f4f-b15e-3e46974ca0f5",
   "metadata": {},
   "source": [
    "We have: e1-e2+e3 == 0, hence e3 is not necessary"
   ]
  },
  {
   "cell_type": "code",
   "execution_count": 143,
   "id": "c89684a3-f229-44ed-80ae-a0010826bbca",
   "metadata": {},
   "outputs": [],
   "source": [
    "assert(e1-e2+e3 == 0)"
   ]
  },
  {
   "cell_type": "markdown",
   "id": "9ee9fee7-5a8d-4074-b1d4-f212c6a5a6ec",
   "metadata": {},
   "source": [
    "We solve the system $e_1 = 0, e_2 = 0$, linear in $A_4, B_4, C_4$ and \n",
    "we get the solution that we denote by ss6. We verify that ss6 is the \n",
    "solution of the two equations $e_1 = 0, e_2 = 0$\n"
   ]
  },
  {
   "cell_type": "code",
   "execution_count": 144,
   "id": "91103c0b-a7e7-4244-adca-eec9bc7a400b",
   "metadata": {},
   "outputs": [],
   "source": [
    "M1 = matrix(\n",
    "    [\n",
    "        [e1.coefficient(A4), e1.coefficient(B4), e1.coefficient(C4)],\n",
    "        [e2.coefficient(A4), e2.coefficient(B4), e2.coefficient(C4)]\n",
    "    ]\n",
    ")\n",
    "\n",
    "minM1 = M1.minors(2)\n",
    "\n",
    "ss6 = {A4: minM1[2], B4: -minM1[1], C4: minM1[0]}\n",
    "\n",
    "assert(e1.subs(ss6) == 0)\n",
    "assert(e2.subs(ss6) == 0)"
   ]
  },
  {
   "cell_type": "markdown",
   "id": "ba9f4e7e-135b-4370-bdd5-a31d7a71918e",
   "metadata": {},
   "source": [
    "The solution ss6 is not unique (degenerate case) iff \n",
    "$(s_{12}=0, s_{17}=0)$\n",
    "or \n",
    "$(s_{27}=0, s_{17}=0)$\n",
    "or\n",
    "$(s_{12}=0, s_{27}=0)$\n",
    "as we can obtain from the computations below"
   ]
  },
  {
   "cell_type": "code",
   "execution_count": 145,
   "id": "5e1037a1-17b7-4774-9a40-0082f806f03b",
   "metadata": {},
   "outputs": [],
   "source": [
    "pd = S.ideal(minM1).saturation(det(matrix([P1, P2, P7])))[0].radical().primary_decomposition()\n",
    "assert(len(pd) == 3)\n",
    "\n",
    "assert(pd[0] == S.ideal(scalar_product(P1, P2), scalar_product(P1, P7)))\n",
    "assert(pd[1] == S.ideal(scalar_product(P2, P7), scalar_product(P1, P7)))\n",
    "assert(pd[2] == S.ideal(scalar_product(P1, P2), scalar_product(P2, P7)))"
   ]
  },
  {
   "cell_type": "markdown",
   "id": "44eb4490-e6a2-4c88-92c4-6430df2cd1de",
   "metadata": {},
   "source": [
    "From a previous computation (NB.07.F6) we know that each of these 3 conditions gives\n",
    "$s_{12} = 0, s_{17} = 0, s_{27} = 0$ and this condition is not possible"
   ]
  },
  {
   "cell_type": "markdown",
   "id": "bd78d897-329c-439a-b4ca-44b0aeaafd37",
   "metadata": {},
   "source": [
    "Now we redefine the points $P_4, P_3, P_5, P_6$ using the substitution\n",
    "ss6 "
   ]
  },
  {
   "cell_type": "code",
   "execution_count": 146,
   "id": "d335d2d8-b5ee-4cae-b939-d3cd02766169",
   "metadata": {},
   "outputs": [],
   "source": [
    "P4 = P4.subs(ss6)\n",
    "P3 = P3.subs(ss6)\n",
    "P5 = P5.subs(ss6)\n",
    "P6 = P6.subs(ss6)"
   ]
  },
  {
   "cell_type": "markdown",
   "id": "231d9fbb-545e-4271-875f-cfeff8cd7b12",
   "metadata": {},
   "source": [
    "And we get that 4 $\\delta_2$ conditions are zero:"
   ]
  },
  {
   "cell_type": "code",
   "execution_count": 147,
   "id": "f080921a-b78d-4181-a5e1-bac35621f29d",
   "metadata": {},
   "outputs": [],
   "source": [
    "assert(delta2(P1, P2, P3, P4, P5) == 0)\n",
    "assert(delta2(P4, P1, P5, P2, P6) == 0)\n",
    "assert(delta2(P7, P3, P4, P2, P5) == 0)\n",
    "assert(delta2(P2, P1, P3, P4, P6) == 0)"
   ]
  },
  {
   "cell_type": "markdown",
   "id": "4adfccdf-7212-47d5-b0c0-d053e906f9ae",
   "metadata": {},
   "source": [
    "We have that the lines $P_1 \\vee P_2$ and $P_3 \\vee P_4$ are orthogonal,\n",
    "\n",
    "the lines $P_1 \\vee P_6$ and $P_2 \\vee P_4$ are orthogonal and\n",
    "    \n",
    "the lines $P_1 \\vee P_4$ and $P_2 \\vee P_5$ are orthogonal:"
   ]
  },
  {
   "cell_type": "code",
   "execution_count": 148,
   "id": "6fbaa927-d719-4130-a2e6-10bcb2582b49",
   "metadata": {},
   "outputs": [],
   "source": [
    "assert(scalar_product(wedge_product(P1, P2), wedge_product(P3, P4)) == S(0))\n",
    "assert(scalar_product(wedge_product(P1, P6), wedge_product(P2, P4)) == S(0))\n",
    "assert(scalar_product(wedge_product(P1, P4), wedge_product(P2, P5)) == S(0))"
   ]
  },
  {
   "cell_type": "markdown",
   "id": "42b2acc5-58fe-4f93-a10a-8258cc6a188f",
   "metadata": {},
   "source": [
    "Moreover,it holds: \n",
    "\n",
    "$P_4 = (P_1 \\times P_2)s_{17}s_{27} -\n",
    "  s_{12}(P_1 \\times P_7)s_{27} + s_{12}s_{17}(P_2 \\times P_7)$\n",
    "\n",
    "Indeed:"
   ]
  },
  {
   "cell_type": "code",
   "execution_count": 149,
   "id": "407c1d60-dd82-43d6-a8f0-c25e0a4180d9",
   "metadata": {},
   "outputs": [],
   "source": [
    "Q4 = (\n",
    "    wedge_product(P1, P2)*scalar_product(P1, P7)*scalar_product(P2, P7)\n",
    "    - scalar_product(P1, P2)*wedge_product(P1, P7)*scalar_product(P2, P7)\n",
    "    + scalar_product(P1, P2)*scalar_product(P1, P7)*wedge_product(P2, P7)\n",
    ")\n",
    "\n",
    "assert(matrix([P4, Q4]).minors(2) == [0, 0, 0])"
   ]
  },
  {
   "cell_type": "markdown",
   "id": "2bf8fb1f-262b-4e93-b707-9e064c5319a0",
   "metadata": {},
   "source": [
    "### CONCLUSION: \n",
    "If we start from configuration $(C_8)$ of eigenpoints, then we have the above orthogonalities among the \n",
    "lines joining the points and the point $P_4$ is defined by the above formula."
   ]
  },
  {
   "cell_type": "markdown",
   "id": "927f919c-eae3-4768-b7c0-0431db07ec30",
   "metadata": {},
   "source": [
    "## Conversely:\n",
    "Given: Suppose $P_1, P_2, P_7$ are three arbitrary points of the plane and define $P_4$ as above, by the formula:\n",
    "$P_4 = (P_1 \\times P_2)s_{17}s_{27} -\n",
    "  s_{12}(P_1 \\times P_7)s_{27} + s_{12}s_{17}(P_2 \\times P_7)$\n",
    "then define \n",
    "$P_3 = (P_1 \\vee P_2) \\cap (P_4 \\vee P_7)$, $P_5 = (P_1 \\vee P_4) \\cap (P_2 \\vee P_7)$, $P_6 = (P_1 \\vee P_7) \\cap (P_2 \\vee P_4)$ then \n",
    "the points $P_\\, \\dotsc, P_7$ are in configuration $(C_8)$ and are eigenpoints of a suitable cubic."
   ]
  },
  {
   "cell_type": "markdown",
   "id": "680ffd77-c20a-4063-89d1-d94ce1c7d093",
   "metadata": {},
   "source": [
    "It is enough to verify that the rank of the matrix \n",
    "$\\Phi(P_1, P_2, P_3, P_4, P_5, P_6, P_7)$ is $\\leq 9$."
   ]
  },
  {
   "cell_type": "markdown",
   "id": "37538a8e-9489-4806-9c34-5137299f26ae",
   "metadata": {},
   "source": [
    "We redefine the points according to the above constrains and we split the problem in two cases:\n",
    "$P_1 = (1: 0: 0)$ and $P_1 = (1: i: 0)$. "
   ]
  },
  {
   "cell_type": "code",
   "execution_count": 157,
   "id": "7f8c5d04-ccb9-412a-90f8-2db579931bd1",
   "metadata": {},
   "outputs": [],
   "source": [
    "p1 = vector(S, (1, 0, 0))\n",
    "\n",
    "p2 = vector(S, (A2, B2, C2))\n",
    "p7 = vector(S, (A7, B7, C7))\n",
    "p4 = (\n",
    "    wedge_product(p1, p2)*scalar_product(p1, p7)*scalar_product(p2, p7)\n",
    "    - scalar_product(p1, p2)*wedge_product(p1, p7)*scalar_product(p2, p7)\n",
    "    + scalar_product(p1, p2)*scalar_product(p1, p7)*wedge_product(p2, p7)\n",
    ")\n",
    "p3 = intersection_lines(p1, p2, p4, p7)\n",
    "p5 = intersection_lines(p1, p4, p2, p7)\n",
    "p6 = intersection_lines(p1, p7, p2, p4)"
   ]
  },
  {
   "cell_type": "markdown",
   "id": "52ead681-2956-44c2-a12d-3fd8d94238ee",
   "metadata": {},
   "source": [
    "We have: the matrix $\\Phi([p_1, p_2, p_3, p_4, p_5, p_6, p_7])$ has rank 9:"
   ]
  },
  {
   "cell_type": "code",
   "execution_count": 158,
   "id": "49d06cf6-19b9-4cbd-9b32-303bf9069f2c",
   "metadata": {},
   "outputs": [],
   "source": [
    "assert(condition_matrix([p1, p2, p3, p4, p5, p6, p7], S, standard=\"all\").rank() == 9)"
   ]
  },
  {
   "cell_type": "markdown",
   "id": "911e6dec-b605-410c-891a-09dd6f330224",
   "metadata": {},
   "source": [
    "Similarly, we can verify the result for the case in which \n",
    "$p_1$ is $(1: ii: 0)$, but in this case , to speed up the computation, it is better to make some simplifications.\n",
    "\n",
    "We redefine the points."
   ]
  },
  {
   "cell_type": "code",
   "execution_count": 152,
   "id": "a29ac303-93c9-45b5-a3af-39efdcee03bd",
   "metadata": {},
   "outputs": [],
   "source": [
    "p1 = vector(S, (1, ii, 0))\n",
    "\n",
    "p2 = vector(S, (A2, B2, C2))\n",
    "p7 = vector(S, (A7, B7, C7))\n",
    "p4 = (\n",
    "    wedge_product(p1, p2)*scalar_product(p1, p7)*scalar_product(p2, p7)\n",
    "    - scalar_product(p1, p2)*wedge_product(p1, p7)*scalar_product(p2, p7)\n",
    "    + scalar_product(p1, p2)*scalar_product(p1, p7)*wedge_product(p2, p7)\n",
    ")\n",
    "p3 = intersection_lines(p1, p2, p4, p7)\n",
    "p5 = intersection_lines(p1, p4, p2, p7)\n",
    "p6 = intersection_lines(p1, p7, p2, p4)"
   ]
  },
  {
   "cell_type": "markdown",
   "id": "a514cc7d-7117-4575-a8c6-e7cdaabd4b3d",
   "metadata": {},
   "source": [
    "The coordinates of these points are big, but we can simplify some of them:"
   ]
  },
  {
   "cell_type": "code",
   "execution_count": 153,
   "id": "c47c67e4-f453-4f5e-8c1a-39dd61b9c09e",
   "metadata": {},
   "outputs": [],
   "source": [
    "gg = gcd(list(p3))\n",
    "p3 = vector(S, [pp.quo_rem(gg)[0] for pp in p3])\n",
    "\n",
    "gg = gcd(list(p5))\n",
    "p5 = vector(S, [pp.quo_rem(gg)[0] for pp in p5])\n",
    "\n",
    "gg = gcd(list(p6))\n",
    "p6 = vector(S, [pp.quo_rem(gg)[0] for pp in p6])"
   ]
  },
  {
   "cell_type": "markdown",
   "id": "b1886594-1fc9-4ea5-bd70-c0968b460c18",
   "metadata": {},
   "source": [
    "Now we can verify that in general matrix $\\Phi([p_1, p_2, p_3, p_4, p_5, p_6, p_7])$ has rank 9.\n",
    "\n",
    "This computation requires about 10 minutes."
   ]
  },
  {
   "cell_type": "code",
   "execution_count": 154,
   "id": "b36abac3-90ef-4964-84eb-c0686f73d63c",
   "metadata": {},
   "outputs": [
    {
     "name": "stdout",
     "output_type": "stream",
     "text": [
      "601.2928419999998\n"
     ]
    }
   ],
   "source": [
    "ttA = cputime()\n",
    "assert(condition_matrix([p1, p2, p3, p4, p5, p6, p7], S, standard=\"all\").rank() == 9)\n",
    "print(cputime()-ttA)"
   ]
  },
  {
   "cell_type": "markdown",
   "id": "9a92a52e-310d-4c56-9e01-89d172325e81",
   "metadata": {},
   "source": [
    "### CONCLUSION: \n",
    "\n",
    "If we fix three points $P_1, P_2, P_7$ in an arbitrary way and we define\n",
    "\n",
    "$P_4 = (P_1 \\times P_2)s_{17}s_{27} -\n",
    "  s_{12}(P_1 \\times P_7)s_{27} + s_{12}s_{17}(P_2 \\times P_7)$\n",
    "\n",
    "then we define \n",
    "\n",
    "$P_3 = (P_1 \\vee P_2) \\cap (P_4 \\vee P_7)$\n",
    "\n",
    "$P_5 = (P_1 \\vee P_4) \\cap (P_2 \\vee P_7)$\n",
    "\n",
    "$P_6 = (P_1 \\vee P_7) \\cap (P_2 \\vee P_4)$\n",
    "\n",
    "and we get a $(C_8)$ configuration of eigenpoints.\n"
   ]
  }
 ],
 "metadata": {
  "kernelspec": {
   "display_name": "SageMath 10.0",
   "language": "sage",
   "name": "sagemath"
  },
  "language_info": {
   "codemirror_mode": {
    "name": "ipython",
    "version": 3
   },
   "file_extension": ".py",
   "mimetype": "text/x-python",
   "name": "python",
   "nbconvert_exporter": "python",
   "pygments_lexer": "ipython3",
   "version": "3.10.12"
  }
 },
 "nbformat": 4,
 "nbformat_minor": 5
}
