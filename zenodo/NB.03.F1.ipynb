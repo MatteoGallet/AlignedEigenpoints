{
 "cells": [
  {
   "cell_type": "markdown",
   "id": "27a271d3-1b57-4347-a46c-3c167636c2ab",
   "metadata": {},
   "source": [
    "# Proposition"
   ]
  },
  {
   "cell_type": "markdown",
   "id": "7a38fdcf-ef06-4699-a12c-019038b1c9bb",
   "metadata": {},
   "source": [
    "Let $P_1, P_2, P_4$ be three distinct points of the plane. Then:\n",
    "* $5 \\leq \\mathrm{rk} \\,\\Phi(P_1, P_2, P_4) \\leq 6$;\n",
    "* if $\\mathrm{rk} \\, \\Phi(P_1, P_2, P_4) = 5$, then $P_1, P_2, P_4$\n",
    "  are aligned and the line joining them is tangent to the isotropic conic\n",
    "  in one of the three points."
   ]
  },
  {
   "cell_type": "code",
   "execution_count": 5,
   "id": "32ccb592-d639-4149-8e2d-7484da8eea46",
   "metadata": {},
   "outputs": [],
   "source": [
    "load(\"basic_functions.sage\")"
   ]
  },
  {
   "cell_type": "markdown",
   "id": "3c17208e-8a2f-4526-a408-b5d33c3bc061",
   "metadata": {
    "jp-MarkdownHeadingCollapsed": true
   },
   "source": [
    "## Proof of $\\mathrm{rk} \\,\\Phi(P_1, P_2, P_4) \\geq 5$"
   ]
  },
  {
   "cell_type": "markdown",
   "id": "fc95202f-8b5a-4626-8720-33cfa15ab326",
   "metadata": {},
   "source": [
    "We distinguish two cases: $P_1 = (1: 0: 0)$ and $P_1 = (1: i: 0)$."
   ]
  },
  {
   "cell_type": "markdown",
   "id": "261198c4-177c-46dd-ac93-e27053384004",
   "metadata": {
    "jp-MarkdownHeadingCollapsed": true
   },
   "source": [
    "### Case $P_1 = (1: 0: 0)$"
   ]
  },
  {
   "cell_type": "markdown",
   "id": "f2cf6f35-7909-4408-8fcf-d9267413976c",
   "metadata": {},
   "source": [
    "We define the three points."
   ]
  },
  {
   "cell_type": "code",
   "execution_count": 31,
   "id": "85204f0d-4c68-4a63-a181-5850db588e34",
   "metadata": {},
   "outputs": [],
   "source": [
    "P1 = vector((1, 0, 0))\n",
    "P2 = vector((A2, B2, C2))\n",
    "P4 = vector((A4, B4, C4))"
   ]
  },
  {
   "cell_type": "markdown",
   "id": "ed927193-c466-41d4-b2ec-428856b151d1",
   "metadata": {},
   "source": [
    "We define the matrix of conditions of $P_1$, $P_2$, and $P_4$."
   ]
  },
  {
   "cell_type": "code",
   "execution_count": 32,
   "id": "1cc6699c-d74f-4648-b85c-e6228ceecd8b",
   "metadata": {},
   "outputs": [],
   "source": [
    "M = condition_matrix([P1, P2, P4], S, standard=\"all\")"
   ]
  },
  {
   "cell_type": "markdown",
   "id": "9131d29d-8246-48ea-9ba1-9b9beb6b9872",
   "metadata": {},
   "source": [
    "We compute the ideal of minors of order $5$ of $M$."
   ]
  },
  {
   "cell_type": "code",
   "execution_count": 33,
   "id": "05070657-441e-400e-85b9-56b5abf07172",
   "metadata": {},
   "outputs": [],
   "source": [
    "J5 = S.ideal(M.minors(5))"
   ]
  },
  {
   "cell_type": "code",
   "execution_count": 34,
   "id": "a30ddb3a-289b-48bc-8d99-609996e69cf9",
   "metadata": {},
   "outputs": [],
   "source": [
    "J5 = J5.saturation(\n",
    "    S.ideal(matrix([P1, P2]).minors(2))\n",
    ")[0].saturation(\n",
    "    S.ideal(matrix([P1, P4]).minors(2))\n",
    ")[0].saturation(\n",
    "    S.ideal(matrix([P2, P4]).minors(2))\n",
    ")[0].radical()"
   ]
  },
  {
   "cell_type": "markdown",
   "id": "e61c27f7-48ed-4d99-a908-e950589dd9f2",
   "metadata": {},
   "source": [
    "$J_5$ is the ideal $(1)$, so the matrix $M$ cannot have rank $< 5$."
   ]
  },
  {
   "cell_type": "code",
   "execution_count": 35,
   "id": "067c8485-4b37-4117-8f48-77b17b56bcc8",
   "metadata": {},
   "outputs": [],
   "source": [
    "assert(J5 == S.ideal(S.one()))"
   ]
  },
  {
   "cell_type": "markdown",
   "id": "d6bf4c9b-cbf4-443f-b74f-94f95f4a2ac7",
   "metadata": {
    "jp-MarkdownHeadingCollapsed": true
   },
   "source": [
    "### Case $P_1 = (1: i: 0)$"
   ]
  },
  {
   "cell_type": "markdown",
   "id": "036e2163-6d13-48a7-8845-227d61d362fc",
   "metadata": {},
   "source": [
    "We define the three points."
   ]
  },
  {
   "cell_type": "code",
   "execution_count": 6,
   "id": "32b08609-571c-482b-b346-61b1533e94ca",
   "metadata": {},
   "outputs": [],
   "source": [
    "P1 = vector((1, ii, 0))\n",
    "P2 = vector((A2, B2, C2))\n",
    "P4 = vector((A4, B4, C4))"
   ]
  },
  {
   "cell_type": "markdown",
   "id": "bce0bd2f-8f9f-412e-8f79-8e410bf15aa9",
   "metadata": {},
   "source": [
    "We define the matrix of conditions of $P_1$, $P_2$, and $P_4$."
   ]
  },
  {
   "cell_type": "code",
   "execution_count": 51,
   "id": "c0336796-fe65-47a9-b510-23bb02fd6a08",
   "metadata": {},
   "outputs": [],
   "source": [
    "M = condition_matrix([P1, P2, P4], S, standard=\"all\")"
   ]
  },
  {
   "cell_type": "markdown",
   "id": "29729834-6b57-4d8d-be24-a5588e6f6328",
   "metadata": {},
   "source": [
    "We compute the ideal of minors of order $5$ of $M$."
   ]
  },
  {
   "cell_type": "code",
   "execution_count": 52,
   "id": "874db82e-5bab-46d9-b0e0-32c7c4ec3cb1",
   "metadata": {},
   "outputs": [],
   "source": [
    "J5 = S.ideal(M.minors(5))"
   ]
  },
  {
   "cell_type": "code",
   "execution_count": 53,
   "id": "9e212beb-ff96-4f51-a853-269aeca8f890",
   "metadata": {},
   "outputs": [],
   "source": [
    "J5 = J5.saturation(\n",
    "    S.ideal(matrix([P1, P2]).minors(2))\n",
    ")[0].saturation(\n",
    "    S.ideal(matrix([P1, P4]).minors(2))\n",
    ")[0].saturation(\n",
    "    S.ideal(matrix([P2, P4]).minors(2))\n",
    ")[0].radical()"
   ]
  },
  {
   "cell_type": "markdown",
   "id": "f739ebe6-65e0-4ca4-a7b0-342aea76ab3f",
   "metadata": {},
   "source": [
    "$J_5$ is the ideal $(1)$, so the matrix $M$ cannot have rank $< 5$."
   ]
  },
  {
   "cell_type": "code",
   "execution_count": 54,
   "id": "69d8b4f2-c896-4f4d-9913-163cba28c5d3",
   "metadata": {},
   "outputs": [],
   "source": [
    "assert(J5 == S.ideal(S.one()))"
   ]
  },
  {
   "cell_type": "markdown",
   "id": "bae2a9ba-3e12-4563-9d35-a7beab27fb66",
   "metadata": {
    "jp-MarkdownHeadingCollapsed": true
   },
   "source": [
    "## Proof of $\\mathrm{rk} \\,\\Phi(P_1, P_2, P_4) = 5$ if and only if $P_1$, $P_2$, and $P_4$ are aligned and the line joining them is tangent to the isotropic conic in one of the three points."
   ]
  },
  {
   "cell_type": "markdown",
   "id": "fd8d55a5-18a4-47f1-8a4c-25436a69a338",
   "metadata": {},
   "source": [
    "We distinguish two cases: $P_1 = (1: 0: 0)$ and $P_1 = (1: i: 0)$."
   ]
  },
  {
   "cell_type": "markdown",
   "id": "74e9a809-ed8d-4a02-b654-233e60f01fc4",
   "metadata": {
    "jp-MarkdownHeadingCollapsed": true
   },
   "source": [
    "### Case $P_1 = (1: 0: 0)$"
   ]
  },
  {
   "cell_type": "markdown",
   "id": "c3880915-9400-4307-a760-a73c5bc5b00e",
   "metadata": {},
   "source": [
    "We define the three points."
   ]
  },
  {
   "cell_type": "code",
   "execution_count": 7,
   "id": "202f7007-f8d9-43d7-9349-d6f0b6c9ba01",
   "metadata": {},
   "outputs": [],
   "source": [
    "P1 = vector((1, 0, 0))\n",
    "P2 = vector((A2, B2, C2))\n",
    "P4 = vector((A4, B4, C4))"
   ]
  },
  {
   "cell_type": "markdown",
   "id": "fdae31ae-dfd8-4ff4-8757-43eb58a008a8",
   "metadata": {},
   "source": [
    "We define the matrix of conditions of $P_1$, $P_2$, and $P_4$."
   ]
  },
  {
   "cell_type": "code",
   "execution_count": 8,
   "id": "5d5fb63a-94ea-4d82-87af-795166372bf7",
   "metadata": {},
   "outputs": [],
   "source": [
    "M = condition_matrix([P1, P2, P4], S, standard=\"all\")"
   ]
  },
  {
   "cell_type": "markdown",
   "id": "3840f6d2-e7ea-4c06-8a9f-8c6047833435",
   "metadata": {},
   "source": [
    "We compute the ideal of minors of order $6$ of $M$."
   ]
  },
  {
   "cell_type": "code",
   "execution_count": 9,
   "id": "1980e77a-e644-4bb8-a4f2-61aacd1a7c77",
   "metadata": {},
   "outputs": [],
   "source": [
    "J6 = S.ideal(M.minors(6))"
   ]
  },
  {
   "cell_type": "code",
   "execution_count": 12,
   "id": "f9f21d1b-740b-4d28-887e-b337d116482d",
   "metadata": {
    "scrolled": true
   },
   "outputs": [],
   "source": [
    "J6 = J6.saturation(\n",
    "    S.ideal(matrix([P1, P2]).minors(2))\n",
    ")[0].saturation(\n",
    "    S.ideal(matrix([P1, P4]).minors(2))\n",
    ")[0].saturation(\n",
    "    S.ideal(matrix([P2, P4]).minors(2))\n",
    ")[0]"
   ]
  },
  {
   "cell_type": "markdown",
   "id": "fba3323e-fd2f-4aaa-bb52-3908176c868d",
   "metadata": {},
   "source": [
    "We compute the primary decomposition of $J_6$"
   ]
  },
  {
   "cell_type": "code",
   "execution_count": 13,
   "id": "0ba0a55b-352a-4059-9358-7b806d78ed90",
   "metadata": {},
   "outputs": [],
   "source": [
    "pd = J6.radical().primary_decomposition()"
   ]
  },
  {
   "cell_type": "markdown",
   "id": "2d4b51c8-57b7-4e11-917f-df1f55b50d3e",
   "metadata": {},
   "source": [
    "We claim we have only two possibilities: \n",
    "* either $P_1$, $P_2$, $P_4$ are aligned and the line is tangent to the isotropic\n",
    "conic in $P_2$ (hence $P_2$ orthogonal to $P_4$, $P_2$ orthogonal to $P_2$ and \n",
    "$P_1$, $P_2$, $P_4$ aligned):"
   ]
  },
  {
   "cell_type": "code",
   "execution_count": 44,
   "id": "eb1f38dc-2282-4983-a9ec-42c9afe19b3b",
   "metadata": {},
   "outputs": [],
   "source": [
    "H6 = S.ideal(\n",
    "    scalar_product(P1, P2), \n",
    "    scalar_product(P2, P2), \n",
    "    det(matrix([P1, P2, P4]))\n",
    ").saturation(\n",
    "    S.ideal(list(P2))\n",
    ")[0].radical()\n",
    "PD1 = H6.primary_decomposition()"
   ]
  },
  {
   "cell_type": "markdown",
   "id": "aefcd8c0-54e8-4d2a-851c-975a3d13afb1",
   "metadata": {},
   "source": [
    "* or $P_1$, $P_2$, $P_4$ are aligned and the line is tangent to the isotropic\n",
    "conic in $P_4$ (hence $P_1$ orthogonal to $P_4$, $P_4$ orthogonal to $P_4$ and \n",
    "$P_1$, $P_2$, $P_4$ aligned):"
   ]
  },
  {
   "cell_type": "code",
   "execution_count": 48,
   "id": "067610ab-4631-46b6-9ac2-8d41ba982a01",
   "metadata": {},
   "outputs": [],
   "source": [
    "K6 = S.ideal(\n",
    "    scalar_product(P1, P4), \n",
    "    scalar_product(P4, P4), \n",
    "    det(matrix([P1, P2, P4]))\n",
    ").saturation(\n",
    "    S.ideal(list(P4))\n",
    ")[0].radical()\n",
    "PD2 = K6.primary_decomposition()"
   ]
  },
  {
   "cell_type": "markdown",
   "id": "69c02926-7e8e-4906-a433-c21b65a5ba80",
   "metadata": {},
   "source": [
    "We check that indeed these are the only two possibilities."
   ]
  },
  {
   "cell_type": "code",
   "execution_count": 49,
   "id": "713322a5-22ca-4f41-aa73-b79c39125e9f",
   "metadata": {},
   "outputs": [],
   "source": [
    "assert(Set(pd) == Set(PD1 + PD2))"
   ]
  },
  {
   "cell_type": "markdown",
   "id": "c1d24591-3bd6-4bbc-a033-08bea426f560",
   "metadata": {
    "jp-MarkdownHeadingCollapsed": true
   },
   "source": [
    "### Case $P_1 = (1: i: 0)$"
   ]
  },
  {
   "cell_type": "markdown",
   "id": "16059a3a-f11c-46f5-a1cc-a7f40aaa0e2e",
   "metadata": {},
   "source": [
    "We define the three points."
   ]
  },
  {
   "cell_type": "code",
   "execution_count": 6,
   "id": "6cd1a40a-766a-4bcd-8d6f-6211d2863203",
   "metadata": {},
   "outputs": [],
   "source": [
    "P1 = vector((1, ii, 0))\n",
    "P2 = vector((A2, B2, C2))\n",
    "P4 = vector((A4, B4, C4))"
   ]
  },
  {
   "cell_type": "markdown",
   "id": "fc76e4d2-f137-4436-94df-0a9f77a17053",
   "metadata": {},
   "source": [
    "We define the matrix of conditions of $P_1$, $P_2$, and $P_4$."
   ]
  },
  {
   "cell_type": "code",
   "execution_count": 51,
   "id": "3966a3ba-a334-4c75-b5a7-e9b12666cc32",
   "metadata": {},
   "outputs": [],
   "source": [
    "M = condition_matrix([P1, P2, P4], S, standard=\"all\")"
   ]
  },
  {
   "cell_type": "markdown",
   "id": "1aeec448-092c-4f85-914a-5989c6e7b772",
   "metadata": {},
   "source": [
    "We compute the ideal of minors of order $5$ of $M$."
   ]
  },
  {
   "cell_type": "code",
   "execution_count": null,
   "id": "d700ee6d-f8e7-4e4e-9603-1d42498f139e",
   "metadata": {},
   "outputs": [],
   "source": [
    "J6 = S.ideal(M.minors(6))"
   ]
  },
  {
   "cell_type": "code",
   "execution_count": null,
   "id": "31c79bed-6aba-45ac-9e10-8ee0ee35cb21",
   "metadata": {},
   "outputs": [],
   "source": [
    "J6 = J6.saturation(\n",
    "    S.ideal(matrix([P1, P2]).minors(2))\n",
    ")[0].saturation(\n",
    "    S.ideal(matrix([P1, P4]).minors(2))\n",
    ")[0].saturation(\n",
    "    S.ideal(matrix([P2, P4]).minors(2))\n",
    ")[0].radical()"
   ]
  },
  {
   "cell_type": "markdown",
   "id": "a3c1da72-34e7-470d-86cf-424682ba815d",
   "metadata": {},
   "source": [
    "When $J_6$ is satisfied, we have that $P_1$, $P_2$, $P_4$ are aligned\n",
    "and the line $P_1 \\vee P_2 \\vee P_4$ is tangent to the isotropic conic in $P_4$."
   ]
  },
  {
   "cell_type": "code",
   "execution_count": 67,
   "id": "9b9d115d-ca1c-444f-8026-d376a4eef81c",
   "metadata": {},
   "outputs": [],
   "source": [
    "K6 = S.ideal(\n",
    "    scalar_product(P1, P2), \n",
    "    scalar_product(P1, P4), \n",
    "    matrix([P1, P2, P4]).det()\n",
    ").saturation(\n",
    "    S.ideal(list(P4))\n",
    ")[0].radical()"
   ]
  },
  {
   "cell_type": "code",
   "execution_count": 68,
   "id": "d0c6a2ad-45db-4a67-90b8-59c8b0f77698",
   "metadata": {},
   "outputs": [],
   "source": [
    "assert(J6 == K6)"
   ]
  }
 ],
 "metadata": {
  "kernelspec": {
   "display_name": "SageMath 10.1",
   "language": "sage",
   "name": "sagemath"
  },
  "language_info": {
   "codemirror_mode": {
    "name": "ipython",
    "version": 3
   },
   "file_extension": ".py",
   "mimetype": "text/x-python",
   "name": "python",
   "nbconvert_exporter": "python",
   "pygments_lexer": "ipython3",
   "version": "3.10.6"
  }
 },
 "nbformat": 4,
 "nbformat_minor": 5
}
