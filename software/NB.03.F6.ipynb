{
 "cells": [
  {
   "cell_type": "markdown",
   "id": "1077fdf4-c39b-4d38-8870-44f53fd76507",
   "metadata": {},
   "source": [
    "# Theorem"
   ]
  },
  {
   "cell_type": "markdown",
   "id": "0e078972-5450-4bcd-97fc-906f2e882bf4",
   "metadata": {},
   "source": [
    "Let $P_1, \\dots, P_5$ be a $V$-configuration of points.\n",
    "Then $\\mathrm{rk} \\,\\Phi(P_1, \\dots, P_5) = 8$ if and only if one of the following two conditions is satisfied:\n",
    "* $\\delta_1(P_1, P_2, P_4) = 0$, $\\overline{\\delta}_1(P_1, P_2, P_3) = 0$, $\\overline{\\delta}_1(P_1, P_4, P_5) = 0$\\,;\n",
    "* the line $P_1 \\vee P_2$ is tangent to the isotropic conic in $P_2$ or $P_3$ and the line $P_1 \\vee P_4$ is tangent to the isotropic conic in $P_4$ or $P_5$; moreover, in this case we have $\\delta_1(P_1, P_2, P_4) \\neq 0$."
   ]
  },
  {
   "cell_type": "code",
   "execution_count": 10,
   "id": "d5c1efbf-91f3-4e9f-a356-0d1e175050e6",
   "metadata": {},
   "outputs": [],
   "source": [
    "load(\"basic_functions.sage\")"
   ]
  },
  {
   "cell_type": "markdown",
   "id": "6538a93f-3f4e-4c07-bd23-05cd42cf52e4",
   "metadata": {},
   "source": [
    "## Case $P_1 = (1: 0: 0)$"
   ]
  },
  {
   "cell_type": "markdown",
   "id": "1bd1d011-3318-4638-9bd4-e4d7b3788a95",
   "metadata": {},
   "source": [
    "We define five points, so that $P_1$, $P_2$, and $P_3$ are aligned and $P_1$, $P_4$, and $P_5$ are aligned."
   ]
  },
  {
   "cell_type": "code",
   "execution_count": 2,
   "id": "57187a5c-657a-40b4-be8d-0088082e81be",
   "metadata": {},
   "outputs": [],
   "source": [
    "P1 = vector((1, 0, 0))\n",
    "P2 = vector(S, (A2, B2, C2))\n",
    "P4 = vector(S, (A4, B4, C4))\n",
    "P3 = u1*P1+u2*P2\n",
    "P5 = v1*P1+v2*P4"
   ]
  },
  {
   "cell_type": "markdown",
   "id": "e8b4be1c-3fcc-4327-b2a2-a6103f97a294",
   "metadata": {},
   "source": [
    "We define the matrix of conditions of $P_1, \\dotsc, P_5$."
   ]
  },
  {
   "cell_type": "code",
   "execution_count": 3,
   "id": "aec686bd-1767-43f0-b69c-9e3a61e3f8b8",
   "metadata": {},
   "outputs": [],
   "source": [
    "M = condition_matrix([P1, P2, P3, P4, P5], S, standard=\"all\")"
   ]
  },
  {
   "cell_type": "markdown",
   "id": "c0a9216c-9faf-4d93-ba1c-de71da5a0807",
   "metadata": {},
   "source": [
    "Since the first three rows of $M$ are, respectively,\n",
    "$(0, 1, 0, 0, 0, 0, 0, 0, 0, 0)$, $(0, 0, 0, 0, 1, 0, 0, 0, 0, 0)$, and\n",
    "$(0, 0, 0, 0, 0, 0, 0, 0, 0, 0)$,\n",
    "in order to compute the minors of order $9$ of $M$, we can compute\n",
    "the minors of order $7$ of the matrix obtained from the rows $3, 4, \\dotsc, 14$\n",
    "of $M$ and all the columns of $M$ except columns $1$ and $4$."
   ]
  },
  {
   "cell_type": "code",
   "execution_count": 4,
   "id": "e4b5d092-2dca-45b2-8500-c231dcd51bbe",
   "metadata": {},
   "outputs": [],
   "source": [
    "assert(M[0] == vector(S, (0, 1, 0, 0, 0, 0, 0, 0, 0, 0)))\n",
    "assert(M[1] == vector(S, (0, 0, 0, 0, 1, 0, 0, 0, 0, 0)))\n",
    "assert(M[2] == vector(S, (0, 0, 0, 0, 0, 0, 0, 0, 0, 0)))\n",
    "N = M.matrix_from_rows_and_columns(range(3, 15), [0, 2, 3, 5, 6, 7, 8, 9])"
   ]
  },
  {
   "cell_type": "markdown",
   "id": "3c3db3ab-7a51-41ca-baef-66307f2d9114",
   "metadata": {},
   "source": [
    "Since we have\n",
    "$$\n",
    "P_{i,z} N_{3(i-2) + 1)} - P_{i,y} N_{(3(i-2) + 2)} + P_{i,x} N_{(3(i-2) + 3)}\n",
    "$$\n",
    "for $i \\in \\{2, 3, 4, 5\\}$ where $N_{(k)}$ is the $k$-th row of $N$:"
   ]
  },
  {
   "cell_type": "code",
   "execution_count": 5,
   "id": "18b779f7-062d-41db-b23e-e280dbe803e9",
   "metadata": {},
   "outputs": [],
   "source": [
    "assert(tuple(P2[2]*N[0]-P2[1]*N[1]+P2[0]*N[2]) == (0, 0, 0, 0, 0, 0, 0, 0))\n",
    "assert(tuple(P3[2]*N[3]-P3[1]*N[4]+P3[0]*N[5]) == (0, 0, 0, 0, 0, 0, 0, 0))\n",
    "assert(tuple(P4[2]*N[6]-P4[1]*N[7]+P4[0]*N[8]) == (0, 0, 0, 0, 0, 0, 0, 0))\n",
    "assert(tuple(P5[2]*N[9]-P5[1]*N[10]+P5[0]*N[11]) == (0, 0, 0, 0, 0, 0, 0, 0))"
   ]
  },
  {
   "cell_type": "markdown",
   "id": "f4017ac3-9865-470f-acbd-509c1f8664d3",
   "metadata": {},
   "source": [
    "a square submatrix of order $7$ of $N$ has surely determinant zero if\n",
    "it contains the three rows $0$, $1$, $2$ or the three rows $3$, $4$, $5$ or the\n",
    "three rows $6$, $7$, $8$ or the three rows $9$, $10$, $11$. \n",
    "\n",
    "Hence we construct all the submatrices of $N$ of order $7$ thatdo not  contain these\n",
    "these triplets of rows."
   ]
  },
  {
   "cell_type": "code",
   "execution_count": 41,
   "id": "186950f8-3f4f-4b97-a8b2-147970e608ec",
   "metadata": {},
   "outputs": [],
   "source": [
    "def is_min_sure_zero(st):\n",
    "    '''\n",
    "    Given a list of rows, check if it contains the triplet\n",
    "    0, 1, 2 or 3, 4, 5 or 6, 7, 8 or 9, 10, 11.\n",
    "    '''\n",
    "    return(\n",
    "        Set([0, 1, 2]).issubset(Set(st))\n",
    "        or Set([3, 4, 5]).issubset(Set(st))\n",
    "        or Set([6, 7, 8]).issubset(Set(st))\n",
    "        or Set([9, 10, 11]).issubset(Set(st))\n",
    "    )\n",
    "\n",
    "## select the \"good\" rows\n",
    "good_rows = filter(lambda u: not is_min_sure_zero(u), Combinations(12, 7))\n",
    "\n",
    "## select the \"good\" columns\n",
    "good_cols = Combinations(8, 7).list()"
   ]
  },
  {
   "cell_type": "markdown",
   "id": "54727b3c-bc3a-4607-86a4-904fe31cf006",
   "metadata": {},
   "source": [
    "Computation of minors of order $7$ (it may take 30')"
   ]
  },
  {
   "cell_type": "code",
   "execution_count": 7,
   "id": "c02d01c4-880e-471c-bcd5-52c970a0e1fe",
   "metadata": {},
   "outputs": [],
   "source": [
    "m7 = [N.matrix_from_rows_and_columns(rr, cc).det() for rr in good_rows for cc in good_cols]\n",
    "m7 = [p for p in m7 if not(p.is_zero())]"
   ]
  },
  {
   "cell_type": "markdown",
   "id": "bec6bf36-ad93-4dfb-8ed0-59797b173946",
   "metadata": {},
   "source": [
    "Computation of squarefree polynomials (it may take 30')"
   ]
  },
  {
   "cell_type": "code",
   "execution_count": 8,
   "id": "d3082fd8-f896-4185-b922-bb5d7fc14eda",
   "metadata": {},
   "outputs": [],
   "source": [
    "m7s = [get_sqrfree(p) for p in m7]"
   ]
  },
  {
   "cell_type": "markdown",
   "id": "871bccf1-47f1-4183-92fc-1a9cab2b284e",
   "metadata": {},
   "source": [
    "Saturation of the polynomials w.r.t. u and v"
   ]
  },
  {
   "cell_type": "code",
   "execution_count": 11,
   "id": "c992dcb7-7d6b-4f9e-be56-84c546d1f991",
   "metadata": {},
   "outputs": [],
   "source": [
    "m7ss = [clear_uv(p) for p in m7s]"
   ]
  },
  {
   "cell_type": "markdown",
   "id": "6c8299bd-ef8a-4cf6-9d85-ee3601d9f43f",
   "metadata": {},
   "source": [
    "Saturation with respect to the condition that the points are distinct"
   ]
  },
  {
   "cell_type": "code",
   "execution_count": 14,
   "id": "0b6f001a-b6e3-491b-8f85-863547cd3634",
   "metadata": {},
   "outputs": [],
   "source": [
    "J = S.ideal(m7ss)\n",
    "points = [P1, P2, P3, P4, P5]\n",
    "pairs = Combinations(points, 2)\n",
    "for pair in pairs:\n",
    "    to_sat = S.ideal(matrix([pair[0], pair[1]]).minors(2))\n",
    "    J = J.saturation(to_sat)[0]"
   ]
  },
  {
   "cell_type": "markdown",
   "id": "cfb9a708-2b3a-46c2-a111-4e892f16e632",
   "metadata": {},
   "source": [
    "Saturation with respect to the condition that $P_1$, $P_2$, and $P_4$ are aligned"
   ]
  },
  {
   "cell_type": "code",
   "execution_count": 16,
   "id": "d8483a5a-d370-4010-8ad1-f68a0551f16a",
   "metadata": {},
   "outputs": [],
   "source": [
    "J = J.saturation(matrix([P1, P2, P4]).det())[0]"
   ]
  },
  {
   "cell_type": "markdown",
   "id": "4880b315-81ae-48ad-8ee7-7e9e3e46cb88",
   "metadata": {},
   "source": [
    "Primary decomposition of the ideal $J$"
   ]
  },
  {
   "cell_type": "code",
   "execution_count": 19,
   "id": "3260c30f-5807-44ff-9a00-f5bd79321dd6",
   "metadata": {},
   "outputs": [],
   "source": [
    "PD = J.radical().primary_decomposition()"
   ]
  },
  {
   "cell_type": "markdown",
   "id": "7e85fb15-59a3-4b91-8763-bd3636310b81",
   "metadata": {},
   "source": [
    "We get that the primary decomposition is constituted of 9 ideals:"
   ]
  },
  {
   "cell_type": "code",
   "execution_count": 20,
   "id": "b69b5337-eb88-4465-9f2a-afd019b35489",
   "metadata": {},
   "outputs": [],
   "source": [
    "assert(len(PD) == 9)"
   ]
  },
  {
   "cell_type": "markdown",
   "id": "a774c287-2b86-445e-8cb0-1946966cc771",
   "metadata": {},
   "source": [
    "Of these ideals, 8 can be written explicitly: they correspond to the case in which the lines $P_1 \\vee P_2$\n",
    "and $P_1 \\vee P_4$ are tangent to the isotropic conic in, respectively, \n",
    "($P_2$ or $P_3$) and ($P_4$ or $P_5$)."
   ]
  },
  {
   "cell_type": "code",
   "execution_count": 45,
   "id": "f282850b-9f07-4bfd-94ab-0948b41c7832",
   "metadata": {
    "scrolled": true
   },
   "outputs": [],
   "source": [
    "for P in [P2, P3]:\n",
    "    for Q in [P4, P5]:\n",
    "        for I in S.ideal(\n",
    "            scalar_product(P, P), \n",
    "            sigma(P1, P2), \n",
    "            scalar_product(Q, Q), \n",
    "            sigma(P1, P4)\n",
    "        ).saturation(\n",
    "            S.ideal(matrix([P, Q]).minors(2))\n",
    "        )[0].radical().primary_decomposition():\n",
    "            assert(I in PD)"
   ]
  },
  {
   "cell_type": "markdown",
   "id": "619ee757-5705-457a-a26d-7608c30c709d",
   "metadata": {},
   "source": [
    "There is a final ideal in the primary decomposition which is \n",
    "the ideal generated by \n",
    "$$\n",
    " \\delta_1(P_1, P_2, P_4),\n",
    " \\bar{\\delta}_1(P_1, P_2, P_3),\n",
    " \\bar{\\delta}_1(P_1, P_4, P_5)\n",
    "$$"
   ]
  },
  {
   "cell_type": "code",
   "execution_count": 49,
   "id": "c23d6ac0-c95c-40f6-8c2e-6d04d8f28e9c",
   "metadata": {},
   "outputs": [],
   "source": [
    "I = J\n",
    "for P in [P2, P3]:\n",
    "    for Q in [P4, P5]:\n",
    "        I = I.saturation(\n",
    "            S.ideal(scalar_product(P, P), sigma(P1, P2), scalar_product(Q, Q), sigma(P1, P4)).saturation(\n",
    "                S.ideal(matrix([P, Q]).minors(2))\n",
    "            )[0].radical()\n",
    "        )[0]"
   ]
  },
  {
   "cell_type": "code",
   "execution_count": 50,
   "id": "d5526454-a561-4a10-825d-15a59fb6e7ae",
   "metadata": {},
   "outputs": [],
   "source": [
    "assert(I == S.ideal(delta1(P1, P2, P4), delta1b(P1, P2, P3), delta1b(P1, P4, P5)))"
   ]
  },
  {
   "cell_type": "markdown",
   "id": "a1415a8e-9e70-4de2-a7ef-943b4eafd2f1",
   "metadata": {},
   "source": [
    "#### Titolo 4"
   ]
  },
  {
   "cell_type": "code",
   "execution_count": null,
   "id": "23eb8113-df58-4707-af79-0b0e2fb358df",
   "metadata": {},
   "outputs": [],
   "source": []
  },
  {
   "cell_type": "code",
   "execution_count": null,
   "id": "677342d8-f75f-4011-965f-1fb80c9d27ed",
   "metadata": {},
   "outputs": [],
   "source": []
  },
  {
   "cell_type": "code",
   "execution_count": null,
   "id": "cb184f4d-5380-4fb6-a4e9-5f7effffb83a",
   "metadata": {},
   "outputs": [],
   "source": []
  },
  {
   "cell_type": "code",
   "execution_count": null,
   "id": "ba840342-bfd1-4fdc-8c70-86ae172cc023",
   "metadata": {},
   "outputs": [],
   "source": []
  },
  {
   "cell_type": "code",
   "execution_count": null,
   "id": "9d7ffc38-b5cc-4958-8cf3-6538db5c43cb",
   "metadata": {},
   "outputs": [],
   "source": []
  },
  {
   "cell_type": "markdown",
   "id": "86455d7e-7f51-4955-87ec-dcfc74d1aa8d",
   "metadata": {},
   "source": [
    "## Case $P_1 = (1: i: 0)$"
   ]
  },
  {
   "cell_type": "markdown",
   "id": "c242e9ad-c1af-48af-8096-c515fab4a675",
   "metadata": {},
   "source": [
    "We define five points, so that $P_1$, $P_2$, and $P_3$ are aligned and $P_1$, $P_4$, and $P_5$ are aligned."
   ]
  },
  {
   "cell_type": "code",
   "execution_count": 51,
   "id": "be8d54ea-86a0-48ee-b1db-d26fe3e41b76",
   "metadata": {},
   "outputs": [],
   "source": [
    "P1 = vector((1, ii, 0))\n",
    "P2 = vector(S, (A2, B2, C2))\n",
    "P4 = vector(S, (A4, B4, C4))\n",
    "P3 = u1*P1+u2*P2\n",
    "P5 = v1*P1+v2*P4"
   ]
  },
  {
   "cell_type": "markdown",
   "id": "ef7a22ee-5e8f-4491-b3d4-2eca22edc379",
   "metadata": {},
   "source": [
    "We define the matrix of conditions of $P_1, \\dotsc, P_5$."
   ]
  },
  {
   "cell_type": "code",
   "execution_count": 52,
   "id": "3906d6a4-a7c0-4078-be0e-91135e1e8701",
   "metadata": {},
   "outputs": [],
   "source": [
    "M = condition_matrix([P1, P2, P3, P4, P5], S, standard=\"all\")"
   ]
  },
  {
   "cell_type": "markdown",
   "id": "c100bf39-2aab-421b-9c02-5f807a33b9ae",
   "metadata": {},
   "source": [
    "Manipulation of $M$ with elementary rows and columns operations,\n",
    "in order to have a simpler matrix.\n",
    "\n",
    "We use the fact that $M$ has the following first three rows:\n",
    "$(-3i, 3, 3i, -3, 0, 0, 0, 0, 0, 0)$, \n",
    "$(0, 0, 0, 0, 1, i, -1, 0, 0, 0)$,\n",
    "$(0, 0, 0, 0, i, -1, -i, 0, 0, 0)$.\n",
    "\n",
    "The second and third row are linearly independent."
   ]
  },
  {
   "cell_type": "code",
   "execution_count": 54,
   "id": "87861a9b-5501-46d1-a3b6-8cc973b778cb",
   "metadata": {},
   "outputs": [],
   "source": [
    "assert(M[0] == vector(S, ((-3*ii), 3, (3*ii), -3, 0, 0, 0, 0, 0, 0)))\n",
    "assert(M[1] == vector(S, (0, 0, 0, 0, 1, ii, -1, 0, 0, 0)))\n",
    "assert(M[2] == vector(S, (0, 0, 0, 0, ii, -1, (-ii), 0, 0, 0)))"
   ]
  },
  {
   "cell_type": "code",
   "execution_count": 55,
   "id": "84b3ac37-0a44-471a-a604-2c99b289ccb4",
   "metadata": {},
   "outputs": [],
   "source": [
    "M.rescale_row(0, 1/3)\n",
    "\n",
    "for j in range(3, 15):\n",
    "    M.add_multiple_of_row(j, 0, -M[j, 1])\n",
    "\n",
    "assert([M[j, 1] for j in range(3, 15)] == [0 for j in range(3, 15)])"
   ]
  },
  {
   "cell_type": "code",
   "execution_count": 56,
   "id": "48c75ff2-6d67-46e1-a0ff-1805e609686c",
   "metadata": {},
   "outputs": [],
   "source": [
    "for j in range(3, 15):\n",
    "    M.add_multiple_of_row(j, 1, -M[j, 4])\n",
    "\n",
    "assert([M[j, 4] for j in range(3, 15)] == [0 for j in range(3, 15)])"
   ]
  },
  {
   "cell_type": "markdown",
   "id": "2c65ec8a-cf0e-47c3-ae1a-67228169c532",
   "metadata": {},
   "source": [
    "In order to compute the minors of order $9$ of $M$, now, we can compute\n",
    "the minors of order $7$ of the matrix obtained from the rows $3, 4, \\dotsc, 14$\n",
    "of $M$ and all of its columns, except columns $0$ and $4$."
   ]
  },
  {
   "cell_type": "code",
   "execution_count": 57,
   "id": "942a7b75-5750-4992-b5bb-bf812ad88af0",
   "metadata": {},
   "outputs": [],
   "source": [
    "N = M.matrix_from_rows_and_columns(range(3, 15), [0, 2, 3, 5, 6, 7, 8, 9])"
   ]
  },
  {
   "cell_type": "markdown",
   "id": "f809de9b-3311-4032-8bd4-686987e325fd",
   "metadata": {},
   "source": [
    "Since we have\n",
    "$$\n",
    "P_{i,z} N_{3(i-2) + 1)} - P_{i,y} N_{(3(i-2) + 2)} + P_{i,x} N_{(3(i-2) + 3)}\n",
    "$$\n",
    "for $i \\in \\{2, 3, 4, 5\\}$ where $N_{(k)}$ is the $k$-th row of $N$:"
   ]
  },
  {
   "cell_type": "code",
   "execution_count": 60,
   "id": "2414188f-af68-41da-a5e9-931b9cfe8fd7",
   "metadata": {},
   "outputs": [],
   "source": [
    "assert(tuple(P2[2]*N[0]-P2[1]*N[1]+P2[0]*N[2]) == (0, 0, 0, 0, 0, 0, 0, 0))\n",
    "assert(tuple(P3[2]*N[3]-P3[1]*N[4]+P3[0]*N[5]) == (0, 0, 0, 0, 0, 0, 0, 0))\n",
    "assert(tuple(P4[2]*N[6]-P4[1]*N[7]+P4[0]*N[8]) == (0, 0, 0, 0, 0, 0, 0, 0))\n",
    "assert(tuple(P5[2]*N[9]-P5[1]*N[10]+P5[0]*N[11]) == (0, 0, 0, 0, 0, 0, 0, 0))"
   ]
  },
  {
   "cell_type": "markdown",
   "id": "caf6042f-343e-4582-8288-4d93a8ac87c3",
   "metadata": {},
   "source": [
    "a square submatrix of order $7$ of $N$ has surely determinant zero if\n",
    "it contains the three rows $0$, $1$, $2$ or the three rows $3$, $4$, $5$ or the\n",
    "three rows $6$, $7$, $8$ or the three rows $9$, $10$, $11$. \n",
    "\n",
    "Hence we construct all the submatrices of $N$ of order $7$ thatdo not contain these\n",
    "these triplets of rows."
   ]
  },
  {
   "cell_type": "code",
   "execution_count": 62,
   "id": "f198c8fd-a50c-412a-a379-27b707dbd0a1",
   "metadata": {},
   "outputs": [],
   "source": [
    "def is_min_sure_zero(st):\n",
    "    '''\n",
    "    Given a list of rows, check if it contains the triplet\n",
    "    0, 1, 2 or 3, 4, 5 or 6, 7, 8 or 9, 10, 11.\n",
    "    '''\n",
    "    return(\n",
    "        Set([0, 1, 2]).issubset(Set(st))\n",
    "        or Set([3, 4, 5]).issubset(Set(st))\n",
    "        or Set([6, 7, 8]).issubset(Set(st))\n",
    "        or Set([9, 10, 11]).issubset(Set(st))\n",
    "    )\n",
    "\n",
    "## select the \"good\" rows\n",
    "good_rows = filter(lambda u: not is_min_sure_zero(u), Combinations(12, 7))\n",
    "\n",
    "## select the \"good\" columns\n",
    "good_cols = Combinations(8, 7).list()"
   ]
  },
  {
   "cell_type": "markdown",
   "id": "c92085dd-958f-45d4-9a74-7c4396a0d958",
   "metadata": {},
   "source": [
    "Computation of minors of order $7$ (it may take 6m)"
   ]
  },
  {
   "cell_type": "code",
   "execution_count": 63,
   "id": "6cf1ad16-dfb2-46d9-aa07-854f71efb9ef",
   "metadata": {},
   "outputs": [],
   "source": [
    "m7 = [N.matrix_from_rows_and_columns(rr, cc).det() for rr in good_rows for cc in good_cols]\n",
    "m7 = [p for p in m7 if not(p.is_zero())]"
   ]
  },
  {
   "cell_type": "markdown",
   "id": "d3eaf6aa-58a4-4cdb-8d81-c38abb9cb89e",
   "metadata": {},
   "source": [
    "Some preprocessing. We divide each element of m7\n",
    "by $u_1$, $u_2$, $v_1$, $v_2$, and the condition that $P_1$, $P_2$, and $P_4$ are aligned as much as possible\n",
    "In this way the elements of m7 become simpler (it may take 4m)."
   ]
  },
  {
   "cell_type": "code",
   "execution_count": 65,
   "id": "509e50e2-1e45-4deb-9a33-7c596214d743",
   "metadata": {},
   "outputs": [],
   "source": [
    "dt = matrix([P1, P2, P4]).det()"
   ]
  },
  {
   "cell_type": "code",
   "execution_count": 67,
   "id": "bbdd0750-ec36-4a4e-b835-4314c45d7c3b",
   "metadata": {},
   "outputs": [],
   "source": [
    "m7 = [poly_saturate(p, u1) for p in m7]\n",
    "m7 = [poly_saturate(p, u2) for p in m7]\n",
    "m7 = [poly_saturate(p, v1) for p in m7]\n",
    "m7 = [poly_saturate(p, v2) for p in m7]\n",
    "m7 = [poly_saturate(p, dt) for p in m7]"
   ]
  },
  {
   "cell_type": "markdown",
   "id": "6ab786fa-6711-4e40-bf13-ca283de4653e",
   "metadata": {},
   "source": [
    "Computation of squarefree polynomials (it may take 1h)"
   ]
  },
  {
   "cell_type": "code",
   "execution_count": null,
   "id": "d85f5b44-206f-4df8-a806-06a4f4953b91",
   "metadata": {},
   "outputs": [],
   "source": [
    "m7s = [get_sqrfree(p) for p in m7]"
   ]
  },
  {
   "cell_type": "markdown",
   "id": "1713a768-5aa1-476d-b980-e64969e28f36",
   "metadata": {},
   "source": [
    "Saturation of the polynomials w.r.t. u and v (it may take 1h)"
   ]
  },
  {
   "cell_type": "code",
   "execution_count": null,
   "id": "feb680de-f900-42e4-9d6b-637306963056",
   "metadata": {},
   "outputs": [],
   "source": [
    "m7ss = [clear_uv(p) for p in m7s]"
   ]
  },
  {
   "cell_type": "markdown",
   "id": "43c09f75-73b7-4c1c-a168-6cef3f5f3dd5",
   "metadata": {},
   "source": [
    "Saturation with respect to the condition that the points are distinct"
   ]
  },
  {
   "cell_type": "code",
   "execution_count": null,
   "id": "9a0bbbfb-dad0-48cb-9a2b-4aacb2bd5339",
   "metadata": {},
   "outputs": [],
   "source": [
    "J = S.ideal(m7ss)\n",
    "points = [P1, P2, P3, P4, P5]\n",
    "pairs = Combinations(points, 2)\n",
    "for pair in pairs:\n",
    "    to_sat = S.ideal(matrix([pair[0], pair[1]]).minors(2))\n",
    "    J = J.saturation(to_sat)[0]"
   ]
  },
  {
   "cell_type": "markdown",
   "id": "d6568b00-bc03-4f8e-b4b1-b44ba295d109",
   "metadata": {},
   "source": [
    "Saturation with respect to the condition that $P_1$, $P_2$, and $P_4$ are aligned"
   ]
  },
  {
   "cell_type": "code",
   "execution_count": null,
   "id": "b5770d5d-d54f-4674-b5c7-b30965d3949c",
   "metadata": {},
   "outputs": [],
   "source": [
    "J = J.saturation(dt)[0]"
   ]
  },
  {
   "cell_type": "code",
   "execution_count": null,
   "id": "b4bee731-dbd0-458b-9268-6cb22ac58413",
   "metadata": {},
   "outputs": [],
   "source": [
    "assert(J == S.ideal(S.one()))"
   ]
  }
 ],
 "metadata": {
  "kernelspec": {
   "display_name": "SageMath 10.1",
   "language": "sage",
   "name": "sagemath"
  },
  "language_info": {
   "codemirror_mode": {
    "name": "ipython",
    "version": 3
   },
   "file_extension": ".py",
   "mimetype": "text/x-python",
   "name": "python",
   "nbconvert_exporter": "python",
   "pygments_lexer": "ipython3",
   "version": "3.10.6"
  }
 },
 "nbformat": 4,
 "nbformat_minor": 5
}
