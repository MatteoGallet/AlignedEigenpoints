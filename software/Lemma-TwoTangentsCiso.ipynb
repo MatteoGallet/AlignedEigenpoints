{
 "cells": [
  {
   "cell_type": "markdown",
   "id": "b91cf53b-0c1a-4a07-8ee1-3a6d88a5da7e",
   "metadata": {},
   "source": [
    "# lemma: twoTangentsCiso"
   ]
  },
  {
   "cell_type": "markdown",
   "id": "ecfccbf0-0b21-418a-95bf-e378641edcba",
   "metadata": {},
   "source": [
    "About 10'' of computations"
   ]
  },
  {
   "cell_type": "code",
   "execution_count": 3,
   "id": "fb81b619-b9d7-4caa-b229-82cd7143d9af",
   "metadata": {},
   "outputs": [],
   "source": [
    "load(\"basic_functions.sage\")"
   ]
  },
  {
   "cell_type": "markdown",
   "id": "09845e40-071f-42ad-b72b-6e29fe55ff7c",
   "metadata": {},
   "source": [
    "Construction of a generic point on the isotropic conic (which will be discovered of \n",
    "the form $(l_1^2+l_2^2, i(l_1^2-l_2^2), 2il_1l_2)$:"
   ]
  },
  {
   "cell_type": "code",
   "execution_count": 11,
   "id": "968ceb51-31ab-4ce6-8064-6eb003337a36",
   "metadata": {},
   "outputs": [],
   "source": [
    "P1 = vector(S, (1, ii, 0))\n",
    "\n",
    "rt1 = l1*(y-ii*x)+l2*z\n",
    "\n",
    "rt1.subs({x:P1[0], y:P1[1], z:P1[2]})\n",
    "\n",
    "scndP = S.ideal(Ciso, rt1).radical().primary_decomposition()[1]\n",
    "aux = scndP.gens()[:2]\n",
    "mm2 = matrix([[aux[0].coefficient(x), aux[0].coefficient(y), \\\n",
    "aux[0].coefficient(z)],\\\n",
    "       [aux[1].coefficient(x), aux[1].coefficient(y), \\\n",
    "       aux[1].coefficient(z)]]).minors(2)\n",
    "\n",
    "## Generic point on Ciso (depending on two parameters):\n",
    "PP = vector(S, (mm2[2], -mm2[1], mm2[0]))\n",
    "\n",
    "assert(scndP.subs(substitution(PP)) == S.ideal(S(0)))\n",
    "assert(Ciso.subs(substitution(PP)) == S(0))\n",
    "assert(PP*ii == vector(S, (l1^2 + l2^2, ii*l1^2 + (-ii)*l2^2, (2*ii)*l1*l2)))"
   ]
  },
  {
   "cell_type": "markdown",
   "id": "68ec8365-a335-4f78-8b5c-010dc818d694",
   "metadata": {},
   "source": [
    "We can always assume that $l_2 \\not 0$, since $l_2 = 0$ gives that $PP = P_1$:"
   ]
  },
  {
   "cell_type": "code",
   "execution_count": 13,
   "id": "9ed946fe-25c9-4b94-bbb0-d6f65fbdadf9",
   "metadata": {},
   "outputs": [],
   "source": [
    "assert(matrix([P1, PP.subs(l2=0)]).rank() == 1)"
   ]
  },
  {
   "cell_type": "markdown",
   "id": "200d6171-45f9-4e19-bf66-b7f9a53acc8a",
   "metadata": {},
   "source": [
    "Now that we know the generic point of Ciso, we define two (distinct) points on \n",
    "the isotropic conic Ciso:"
   ]
  },
  {
   "cell_type": "code",
   "execution_count": 14,
   "id": "ca5463ea-915f-459a-b763-095743838570",
   "metadata": {},
   "outputs": [],
   "source": [
    "PP1 = vector(S, ((-ii)*l1^2 + (-ii)*l2^2, l1^2 - l2^2, 2*l1*l2))\n",
    "PP2 = vector(S, ((-ii)*m1^2 + (-ii)*m2^2, m1^2 - m2^2, 2*m1*m2))"
   ]
  },
  {
   "cell_type": "markdown",
   "id": "cd58457e-038e-444d-beb8-5b2cee7d5616",
   "metadata": {},
   "source": [
    "And we defines the lines ttg1 and ttg2, the first is tangent to Ciso in PP1, \n",
    "the second is tangent ot Ciso in PP2.\n",
    "\n",
    "Tangent to Ciso in PP1:"
   ]
  },
  {
   "cell_type": "code",
   "execution_count": 15,
   "id": "44153fcb-3c03-4edc-9dbc-b29e31da29c1",
   "metadata": {},
   "outputs": [],
   "source": [
    "ttg1 = (derivative(Ciso, x).subs({x: PP1[0], y:PP1[1], z:PP1[2]}))*(PP1[0]-x)+\\\n",
    "(derivative(Ciso, y).subs({x: PP1[0], y:PP1[1], z:PP1[2]}))*(PP1[1]-y)+\\\n",
    "(derivative(Ciso, z).subs({x: PP1[0], y:PP1[1], z:PP1[2]}))*(PP1[2]-z)"
   ]
  },
  {
   "cell_type": "markdown",
   "id": "2863c4f5-508a-4ae7-b4b3-2114f07e1cf1",
   "metadata": {},
   "source": [
    "Tangent to Ciso in PP2:"
   ]
  },
  {
   "cell_type": "code",
   "execution_count": 16,
   "id": "5345f6c5-dcdb-40af-8688-383155cc549c",
   "metadata": {},
   "outputs": [],
   "source": [
    "ttg2 = (derivative(Ciso, x).subs({x: PP2[0], y:PP2[1], z:PP2[2]}))*(PP2[0]-x)+\\\n",
    "(derivative(Ciso, y).subs({x: PP2[0], y:PP2[1], z:PP2[2]}))*(PP2[1]-y)+\\\n",
    "(derivative(Ciso, z).subs({x: PP2[0], y:PP2[1], z:PP2[2]}))*(PP2[2]-z)"
   ]
  },
  {
   "cell_type": "markdown",
   "id": "6e8be768-2ac1-4809-b9af-d969485d05d7",
   "metadata": {},
   "source": [
    "Just to be sure, we verify that ttg1 is tangent:"
   ]
  },
  {
   "cell_type": "code",
   "execution_count": 18,
   "id": "2417f4f2-7d7c-49c7-9dd7-add1de450a0e",
   "metadata": {},
   "outputs": [],
   "source": [
    "assert(S.ideal(ttg1, Ciso).radical() == \\\n",
    "S.ideal(z*l1 + (-ii)*x*l2 - y*l2, x*l1 + ii*y*l1 + ii*z*l2, x^2 + y^2 + z^2))"
   ]
  },
  {
   "cell_type": "markdown",
   "id": "54fae2d5-40d2-4639-a4ca-68a0071db811",
   "metadata": {},
   "source": [
    "We define the line $PP1 \\vee PP2$:"
   ]
  },
  {
   "cell_type": "code",
   "execution_count": 19,
   "id": "afa6c369-b305-41e5-8796-9a0ebcc284dc",
   "metadata": {},
   "outputs": [],
   "source": [
    "rr = matrix([PP1, PP2, (x, y, z)]).det().factor()[-1][0]"
   ]
  },
  {
   "cell_type": "markdown",
   "id": "5aa6fa96-a083-4c79-91d4-6fdd7fac5202",
   "metadata": {},
   "source": [
    "Finally, we define the cubic $C(r) = r(r^2-3(a^2+b^2+c^2)Ciso)$\n",
    "and we verify that $C(r)$ has ttg1 and ttg2 as eigenpoints (10 seconds of computation)"
   ]
  },
  {
   "cell_type": "code",
   "execution_count": 21,
   "id": "a34e478f-488f-4c99-8b7a-39541649e77b",
   "metadata": {},
   "outputs": [],
   "source": [
    "Cr = rr*(rr^2-3*(rr.coefficient(x)^2+\\\n",
    "         rr.coefficient(y)^2+rr.coefficient(z)^2)*Ciso)\n",
    "\n",
    "JJ = S.ideal(matrix([[Cr.derivative(x), Cr.derivative(y), \\\n",
    "                      Cr.derivative(z)], [x, y, z]]).minors(2))\n",
    "\n",
    "PDJ = JJ.radical().primary_decomposition()\n",
    "\n",
    "assert(len(PDJ) == 2)\n",
    "assert(PDJ[0] == S.ideal(ttg1))\n",
    "assert(PDJ[1] == S.ideal(ttg2))"
   ]
  },
  {
   "cell_type": "markdown",
   "id": "81188b98-0dca-422d-afd3-ede4cf984c52",
   "metadata": {},
   "source": [
    "This conclude the proof of lemma: twoTangentsCiso"
   ]
  }
 ],
 "metadata": {
  "kernelspec": {
   "display_name": "SageMath 10.2",
   "language": "sage",
   "name": "sagemath"
  },
  "language_info": {
   "codemirror_mode": {
    "name": "ipython",
    "version": 3
   },
   "file_extension": ".py",
   "mimetype": "text/x-python",
   "name": "python",
   "nbconvert_exporter": "python",
   "pygments_lexer": "ipython3",
   "version": "3.9.15"
  }
 },
 "nbformat": 4,
 "nbformat_minor": 5
}
