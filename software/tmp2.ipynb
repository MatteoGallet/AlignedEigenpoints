{
 "cells": [
  {
   "cell_type": "code",
   "execution_count": 1,
   "id": "df13c050-424f-426d-a451-33f270f3464d",
   "metadata": {},
   "outputs": [],
   "source": [
    "load(\"basic_functions.sage\")"
   ]
  },
  {
   "cell_type": "code",
   "execution_count": 2,
   "id": "4d2f59a5-2e8a-453e-a41c-058bcbbd988d",
   "metadata": {},
   "outputs": [],
   "source": [
    "## Here we prove that if the points of a V configuration are such that:\n",
    "## delta1(P1, P2, P4) = 0\n",
    "## delta1b(P1, P2, P3) = 0\n",
    "## delta1b(P1, P4, P5) = 0\n",
    "## (i.e. this is one of the two cases in which rk Phi(P1, ..., P5) = 8)\n",
    "## then, in general, we have the only collinearity:\n",
    "## (1, 2, 3), (1, 4, 5)\n",
    "## (although delta2(P1, ..., P5) = 0)\n",
    "## In the one dimensional linear family of all the cubics with \n",
    "## P1, ..., P5 eigenpoints, there is one cubic which has the further \n",
    "## collinearity (1, 6, 7).\n",
    "## Moreover, if we have the collinearities (1, 2, 3), (1, 4, 5) and (1, 6, 7)\n",
    "## we cannot find cubics with eigenpoints with other collinearities.\n",
    "## This is not in contradiction with the results of three_d_partA.sage, \n",
    "## because there the configuration (8) does not involve the the \n",
    "## alignment (1, 6, 7).\n",
    "## This file considers one possible solution of the equation \n",
    "## delta1(P1, P2, P4) = 0, \n",
    "## The file three_deltas_II.sage considers the same problem, but \n",
    "## with the other solution of the above equation."
   ]
  },
  {
   "cell_type": "code",
   "execution_count": 3,
   "id": "73fa967a-29f5-48ea-8a46-23809a34e842",
   "metadata": {},
   "outputs": [],
   "source": [
    "P1 = vector((1, 0, 0))\n",
    "P2 = vector(S, (A2, B2, C2))\n",
    "P3 = u1*P1+u2*P2\n",
    "P4 = vector(S, (A4, B4, C4))\n",
    "P5 = v1*P1+v2*P4"
   ]
  },
  {
   "cell_type": "code",
   "execution_count": 4,
   "id": "2097f665-68d3-4253-95a4-5248a8b4d9d3",
   "metadata": {},
   "outputs": [],
   "source": [
    "## We want delta1(P1, P2, P4) = 0.\n",
    "## delta1 is B2*B4+C2*C4:\n",
    "assert(delta1(P1, P2, P4) == B2*B4+C2*C4)"
   ]
  },
  {
   "cell_type": "code",
   "execution_count": 5,
   "id": "986998a4-a761-43ab-a308-c3130cf501cd",
   "metadata": {},
   "outputs": [],
   "source": [
    "## It is not possible to have C2 = 0 and C4 = 0\n",
    "## here we assume C2  != 0. If C2 = 0, necessarily B2 != 0.\n",
    "## If C2 != 0 and B4 = 0, we get C4 = 0, but P4 != P1, so\n",
    "## if C2 != 0, we can assume B4 != 0.\n",
    "## so the other case to consider is C2 = 0, B4 = 0\n",
    "## in which case the points are \n",
    "## p1 = (1, 0, 0), p2 = (A2, B2, 0), p4 = (A4, 0, C4).\n",
    "## Here we assume C2 != 0\n",
    "st1 = {A4: A4*C2, B4: B4*C2, C4:-B2*B4}\n",
    "p1 = P1.subs(st1)\n",
    "p2 = P2.subs(st1)\n",
    "p4 = P4.subs(st1)\n",
    "assert(delta1(p1, p2, p4) == 0)"
   ]
  },
  {
   "cell_type": "code",
   "execution_count": 6,
   "id": "5ca986fb-5a4c-457e-a6be-3e8ff7da1c4c",
   "metadata": {},
   "outputs": [],
   "source": [
    "## we define p3 and p5 according to the known formulas:\n",
    " \n",
    "p3 = (scalar_product(p1, p2)^2+scalar_product(p1, p1)*scalar_product(p2, p2))*p1-\\\n",
    "    2*(scalar_product(p1, p1)*scalar_product(p1, p2))*p2\n",
    "p5 = (scalar_product(p1, p4)^2+scalar_product(p1, p1)*scalar_product(p4, p4))*p1-\\\n",
    "    2*(scalar_product(p1, p1)*scalar_product(p1, p4))*p4"
   ]
  },
  {
   "cell_type": "code",
   "execution_count": 7,
   "id": "632fb941-5ca0-4b75-becf-8986eb8f3fd3",
   "metadata": {},
   "outputs": [],
   "source": [
    "## the entries of p5 can be divided by B4 (which is, as said, not 0)\n",
    "assert(gcd(list(p5)) == B4)\n",
    "\n",
    "p5 = vector(S, [px.quo_rem(B4)[0] for px in list(p5)])"
   ]
  },
  {
   "cell_type": "code",
   "execution_count": 8,
   "id": "6f208fae-8c25-4c9b-ae78-71abbd00da68",
   "metadata": {},
   "outputs": [],
   "source": [
    "assert(delta1b(p1, p2, p3) == 0)\n",
    "assert(delta1b(p1, p4, p5) == 0)\n",
    "## Incidentally, delta2 is also 0:\n",
    "assert(delta2(p1, p2, p3, p4, p5) == 0)"
   ]
  },
  {
   "cell_type": "code",
   "execution_count": 9,
   "id": "a646836f-241a-4efc-a0be-829b35d895cb",
   "metadata": {},
   "outputs": [],
   "source": [
    "## an example shows that, in general,  p6 and p7 are not aligned with p1.\n",
    "## Here is an example. The 7 eigenpoints are such that p6 and p7 \n",
    "## are not aligned with p1.\n",
    "\n",
    "#ss3 = {A2:1, B2:-5, C2:-3, A4:7, B4:-5}\n",
    "#pp1 = p1.subs(ss3)\n",
    "#pp2 = p2.subs(ss3)\n",
    "#pp3 = p3.subs(ss3)\n",
    "#pp4 = p4.subs(ss3)\n",
    "#pp5 = p5.subs(ss3)\n",
    "#cb = cubic_from_matrix(matrixEigenpoints([pp1, pp2, pp3, pp4, pp5]).\\\n",
    "#                 stack(matrix([[2, 3, 4, 5, 6, 7, 8, 9, 1, 2]])))\n",
    "#eigenpoints(cb)"
   ]
  },
  {
   "cell_type": "code",
   "execution_count": 12,
   "id": "dba4e885-f6ab-40e0-ad85-c0310ef2c02f",
   "metadata": {},
   "outputs": [],
   "source": [
    "### NOW WE WANT TO SEE WHAT HAPPENS IF WE IMPOSE THE ALIGNMENT:\n",
    "## p1, p6, p7.\n",
    "##  We start with p1, p2, p3, p4, p5 as above, such that \n",
    "##  delta1(p1, p2, p4), delta1b(p1, p2, p3) and delta1b(p1, p4, p5) are 0\n",
    "\n",
    "## the matrix Phi(p1, p2, p3, p4, p5) has rank 8. \n",
    "M = condition_matrix([p1, p2, p3, p4, p5], S, standard=\"all\")\n",
    "assert(M.rank() == 8)"
   ]
  },
  {
   "cell_type": "code",
   "execution_count": 13,
   "id": "7acb9149-875d-4222-876e-01e72ac5928e",
   "metadata": {},
   "outputs": [],
   "source": [
    "## We select 8 linearly independent rows: \n",
    "\n",
    "mm = M.matrix_from_rows([0, 1, 4, 5, 7, 8, 12, 14])"
   ]
  },
  {
   "cell_type": "code",
   "execution_count": 14,
   "id": "bd9d3ec9-7c22-4c93-b510-1196a72b15bf",
   "metadata": {},
   "outputs": [],
   "source": [
    "## in general, mm has rank 8\n",
    "assert(mm.rank() == 8)  "
   ]
  },
  {
   "cell_type": "code",
   "execution_count": 15,
   "id": "c3613232-2830-45a3-9256-129e745a7c9d",
   "metadata": {},
   "outputs": [],
   "source": [
    "## let us see when it is not 8:\n",
    "hj = S.ideal(mm.minors(8))\n",
    "hj = hj.saturation(S.ideal(matrix([p3, p5]).minors(2)))[0]\n",
    "hj = hj.saturation(S.ideal(matrix([p1, p3]).minors(2)))[0]\n",
    "hj = hj.saturation(S.ideal(matrix([p1, p5]).minors(2)))[0]\n",
    "hj = hj.saturation(S.ideal(matrix([p2, p3]).minors(2)))[0]\n",
    "## \n",
    "## it holds: hj = (1)\n",
    "assert(hj == S.ideal(1))\n",
    "## hence the order 8 minor mm has always rank 8."
   ]
  },
  {
   "cell_type": "code",
   "execution_count": 16,
   "id": "7808e70b-f889-4d4d-9cdb-2f4b8dcdea77",
   "metadata": {},
   "outputs": [],
   "source": [
    "## The cubics of P^9 which have p1, ..., p5 as eigenpoints are a line L\n",
    "## of P^9. We want to see if, among the points of this line, we can find\n",
    "## some which give cubic curves with the eigenpoints p1, p6, p7 collinear.\n",
    "## Here is the way in which we procede.\n",
    "## We fix two 10-components vectors like:\n",
    "## (1, 2, 5, 6, 0, 2, 3, 4, 9, 11) and (-1, 3, 6, 5, 0, 1, 3, 7, 9, -5)\n",
    "## and we consider the following matrices: mmA and mmB\n",
    "## (we put an index \"1\" because later we shall repeat the computation):"
   ]
  },
  {
   "cell_type": "code",
   "execution_count": 17,
   "id": "709cf8b9-c712-45bb-87c3-a77642df4f40",
   "metadata": {},
   "outputs": [],
   "source": [
    "mmA_1 = mm.stack(matrix([1, 2, 5, 6, 0, 2, 3, 4, 9, 11]))\n",
    "mmB_1 = mm.stack(matrix([-1, 3, 6, 5, 0, 1, 3, 7, 9, -5]))"
   ]
  },
  {
   "cell_type": "code",
   "execution_count": 18,
   "id": "0eb66955-b809-4b5b-b798-d6c3fb9a10dd",
   "metadata": {},
   "outputs": [],
   "source": [
    "## mmA and mmB have rank 9 (if not, take two other points!)\n",
    "## From mmA we get one cubic curve cbA, from mmB we get one\n",
    "## cubic cbB and they are two points of the line L of P^9.\n",
    "## Both cbA and cbB have, among the eigenpoints, p1, p2, p3, p4, p5.\n",
    "## Given the generic point P = (x: y: z) of P^2, consider the three \n",
    "## matrices obtained from mmA_1 given by\n",
    "## mmA plus the row phi_p(P)[0], \n",
    "## mmA plus the row phi_p(P)[1] and\n",
    "## mmA plus the row phi_p(P)[2].\n",
    "## We get three square matrices with determinant GA1, GA2, GA3 such \n",
    "## that p1[2]*GA1-p1[1]*GA2+p1[0]*GA3 splits, as a polynomial in \n",
    "## x, y, z, into three linear factors, one corresponds to the line \n",
    "## p1+p2, the other to the line p1+p4 and the third to the line\n",
    "## passing through the two remaining eigenpoints of cbA.\n",
    "## A simplification comes from the fact that p1 is the point \n",
    "## (1: 0: 0), hence p1[2]*GA1-p1[1]*GA2+p1[0]*GA3 is GA3. Hence we have\n",
    "## to factorize it."
   ]
  },
  {
   "cell_type": "code",
   "execution_count": 19,
   "id": "a6745eb6-1a43-4e75-911e-9dd578f89c0b",
   "metadata": {},
   "outputs": [],
   "source": [
    "## The same construction can be done for mmB and we get a polynomial \n",
    "## GB3 which factorizes into three linear factors in x, y, z, the \n",
    "## first two correspond again to the lines p1+p2 and p1+p4, the third \n",
    "## corresponds to the line through the two remaining eigenpoints of cbB.\n",
    "## A point of the line L corresponds to the cubic cb = w1*cbA+w2*cbB,\n",
    "## where w1 and w2 are parameters.\n",
    "## The cubic cb has p1, p2, p3, p4, p5 as eigenpoints and two other \n",
    "## eigenpints, say p6 and p7, that are obtained from the factorization \n",
    "## of w1*GA3+w2*GB3. Now the explicit computations (we repeat\n",
    "## the construction twice):"
   ]
  },
  {
   "cell_type": "code",
   "execution_count": 20,
   "id": "9c80b9d1-a355-4c0b-b370-53fd2f5eb39f",
   "metadata": {},
   "outputs": [
    {
     "ename": "NameError",
     "evalue": "name 'phi_p' is not defined",
     "output_type": "error",
     "traceback": [
      "\u001b[1;31m---------------------------------------------------------------------------\u001b[0m",
      "\u001b[1;31mNameError\u001b[0m                                 Traceback (most recent call last)",
      "Cell \u001b[1;32mIn[20], line 1\u001b[0m\n\u001b[1;32m----> 1\u001b[0m GA3_1 \u001b[38;5;241m=\u001b[39m det(mmA_1\u001b[38;5;241m.\u001b[39mstack(matrix([\u001b[43mphi_p\u001b[49m((x, y, z))[Integer(\u001b[38;5;241m2\u001b[39m)]])))\n\u001b[0;32m      2\u001b[0m GB3_1 \u001b[38;5;241m=\u001b[39m det(mmB_1\u001b[38;5;241m.\u001b[39mstack(matrix([phi_p((x, y, z))[Integer(\u001b[38;5;241m2\u001b[39m)]])))\n\u001b[0;32m      4\u001b[0m rr3_1 \u001b[38;5;241m=\u001b[39m \u001b[38;5;28mlist\u001b[39m(\u001b[38;5;28mfilter\u001b[39m(\u001b[38;5;28;01mlambda\u001b[39;00m uu: w1 \u001b[38;5;129;01min\u001b[39;00m uu[Integer(\u001b[38;5;241m0\u001b[39m)]\u001b[38;5;241m.\u001b[39mvariables(),                                 \u001b[38;5;28mlist\u001b[39m(factor(w1\u001b[38;5;241m*\u001b[39mGA3_1\u001b[38;5;241m+\u001b[39mw2\u001b[38;5;241m*\u001b[39mGB3_1))))[Integer(\u001b[38;5;241m0\u001b[39m)][Integer(\u001b[38;5;241m0\u001b[39m)]\n",
      "\u001b[1;31mNameError\u001b[0m: name 'phi_p' is not defined"
     ]
    }
   ],
   "source": [
    "GA3_1 = det(mmA_1.stack(matrix([phi_p((x, y, z))[2]])))\n",
    "GB3_1 = det(mmB_1.stack(matrix([phi_p((x, y, z))[2]])))\n",
    "\n",
    "rr3_1 = list(filter(lambda uu: w1 in uu[0].variables(), \\\n",
    "                                list(factor(w1*GA3_1+w2*GB3_1))))[0][0]"
   ]
  },
  {
   "cell_type": "code",
   "execution_count": null,
   "id": "edd319c1-2264-418e-baa4-ab19847268bf",
   "metadata": {},
   "outputs": [],
   "source": [
    "## rr3_1 is a polynomial of degree 1 in x, y, z which gives \n",
    "## the line passing through the eigenpoints p6 and p7 of \n",
    "## cb (it depends of w1 and w2)."
   ]
  },
  {
   "cell_type": "code",
   "execution_count": null,
   "id": "70b5cbc5-de66-4bec-b267-13aa943062a2",
   "metadata": {},
   "outputs": [],
   "source": [
    "## We want to see if, among the cubics cb = cb(w1, w2), it is possible \n",
    "## to find a cubic with p1, p6, p7 aligned. Hence p1 must be a point of rr3_1,\n",
    "## so the following polynomial must be zero:"
   ]
  },
  {
   "cell_type": "code",
   "execution_count": null,
   "id": "c3b458b4-997c-4ade-84ff-f7a5fbdfec78",
   "metadata": {},
   "outputs": [],
   "source": [
    "hh1 = rr3_1.subs({x:1, y:0, z:0})"
   ]
  },
  {
   "cell_type": "code",
   "execution_count": null,
   "id": "d5d6cc86-7d1c-4599-850a-4170af872562",
   "metadata": {},
   "outputs": [],
   "source": [
    "## In order to get rid of the choice of the two rows above (i.e. the \n",
    "## choice of two points of L), we repeat the construction for two other \n",
    "## random rows:"
   ]
  },
  {
   "cell_type": "code",
   "execution_count": null,
   "id": "d89d05bd-2f87-4c4a-99df-aa6f2ea4ce28",
   "metadata": {},
   "outputs": [],
   "source": [
    "mmA_2 = mm.stack(matrix([1, -5, 1, 2, 0, 1, -2, 1, 3, 7]))\n",
    "mmB_2 = mm.stack(matrix([-1, -1, 0, 4, 0, 1, 0, 1, 0, -5]))\n",
    "\n",
    "GA3_2 = det(mmA_2.stack(matrix([phi_p((x, y, z))[2]])))\n",
    "GB3_2 = det(mmB_2.stack(matrix([phi_p((x, y, z))[2]])))\n",
    "\n",
    "rr3_2 = list(filter(lambda uu: w1 in uu[0].variables(), \\\n",
    "                                list(factor(w1*GA3_2+w2*GB3_2))))[0][0]"
   ]
  },
  {
   "cell_type": "code",
   "execution_count": null,
   "id": "4bbada21-90ab-433c-82a8-b04435c0821e",
   "metadata": {},
   "outputs": [],
   "source": [
    "## if p1, p6, p7 are alligned, also the following polynomial must be zero\n",
    "hh2 = rr3_2.subs({x:1, y:0, z:0})"
   ]
  },
  {
   "cell_type": "code",
   "execution_count": null,
   "id": "a6459cd6-8ca5-4b64-a91d-198d0527834e",
   "metadata": {},
   "outputs": [],
   "source": [
    "## hh1 (and hh2) are of the form w1*()+w2*(). Hence hh1 (and hh2) \n",
    "## is zero iff w1 and w2 are chosen as solution of the equation \n",
    "## w1*()+w2*() = 0 or if the coefficients of w1 and w2 are both zero.\n",
    "## In the first case, we construct r3_1 and r3_2 as follows:\n",
    "\n",
    "r3_1 = (w1*GA3_1+w2*GB3_1).subs({w1: hh1.coefficient(w2), \\\n",
    "                           w2: -hh1.coefficient(w1)}).factor()[-2][0]\n",
    "r3_2 = (w1*GA3_2+w2*GB3_2).subs({w1: hh2.coefficient(w2), \\\n",
    "                           w2: -hh2.coefficient(w1)}).factor()[-2][0]"
   ]
  },
  {
   "cell_type": "code",
   "execution_count": null,
   "id": "75365665-c650-461e-a888-fff016ae2831",
   "metadata": {},
   "outputs": [],
   "source": [
    "## (i.e. r3_1 and r3_2 are the line passing through p1, p6, p7.\n",
    "## They should be equal, because they should not depend of the \n",
    "## two points of the line L chosen. Indeed, they are equal:"
   ]
  },
  {
   "cell_type": "code",
   "execution_count": null,
   "id": "a0244eb9-00e6-45d1-954f-2cf8d7bb20d0",
   "metadata": {},
   "outputs": [],
   "source": [
    "assert(r3_1 == r3_2)"
   ]
  },
  {
   "cell_type": "code",
   "execution_count": null,
   "id": "4da33f0b-e8d7-41b8-b25d-631a41ad5e8e",
   "metadata": {},
   "outputs": [],
   "source": [
    "## Now we have to consider the case in which r3_1 and r3_2 are not defined,\n",
    "## i.e. when the coefficients of w1 and w2 in hh1 and hh2 are all zero:\n",
    "\n",
    "HH = [hh1, hh2]\n",
    "JJ = S.ideal([hh.coefficient(w1) for hh in HH]+[hh.coefficient(w2) for hh in HH])\n",
    "\n",
    "## If we have some values of the points p1, ..., p5 such that give a zero\n",
    "## of JJ, we have to study that case.\n",
    "\n",
    "## But JJ, after saturation, is (1):\n",
    "\n",
    "JJ = JJ.saturation(S.ideal(matrix([p1, p2]).minors(2)))[0]\n",
    "JJ = JJ.saturation(S.ideal(matrix([p1, p3]).minors(2)))[0]\n",
    "JJ = JJ.saturation(S.ideal(matrix([p1, p4]).minors(2)))[0]\n",
    "JJ = JJ.saturation(S.ideal(matrix([p1, p5]).minors(2)))[0]\n",
    "JJ = JJ.saturation(S.ideal(matrix([p3, p5]).minors(2)))[0]\n",
    "assert(JJ == S.ideal(1))\n",
    "\n",
    "## This computation shows that there are no exceptions to consider. \n",
    "## We have that on the line L of P^9 there is a point which \n",
    "## corresponds to a cubic which has the alignments ## p1, p2, p3,\n",
    "## p1, p4, p5 and p1, p6, p7 among the eigenpoints. We can determine \n",
    "## the cubic:\n",
    "\n",
    "MM_1 = (w1*mmA_1+w2*mmB_1).subs({w1: hh1.coefficient(w2), \\\n",
    "                           w2: -hh1.coefficient(w1)})\n",
    "\n",
    "Mcb1 = MM_1.stack(matrix([[x^3, x^2*y, x*y^2, y^3, x^2*z, x*y*z, y^2*z, \\\n",
    "                         x*z^2, y*z^2, z^3]]))\n",
    "\n",
    "MM_2 = (w1*mmA_2+w2*mmB_2).subs({w1: hh2.coefficient(w2), \\\n",
    "                           w2: -hh2.coefficient(w1)})\n",
    "\n",
    "Mcb2 = MM_2.stack(matrix([[x^3, x^2*y, x*y^2, y^3, x^2*z, x*y*z, y^2*z, \\\n",
    "                         x*z^2, y*z^2, z^3]]))\n",
    "\n",
    "## The cubic is the determinant of Mcb1 (or of Mcb2).\n",
    "\n",
    "## the following computations require, respectively, about 3000 and \n",
    "## 4000 seconds. We omit them but we define below the cubic cb which \n",
    "## is obtained:\n",
    "\n",
    "# ttA = cputime()\n",
    "# cb1 = Mcb1.det()\n",
    "# print(cputime()-ttA)\n",
    "# \n",
    "# ttA = cputime()\n",
    "# cb2 = Mcb2.det()\n",
    "# print(cputime()-ttA)\n",
    "# \n",
    "# assert(cb1.factor()[-1][0]  == cb2.factor()[-1][0])\n",
    "\n",
    "cb = z^3*A2*B2^3*C2^2*A4^2 - 3*y*z^2*A2*B2^2*C2^3*A4^2 + 3*y^2*z*A2*B2*C2^4*A4^2 - y^3*A2*C2^5*A4^2 - y^3*A2^2*B2^3*C2*A4*B4 + 3/2*x*y^2*A2*B2^4*C2*A4*B4 + 3/2*x*z^2*A2*B2^4*C2*A4*B4 + 1/2*y^3*B2^5*C2*A4*B4 - 3*y^2*z*A2^2*B2^2*C2^2*A4*B4 + 3/2*y^2*z*B2^4*C2^2*A4*B4 - 3*y*z^2*A2^2*B2*C2^3*A4*B4 + 3*x*y^2*A2*B2^2*C2^3*A4*B4 + 3*x*z^2*A2*B2^2*C2^3*A4*B4 + 1/2*y^3*B2^3*C2^3*A4*B4 + 3/2*y*z^2*B2^3*C2^3*A4*B4 - z^3*A2^2*C2^4*A4*B4 + 3/2*y^2*z*B2^2*C2^4*A4*B4 + 1/2*z^3*B2^2*C2^4*A4*B4 + 3/2*x*y^2*A2*C2^5*A4*B4 + 3/2*x*z^2*A2*C2^5*A4*B4 + 3/2*y*z^2*B2*C2^5*A4*B4 + 1/2*z^3*C2^6*A4*B4 - 1/2*z^3*A2*B2^5*B4^2 + 3/2*y*z^2*A2*B2^4*C2*B4^2 - 3/2*y^2*z*A2*B2^3*C2^2*B4^2 - 1/2*z^3*A2*B2^3*C2^2*B4^2 + 1/2*y^3*A2*B2^2*C2^3*B4^2 + 3/2*y*z^2*A2*B2^2*C2^3*B4^2 - 3/2*y^2*z*A2*B2*C2^4*B4^2 + 1/2*y^3*A2*C2^5*B4^2\n",
    "\n",
    "\n",
    "## We remark however that cb can be computed in 12 seconds usign the \n",
    "## fact that the rows of Mcb1 have big common factors:\n",
    "Ms = []\n",
    "for i in range(10):\n",
    "    gd = gcd([Mcb1[i,j] for j in range(10)])\n",
    "    Ms.append([Mcb1[i,j].quo_rem(gd)[0] for j in range(10)])\n",
    "\n",
    "print(\"12 seconds of computation:\")\n",
    "sleep(1)\n",
    "ttA = cputime()\n",
    "cb_alt = matrix(Ms).det().factor()[-1][0]\n",
    "print(cputime()-ttA)\n",
    "\n",
    "assert(cb_alt == cb)\n",
    "\n",
    "## An example shows that cb, in general, has the following aligned eigenpoints:\n",
    "## p1, p2, p3 and p1, p4, p5 and p1, p6, p7. The cubic is irreducible and \n",
    "## singular in p1.\n",
    "\n",
    "ccb = cb.subs({A2:5, B2:-3, C2:-1, A4:2, B4:-7})\n",
    "\n",
    "## ## HERE WE CONCLUDE THE FIRST PART OF THE COMPUTATION:\n",
    "##                         In case C2 != 0, \n",
    "## IT IS POSSIBLE TO HAVE THREE ALIGNMENTS:\n",
    "### HENCE IT IS POSSIBLE TO HAVE THE ALIGNMENTS (1, 2, 3), (1, 4, 5), (1, 6, 7)\n",
    "### WITH NO OTHER ALIGNMENTS.\n",
    "\n",
    "## Now we want to see if it is possible to have more then three alignments\n",
    "## (We continue to assume C2 != 0)\n",
    "\n",
    "## Recall that cb is our cubic.\n",
    "\n",
    "## Recall that r3_1 (= r3_2) is the line through p6 and p7.\n",
    "\n",
    "## Up to a permutation of the indices of the points, if there is another \n",
    "## alignment among the eigenpoints, p6 must be on the line p2+p4. Hence\n",
    "## we can find it, since is the intersection or p2+p4 and r3.\n",
    "\n",
    "r24 = det(matrix([p2, p4, (x, y, z)]))\n",
    "\n",
    "E1 = matrix([[r3_1.coefficient(xx) for xx in [x, y, z]], \\\n",
    "             [r24.coefficient(xx) for xx in [x, y, z]]]).minors(2)\n",
    "\n",
    "## from Cramer (or Rouche' Capelli?) the intersection of the two lines\n",
    "## is obtained from E1. Since all the entries of E1 can be divided \n",
    "## by B2^2*B4 + C2^2*B4 and we know that B2^2*B4 + C2^2*B4=0 implies \n",
    "## p3 = p5, we divide with now problems.\n",
    "\n",
    "p6 = vector(S, (E1[2]/(B2^2*B4 + C2^2*B4), -E1[1]/(B2^2*B4 + C2^2*B4), \\\n",
    "                E1[0]/(B2^2*B4 + C2^2*B4)))\n",
    "\n",
    "## Now we compute the ideal kJ of the eigenpoints of cb and we \n",
    "## saturate it as much as possible (in particular, we saturate it\n",
    "## w.r.t. the ideals of the points p1, p2, p3, p4, p5):\n",
    "\n",
    "kJ = S.ideal(matrix([[x, y, z], \\\n",
    "        [cb.derivative(x), cb.derivative(y), cb.derivative(z)]]).minors(2))\n",
    "\n",
    "kJ = kJ.saturation(B2^2*B4 + C2^2*B4)[0]\n",
    "kJ = kJ.saturation(S.ideal(matrix([p1, p3]).minors(2)))[0]\n",
    "kJ = kJ.saturation(S.ideal(matrix([p1, p5]).minors(2)))[0]\n",
    "kJ = kJ.saturation(S.ideal(z, y))[0]  ##p1\n",
    "kJ = kJ.saturation(S.ideal(p2[0]*y-p2[1]*x, p2[0]*z-p2[2]*x, \\\n",
    "                           p2[1]*z-p2[2]*y))[0] ## p2\n",
    "kJ = kJ.saturation(S.ideal(p3[0]*y-p3[1]*x, p3[0]*z-p3[2]*x, \\\n",
    "                           p3[1]*z-p3[2]*y))[0] ## p3\n",
    "kJ = kJ.saturation(S.ideal(p4[0]*y-p4[1]*x, p4[0]*z-p4[2]*x, \\\n",
    "                           p4[1]*z-p4[2]*y))[0] ## p4\n",
    "kJ = kJ.saturation(S.ideal(p5[0]*y-p5[1]*x, p5[0]*z-p5[2]*x, \\\n",
    "                           p5[1]*z-p5[2]*y))[0] ## p5\n",
    "\n",
    "##\n",
    "## after these computations, kJ is the ideal of the two reminining eigenpoints.\n",
    "## we want that p1 defined above is an eigenpoint, so the ideal kkJ \n",
    "## here defined must be zero:\n",
    "\n",
    "kkJ = kJ.subs({x:p6[0], y:p6[1], z:p6[2]}).radical()\n",
    "\n",
    "## we saturate kkJ and we get a primary decomposiiton:\n",
    "kkJ = kkJ.saturation(S.ideal(matrix([p1, p3]).minors(2)))[0]\n",
    "kkJ = kkJ.saturation(S.ideal(matrix([p1, p4]).minors(2)))[0]\n",
    "kkJ = kkJ.saturation(S.ideal(matrix([p1, p5]).minors(2)))[0]\n",
    "kkJ = kkJ.saturation(S.ideal(matrix([p3, p5]).minors(2)))[0]\n",
    "kkJ = kkJ.saturation(S.ideal(matrix([p2, p6]).minors(2)))[0]\n",
    "kkJ = kkJ.saturation(S.ideal(matrix([p4, p6]).minors(2)))[0]\n",
    "\n",
    "\n",
    "## kkJ is (1), so there are no solutions:\n",
    "\n",
    "assert(kkJ == S.ideal(1))\n",
    "\n",
    "#################################################\n",
    "####                  CONCLUSION 1\n",
    "#################################################\n",
    "## CONCLUSION (for the case C2 != 0) when the three deltas are zero, \n",
    "## (hence rank of the matrix of the five points is 8), we have \n",
    "## also delta2 = 0 and we have the collineariries (1, 2, 3) (1, 4, 5).\n",
    "## We have a sub-case in which there is the further collinearity (1, 6, 7).\n",
    "## No other collinearities among the 7 eigenpoints are possible.\n",
    "\n",
    "## ## The case C2 = 0 is on the file three_deltas_II.sage"
   ]
  }
 ],
 "metadata": {
  "kernelspec": {
   "display_name": "SageMath 10.2",
   "language": "sage",
   "name": "sagemath"
  },
  "language_info": {
   "codemirror_mode": {
    "name": "ipython",
    "version": 3
   },
   "file_extension": ".py",
   "mimetype": "text/x-python",
   "name": "python",
   "nbconvert_exporter": "python",
   "pygments_lexer": "ipython3",
   "version": "3.9.15"
  }
 },
 "nbformat": 4,
 "nbformat_minor": 5
}
