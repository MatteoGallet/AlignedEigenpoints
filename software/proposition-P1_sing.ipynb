{
 "cells": [
  {
   "cell_type": "markdown",
   "id": "85308a8a-a35b-42b4-8914-35d1a041d283",
   "metadata": {},
   "source": [
    "# Proposition {proposition:P1_sing}"
   ]
  },
  {
   "cell_type": "code",
   "execution_count": 16,
   "id": "d3a84c20-c815-4a5b-89d7-a35f5c7043ba",
   "metadata": {},
   "outputs": [],
   "source": [
    "load(\"basic_functions.sage\")"
   ]
  },
  {
   "cell_type": "markdown",
   "id": "91a5214a-a66a-43bc-b820-9352e699ee32",
   "metadata": {},
   "source": [
    "We can split the problem into two cases: $P_1 = (1: i: 0)$ and $P_1 = (1: 0: 0)$.\n",
    "\n",
    "In both cases, we construct the matrix $\\Phi(P_1, \\dots, P_5)$ for \n",
    "* generic $P_2$, $P_4$,\n",
    "* $P_3$ aligned with $P_1$ and $P_2$,\n",
    "* $P_5$ aligned with $P_1$ and $P_4$.\n",
    "\n",
    "We show that, actually, the case $P_1 = (1: i: 0)$ cannot happen."
   ]
  },
  {
   "cell_type": "markdown",
   "id": "792f60c6-edd4-493c-baf6-e3176fd30b6d",
   "metadata": {},
   "source": [
    "## Case $P_1 = (1: i: 0)$"
   ]
  },
  {
   "cell_type": "markdown",
   "id": "d6d35d3c-65cd-472a-96b3-421d1384908d",
   "metadata": {},
   "source": [
    "The conclusion of the computations in this case is that $P_1$ cannot be singular."
   ]
  },
  {
   "cell_type": "markdown",
   "id": "39241ccf-a0e5-4669-9f9e-0dbf5845fd56",
   "metadata": {},
   "source": [
    "We define the points $P_1, \\dotsc, P_5$"
   ]
  },
  {
   "cell_type": "code",
   "execution_count": 29,
   "id": "e33b08ea-8aaf-4c3e-926c-8602d58db7e7",
   "metadata": {},
   "outputs": [],
   "source": [
    "P1 = vector((1, ii, 0))\n",
    "P2 = vector(S, (A2, B2, C2))\n",
    "P4 = vector(S, (A4, B4, C4))\n",
    "P3 = u1*P1+u2*P2\n",
    "P5 = v1*P1+v2*P4"
   ]
  },
  {
   "cell_type": "markdown",
   "id": "d3db5357-726d-4508-a2a8-dfccf85c48b9",
   "metadata": {},
   "source": [
    "Construction of the matrix of all the linear conditions."
   ]
  },
  {
   "cell_type": "code",
   "execution_count": 30,
   "id": "22349588-0e7c-4db0-aa3b-c353f8d590fc",
   "metadata": {},
   "outputs": [],
   "source": [
    "M1 = condition_matrix([P1, P2, P3, P4, P5], S, standard=\"all\")"
   ]
  },
  {
   "cell_type": "markdown",
   "id": "0472c6e4-8181-4dd1-bc9c-6b7e59aaa863",
   "metadata": {},
   "source": [
    "Since the first three rows of $M_1$ are, respectively,\n",
    "$(-3i, 3, 3i, -3, 0, 0, 0, 0, 0, 0)$,\n",
    "$(0, 0, 0, 0, 1, i, -1, 0, 0, 0)$,\n",
    "$(0, 0, 0, 0, i, -1, -i, 0, 0, 0)$\n",
    "in order to compute the minors of order 10 of $M_1$, we can compute\n",
    "the minors of order 8 of the matrix obtained from the rows 3, 4, ..., 14\n",
    "of $M_1$ and all the columns of $M_1$ except columns 1 and 4.\n",
    "If we assume that $P_1$ is singular, then we have the further condition:\n",
    "$(0, 1, 2i, -3, 0, 0, 0, 0, 0, 0)$ to add to $M_1$, \n",
    "hence we have to manipulate $M_1$."
   ]
  },
  {
   "cell_type": "code",
   "execution_count": 31,
   "id": "985c6ae5-54db-43b1-81aa-63dd1a5c2d5c",
   "metadata": {},
   "outputs": [],
   "source": [
    "rw = vector(S, (0, 1, (2*ii), -3, 0, 0, 0, 0, 0, 0))\n",
    "for i in range(10):\n",
    "    M1[1, i] = rw[i]\n",
    "## Now we can use the first three rows of M1 to simplify M1 with elementary\n",
    "## row operations\n",
    "\n",
    "M1.rescale_row(0, 1/(-3*ii))\n",
    "M1.rescale_row(2, -ii)\n",
    "M1.add_multiple_of_row(0, 1, -ii)\n",
    "\n",
    "for j in range(3, 15):\n",
    "    M1.add_multiple_of_row(j, 0, -M1[j, 0])\n",
    "\n",
    "## We check that the first column has all the elements of position 3, 4, ..\n",
    "## equal to zero:\n",
    "\n",
    "assert([M1[j, 0] for j in range(3, 15)] == [0 for j in range(3, 15)])\n",
    "\n",
    "for j in range(3, 15):\n",
    "    M1.add_multiple_of_row(j, 1, -M1[j, 1])\n",
    "\n",
    "## We check that the second column has all the elements of position 3, 4, ..\n",
    "## equal to zero:\n",
    "\n",
    "assert([M1[j, 1] for j in range(3, 15)] == [0 for j in range(3, 15)])\n",
    "\n",
    "for j in range(3, 15):\n",
    "    M1.add_multiple_of_row(j, 2, -M1[j, 4])\n",
    "\n",
    "## We check that the fifth column has all the elements of position 3, 4, ..\n",
    "## equal to zero:\n",
    "\n",
    "assert([M1[j, 4] for j in range(3, 15)] == [0 for j in range(3, 15)])"
   ]
  },
  {
   "cell_type": "markdown",
   "id": "d156b3b6-bece-4c95-ba92-d9054ae6ecb3",
   "metadata": {},
   "source": [
    "Now we can consider the matrix MM given by the rows 3, 4, ..., 14\n",
    "and all the columns, except 0, 1, 4"
   ]
  },
  {
   "cell_type": "code",
   "execution_count": 32,
   "id": "2867b1a5-f388-40cd-9d81-e6a9dc56009e",
   "metadata": {},
   "outputs": [],
   "source": [
    "MM = M1.matrix_from_rows_and_columns(range(3, 15), [2, 3, 5, 6, 7, 8, 9])\n",
    "\n",
    "## Since we have:\n",
    "assert(tuple(P2[2]*MM[0]-P2[1]*MM[1]+P2[0]*MM[2]) == (0, 0, 0, 0, 0, 0, 0))\n",
    "assert(tuple(P3[2]*MM[3]-P3[1]*MM[4]+P3[0]*MM[5]) == (0, 0, 0, 0, 0, 0, 0))\n",
    "assert(tuple(P4[2]*MM[6]-P4[1]*MM[7]+P4[0]*MM[8]) == (0, 0, 0, 0, 0, 0, 0))\n",
    "assert(tuple(P5[2]*MM[9]-P5[1]*MM[10]+P5[0]*MM[11]) == (0, 0, 0, 0, 0, 0, 0))\n",
    "## in the computation of the order 10 minors of M1 and hence of order 7 minors\n",
    "## of MM, we can erase many matrices:\n",
    "\n",
    "rg = Combinations(12, 7)\n",
    "\n",
    "## given a list of (seven) rows st, the method checks if it\n",
    "## contains the triplet [0, 1, 2] or [3, 4, 5] or ...\n",
    "def is_min_sure_zero(st):\n",
    "    return(Set([0, 1, 2]).issubset(Set(st)) or\\\n",
    "           Set([3, 4, 5]).issubset(Set(st)) or\\\n",
    "           Set([6, 7, 8]).issubset(Set(st)) or\\\n",
    "           Set([9, 10, 11]).issubset(Set(st)))\n",
    "    \n",
    "## select the \"good\" rows\n",
    "\n",
    "rg1 = filter(lambda uu: not is_min_sure_zero(uu), rg)"
   ]
  },
  {
   "cell_type": "markdown",
   "id": "233aecb8-a8c8-490f-82e1-7df91b2f2200",
   "metadata": {},
   "source": [
    "First 'long' computation: computation of minors of order 7 (about 38 sec):"
   ]
  },
  {
   "cell_type": "code",
   "execution_count": 33,
   "id": "8dbd3159-6803-4f7f-bdc4-467a9a859530",
   "metadata": {},
   "outputs": [
    {
     "name": "stdout",
     "output_type": "stream",
     "text": [
      "36.945547000000005\n"
     ]
    }
   ],
   "source": [
    "ttA = cputime()\n",
    "min7 = [MM.matrix_from_rows(rr).det() for rr in rg1]\n",
    "\n",
    "print(cputime()-ttA)"
   ]
  },
  {
   "cell_type": "markdown",
   "id": "b44646f7-5267-4b8c-a193-084189bd7c55",
   "metadata": {},
   "source": [
    "We manipulate the minors so that ..."
   ]
  },
  {
   "cell_type": "code",
   "execution_count": 34,
   "id": "7f6eaf55-7528-4949-9ca2-94e5f56b6dee",
   "metadata": {},
   "outputs": [
    {
     "name": "stdout",
     "output_type": "stream",
     "text": [
      "some divisions. Can take some time (8 sec).\n",
      "5.802280999999994\n"
     ]
    }
   ],
   "source": [
    "## division by u1 \n",
    "dt = matrix([P1, P2, P4]).det()\n",
    "\n",
    "print(\"some divisions. Can take some time (8 sec).\")\n",
    "ttA = cputime()\n",
    "\n",
    "min7 = filter(lambda uu: uu != 0, min7)\n",
    "\n",
    "min7 = [qr_gener(mm, u1) for mm in min7]\n",
    "min7 = [qr_gener(mm, u2) for mm in min7]\n",
    "min7 = [qr_gener(mm, v1) for mm in min7]\n",
    "min7 = [qr_gener(mm, v2) for mm in min7]\n",
    "min7 = [qr_gener(mm, dt) for mm in min7]\n",
    "print(cputime()-ttA)"
   ]
  },
  {
   "cell_type": "markdown",
   "id": "2bde9105-171a-49fa-a486-aa48fbfccfd8",
   "metadata": {},
   "source": [
    "A long conmputation of a Groebner basis of the ideal of order $7$ minors"
   ]
  },
  {
   "cell_type": "code",
   "execution_count": 35,
   "id": "94f04b68-f6b4-4ac8-9c60-0624807e14b0",
   "metadata": {},
   "outputs": [
    {
     "name": "stdout",
     "output_type": "stream",
     "text": [
      "0.06705599999999379\n"
     ]
    }
   ],
   "source": [
    "J7 = S.ideal(min7)\n",
    "ttA = cputime()\n",
    "gJ7 = J7.groebner_basis()\n",
    "print(cputime()-ttA)"
   ]
  },
  {
   "cell_type": "markdown",
   "id": "d2fa6a6c-21d5-4514-ae13-3c48355ae744",
   "metadata": {},
   "source": [
    "Compute some partial saturations"
   ]
  },
  {
   "cell_type": "code",
   "execution_count": 36,
   "id": "ef3fe9d3-5188-46ac-b3c8-71e9b334cdb1",
   "metadata": {},
   "outputs": [
    {
     "name": "stdout",
     "output_type": "stream",
     "text": [
      "0.03796800000000644\n"
     ]
    }
   ],
   "source": [
    "## division by u1 etc\n",
    "ttA = cputime()\n",
    "\n",
    "gJ7 = [poly_saturate(mm, u1) for mm in gJ7]\n",
    "gJ7 = [poly_saturate(mm, u2) for mm in gJ7]\n",
    "gJ7 = [poly_saturate(mm, v1) for mm in gJ7]\n",
    "gJ7 = [poly_saturate(mm, v2) for mm in gJ7]\n",
    "gJ7 = [poly_saturate(mm, dt) for mm in gJ7]\n",
    "print(cputime()-ttA)"
   ]
  },
  {
   "cell_type": "markdown",
   "id": "e4bf2b18-50de-4ce4-a254-c604d47a7ead",
   "metadata": {},
   "source": [
    "Computation of squarefree polynomials.\n",
    "About 2,5 sec."
   ]
  },
  {
   "cell_type": "code",
   "execution_count": 37,
   "id": "7216c524-94e2-43e2-8cd4-a33fcaec7806",
   "metadata": {},
   "outputs": [
    {
     "name": "stdout",
     "output_type": "stream",
     "text": [
      "1.6758489999999995\n"
     ]
    }
   ],
   "source": [
    "ttA = cputime()\n",
    "gJ7 = [get_sqrfree(mm) for mm in gJ7]\n",
    "print(cputime()-ttA)\n",
    "\n",
    "sgJ7 = S.ideal(gJ7).saturation(u1*u2*v1*v2)[0]\n",
    "sgJ7 = S.ideal(gJ7).saturation(dt)[0]"
   ]
  },
  {
   "cell_type": "markdown",
   "id": "abf77cc1-f45d-44a6-b67d-efcc73efd2c2",
   "metadata": {},
   "source": [
    "The final ideal is $(1)$, so $P_1$ cannot be singular."
   ]
  },
  {
   "cell_type": "code",
   "execution_count": 38,
   "id": "49fb6458-6bb1-4a19-8301-7866f494b028",
   "metadata": {},
   "outputs": [],
   "source": [
    "assert(sgJ7 == S.ideal(S.one()))"
   ]
  },
  {
   "cell_type": "markdown",
   "id": "0b3a47bd-6478-4e07-baa0-6d4b9b5f34a6",
   "metadata": {},
   "source": [
    "Conclusion: in a $V$-configuration, the point $P_1$ cannot be both on the isotropic conic and singular for the cubic."
   ]
  },
  {
   "cell_type": "markdown",
   "id": "6746afa1-8862-4e81-a29f-8c10993ef7a6",
   "metadata": {
    "jp-MarkdownHeadingCollapsed": true
   },
   "source": [
    "## Case $P_1 = (1: 0: 0)$"
   ]
  },
  {
   "cell_type": "markdown",
   "id": "1163f908-f695-48a3-9a79-52cea5b02f88",
   "metadata": {},
   "source": [
    "We define the points $P_1, \\dotsc, P_5$"
   ]
  },
  {
   "cell_type": "code",
   "execution_count": 17,
   "id": "f003a87c-7d3d-4cbb-9ab5-9fc882cfd4f7",
   "metadata": {},
   "outputs": [],
   "source": [
    "P1 = vector((1, 0, 0))\n",
    "P2 = vector(S, (A2, B2, C2))\n",
    "P4 = vector(S, (A4, B4, C4))\n",
    "P3 = u1*P1+u2*P2\n",
    "P5 = v1*P1+v2*P4"
   ]
  },
  {
   "cell_type": "markdown",
   "id": "10cd8286-100e-460c-9c19-68966765443f",
   "metadata": {},
   "source": [
    "Construction of the matrix $\\Phi(P_1, \\dotsc, P_5)$"
   ]
  },
  {
   "cell_type": "code",
   "execution_count": 18,
   "id": "9f242e06-65e5-49ff-9854-8e6065d13a61",
   "metadata": {},
   "outputs": [],
   "source": [
    "M1 = condition_matrix([P1, P2, P3, P4, P5], S, standard=\"all\")"
   ]
  },
  {
   "cell_type": "markdown",
   "id": "b40c650d-9160-43a5-993a-e27d48fde278",
   "metadata": {},
   "source": [
    "Since the first three rows of $M_1$ are, respectively,\n",
    "$(0, 1, 0, 0, 0, 0, 0, 0, 0, 0)$, $(0, 0, 0, 0, 1, 0, 0, 0, 0, 0)$, and\n",
    "$(0, 0, 0, 0, 0, 0, 0, 0, 0, 0)$,\n",
    "in order to compute the minors of order 10 of $M_1$, we can compute\n",
    "the minors of order 8 of the matrix obtained from the rows 3, 4, ..., 14\n",
    "of $M_1$ and all the columns of $M_1$ except columns 1 and 4.\n",
    "If we assume that $P_1$ is singular, then we have the further condition:\n",
    "$(1, 0, 0, 0, 0, 0, 0, 0, 0, 0)$ to add to $M_1$, \n",
    "hence we can extract from $M_1$ the matrix without the first three rows and\n",
    "without the columns 0, 1, 4."
   ]
  },
  {
   "cell_type": "code",
   "execution_count": 19,
   "id": "b712a08b-e64b-4ab7-b3d4-879d6758b2e8",
   "metadata": {},
   "outputs": [],
   "source": [
    "MM = M1.matrix_from_rows_and_columns(range(3, 15), [2, 3, 5, 6, 7, 8, 9])"
   ]
  },
  {
   "cell_type": "markdown",
   "id": "e8c5ce96-9d80-423f-9186-54b5410a51ba",
   "metadata": {},
   "source": [
    "Since we have:"
   ]
  },
  {
   "cell_type": "code",
   "execution_count": 20,
   "id": "b1c4b0ea-0501-4add-b6e6-8c088bea1e12",
   "metadata": {},
   "outputs": [],
   "source": [
    "assert(tuple(P2[2]*MM[0]-P2[1]*MM[1]+P2[0]*MM[2]) == (0, 0, 0, 0, 0, 0, 0))\n",
    "assert(tuple(P3[2]*MM[3]-P3[1]*MM[4]+P3[0]*MM[5]) == (0, 0, 0, 0, 0, 0, 0))\n",
    "assert(tuple(P4[2]*MM[6]-P4[1]*MM[7]+P4[0]*MM[8]) == (0, 0, 0, 0, 0, 0, 0))\n",
    "assert(tuple(P5[2]*MM[9]-P5[1]*MM[10]+P5[0]*MM[11]) == (0, 0, 0, 0, 0, 0, 0))"
   ]
  },
  {
   "cell_type": "markdown",
   "id": "a4eac0a9-d5f0-429d-8b57-ba0ecfbc3c7d",
   "metadata": {},
   "source": [
    "in the computation of the order 10 minors of $M_1$ and hence of order 7 minors\n",
    "of $MM$, we can erase many matrices:"
   ]
  },
  {
   "cell_type": "code",
   "execution_count": 21,
   "id": "8dc4869d-1c43-466a-85e9-d65f66e6ed10",
   "metadata": {},
   "outputs": [],
   "source": [
    "rg = Combinations(12, 7)\n",
    "\n",
    "## given a list of (seven) rows st, the method checks if it\n",
    "## contains the triplet [0, 1, 2] or [3, 4, 5] or ...\n",
    "def is_min_sure_zero(st):\n",
    "    return(Set([0, 1, 2]).issubset(Set(st)) or\\\n",
    "           Set([3, 4, 5]).issubset(Set(st)) or\\\n",
    "           Set([6, 7, 8]).issubset(Set(st)) or\\\n",
    "           Set([9, 10, 11]).issubset(Set(st)))\n",
    "\n",
    "## select the \"good\" rows\n",
    "\n",
    "rg1 = filter(lambda uu: not is_min_sure_zero(uu), rg)"
   ]
  },
  {
   "cell_type": "markdown",
   "id": "8e146188-c578-4ff2-b968-e5e36531f5fe",
   "metadata": {},
   "source": [
    "First 'long' computation: computation of minors of order 7:"
   ]
  },
  {
   "cell_type": "code",
   "execution_count": 22,
   "id": "29778842-413f-4ca8-86b7-a09cf46b0f79",
   "metadata": {},
   "outputs": [
    {
     "name": "stdout",
     "output_type": "stream",
     "text": [
      "1.9884460000000006\n"
     ]
    }
   ],
   "source": [
    "ttA = cputime()\n",
    "min7 = [MM.matrix_from_rows(rr).det() for rr in rg1]\n",
    "print(cputime()-ttA)"
   ]
  },
  {
   "cell_type": "markdown",
   "id": "056c23f1-2754-48a4-9080-585939e9b430",
   "metadata": {},
   "source": [
    "Some saturations. Can take some time"
   ]
  },
  {
   "cell_type": "code",
   "execution_count": 24,
   "id": "05442650-0266-47b7-b56e-5fa20355b3cb",
   "metadata": {},
   "outputs": [
    {
     "name": "stdout",
     "output_type": "stream",
     "text": [
      "0.7965390000000001\n"
     ]
    }
   ],
   "source": [
    "ttA = cputime()\n",
    "\n",
    "dt = matrix([P1, P2, P4]).det()\n",
    "min7 = filter(lambda uu: uu != 0, min7)\n",
    "\n",
    "min7 = [poly_saturate(mm, u1) for mm in min7]\n",
    "min7 = [poly_saturate(mm, u2) for mm in min7]\n",
    "min7 = [poly_saturate(mm, v1) for mm in min7]\n",
    "min7 = [poly_saturate(mm, v2) for mm in min7]\n",
    "min7 = [poly_saturate(mm, dt) for mm in min7]\n",
    "print(cputime()-ttA)"
   ]
  },
  {
   "cell_type": "markdown",
   "id": "40edded1-a755-4f09-95f8-1ba17b769b8e",
   "metadata": {},
   "source": [
    "Computation of a Groebner basis of the ideal of order 7 minors"
   ]
  },
  {
   "cell_type": "code",
   "execution_count": 25,
   "id": "a12b0a52-f967-47bb-bc04-d7391f14ef74",
   "metadata": {},
   "outputs": [
    {
     "name": "stdout",
     "output_type": "stream",
     "text": [
      "0.05365900000000057\n",
      "Groebner basis computed\n"
     ]
    }
   ],
   "source": [
    "J7 = S.ideal(min7)\n",
    "ttA = cputime()\n",
    "gJ7 = J7.groebner_basis()\n",
    "print(cputime()-ttA)\n",
    "\n",
    "print(\"Groebner basis computed\")"
   ]
  },
  {
   "cell_type": "markdown",
   "id": "293a8d7e-d0bd-4830-88b4-781848cf5fd0",
   "metadata": {},
   "source": [
    "Computed some partial saturations"
   ]
  },
  {
   "cell_type": "code",
   "execution_count": 26,
   "id": "8fe011d8-6107-476f-9141-3b6f41be2b8f",
   "metadata": {},
   "outputs": [
    {
     "name": "stdout",
     "output_type": "stream",
     "text": [
      "0.03507700000000025\n"
     ]
    }
   ],
   "source": [
    "## division by u1 (1 minute)\n",
    "ttA = cputime()\n",
    "\n",
    "gJ7 = [poly_saturate(mm, u1) for mm in gJ7]\n",
    "gJ7 = [poly_saturate(mm, u2) for mm in gJ7]\n",
    "gJ7 = [poly_saturate(mm, v1) for mm in gJ7]\n",
    "gJ7 = [poly_saturate(mm, v2) for mm in gJ7]\n",
    "gJ7 = [poly_saturate(mm, dt) for mm in gJ7]\n",
    "print(cputime()-ttA)"
   ]
  },
  {
   "cell_type": "markdown",
   "id": "9d614ebc-29e2-4461-93a8-3dc4aa184290",
   "metadata": {},
   "source": [
    "Computation of the primary decomposition of the radical of the ideal `gJ7`"
   ]
  },
  {
   "cell_type": "code",
   "execution_count": 27,
   "id": "f5a7c400-0760-45c1-91ca-64cd97435557",
   "metadata": {},
   "outputs": [],
   "source": [
    "sgJ7 = S.ideal(gJ7).saturation(u1*u2*v1*v2)[0]\n",
    "sgJ7 = S.ideal(gJ7).saturation(dt)[0]\n",
    "\n",
    "PD = sgJ7.radical().primary_decomposition()"
   ]
  },
  {
   "cell_type": "markdown",
   "id": "3bdac0b6-4cb0-4b8d-89b3-20e9e2ab7ade",
   "metadata": {},
   "source": [
    "We get three ideals, which are:\n",
    "* $\\bigl(\\delta_1(P_1, P_2, P_4), \\overline{\\delta}_1(P_1, P_4, P_5)\\bigr)$,\n",
    "* $\\bigl(\\delta_1(P_1, P_2, P_4), \\overline{\\delta}_1(P_1, P_2, P_3)\\bigr)$,\n",
    "* $\\bigl(\\overline{\\delta}_1(P_1, P_2, P_3), \\overline{\\delta}_1(P_1, P_4, P_5)\\bigr)$"
   ]
  },
  {
   "cell_type": "code",
   "execution_count": 28,
   "id": "b7ef73c2-efec-4468-b3b1-923f7843f2bf",
   "metadata": {},
   "outputs": [],
   "source": [
    "assert(len(PD) == 3)\n",
    "\n",
    "assert(PD[0] == S.ideal(delta1(P1, P2, P4), delta1b(P1, P4, P5)))\n",
    "assert(PD[1] == S.ideal(delta1(P1, P2, P4), delta1b(P1, P2, P3)))\n",
    "assert(PD[2] == S.ideal(delta1b(P1, P2, P3), delta1b(P1, P4, P5)))"
   ]
  },
  {
   "cell_type": "markdown",
   "id": "37706040-141b-4ece-b670-956b2f949200",
   "metadata": {},
   "source": [
    "Conclusion: in a $V$-configuration, \n",
    "where the point $P_1$ is not on the isotropic conic, \n",
    "then $P_1$ is singular for the cubic if and only if\n",
    "* $\\delta_1(P_1, P_2, P_4) = 0$ and $\\overline{\\delta}_1(P_1, P_4, P_5) = 0$,\n",
    "* $\\delta_1(P_1, P_2, P_4) = 0$ and $\\overline{\\delta}_1(P_1, P_2, P_3) = 0$,\n",
    "* $\\overline{\\delta}_1(P_1, P_2, P_3) = 0$ and $\\overline{\\delta}_1(P_1, P_4, P_5) = 0$."
   ]
  }
 ],
 "metadata": {
  "kernelspec": {
   "display_name": "SageMath 10.2",
   "language": "sage",
   "name": "sagemath"
  },
  "language_info": {
   "codemirror_mode": {
    "name": "ipython",
    "version": 3
   },
   "file_extension": ".py",
   "mimetype": "text/x-python",
   "name": "python",
   "nbconvert_exporter": "python",
   "pygments_lexer": "ipython3",
   "version": "3.9.15"
  }
 },
 "nbformat": 4,
 "nbformat_minor": 5
}
