{
 "cells": [
  {
   "cell_type": "markdown",
   "id": "6c1753cb-157d-403a-923d-3cc0d87de1b9",
   "metadata": {},
   "source": [
    "# Proposition"
   ]
  },
  {
   "cell_type": "markdown",
   "id": "e15c5f17-1360-4080-8e24-e214b1a6d7de",
   "metadata": {},
   "source": [
    "If we have a $V$-configuration of five points $P_1, \\dots, P_5$\n",
    "such that the rank of the matrix $\\Phi(P_1, \\dots, P_5)$ is $9$ and\n",
    "such that $\\delta_2(P_1, \\dots, P_5) = 0$,\n",
    "then the unique ternary cubic determined by the condition that $P_1, \\dots, P_5$\n",
    "are eigenpoints has also the two other eigenpoints $P_6$ and $P_7$\n",
    "aligned with $P_1$."
   ]
  },
  {
   "cell_type": "code",
   "execution_count": 88,
   "id": "f0ae0496-284a-405c-a7a3-28a5ac2ff805",
   "metadata": {},
   "outputs": [],
   "source": [
    "load(\"basic_functions.sage\")"
   ]
  },
  {
   "cell_type": "markdown",
   "id": "c4165bc8-6dcf-4496-9dc6-14584980b1c3",
   "metadata": {},
   "source": [
    "## Case $s_{12} = 0$ and $s_{14} = 0$;"
   ]
  },
  {
   "cell_type": "markdown",
   "id": "73679d7a-63da-4b92-b4c3-451a156defb8",
   "metadata": {},
   "source": [
    "### Subcase $P_1 = (1: 0: 0)$"
   ]
  },
  {
   "cell_type": "code",
   "execution_count": 89,
   "id": "ebbbcbba-1926-4195-9d12-07fb4ca26ff9",
   "metadata": {},
   "outputs": [],
   "source": [
    "P1 = vector(S, (1, 0, 0))\n",
    "P2 = vector(S, (0, B2, C2))\n",
    "P3 = u1*P1 + u2*P2\n",
    "P4 = vector(S, (0, B4, C4))\n",
    "P5 = v1*P1 + v2*P4"
   ]
  },
  {
   "cell_type": "code",
   "execution_count": 90,
   "id": "f81f0a74-6799-4fad-a95f-b3dbe268150d",
   "metadata": {},
   "outputs": [],
   "source": [
    "M = condition_matrix([P1, P2, P3, P4, P5], S, standard=\"all\")"
   ]
  },
  {
   "cell_type": "code",
   "execution_count": 91,
   "id": "fe8876d0-2ff4-42a6-bada-9d085d4c68bb",
   "metadata": {},
   "outputs": [],
   "source": [
    "assert(M[2] == vector([0 for _ in range(10)]))"
   ]
  },
  {
   "cell_type": "code",
   "execution_count": 92,
   "id": "fe63eabd-b064-49fe-9937-2c74b424c1c0",
   "metadata": {},
   "outputs": [],
   "source": [
    "M1 = M.matrix_from_rows([0,1,3,5,6,7,9,10,12,13])"
   ]
  },
  {
   "cell_type": "code",
   "execution_count": 93,
   "id": "4312afb7-f7e6-43b9-8b9f-ae185122ddd6",
   "metadata": {},
   "outputs": [],
   "source": [
    "M2 = M.matrix_from_rows([0,1,3,5,6,7,9,11,12])"
   ]
  },
  {
   "cell_type": "code",
   "execution_count": 94,
   "id": "16e0f081-2900-4d0c-a9c5-8ae255640b2a",
   "metadata": {},
   "outputs": [],
   "source": [
    "G1 = M2.stack(phi((x,y,z), S)[0])\n",
    "G2 = M2.stack(phi((x,y,z), S)[1])\n",
    "G3 = M2.stack(phi((x,y,z), S)[2])\n",
    "\n",
    "g1 = G1.det()\n",
    "g2 = G2.det()\n",
    "g3 = G3.det()"
   ]
  },
  {
   "cell_type": "code",
   "execution_count": 95,
   "id": "55c8becb-7624-4887-addf-33416c5ec8c8",
   "metadata": {},
   "outputs": [],
   "source": [
    "g = P1[2]*g1 - P1[1]*g2 + P1[0]*g3\n",
    "assert(g == g3)"
   ]
  },
  {
   "cell_type": "code",
   "execution_count": 96,
   "id": "a2abcbfb-e09a-4550-8572-86293a275798",
   "metadata": {},
   "outputs": [],
   "source": [
    "factors_g = g.factor()\n",
    "xyz_factors = list(filter(lambda p: p[0].degree(x) > 0 or p[0].degree(y) > 0 or p[0].degree(z) > 0, factors_g))\n",
    "candidate_line = xyz_factors[-1][0]"
   ]
  },
  {
   "cell_type": "code",
   "execution_count": 97,
   "id": "6d17eee8-b87d-4623-9449-a17f8a0832e7",
   "metadata": {},
   "outputs": [],
   "source": [
    "assert(candidate_line.subs(substitution(P1)).is_zero())"
   ]
  },
  {
   "cell_type": "markdown",
   "id": "e3067192-f526-43dc-a3a2-904c9c6d507f",
   "metadata": {},
   "source": [
    "### Subcase $P_1 = (1: ii: 0)$"
   ]
  },
  {
   "cell_type": "code",
   "execution_count": 98,
   "id": "65a8f07a-028f-4e31-8760-4de481060558",
   "metadata": {},
   "outputs": [],
   "source": [
    "P1 = vector(S, (1, ii, 0))\n",
    "P2 = vector(S, (0, B2, C2))\n",
    "P3 = u1*P1 + u2*P2\n",
    "P4 = vector(S, (0, B4, C4))\n",
    "P5 = v1*P1 + v2*P4"
   ]
  },
  {
   "cell_type": "code",
   "execution_count": 99,
   "id": "9ebea618-8569-4cab-8657-a4ccafb10d4d",
   "metadata": {},
   "outputs": [],
   "source": [
    "M = condition_matrix([P1, P2, P3, P4, P5], S, standard=\"all\")"
   ]
  },
  {
   "cell_type": "code",
   "execution_count": 100,
   "id": "a07b5a36-9d0b-4ede-ab1c-0c44fd2e54ef",
   "metadata": {},
   "outputs": [],
   "source": [
    "M1 = M.matrix_from_rows([0,2,3,5,6,7,9,10,12,13])"
   ]
  },
  {
   "cell_type": "code",
   "execution_count": 101,
   "id": "b629e260-4078-4a3f-8fb6-28f01f72f2ae",
   "metadata": {},
   "outputs": [],
   "source": [
    "M2 = M.matrix_from_rows([0,2,3,5,6,7,9,11,12])"
   ]
  },
  {
   "cell_type": "code",
   "execution_count": 102,
   "id": "1f9d8f33-3f3c-4dab-8328-79371a6df813",
   "metadata": {},
   "outputs": [],
   "source": [
    "G1 = M2.stack(phi((x,y,z), S)[0])\n",
    "G2 = M2.stack(phi((x,y,z), S)[1])\n",
    "G3 = M2.stack(phi((x,y,z), S)[2])\n",
    "\n",
    "g1 = G1.det()\n",
    "g2 = G2.det()\n",
    "g3 = G3.det()"
   ]
  },
  {
   "cell_type": "code",
   "execution_count": 103,
   "id": "1dbfbac4-d183-4b6f-8c78-eba926fa2448",
   "metadata": {},
   "outputs": [],
   "source": [
    "g = P1[2]*g1 - P1[1]*g2 + P1[0]*g3"
   ]
  },
  {
   "cell_type": "code",
   "execution_count": 104,
   "id": "ace139da-af83-4099-956a-2b6d08cc4ebc",
   "metadata": {},
   "outputs": [],
   "source": [
    "factors_g = g.factor()\n",
    "xyz_factors = list(filter(lambda p: p[0].degree(x) > 0 or p[0].degree(y) > 0 or p[0].degree(z) > 0, factors_g))\n",
    "candidate_line = xyz_factors[-1][0]"
   ]
  },
  {
   "cell_type": "code",
   "execution_count": 105,
   "id": "70925eb5-ed99-4f12-9127-a952601e9728",
   "metadata": {},
   "outputs": [],
   "source": [
    "assert(candidate_line.subs(substitution(P1)).is_zero())"
   ]
  },
  {
   "cell_type": "markdown",
   "id": "8c18045f-8f33-4e07-8ed2-3168cbb1b4a9",
   "metadata": {},
   "source": [
    "## Case $s_{12} = 0$ and $s_{22} = 0$;"
   ]
  },
  {
   "cell_type": "markdown",
   "id": "6b58a275-3613-4be9-8d42-f50acd191df4",
   "metadata": {},
   "source": [
    "This implies that $P_2$ is on the isotropic conic, so we suppose $P_1 = (1: 0: 0)$ and $P_2$ one of the two intersections of the isotropic conic with the two tangents from $P_1$."
   ]
  },
  {
   "cell_type": "code",
   "execution_count": 123,
   "id": "2361dcda-e626-4586-adb8-b5888d13036e",
   "metadata": {},
   "outputs": [],
   "source": [
    "P1 = vector(S, (1, 0, 0))\n",
    "P2 = vector(S, (0, 1, ii))\n",
    "P3 = u1*P1 + u2*P2\n",
    "P4 = vector(S, (A4, B4, C4))\n",
    "P5 = v1*P1 + v2*P4"
   ]
  },
  {
   "cell_type": "code",
   "execution_count": 124,
   "id": "f7037d25-d33e-40b3-aebf-75cd02ab52e5",
   "metadata": {},
   "outputs": [],
   "source": [
    "M = condition_matrix([P1, P2, P3, P4, P5], S, standard=\"all\")"
   ]
  },
  {
   "cell_type": "code",
   "execution_count": 156,
   "id": "cafbc71c-629c-4b66-aa78-2a98ed3a192b",
   "metadata": {},
   "outputs": [],
   "source": [
    "M2 = M.matrix_from_rows([0,1,3,5,6,9,10,12,13])"
   ]
  },
  {
   "cell_type": "code",
   "execution_count": 157,
   "id": "69ead59c-5cec-4023-ba23-d9a2c40f5ff0",
   "metadata": {},
   "outputs": [],
   "source": [
    "G1 = M2.stack(phi((x,y,z), S)[0])\n",
    "G2 = M2.stack(phi((x,y,z), S)[1])\n",
    "G3 = M2.stack(phi((x,y,z), S)[2])\n",
    "\n",
    "g1 = G1.det()\n",
    "g2 = G2.det()\n",
    "g3 = G3.det()"
   ]
  },
  {
   "cell_type": "code",
   "execution_count": 158,
   "id": "bffba389-78f2-4cfb-9ec5-71c29ed37eeb",
   "metadata": {},
   "outputs": [],
   "source": [
    "g = P1[2]*g1 - P1[1]*g2 + P1[0]*g3"
   ]
  },
  {
   "cell_type": "code",
   "execution_count": 159,
   "id": "8401695c-fb2f-44d3-ad53-ee0fe591adb4",
   "metadata": {},
   "outputs": [],
   "source": [
    "factors_g = g.factor()\n",
    "xyz_factors = list(filter(lambda p: p[0].degree(x) > 0 or p[0].degree(y) > 0 or p[0].degree(z) > 0, factors_g))\n",
    "candidate_line = xyz_factors[-1][0]"
   ]
  },
  {
   "cell_type": "code",
   "execution_count": 162,
   "id": "60466049-9f0d-4316-bd18-375cdc500217",
   "metadata": {},
   "outputs": [],
   "source": [
    "assert(candidate_line.subs(substitution(P1)).is_zero())"
   ]
  },
  {
   "cell_type": "markdown",
   "id": "808ae2a5-9008-44c2-89c1-f9939d74031b",
   "metadata": {},
   "source": [
    "## Case $\\sigma(P_1, P_2) = 0$ and $\\sigma(P_1, P_4) = 0$;"
   ]
  },
  {
   "cell_type": "markdown",
   "id": "86ce47ce-03e7-4a67-9893-2d9b0180237b",
   "metadata": {},
   "source": [
    "This implies that $P_1$ cannot be on the isotropic conic, so we can suppose $P_1 = (1: 0: 0)$"
   ]
  },
  {
   "cell_type": "code",
   "execution_count": 163,
   "id": "62999095-a702-4d4b-9a56-2690c4fb5f0e",
   "metadata": {},
   "outputs": [],
   "source": [
    "P1 = vector(S, (1, 0, 0))\n",
    "Qa = vector(S, (0, 1, ii))\n",
    "Qb = vector(S, (0, 1, -ii))\n",
    "\n",
    "P2 = m1*P1 + m2*Qa\n",
    "P4 = l1*P1 + l2*Qb\n",
    "\n",
    "assert(sigma(P1, P2) == 0)\n",
    "assert(sigma(P1, P4) == 0)\n",
    "\n",
    "P3 = u1*P1 + u2*P2\n",
    "P5 = v1*P1 + v2*P4"
   ]
  },
  {
   "cell_type": "code",
   "execution_count": 164,
   "id": "6305758e-9c6b-4b4f-9fd0-9f214fbfb912",
   "metadata": {},
   "outputs": [],
   "source": [
    "M = condition_matrix([P1, P2, P3, P4, P5], S, standard=\"all\")"
   ]
  },
  {
   "cell_type": "code",
   "execution_count": 165,
   "id": "d631f6dd-4ca7-4d4a-bd92-3fb9737b8e1a",
   "metadata": {},
   "outputs": [],
   "source": [
    "M1 = M.matrix_from_rows([0,1,3,5,6,7,9,10,12,13])"
   ]
  },
  {
   "cell_type": "code",
   "execution_count": 166,
   "id": "1a0a4755-2b38-4ccf-80f3-d3548f33fbfa",
   "metadata": {},
   "outputs": [],
   "source": [
    "M2 = M.matrix_from_rows([0,1,3,5,6,7,9,11,12])"
   ]
  },
  {
   "cell_type": "code",
   "execution_count": 167,
   "id": "d1a51fd5-9bc6-45db-ab0e-1b0930a88247",
   "metadata": {},
   "outputs": [],
   "source": [
    "G1 = M2.stack(phi((x,y,z), S)[0])\n",
    "G2 = M2.stack(phi((x,y,z), S)[1])\n",
    "G3 = M2.stack(phi((x,y,z), S)[2])\n",
    "\n",
    "g1 = G1.det()\n",
    "g2 = G2.det()\n",
    "g3 = G3.det()"
   ]
  },
  {
   "cell_type": "code",
   "execution_count": 86,
   "id": "4db8d8a7-fec1-4c9b-963c-ff97e81c84cd",
   "metadata": {},
   "outputs": [
    {
     "data": {
      "text/plain": [
       "0"
      ]
     },
     "execution_count": 86,
     "metadata": {},
     "output_type": "execute_result"
    }
   ],
   "source": [
    "g = P1[2]*g1 - P1[1]*g2 + P1[0]*g3; g"
   ]
  },
  {
   "cell_type": "markdown",
   "id": "5b035ae7-1db5-40d7-ae41-98d4e1a6f7d7",
   "metadata": {},
   "source": [
    "PROBLEMA: QUI `g1`, `g2` e `g3` non sono nulli, ma `g` è nullo"
   ]
  },
  {
   "cell_type": "code",
   "execution_count": 37,
   "id": "80ec93c3-cc34-42ce-99c7-0e0d82d60f4c",
   "metadata": {},
   "outputs": [],
   "source": [
    "factors_g = g.factor()\n",
    "xyz_factors = list(filter(lambda p: p[0].degree(x) > 0 or p[0].degree(y) > 0 or p[0].degree(z) > 0, factors_g))\n",
    "candidate_line = xyz_factors[-1][0]"
   ]
  },
  {
   "cell_type": "code",
   "execution_count": 38,
   "id": "8efbd269-7f2e-4c39-a03c-1cca1e931157",
   "metadata": {},
   "outputs": [],
   "source": [
    "assert(candidate_line.subs(substitution(P1)).is_zero())"
   ]
  },
  {
   "cell_type": "markdown",
   "id": "1fec18b1-c4f2-41dd-ae8e-d1645ae09dd2",
   "metadata": {},
   "source": [
    "## Case $P_3 = (s_{14}s_{15}s_{22}-s_{12}^2s_{45})P_1  +s_{12}(s_{11}s_{45}-s_{14}s_{15})P_2$"
   ]
  },
  {
   "cell_type": "markdown",
   "id": "77a23ba4-c17a-4854-b547-7e98be226098",
   "metadata": {},
   "source": [
    "### Subcase $P_1 = (1: 0: 0)$"
   ]
  },
  {
   "cell_type": "code",
   "execution_count": 4,
   "id": "3c83bca9-7c20-48bc-a076-3a69f92e296d",
   "metadata": {},
   "outputs": [],
   "source": [
    "P1 = vector(S, (1, 0, 0))\n",
    "P2 = vector(S, (A2, B2, C2))\n",
    "P3 = u1*P1 + u2*P2\n",
    "P4 = vector(S, (A4, B4, C4))\n",
    "P5 = v1*P1 + v2*P4"
   ]
  },
  {
   "cell_type": "code",
   "execution_count": 6,
   "id": "ebd426d0-3ed0-45f1-9564-fd211250b839",
   "metadata": {},
   "outputs": [],
   "source": [
    "d2 = delta2(P1, P2, P3, P4, P5)\n",
    "U1 = d2.coefficient(u1)\n",
    "U2 = d2.coefficient(u2)"
   ]
  },
  {
   "cell_type": "code",
   "execution_count": 7,
   "id": "58e76cf4-5cab-4503-b2b9-cb833d9713c3",
   "metadata": {},
   "outputs": [],
   "source": [
    "p3 = P3.subs({u1: U2, u2: -U1})"
   ]
  },
  {
   "cell_type": "code",
   "execution_count": 8,
   "id": "277d3a83-fad1-4d8e-8206-08ee585edaf9",
   "metadata": {},
   "outputs": [],
   "source": [
    "M = condition_matrix([P1, P2, p3, P4, P5], S, standard=\"all\")"
   ]
  },
  {
   "cell_type": "code",
   "execution_count": 17,
   "id": "59d590c3-aa71-4fb2-baab-c344d4c27c2a",
   "metadata": {},
   "outputs": [],
   "source": [
    "assert(M[2] == vector([0 for _ in range(10)]))"
   ]
  },
  {
   "cell_type": "code",
   "execution_count": 20,
   "id": "b486aa95-b3a4-4e0c-a850-40415580f21d",
   "metadata": {},
   "outputs": [],
   "source": [
    "M1 = M.matrix_from_rows([0,1,3,4,6,7,9,10,12,13])"
   ]
  },
  {
   "cell_type": "code",
   "execution_count": 22,
   "id": "db76522c-b647-4b14-a0dc-9070ccf0ed93",
   "metadata": {},
   "outputs": [],
   "source": [
    "M2 = M.matrix_from_rows([0,1,3,4,6,7,9,10,12])"
   ]
  },
  {
   "cell_type": "code",
   "execution_count": 28,
   "id": "9827735c-67ab-471b-8c21-c99036ce62ef",
   "metadata": {},
   "outputs": [],
   "source": [
    "G1 = M2.stack(phi((x,y,z), S)[0])\n",
    "G2 = M2.stack(phi((x,y,z), S)[1])\n",
    "G3 = M2.stack(phi((x,y,z), S)[2])\n",
    "\n",
    "g1 = G1.det()\n",
    "g2 = G2.det()\n",
    "g3 = G3.det()"
   ]
  },
  {
   "cell_type": "code",
   "execution_count": 33,
   "id": "b1cc93f5-951c-452b-9bf4-5e037385e2ef",
   "metadata": {},
   "outputs": [],
   "source": [
    "g = P1[2]*g1 - P1[1]*g2 + P1[0]*g3\n",
    "assert(g == g3)"
   ]
  },
  {
   "cell_type": "code",
   "execution_count": 39,
   "id": "74a2246e-cd3c-437c-926b-2b454c4050e9",
   "metadata": {},
   "outputs": [],
   "source": [
    "factors_g = g.factor()\n",
    "xyz_factors = list(filter(lambda p: p[0].degree(x) > 0 or p[0].degree(y) > 0 or p[0].degree(z) > 0, factors_g))\n",
    "candidate_line = xyz_factors[-1][0]"
   ]
  },
  {
   "cell_type": "code",
   "execution_count": 41,
   "id": "8bed8230-2199-4bf8-8386-c029785b3501",
   "metadata": {},
   "outputs": [],
   "source": [
    "assert(candidate_line.subs(substitution(P1)).is_zero())"
   ]
  },
  {
   "cell_type": "markdown",
   "id": "6d20ae10-d9bf-45bc-8cda-6148156a4241",
   "metadata": {},
   "source": [
    "### Subcase $P_1 = (1: i: 0)$"
   ]
  },
  {
   "cell_type": "code",
   "execution_count": 18,
   "id": "4d38f297-10f5-4792-aebb-a54c2fa7e0e1",
   "metadata": {},
   "outputs": [],
   "source": [
    "P1 = vector(S, (1, ii, 0))\n",
    "P2 = vector(S, (A2, B2, C2))\n",
    "P3 = u1*P1 + u2*P2\n",
    "P4 = vector(S, (A4, B4, C4))\n",
    "P5 = v1*P1 + v2*P4"
   ]
  },
  {
   "cell_type": "code",
   "execution_count": 19,
   "id": "bc6afcd6-61a7-4173-bab1-ad9ada6c81fb",
   "metadata": {},
   "outputs": [],
   "source": [
    "d2 = delta2(P1, P2, P3, P4, P5)\n",
    "U1 = d2.coefficient(u1)\n",
    "U2 = d2.coefficient(u2)"
   ]
  },
  {
   "cell_type": "code",
   "execution_count": 20,
   "id": "4fa7bd48-6a65-4ed5-9a6f-45b8a38296e3",
   "metadata": {},
   "outputs": [],
   "source": [
    "p3 = P3.subs({u1: U2, u2: -U1})"
   ]
  },
  {
   "cell_type": "code",
   "execution_count": 21,
   "id": "94477883-af3a-4c1a-92a0-ca8acac58ad2",
   "metadata": {},
   "outputs": [],
   "source": [
    "M = condition_matrix([P1, P2, P3, P4, P5], S, standard=\"all\")"
   ]
  },
  {
   "cell_type": "code",
   "execution_count": 22,
   "id": "33720bdf-8703-4dcf-9506-562443886c12",
   "metadata": {},
   "outputs": [],
   "source": [
    "M1 = M.matrix_from_rows([0,1,3,4,6,7,9,10,12,13])"
   ]
  },
  {
   "cell_type": "code",
   "execution_count": 23,
   "id": "b73fc464-ad60-4721-a1f5-8ec4da654aac",
   "metadata": {},
   "outputs": [],
   "source": [
    "M2 = M.matrix_from_rows([0,1,3,4,6,7,9,10,12])"
   ]
  },
  {
   "cell_type": "code",
   "execution_count": 24,
   "id": "b24925d9-6b99-4a04-98de-40d6a439d2e3",
   "metadata": {},
   "outputs": [],
   "source": [
    "ttA = cputime()\n",
    "G1 = M2.stack(phi((x,y,z), S)[0])\n",
    "g1 = G1.det()\n"
   ]
  },
  {
   "cell_type": "code",
   "execution_count": 25,
   "id": "bc60923a-1c86-4e66-8c7d-1b55a3691eaf",
   "metadata": {},
   "outputs": [],
   "source": [
    "ttA = cputime()\n",
    "G2 = M2.stack(phi((x,y,z), S)[1])\n",
    "g2 = G2.det()\n"
   ]
  },
  {
   "cell_type": "code",
   "execution_count": 26,
   "id": "b661d20c-d516-41b0-921e-2949fa70e812",
   "metadata": {},
   "outputs": [],
   "source": [
    "ttA = cputime()\n",
    "G3 = M2.stack(phi((x,y,z), S)[2])\n",
    "g3 = G3.det()"
   ]
  },
  {
   "cell_type": "code",
   "execution_count": 27,
   "id": "9ffac723-b855-4f19-8c45-912914e6d456",
   "metadata": {},
   "outputs": [],
   "source": [
    "g = P1[2]*g1 - P1[1]*g2 + P1[0]*g3"
   ]
  },
  {
   "cell_type": "code",
   "execution_count": 28,
   "id": "c3c3ddb6-4724-4365-a759-77ad6837a7e0",
   "metadata": {},
   "outputs": [],
   "source": [
    "assert((z*g1 - y*g2 + x*g3).is_zero())"
   ]
  },
  {
   "cell_type": "code",
   "execution_count": 47,
   "id": "38b92b1f-d67d-4a36-80e9-a816088abf15",
   "metadata": {},
   "outputs": [],
   "source": [
    "gtilde = g.quo_rem(matrix([P1, P2, P4]).det()^2)[0]\n",
    "gtilde = gtilde.quo_rem(u1^2)[0]\n",
    "gtilde = gtilde.quo_rem(u2^2)[0]\n",
    "gtilde = gtilde.quo_rem(v1*v2)[0]\n",
    "factors_g = gtilde.factor()"
   ]
  },
  {
   "cell_type": "code",
   "execution_count": 48,
   "id": "ad54301d-fd5b-4e1d-86f0-3cf3cd516c94",
   "metadata": {},
   "outputs": [],
   "source": [
    "xyz_factors = list(filter(lambda p: p[0].degree(x) > 0 or p[0].degree(y) > 0 or p[0].degree(z) > 0, factors_g))"
   ]
  },
  {
   "cell_type": "code",
   "execution_count": 53,
   "id": "8b55a5df-c52d-420b-a640-3d80e20e5ef5",
   "metadata": {},
   "outputs": [],
   "source": [
    "quadratic_factor = xyz_factors[1][0]"
   ]
  },
  {
   "cell_type": "code",
   "execution_count": 57,
   "id": "ba004e3d-4c18-428b-b56c-431c18fa7758",
   "metadata": {},
   "outputs": [],
   "source": [
    "quadratic_factor = quadratic_factor.subs({u1: U2, u2: -U1})\n",
    "xyz_factors = list(filter(lambda p: p[0].degree(x) > 0 or p[0].degree(y) > 0 or p[0].degree(z) > 0, quadratic_factor.factor()))"
   ]
  },
  {
   "cell_type": "code",
   "execution_count": 58,
   "id": "f58b1e76-8c7c-47ee-a691-08c9354f4339",
   "metadata": {},
   "outputs": [],
   "source": [
    "candidate_line = xyz_factors[-1][0]"
   ]
  },
  {
   "cell_type": "code",
   "execution_count": 59,
   "id": "8c90284c-0d43-4605-bbe9-deb87dcfcfff",
   "metadata": {},
   "outputs": [],
   "source": [
    "assert(candidate_line.subs(substitution(P1)).is_zero())"
   ]
  }
 ],
 "metadata": {
  "kernelspec": {
   "display_name": "SageMath 10.1",
   "language": "sage",
   "name": "sagemath"
  },
  "language_info": {
   "codemirror_mode": {
    "name": "ipython",
    "version": 3
   },
   "file_extension": ".py",
   "mimetype": "text/x-python",
   "name": "python",
   "nbconvert_exporter": "python",
   "pygments_lexer": "ipython3",
   "version": "3.10.6"
  }
 },
 "nbformat": 4,
 "nbformat_minor": 5
}
