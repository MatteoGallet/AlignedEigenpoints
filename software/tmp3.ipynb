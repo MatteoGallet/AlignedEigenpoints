{
 "cells": [
  {
   "cell_type": "markdown",
   "id": "6c1753cb-157d-403a-923d-3cc0d87de1b9",
   "metadata": {},
   "source": [
    "# Proposition"
   ]
  },
  {
   "cell_type": "markdown",
   "id": "e15c5f17-1360-4080-8e24-e214b1a6d7de",
   "metadata": {},
   "source": [
    "If we have a $V$-configuration of five points $P_1, \\dots, P_5$\n",
    "such that the rank of the matrix $\\Phi(P_1, \\dots, P_5)$ is $9$ and\n",
    "such that $\\delta_2(P_1, \\dots, P_5) = 0$,\n",
    "then the unique ternary cubic determined by the condition that $P_1, \\dots, P_5$\n",
    "are eigenpoints has also the two other eigenpoints $P_6$ and $P_7$\n",
    "aligned with $P_1$."
   ]
  },
  {
   "cell_type": "code",
   "execution_count": 1,
   "id": "f0ae0496-284a-405c-a7a3-28a5ac2ff805",
   "metadata": {},
   "outputs": [],
   "source": [
    "load(\"../AlignedEigenpoints/software/basic_functions.sage\")"
   ]
  },
  {
   "cell_type": "markdown",
   "id": "c4165bc8-6dcf-4496-9dc6-14584980b1c3",
   "metadata": {},
   "source": [
    "## $s_{12} = 0$ and $s_{14} = 0$;"
   ]
  },
  {
   "cell_type": "markdown",
   "id": "73679d7a-63da-4b92-b4c3-451a156defb8",
   "metadata": {},
   "source": [
    "### Case $P_1 = (1: 0: 0)$"
   ]
  },
  {
   "cell_type": "code",
   "execution_count": 10,
   "id": "ebbbcbba-1926-4195-9d12-07fb4ca26ff9",
   "metadata": {},
   "outputs": [],
   "source": [
    "P1 = vector(S, (1, 0, 0))\n",
    "P2 = vector(S, (0, B2, C2))\n",
    "P3 = u1*P1 + u2*P2\n",
    "P4 = vector(S, (0, B4, C4))\n",
    "P5 = v1*P1 + v2*P4"
   ]
  },
  {
   "cell_type": "code",
   "execution_count": 11,
   "id": "f81f0a74-6799-4fad-a95f-b3dbe268150d",
   "metadata": {},
   "outputs": [],
   "source": [
    "M = condition_matrix([P1, P2, P3, P4, P5], S, standard=\"all\")"
   ]
  },
  {
   "cell_type": "code",
   "execution_count": 12,
   "id": "fe8876d0-2ff4-42a6-bada-9d085d4c68bb",
   "metadata": {},
   "outputs": [],
   "source": [
    "assert(M[2] == vector([0 for _ in range(10)]))"
   ]
  },
  {
   "cell_type": "code",
   "execution_count": 13,
   "id": "fe63eabd-b064-49fe-9937-2c74b424c1c0",
   "metadata": {},
   "outputs": [],
   "source": [
    "M1 = M.matrix_from_rows([0,1,3,4,6,7,9,10,12,13])"
   ]
  },
  {
   "cell_type": "code",
   "execution_count": 14,
   "id": "4312afb7-f7e6-43b9-8b9f-ae185122ddd6",
   "metadata": {},
   "outputs": [],
   "source": [
    "M2 = M.matrix_from_rows([0,1,3,4,6,7,9,10,12])"
   ]
  },
  {
   "cell_type": "code",
   "execution_count": 15,
   "id": "16e0f081-2900-4d0c-a9c5-8ae255640b2a",
   "metadata": {},
   "outputs": [],
   "source": [
    "G1 = M2.stack(phi((x,y,z), S)[0])\n",
    "G2 = M2.stack(phi((x,y,z), S)[1])\n",
    "G3 = M2.stack(phi((x,y,z), S)[2])\n",
    "\n",
    "g1 = G1.det()\n",
    "g2 = G2.det()\n",
    "g3 = G3.det()"
   ]
  },
  {
   "cell_type": "code",
   "execution_count": 16,
   "id": "55c8becb-7624-4887-addf-33416c5ec8c8",
   "metadata": {},
   "outputs": [],
   "source": [
    "g = P1[2]*g1 - P1[1]*g2 + P1[0]*g3\n",
    "assert(g == g3)"
   ]
  },
  {
   "cell_type": "code",
   "execution_count": 17,
   "id": "a2abcbfb-e09a-4550-8572-86293a275798",
   "metadata": {},
   "outputs": [
    {
     "ename": "ArithmeticError",
     "evalue": "factorization of 0 is not defined",
     "output_type": "error",
     "traceback": [
      "\u001b[0;31m---------------------------------------------------------------------------\u001b[0m",
      "\u001b[0;31mArithmeticError\u001b[0m                           Traceback (most recent call last)",
      "Cell \u001b[0;32mIn[17], line 1\u001b[0m\n\u001b[0;32m----> 1\u001b[0m factors_g \u001b[38;5;241m=\u001b[39m \u001b[43mg\u001b[49m\u001b[38;5;241;43m.\u001b[39;49m\u001b[43mfactor\u001b[49m\u001b[43m(\u001b[49m\u001b[43m)\u001b[49m\n\u001b[1;32m      2\u001b[0m xyz_factors \u001b[38;5;241m=\u001b[39m \u001b[38;5;28mlist\u001b[39m(\u001b[38;5;28mfilter\u001b[39m(\u001b[38;5;28;01mlambda\u001b[39;00m p: p[Integer(\u001b[38;5;241m0\u001b[39m)]\u001b[38;5;241m.\u001b[39mdegree(x) \u001b[38;5;241m>\u001b[39m Integer(\u001b[38;5;241m0\u001b[39m) \u001b[38;5;129;01mor\u001b[39;00m p[Integer(\u001b[38;5;241m0\u001b[39m)]\u001b[38;5;241m.\u001b[39mdegree(y) \u001b[38;5;241m>\u001b[39m Integer(\u001b[38;5;241m0\u001b[39m) \u001b[38;5;129;01mor\u001b[39;00m p[Integer(\u001b[38;5;241m0\u001b[39m)]\u001b[38;5;241m.\u001b[39mdegree(z) \u001b[38;5;241m>\u001b[39m Integer(\u001b[38;5;241m0\u001b[39m), factors_g))\n\u001b[1;32m      3\u001b[0m candidate_line \u001b[38;5;241m=\u001b[39m xyz_factors[\u001b[38;5;241m-\u001b[39mInteger(\u001b[38;5;241m1\u001b[39m)][Integer(\u001b[38;5;241m0\u001b[39m)]\n",
      "File \u001b[0;32m~/mambaforge/envs/sage/lib/python3.10/site-packages/sage/rings/polynomial/multi_polynomial_libsingular.pyx:4416\u001b[0m, in \u001b[0;36msage.rings.polynomial.multi_polynomial_libsingular.MPolynomial_libsingular.factor (build/cythonized/sage/rings/polynomial/multi_polynomial_libsingular.cpp:33821)\u001b[0;34m()\u001b[0m\n\u001b[1;32m   4414\u001b[0m \n\u001b[1;32m   4415\u001b[0m         if p_IsConstant(self._poly, _ring):\n\u001b[0;32m-> 4416\u001b[0m             return self.constant_coefficient().factor()\n\u001b[1;32m   4417\u001b[0m \n\u001b[1;32m   4418\u001b[0m         if not self._parent._base.is_field():\n",
      "File \u001b[0;32m~/mambaforge/envs/sage/lib/python3.10/site-packages/sage/rings/number_field/number_field_element.pyx:1994\u001b[0m, in \u001b[0;36msage.rings.number_field.number_field_element.NumberFieldElement.factor (build/cythonized/sage/rings/number_field/number_field_element.cpp:20068)\u001b[0;34m()\u001b[0m\n\u001b[1;32m   1992\u001b[0m \"\"\"\n\u001b[1;32m   1993\u001b[0m if self.is_zero():\n\u001b[0;32m-> 1994\u001b[0m     raise ArithmeticError(\"factorization of 0 is not defined\")\n\u001b[1;32m   1995\u001b[0m \n\u001b[1;32m   1996\u001b[0m K = self.parent()\n",
      "\u001b[0;31mArithmeticError\u001b[0m: factorization of 0 is not defined"
     ]
    }
   ],
   "source": [
    "factors_g = g.factor()\n",
    "xyz_factors = list(filter(lambda p: p[0].degree(x) > 0 or p[0].degree(y) > 0 or p[0].degree(z) > 0, factors_g))\n",
    "candidate_line = xyz_factors[-1][0]"
   ]
  },
  {
   "cell_type": "code",
   "execution_count": null,
   "id": "6d17eee8-b87d-4623-9449-a17f8a0832e7",
   "metadata": {},
   "outputs": [],
   "source": [
    "assert(candidate_line.subs(substitution(P1)).is_zero())"
   ]
  },
  {
   "cell_type": "markdown",
   "id": "e3067192-f526-43dc-a3a2-904c9c6d507f",
   "metadata": {},
   "source": [
    "### Case $P_1 = (1: ii: 0)$"
   ]
  },
  {
   "cell_type": "markdown",
   "id": "8c18045f-8f33-4e07-8ed2-3168cbb1b4a9",
   "metadata": {},
   "source": [
    "## $s_{12} = 0$ and $s_{22} = 0$;"
   ]
  },
  {
   "cell_type": "markdown",
   "id": "6b58a275-3613-4be9-8d42-f50acd191df4",
   "metadata": {},
   "source": [
    "This implies that $P_2$ is on the isotropic conic, so we suppose $P_2 = (1: i: 0)$."
   ]
  },
  {
   "cell_type": "markdown",
   "id": "808ae2a5-9008-44c2-89c1-f9939d74031b",
   "metadata": {},
   "source": [
    "## $\\sigma(P_1, P_2) = 0$ and $\\sigma(P_1, P_4) = 0$;"
   ]
  },
  {
   "cell_type": "markdown",
   "id": "86ce47ce-03e7-4a67-9893-2d9b0180237b",
   "metadata": {},
   "source": [
    "This implies that $P_1$ cannot be on the isotropic conic, so we can suppose $P_1 = (1: 0: 0)$"
   ]
  },
  {
   "cell_type": "code",
   "execution_count": null,
   "id": "62999095-a702-4d4b-9a56-2690c4fb5f0e",
   "metadata": {},
   "outputs": [],
   "source": [
    "P1 = vector(S, (1, 0, 0))\n",
    "Qa = vector(S, (0, 1, ii))\n",
    "Qb = vector(S, (0, 1, -ii))\n",
    "\n",
    "P2 = m1*P1 + m2*Qa\n",
    "P4 = l1*P1 + l2*Qb\n",
    "\n",
    "assert(sigma(P1, P2) == 0)\n",
    "assert(sigma(P1, P4) == 0)\n",
    "\n",
    "P3 = u1*P1 + u2*P2\n",
    "P5 = v1*P1 + v2*P4"
   ]
  },
  {
   "cell_type": "markdown",
   "id": "1fec18b1-c4f2-41dd-ae8e-d1645ae09dd2",
   "metadata": {},
   "source": [
    "## $P_3 = (s_{14}s_{15}s_{22}-s_{12}^2s_{45})P_1  +s_{12}(s_{11}s_{45}-s_{14}s_{15})P_2$"
   ]
  },
  {
   "cell_type": "markdown",
   "id": "77a23ba4-c17a-4854-b547-7e98be226098",
   "metadata": {},
   "source": [
    "### Case $P_1 = (1: 0: 0)$"
   ]
  },
  {
   "cell_type": "code",
   "execution_count": 4,
   "id": "3c83bca9-7c20-48bc-a076-3a69f92e296d",
   "metadata": {},
   "outputs": [],
   "source": [
    "P1 = vector(S, (1, 0, 0))\n",
    "P2 = vector(S, (A2, B2, C2))\n",
    "P3 = u1*P1 + u2*P2\n",
    "P4 = vector(S, (A4, B4, C4))\n",
    "P5 = v1*P1 + v2*P4"
   ]
  },
  {
   "cell_type": "code",
   "execution_count": 6,
   "id": "ebd426d0-3ed0-45f1-9564-fd211250b839",
   "metadata": {},
   "outputs": [],
   "source": [
    "d2 = delta2(P1, P2, P3, P4, P5)\n",
    "U1 = d2.coefficient(u1)\n",
    "U2 = d2.coefficient(u2)"
   ]
  },
  {
   "cell_type": "code",
   "execution_count": 7,
   "id": "58e76cf4-5cab-4503-b2b9-cb833d9713c3",
   "metadata": {},
   "outputs": [],
   "source": [
    "p3 = P3.subs({u1: U2, u2: -U1})"
   ]
  },
  {
   "cell_type": "code",
   "execution_count": 8,
   "id": "277d3a83-fad1-4d8e-8206-08ee585edaf9",
   "metadata": {},
   "outputs": [],
   "source": [
    "M = condition_matrix([P1, P2, p3, P4, P5], S, standard=\"all\")"
   ]
  },
  {
   "cell_type": "code",
   "execution_count": 17,
   "id": "59d590c3-aa71-4fb2-baab-c344d4c27c2a",
   "metadata": {},
   "outputs": [],
   "source": [
    "assert(M[2] == vector([0 for _ in range(10)]))"
   ]
  },
  {
   "cell_type": "code",
   "execution_count": 20,
   "id": "b486aa95-b3a4-4e0c-a850-40415580f21d",
   "metadata": {},
   "outputs": [],
   "source": [
    "M1 = M.matrix_from_rows([0,1,3,4,6,7,9,10,12,13])"
   ]
  },
  {
   "cell_type": "code",
   "execution_count": 22,
   "id": "db76522c-b647-4b14-a0dc-9070ccf0ed93",
   "metadata": {},
   "outputs": [],
   "source": [
    "M2 = M.matrix_from_rows([0,1,3,4,6,7,9,10,12])"
   ]
  },
  {
   "cell_type": "code",
   "execution_count": 28,
   "id": "9827735c-67ab-471b-8c21-c99036ce62ef",
   "metadata": {},
   "outputs": [],
   "source": [
    "G1 = M2.stack(phi((x,y,z), S)[0])\n",
    "G2 = M2.stack(phi((x,y,z), S)[1])\n",
    "G3 = M2.stack(phi((x,y,z), S)[2])\n",
    "\n",
    "g1 = G1.det()\n",
    "g2 = G2.det()\n",
    "g3 = G3.det()"
   ]
  },
  {
   "cell_type": "code",
   "execution_count": 33,
   "id": "b1cc93f5-951c-452b-9bf4-5e037385e2ef",
   "metadata": {},
   "outputs": [],
   "source": [
    "g = P1[2]*g1 - P1[1]*g2 + P1[0]*g3\n",
    "assert(g == g3)"
   ]
  },
  {
   "cell_type": "code",
   "execution_count": 39,
   "id": "74a2246e-cd3c-437c-926b-2b454c4050e9",
   "metadata": {},
   "outputs": [],
   "source": [
    "factors_g = g.factor()\n",
    "xyz_factors = list(filter(lambda p: p[0].degree(x) > 0 or p[0].degree(y) > 0 or p[0].degree(z) > 0, factors_g))\n",
    "candidate_line = xyz_factors[-1][0]"
   ]
  },
  {
   "cell_type": "code",
   "execution_count": 41,
   "id": "8bed8230-2199-4bf8-8386-c029785b3501",
   "metadata": {},
   "outputs": [],
   "source": [
    "assert(candidate_line.subs(substitution(P1)).is_zero())"
   ]
  },
  {
   "cell_type": "markdown",
   "id": "6d20ae10-d9bf-45bc-8cda-6148156a4241",
   "metadata": {},
   "source": [
    "### Case $P_1 = (1: i: 0)$"
   ]
  },
  {
   "cell_type": "code",
   "execution_count": 18,
   "id": "4d38f297-10f5-4792-aebb-a54c2fa7e0e1",
   "metadata": {},
   "outputs": [],
   "source": [
    "P1 = vector(S, (1, ii, 0))\n",
    "P2 = vector(S, (A2, B2, C2))\n",
    "P3 = u1*P1 + u2*P2\n",
    "P4 = vector(S, (A4, B4, C4))\n",
    "P5 = v1*P1 + v2*P4"
   ]
  },
  {
   "cell_type": "code",
   "execution_count": 19,
   "id": "bc6afcd6-61a7-4173-bab1-ad9ada6c81fb",
   "metadata": {},
   "outputs": [],
   "source": [
    "d2 = delta2(P1, P2, P3, P4, P5)\n",
    "U1 = d2.coefficient(u1)\n",
    "U2 = d2.coefficient(u2)"
   ]
  },
  {
   "cell_type": "code",
   "execution_count": 20,
   "id": "4fa7bd48-6a65-4ed5-9a6f-45b8a38296e3",
   "metadata": {},
   "outputs": [],
   "source": [
    "p3 = P3.subs({u1: U2, u2: -U1})"
   ]
  },
  {
   "cell_type": "code",
   "execution_count": 21,
   "id": "94477883-af3a-4c1a-92a0-ca8acac58ad2",
   "metadata": {},
   "outputs": [],
   "source": [
    "M = condition_matrix([P1, P2, P3, P4, P5], S, standard=\"all\")"
   ]
  },
  {
   "cell_type": "code",
   "execution_count": 22,
   "id": "33720bdf-8703-4dcf-9506-562443886c12",
   "metadata": {},
   "outputs": [],
   "source": [
    "M1 = M.matrix_from_rows([0,1,3,4,6,7,9,10,12,13])"
   ]
  },
  {
   "cell_type": "code",
   "execution_count": 23,
   "id": "b73fc464-ad60-4721-a1f5-8ec4da654aac",
   "metadata": {},
   "outputs": [],
   "source": [
    "M2 = M.matrix_from_rows([0,1,3,4,6,7,9,10,12])"
   ]
  },
  {
   "cell_type": "code",
   "execution_count": 24,
   "id": "b24925d9-6b99-4a04-98de-40d6a439d2e3",
   "metadata": {},
   "outputs": [],
   "source": [
    "ttA = cputime()\n",
    "G1 = M2.stack(phi((x,y,z), S)[0])\n",
    "g1 = G1.det()\n"
   ]
  },
  {
   "cell_type": "code",
   "execution_count": 25,
   "id": "bc60923a-1c86-4e66-8c7d-1b55a3691eaf",
   "metadata": {},
   "outputs": [],
   "source": [
    "ttA = cputime()\n",
    "G2 = M2.stack(phi((x,y,z), S)[1])\n",
    "g2 = G2.det()\n"
   ]
  },
  {
   "cell_type": "code",
   "execution_count": 26,
   "id": "b661d20c-d516-41b0-921e-2949fa70e812",
   "metadata": {},
   "outputs": [],
   "source": [
    "ttA = cputime()\n",
    "G3 = M2.stack(phi((x,y,z), S)[2])\n",
    "g3 = G3.det()"
   ]
  },
  {
   "cell_type": "code",
   "execution_count": 27,
   "id": "9ffac723-b855-4f19-8c45-912914e6d456",
   "metadata": {},
   "outputs": [],
   "source": [
    "g = P1[2]*g1 - P1[1]*g2 + P1[0]*g3"
   ]
  },
  {
   "cell_type": "code",
   "execution_count": 28,
   "id": "c3c3ddb6-4724-4365-a759-77ad6837a7e0",
   "metadata": {},
   "outputs": [],
   "source": [
    "assert((z*g1 - y*g2 + x*g3).is_zero())"
   ]
  },
  {
   "cell_type": "code",
   "execution_count": 47,
   "id": "38b92b1f-d67d-4a36-80e9-a816088abf15",
   "metadata": {},
   "outputs": [],
   "source": [
    "gtilde = g.quo_rem(matrix([P1, P2, P4]).det()^2)[0]\n",
    "gtilde = gtilde.quo_rem(u1^2)[0]\n",
    "gtilde = gtilde.quo_rem(u2^2)[0]\n",
    "gtilde = gtilde.quo_rem(v1*v2)[0]\n",
    "factors_g = gtilde.factor()"
   ]
  },
  {
   "cell_type": "code",
   "execution_count": 48,
   "id": "ad54301d-fd5b-4e1d-86f0-3cf3cd516c94",
   "metadata": {},
   "outputs": [],
   "source": [
    "xyz_factors = list(filter(lambda p: p[0].degree(x) > 0 or p[0].degree(y) > 0 or p[0].degree(z) > 0, factors_g))"
   ]
  },
  {
   "cell_type": "code",
   "execution_count": 53,
   "id": "8b55a5df-c52d-420b-a640-3d80e20e5ef5",
   "metadata": {},
   "outputs": [],
   "source": [
    "quadratic_factor = xyz_factors[1][0]"
   ]
  },
  {
   "cell_type": "code",
   "execution_count": 57,
   "id": "ba004e3d-4c18-428b-b56c-431c18fa7758",
   "metadata": {},
   "outputs": [],
   "source": [
    "quadratic_factor = quadratic_factor.subs({u1: U2, u2: -U1})\n",
    "xyz_factors = list(filter(lambda p: p[0].degree(x) > 0 or p[0].degree(y) > 0 or p[0].degree(z) > 0, quadratic_factor.factor()))"
   ]
  },
  {
   "cell_type": "code",
   "execution_count": 58,
   "id": "f58b1e76-8c7c-47ee-a691-08c9354f4339",
   "metadata": {},
   "outputs": [],
   "source": [
    "candidate_line = xyz_factors[-1][0]"
   ]
  },
  {
   "cell_type": "code",
   "execution_count": 59,
   "id": "8c90284c-0d43-4605-bbe9-deb87dcfcfff",
   "metadata": {},
   "outputs": [],
   "source": [
    "assert(candidate_line.subs(substitution(P1)).is_zero())"
   ]
  }
 ],
 "metadata": {
  "kernelspec": {
   "display_name": "SageMath 10.0",
   "language": "sage",
   "name": "sagemath"
  },
  "language_info": {
   "codemirror_mode": {
    "name": "ipython",
    "version": 3
   },
   "file_extension": ".py",
   "mimetype": "text/x-python",
   "name": "python",
   "nbconvert_exporter": "python",
   "pygments_lexer": "ipython3",
   "version": "3.10.12"
  }
 },
 "nbformat": 4,
 "nbformat_minor": 5
}
