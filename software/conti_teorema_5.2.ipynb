{
 "cells": [
  {
   "cell_type": "markdown",
   "id": "cf3fb7ff-a9ab-4f18-b65e-b0d7e2d7a3c0",
   "metadata": {},
   "source": [
    "# Conti per teorema 5.2"
   ]
  },
  {
   "cell_type": "code",
   "execution_count": null,
   "id": "914f2151-928e-426c-acc3-d9ff5c21cc29",
   "metadata": {},
   "outputs": [],
   "source": [
    "load(\"../AlignedEigenpoints/software/basic_functions.sage\")"
   ]
  },
  {
   "cell_type": "code",
   "execution_count": 82,
   "id": "ef6e6431-c565-42c9-aa15-5b3fb107c414",
   "metadata": {},
   "outputs": [],
   "source": [
    "P1 = vector(S, (A1, B1, C1))\n",
    "P2 = vector(S, (A2, B2, C2))\n",
    "P3 = u1*P1+u2*P2\n",
    "M = condition_matrix([P1, P2, P3], S, standard=\"all\")"
   ]
  },
  {
   "cell_type": "markdown",
   "id": "0a85524c-7403-4a8c-9e12-4ed4edd81728",
   "metadata": {},
   "source": [
    "The following columns of $M$ are linearly dependent:\n",
    "0, 1, 2, 4, 5, 7 or 1, 2, 3, 5, 6, 8 or 4, 5, 6, 7, 8, 9.\n",
    "We can verify this directly, as follows:"
   ]
  },
  {
   "cell_type": "code",
   "execution_count": 83,
   "id": "44728923-e0ba-44e2-bdd4-faa3ed2282c8",
   "metadata": {},
   "outputs": [],
   "source": [
    "Ma = M.matrix_from_columns([0, 1, 2, 4, 5, 7])\n",
    "assert(S.ideal(Ma.minors(6)) == S.ideal(0))\n",
    "\n",
    "Ma = M.matrix_from_columns([1, 2, 3, 5, 6, 8])\n",
    "assert(S.ideal(Ma.minors(6)) == S.ideal(0))\n",
    "\n",
    "Ma = M.matrix_from_columns([4, 5, 6, 7, 8, 9])\n",
    "assert(S.ideal(Ma.minors(6)) == S.ideal(0))"
   ]
  },
  {
   "cell_type": "markdown",
   "id": "1dda72ac-5ff2-45b0-a723-45e83baaf057",
   "metadata": {},
   "source": [
    "or we can see the dependencies of the columns in a more explicit way. We select the 10 columns of $M$:"
   ]
  },
  {
   "cell_type": "code",
   "execution_count": 84,
   "id": "69fd2523-6d24-4f2b-ac4c-496ea0df22c1",
   "metadata": {},
   "outputs": [],
   "source": [
    "c0 = M.matrix_from_columns([0])\n",
    "c1 = M.matrix_from_columns([1])\n",
    "c2 = M.matrix_from_columns([2])\n",
    "c3 = M.matrix_from_columns([3])\n",
    "c4 = M.matrix_from_columns([4])\n",
    "c5 = M.matrix_from_columns([5])\n",
    "c6 = M.matrix_from_columns([6])\n",
    "c7 = M.matrix_from_columns([7])\n",
    "c8 = M.matrix_from_columns([8])\n",
    "c9 = M.matrix_from_columns([9])"
   ]
  },
  {
   "cell_type": "markdown",
   "id": "eb830b35-9141-4753-a734-5ce7842c11b0",
   "metadata": {},
   "source": [
    "We call alpha, beta, gamma the entries of $P_1 \\times P_2$"
   ]
  },
  {
   "cell_type": "code",
   "execution_count": 85,
   "id": "d49e19d6-e4d4-46c6-b9ea-db72ca1b1a63",
   "metadata": {},
   "outputs": [],
   "source": [
    "alpha, beta, gamma = tuple(wedge_product(P1, P2))"
   ]
  },
  {
   "cell_type": "markdown",
   "id": "795e0f97-507c-4399-bd61-41c5890baced",
   "metadata": {},
   "source": [
    "we call $N_1$ and $N_2$ the following matrices: \n",
    "$ \\left(\\begin{array}{ccc}\n",
    "    \\alpha & 0 & 0 \\\\\n",
    "    0 & \\beta & 0 \\\\\n",
    "    0 & 0 & \\gamma\n",
    "\\end{array} \\right)$ \n",
    "$ \\left(\\begin{array}{ccc}\n",
    "    0 & \\alpha & 0 \\\\\n",
    "    \\gamma & 0 & 0 \\\\\n",
    "    0 & 0 & \\beta\n",
    "\\end{array} \\right)$"
   ]
  },
  {
   "cell_type": "code",
   "execution_count": 86,
   "id": "b7627688-dbd5-48df-9ff0-7942f419e3d9",
   "metadata": {},
   "outputs": [],
   "source": [
    "N1 = matrix([[alpha, 0, 0], [0, beta, 0], [0, 0, gamma]])\n",
    "N2 = matrix([[0, alpha, 0], [gamma, 0, 0], [0, 0, beta]])"
   ]
  },
  {
   "cell_type": "markdown",
   "id": "bfc82d99-0fb0-407d-a14a-d46e5e9fcb61",
   "metadata": {},
   "source": [
    "Then we see that c0, c1, c2, c4, c5, c7 are linearly dependend as follows:"
   ]
  },
  {
   "cell_type": "code",
   "execution_count": 87,
   "id": "73a6b9e7-213e-400e-9b34-5fa554ebe2c9",
   "metadata": {},
   "outputs": [],
   "source": [
    "L1 = c0.augment(c2).augment(c7)\n",
    "L2 = c1.augment(c4).augment(c5)\n",
    "assert((L1*N1 + 2*L2*N2)* wedge_product(P1, P2) == vector([0 for _ in range(9)]))"
   ]
  },
  {
   "cell_type": "markdown",
   "id": "93e1019c-0ef5-4429-805d-c3bb04039f85",
   "metadata": {},
   "source": [
    "similarly for the other columns:"
   ]
  },
  {
   "cell_type": "code",
   "execution_count": 88,
   "id": "70d9c3cc-a23b-4eb3-ae34-f98472c2ead9",
   "metadata": {
    "scrolled": true
   },
   "outputs": [],
   "source": [
    "L1 = c0.augment(c2).augment(c7)\n",
    "L2 = c1.augment(c4).augment(c5)\n",
    "assert((L1*N1 + 2*L2*N2)* wedge_product(P1, P2) == vector([0 for _ in range(9)]))"
   ]
  },
  {
   "cell_type": "code",
   "execution_count": 89,
   "id": "346bec75-6fd1-4bbc-9299-3687d7cc84bc",
   "metadata": {
    "scrolled": true
   },
   "outputs": [],
   "source": [
    "L1 = c1.augment(c3).augment(c8)\n",
    "L2 = c2.augment(c5).augment(c6)\n",
    "assert((L1*N1 + 2*L2*N2)* wedge_product(P1, P2) == vector([0 for _ in range(9)]))"
   ]
  },
  {
   "cell_type": "code",
   "execution_count": 90,
   "id": "203b5805-cba4-48bd-a1e9-6317588e851d",
   "metadata": {},
   "outputs": [],
   "source": [
    "L1 = c4.augment(c6).augment(c9)\n",
    "L2 = c5.augment(c7).augment(c8)\n",
    "assert((L1*N1 + 2*L2*N2)* wedge_product(P1, P2) == vector([0 for _ in range(9)]))"
   ]
  },
  {
   "cell_type": "code",
   "execution_count": null,
   "id": "9d15e5a2-e27b-47f1-9ed0-c30ec37049a3",
   "metadata": {},
   "outputs": [],
   "source": []
  }
 ],
 "metadata": {
  "kernelspec": {
   "display_name": "SageMath 10.0",
   "language": "sage",
   "name": "sagemath"
  },
  "language_info": {
   "codemirror_mode": {
    "name": "ipython",
    "version": 3
   },
   "file_extension": ".py",
   "mimetype": "text/x-python",
   "name": "python",
   "nbconvert_exporter": "python",
   "pygments_lexer": "ipython3",
   "version": "3.10.12"
  }
 },
 "nbformat": 4,
 "nbformat_minor": 5
}
