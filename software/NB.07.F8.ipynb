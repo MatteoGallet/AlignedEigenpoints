{
 "cells": [
  {
   "cell_type": "code",
   "execution_count": 3,
   "id": "fcdff113-fb83-4d95-b018-f79d71e597d7",
   "metadata": {},
   "outputs": [],
   "source": [
    "load(\"../AlignedEigenpoints/software/basic_functions.sage\")"
   ]
  },
  {
   "cell_type": "code",
   "execution_count": 4,
   "id": "1eca3af6-42cb-455b-a4ca-4a965a35c6e3",
   "metadata": {},
   "outputs": [],
   "source": []
  },
  {
   "cell_type": "markdown",
   "id": "7dd63d8d-3da5-479c-b76f-e55282ffc709",
   "metadata": {},
   "source": [
    "# NB.07.F8"
   ]
  },
  {
   "cell_type": "markdown",
   "id": "9122b311-4dca-4675-931d-6a567e779bdd",
   "metadata": {},
   "source": [
    "# Configuration $(C_1)$\n",
    "## three random aligned points:"
   ]
  },
  {
   "cell_type": "code",
   "execution_count": 207,
   "id": "7b6ad647-62b2-4c6c-bde2-b5ec7c7324b8",
   "metadata": {},
   "outputs": [],
   "source": [
    "P1 = vector(S, (A1, B1, C1))\n",
    "P2 = vector(S, (A2, B2, C2))\n",
    "P3 = u1*P1 + u2*P2\n",
    "\n",
    "rnd_exmp = {S(a): small_random() for a in [A1, B1, C1, A2, B2, C2, u1, u2]}\n",
    "\n",
    "p1 = P1.subs(rnd_exmp)\n",
    "p2 = P2.subs(rnd_exmp)\n",
    "p3 = P3.subs(rnd_exmp)"
   ]
  },
  {
   "cell_type": "markdown",
   "id": "ba590652-abb1-46cf-aa48-8abb7514ba5c",
   "metadata": {},
   "source": [
    "The condition matrix has rank 6"
   ]
  },
  {
   "cell_type": "code",
   "execution_count": 208,
   "id": "4ddc0313-c9f1-4655-ac6b-c4cb5e46b4cc",
   "metadata": {},
   "outputs": [],
   "source": [
    "M = condition_matrix([p1, p2, p3], S, standard=\"all\")\n",
    "assert(M.rank() == 6)"
   ]
  },
  {
   "cell_type": "code",
   "execution_count": 209,
   "id": "c2063e14-323a-4270-8d9f-4432d344e472",
   "metadata": {},
   "outputs": [],
   "source": [
    "M = M.matrix_from_rows([0, 1, 3, 4, 6, 7])\n",
    "assert(M.rank() == 6)"
   ]
  },
  {
   "cell_type": "markdown",
   "id": "5a2400c0-85e9-4df1-99cd-bf5bc0c080cf",
   "metadata": {},
   "source": [
    "### Construction of a random cubic with p1, p2, p3 eigenpoints:"
   ]
  },
  {
   "cell_type": "code",
   "execution_count": 210,
   "id": "7378f130-3cea-4376-a715-018abe2898b4",
   "metadata": {},
   "outputs": [],
   "source": [
    "M = M.stack(vector(S, [small_random() for _ in range(10)]))\n",
    "M = M.stack(vector(S, [small_random() for _ in range(10)]))\n",
    "M = M.stack(vector(S, [small_random() for _ in range(10)]))"
   ]
  },
  {
   "cell_type": "code",
   "execution_count": 211,
   "id": "bd31048e-9132-48ff-be9b-a01115926b3f",
   "metadata": {},
   "outputs": [],
   "source": [
    "assert(M.rank() == 9)\n",
    "\n",
    "M = M.stack(vector(S, mon))"
   ]
  },
  {
   "cell_type": "markdown",
   "id": "195a79e8-8163-4ca5-a900-ce9cc9ce6700",
   "metadata": {},
   "source": [
    "The cubic with eigenpoints $p_1, p_2, p_3$: "
   ]
  },
  {
   "cell_type": "code",
   "execution_count": 212,
   "id": "59d600df-6005-4300-9943-531211b7c9b7",
   "metadata": {},
   "outputs": [],
   "source": [
    "cb = M.det()"
   ]
  },
  {
   "cell_type": "code",
   "execution_count": 213,
   "id": "d7f159dd-f328-4941-9168-f0d9cccce3f9",
   "metadata": {},
   "outputs": [],
   "source": [
    "Ecb = eig(cb)"
   ]
  },
  {
   "cell_type": "code",
   "execution_count": 214,
   "id": "38b5cb72-beac-473a-9435-c22b08d30ded",
   "metadata": {},
   "outputs": [],
   "source": [
    "assert(Ecb.subs(substitution(p1)) == vector(S, (0, 0, 0)))\n",
    "assert(Ecb.subs(substitution(p2)) == vector(S, (0, 0, 0)))\n",
    "assert(Ecb.subs(substitution(p3)) == vector(S, (0, 0, 0)))"
   ]
  },
  {
   "cell_type": "markdown",
   "id": "ec3bea9e-b0c9-4c36-adf4-46d2018e217c",
   "metadata": {},
   "source": [
    "## Three points on a line tangent to Ciso in $P_1$"
   ]
  },
  {
   "cell_type": "code",
   "execution_count": 215,
   "id": "8fd988c4-dee6-4d53-a7cb-e78802b79dca",
   "metadata": {},
   "outputs": [],
   "source": [
    "P1 = vector(S, (1, ii, 0))\n",
    "P2 = vector(S, (A2, ii*A2, C2))\n",
    "P3 = u1*P1 + u2*P2\n",
    "\n",
    "rnd_exmp = {S(a): small_random() for a in [A2, C2, u1, u2]}\n",
    "\n",
    "p1 = P1.subs(rnd_exmp)\n",
    "p2 = P2.subs(rnd_exmp)\n",
    "p3 = P3.subs(rnd_exmp)\n",
    "\n",
    "M = condition_matrix([p1, p2, p3], S, standard=\"all\")\n",
    "assert(M.rank() == 5)"
   ]
  },
  {
   "cell_type": "code",
   "execution_count": 216,
   "id": "08b1e017-54f1-40aa-a784-eebb64b27191",
   "metadata": {},
   "outputs": [],
   "source": [
    "M = M.matrix_from_rows([0, 1, 3, 4, 7])\n",
    "assert(M.rank() == 5)"
   ]
  },
  {
   "cell_type": "markdown",
   "id": "61193f0b-4270-477e-ab71-e2dc66d13d2d",
   "metadata": {},
   "source": [
    "### Construction of a generic cubic with $p_1, p_2, p_3$ eigenpoints:"
   ]
  },
  {
   "cell_type": "code",
   "execution_count": 217,
   "id": "5485172a-0138-4286-a380-13397a963d7a",
   "metadata": {},
   "outputs": [],
   "source": [
    "M = M.stack(vector(S, [small_random() for _ in range(10)]))\n",
    "M = M.stack(vector(S, [small_random() for _ in range(10)]))\n",
    "M = M.stack(vector(S, [small_random() for _ in range(10)]))\n",
    "M = M.stack(vector(S, [small_random() for _ in range(10)]))"
   ]
  },
  {
   "cell_type": "code",
   "execution_count": 218,
   "id": "d43d224b-0108-4ea9-9a4c-b2af521af2bc",
   "metadata": {},
   "outputs": [],
   "source": [
    "assert(M.rank() == 9)\n",
    "\n",
    "M = M.stack(vector(S, mon))"
   ]
  },
  {
   "cell_type": "code",
   "execution_count": 219,
   "id": "a390597b-2ad0-4666-b335-2b09ad652ff7",
   "metadata": {},
   "outputs": [],
   "source": [
    "cb = M.det()\n",
    "Ecb = eig(cb)"
   ]
  },
  {
   "cell_type": "code",
   "execution_count": 220,
   "id": "1ae0dce4-da23-4d0d-a168-91b3682f3b6e",
   "metadata": {},
   "outputs": [],
   "source": [
    "assert(Ecb.subs(substitution(p1)) == vector(S, (0, 0, 0)))\n",
    "assert(Ecb.subs(substitution(p2)) == vector(S, (0, 0, 0)))\n",
    "assert(Ecb.subs(substitution(p3)) == vector(S, (0, 0, 0)))"
   ]
  },
  {
   "cell_type": "code",
   "execution_count": null,
   "id": "1825f9a0-7f9c-4c2e-a5f5-1943048f8c8d",
   "metadata": {},
   "outputs": [],
   "source": []
  },
  {
   "cell_type": "markdown",
   "id": "5f9137e8-61cf-4ac6-a696-90e47c778daa",
   "metadata": {},
   "source": [
    "# "
   ]
  },
  {
   "cell_type": "markdown",
   "id": "07b20503-708f-4a99-802b-2e4b7cae9a95",
   "metadata": {},
   "source": [
    "Configuration $(C_2)$\n",
    "## Case $\\delta_1(P_1, P_2, P_4) = 0$ and rank condition matrix 9:"
   ]
  },
  {
   "cell_type": "markdown",
   "id": "add9f258-3b35-4340-a817-e315dffd7bbb",
   "metadata": {},
   "source": [
    "Construction  of five random points"
   ]
  },
  {
   "cell_type": "code",
   "execution_count": null,
   "id": "2c48b567-e043-4009-b87f-6670d9b396c4",
   "metadata": {},
   "outputs": [],
   "source": [
    "P1 = vector(S, (A1, B1, C1))\n",
    "P2 = vector(S, (A2, B2, C2))\n",
    "\n",
    "Q = scalar_product(P1, P1)*P2-scalar_product(P1, P2)*P1\n",
    "P4 = vector(S, (A4*Q[2], B4*Q[2], -Q[0]*A4-Q[1]*B4))\n",
    "\n",
    "assert(scalar_product(Q, P4) == 0)\n",
    "\n",
    "assert(delta1(P1, P2, P4) == 0)\n",
    "\n",
    "P3 = u1*P1 + u2*P2\n",
    "P5 = v1*P1 + v2*P4\n",
    "\n",
    "rnd_exam = {S(a): small_random() for a in [A1, B1, C1, A2, B2, C2, A4, B4, u1, u2, v1, v2]}\n",
    "\n",
    "p1 = P1.subs(rnd_exam)\n",
    "p2 = P2.subs(rnd_exam)\n",
    "p3 = P3.subs(rnd_exam)\n",
    "p4 = P4.subs(rnd_exam)\n",
    "p5 = P5.subs(rnd_exam)"
   ]
  },
  {
   "cell_type": "markdown",
   "id": "48156e09-bdb3-4b67-88ac-0d2fa246171d",
   "metadata": {},
   "source": [
    "the condition matrix has rank 9:"
   ]
  },
  {
   "cell_type": "code",
   "execution_count": null,
   "id": "c6627b9c-f82d-4fff-b5d4-bad09f2fde6c",
   "metadata": {},
   "outputs": [],
   "source": [
    "M = condition_matrix([p1, p2, p3, p4, p5], S, standard = \"all\")\n",
    "assert(M.rank() == 9)"
   ]
  },
  {
   "cell_type": "code",
   "execution_count": null,
   "id": "f8e4b88d-68d6-43ae-a6a2-462c61c18ecc",
   "metadata": {},
   "outputs": [],
   "source": [
    "construction of a random cubic"
   ]
  },
  {
   "cell_type": "code",
   "execution_count": null,
   "id": "93360239-55b2-46d2-bf6a-b03078feaa77",
   "metadata": {},
   "outputs": [],
   "source": [
    "M = M.matrix_from_rows([0, 1, 3, 4, 6, 7, 9, 10, 12])\n",
    "assert(M.rank() == 9)\n",
    "\n",
    "M = M.stack(vector(S, mon))\n",
    "\n",
    "cb = M.det()"
   ]
  },
  {
   "cell_type": "markdown",
   "id": "2aa07d3d-1e73-47ad-9588-ee47f53413b1",
   "metadata": {},
   "source": [
    "the random cubic cb has the expected eigenpoints"
   ]
  },
  {
   "cell_type": "code",
   "execution_count": 237,
   "id": "83cf6e67-184b-4d99-9368-0d694c8ced54",
   "metadata": {},
   "outputs": [],
   "source": [
    "Ecb = eig(cb)"
   ]
  },
  {
   "cell_type": "code",
   "execution_count": 238,
   "id": "1065559e-c045-48d2-b172-c9b58c2f9fc9",
   "metadata": {},
   "outputs": [],
   "source": [
    "assert(Ecb.subs(substitution(p1)) == vector(S, (0, 0, 0)))\n",
    "assert(Ecb.subs(substitution(p2)) == vector(S, (0, 0, 0)))\n",
    "assert(Ecb.subs(substitution(p3)) == vector(S, (0, 0, 0)))\n",
    "assert(Ecb.subs(substitution(p4)) == vector(S, (0, 0, 0)))\n",
    "assert(Ecb.subs(substitution(p5)) == vector(S, (0, 0, 0)))"
   ]
  },
  {
   "cell_type": "markdown",
   "id": "b58bf23d-6c33-4db6-8377-93d1a93f46f3",
   "metadata": {},
   "source": [
    "### The seven eigenpoints:"
   ]
  },
  {
   "cell_type": "code",
   "execution_count": 226,
   "id": "b9d786bd-0d6c-41bc-8692-962af75b9bdb",
   "metadata": {},
   "outputs": [],
   "source": [
    "pd = S.ideal(list(Ecb)).radical().primary_decomposition()"
   ]
  },
  {
   "cell_type": "markdown",
   "id": "0aac384e-593f-4456-9fe4-06f32091f7c1",
   "metadata": {},
   "source": [
    "## Case condition matrix of rank 8\n",
    "## Hence $\\delta_1(P_1, P_2, P_4) = 0$, $\\overline{\\delta}_1(P_1, P_2, P_3) = 0$, $\\overline{\\delta}_1(P_1, P_4, P_5) = 0$"
   ]
  },
  {
   "cell_type": "code",
   "execution_count": 227,
   "id": "edb9915d-e4a2-4b6c-96b0-865ef75e9c0c",
   "metadata": {},
   "outputs": [],
   "source": [
    "d1 = delta1b(P1, P2, P3)\n",
    "P3 = P3.subs({u1: d1.coefficient(u2), u2: -d1.coefficient(u1)})\n",
    "\n",
    "assert(delta1b(P1, P2, P3) == 0)"
   ]
  },
  {
   "cell_type": "code",
   "execution_count": null,
   "id": "b731a22a-f3e5-4875-9bfd-7d71932569b1",
   "metadata": {},
   "outputs": [],
   "source": [
    "d1 = delta1b(P1, P4, P5)\n",
    "P5 = P5.subs({v1: d1.coefficient(v2), v2: -d1.coefficient(v1)})\n",
    "\n",
    "assert(delta1b(P1, P4, P5) == 0)"
   ]
  },
  {
   "cell_type": "markdown",
   "id": "6a329a67-ebe2-4c5a-a683-a9ad793aef27",
   "metadata": {},
   "source": [
    "Construction of 5 points which satisfy zthe three deltas"
   ]
  },
  {
   "cell_type": "code",
   "execution_count": null,
   "id": "31d80360-d761-4624-9e07-ec013f336306",
   "metadata": {},
   "outputs": [],
   "source": [
    "rnd_exam = {S(a): small_random() for a in [A1, B1, C1, A2, B2, C2, A4, B4]}\n",
    "\n",
    "p1 = P1.subs(rnd_exam)\n",
    "p2 = P2.subs(rnd_exam)\n",
    "p3 = P3.subs(rnd_exam)\n",
    "p4 = P4.subs(rnd_exam)\n",
    "p5 = P5.subs(rnd_exam)"
   ]
  },
  {
   "cell_type": "markdown",
   "id": "f92fa583-369c-47f4-9cf1-af89b3ff96db",
   "metadata": {},
   "source": [
    "The condition matrix (of rank 8)"
   ]
  },
  {
   "cell_type": "code",
   "execution_count": null,
   "id": "cb064bc1-70e2-4d24-a563-82bdce0b20f4",
   "metadata": {},
   "outputs": [],
   "source": [
    "M = condition_matrix([p1, p2, p3, p4, p5], S, standard= \"all\")\n",
    "\n",
    "assert(M.rank() == 8)"
   ]
  },
  {
   "cell_type": "markdown",
   "id": "eed59212-1d5a-4cbc-b539-3effc61a7af7",
   "metadata": {},
   "source": [
    "Construction of a random cubic"
   ]
  },
  {
   "cell_type": "code",
   "execution_count": null,
   "id": "4229c677-c219-4367-88ec-f09dffd01e62",
   "metadata": {},
   "outputs": [],
   "source": [
    "M = M.matrix_from_rows([0, 1, 3, 4, 6, 7, 9, 10])\n",
    "assert(M.rank() == 8)\n",
    "\n",
    "M = M.stack(vector(S, [small_random() for _ in range(10)]))\n",
    "M = M.stack(vector(S, mon))\n",
    "\n",
    "cb = M.det()"
   ]
  },
  {
   "cell_type": "markdown",
   "id": "c7895f89-6a35-4531-a871-0ea69e79fa17",
   "metadata": {},
   "source": [
    "The cubic cb has the expected eigenpoints"
   ]
  },
  {
   "cell_type": "code",
   "execution_count": 234,
   "id": "1c166bed-71aa-42c8-869f-09a3e26b3d80",
   "metadata": {},
   "outputs": [],
   "source": [
    "Ecb = eig(cb)"
   ]
  },
  {
   "cell_type": "code",
   "execution_count": 235,
   "id": "13aa3c87-79be-4d9f-a6ef-44a200f9ccbd",
   "metadata": {},
   "outputs": [],
   "source": [
    "assert(Ecb.subs(substitution(p1)) == vector(S, (0, 0, 0)))\n",
    "assert(Ecb.subs(substitution(p2)) == vector(S, (0, 0, 0)))\n",
    "assert(Ecb.subs(substitution(p3)) == vector(S, (0, 0, 0)))\n",
    "assert(Ecb.subs(substitution(p4)) == vector(S, (0, 0, 0)))\n",
    "assert(Ecb.subs(substitution(p5)) == vector(S, (0, 0, 0)))"
   ]
  },
  {
   "cell_type": "code",
   "execution_count": 236,
   "id": "dba4bf36-0fdb-44da-852b-e886b88a6cde",
   "metadata": {},
   "outputs": [],
   "source": [
    "pd = S.ideal(list(Ecb)).radical().primary_decomposition()"
   ]
  },
  {
   "cell_type": "markdown",
   "id": "3dc263ef-7aeb-45b4-b6f3-73e5cbfe9aa1",
   "metadata": {},
   "source": [
    "# Configuration $(C_3)$"
   ]
  },
  {
   "cell_type": "markdown",
   "id": "dd35ed46-88a1-4bd7-aad4-97761b94ecac",
   "metadata": {},
   "source": [
    "## general case: \n",
    "## $P_3 = (s_{14}s_{15}s_{22}-s_{12}^2s_{45})P_1  +s_{12}(s_{11}s_{45}-s_{14}s_{15})P_2$"
   ]
  },
  {
   "cell_type": "code",
   "execution_count": 247,
   "id": "7c7fbec3-dda3-4d22-a5a7-180c2cb842df",
   "metadata": {},
   "outputs": [],
   "source": [
    "P1 = vector(S, (A1, B1, C1))\n",
    "P2 = vector(S, (A2, B2, C2))\n",
    "P4 = vector(S, (A4, B4, C4))\n",
    "P5 = v1*P1+v2*P4\n",
    "\n",
    "U1 = scalar_product(P1, P4)*scalar_product(P1, P5)*scalar_product(P2, P2)-scalar_product(P1, P2)^2*scalar_product(P4, P5)\n",
    "U2 = scalar_product(P1, P2)*(scalar_product(P1, P1)*scalar_product(P4, P5)-scalar_product(P1, P4)*scalar_product(P1, P5))\n",
    "\n",
    "P3 = U1*P1+U2*P2\n",
    "\n",
    "assert(delta2(P1, P2, P3, P4, P5) == 0)\n",
    "\n",
    "rnd_exam = {S(a): small_random() for a in [A1, B1, C1, A2, B2, C2, A4, B4, C4, v1, v2]}\n",
    "\n",
    "p1 = P1.subs(rnd_exam)\n",
    "p2 = P2.subs(rnd_exam)\n",
    "p3 = P3.subs(rnd_exam)\n",
    "p4 = P4.subs(rnd_exam)\n",
    "p5 = P5.subs(rnd_exam)"
   ]
  },
  {
   "cell_type": "markdown",
   "id": "c025ab48-f6c1-4863-b9d5-75bdbee082fa",
   "metadata": {},
   "source": [
    "The conditioni matrix (of rank 9)"
   ]
  },
  {
   "cell_type": "code",
   "execution_count": 248,
   "id": "b94eb797-3c1e-4285-b5d7-cc4f752e2dfb",
   "metadata": {},
   "outputs": [],
   "source": [
    "M = condition_matrix([p1, p2, p3, p4, p5], S, standard= \"all\")\n",
    "\n",
    "assert(M.rank() == 9)"
   ]
  },
  {
   "cell_type": "markdown",
   "id": "c3c17495-e8cc-4a2b-aa68-dcb204c18f4b",
   "metadata": {},
   "source": [
    "Construction of a random cubic"
   ]
  },
  {
   "cell_type": "code",
   "execution_count": 250,
   "id": "d52775a5-3f60-41a7-b1aa-0ee7be7a9b2b",
   "metadata": {},
   "outputs": [],
   "source": [
    "M = M.matrix_from_rows([0, 1, 3, 4, 6, 7, 9, 10, 12])\n",
    "assert(M.rank() == 9)\n",
    "\n",
    "M = M.stack(vector(S, mon))\n",
    "\n",
    "cb = M.det()"
   ]
  },
  {
   "cell_type": "code",
   "execution_count": 251,
   "id": "52932be2-3673-4af8-a951-81ff0089bf14",
   "metadata": {},
   "outputs": [],
   "source": [
    "Ecb = eig(cb)"
   ]
  },
  {
   "cell_type": "markdown",
   "id": "bdc0dfb1-fd27-4f29-b7f8-8399fbe718be",
   "metadata": {},
   "source": [
    "The cubic has the expected eigenpoints"
   ]
  },
  {
   "cell_type": "code",
   "execution_count": 252,
   "id": "d4a4300b-6164-49ab-83bc-c5ee00a196b1",
   "metadata": {},
   "outputs": [],
   "source": [
    "assert(Ecb.subs(substitution(p1)) == vector(S, (0, 0, 0)))\n",
    "assert(Ecb.subs(substitution(p2)) == vector(S, (0, 0, 0)))\n",
    "assert(Ecb.subs(substitution(p3)) == vector(S, (0, 0, 0)))\n",
    "assert(Ecb.subs(substitution(p4)) == vector(S, (0, 0, 0)))\n",
    "assert(Ecb.subs(substitution(p5)) == vector(S, (0, 0, 0)))"
   ]
  },
  {
   "cell_type": "code",
   "execution_count": 268,
   "id": "61f57058-9bf3-4c07-8f76-0e61919afcec",
   "metadata": {},
   "outputs": [],
   "source": [
    "pd = S.ideal(list(Ecb)).radical().primary_decomposition()"
   ]
  },
  {
   "cell_type": "markdown",
   "id": "bba2b69b-7857-4221-93b5-beddf36d1b85",
   "metadata": {},
   "source": [
    "pd should be given by 6 ideals, the first (i.e. pd[0])  should be the ideal of two points (p6, p7)"
   ]
  },
  {
   "cell_type": "code",
   "execution_count": 269,
   "id": "ddf59823-eb60-4fc0-9335-b6ca870e38dc",
   "metadata": {},
   "outputs": [],
   "source": [
    "assert(len(pd) == 6)"
   ]
  },
  {
   "cell_type": "code",
   "execution_count": 272,
   "id": "5f05d50f-fd01-4e6a-9af6-90b342845f20",
   "metadata": {},
   "outputs": [],
   "source": [
    "# pd[0] has a polynomial in x, y, z of degree 2\n",
    "assert(2 in [pd[0].gens()[1].degree(x), pd[0].gens()[1].degree(y), pd[0].gens()[1].degree(z)])"
   ]
  },
  {
   "cell_type": "markdown",
   "id": "0e367cae-f2a6-40eb-857b-a1fdc596e2f7",
   "metadata": {},
   "source": [
    "The points p6 and p7 are aligned with p1. We see this since the first generator of pd[0] is a line passing through p1"
   ]
  },
  {
   "cell_type": "code",
   "execution_count": 273,
   "id": "fb5282e4-848a-4f24-9532-7caa86c63769",
   "metadata": {},
   "outputs": [],
   "source": [
    "assert(pd[0].gens()[0].subs(substitution(p1)) == 0)"
   ]
  },
  {
   "cell_type": "markdown",
   "id": "e451ebad-bcf6-46c3-a30a-1c6e035cf6ef",
   "metadata": {},
   "source": [
    "## Case $s_{12} = 0$, $s_{14} = 0$"
   ]
  },
  {
   "cell_type": "code",
   "execution_count": 329,
   "id": "414cb224-b5ba-4ef6-ab82-8567467bf5bb",
   "metadata": {},
   "outputs": [],
   "source": [
    "P1 = vector(S, (A1, B1, C1))\n",
    "P2 = vector(S, (A2*C1, B2*C1, -A1*A2-B1*B2))\n",
    "P4 = vector(S, (A4*C1, B4*C1, -A1*A4-B1*B4))\n",
    "\n",
    "P3 = u1*P1+u2*P2\n",
    "P5 = v1*P1+v2*P4\n",
    "\n",
    "assert(scalar_product(P1, P2) == 0)\n",
    "assert(scalar_product(P1, P4) == 0)\n",
    "\n",
    "assert(matrix([P1, wedge_product(P2, P4)]).minors(2) == [0, 0, 0])\n",
    "\n",
    "assert(delta2(P1, P2, P3, P4, P5) == 0)\n",
    "\n",
    "rnd_exam = {S(a): small_random() for a in [A1, B1, C1, A2, B2, A4, B4, u1, u2, v1, v2]}\n",
    "\n",
    "p1 = P1.subs(rnd_exam)\n",
    "p2 = P2.subs(rnd_exam)\n",
    "p3 = P3.subs(rnd_exam)\n",
    "p4 = P4.subs(rnd_exam)\n",
    "p5 = P5.subs(rnd_exam)"
   ]
  },
  {
   "cell_type": "markdown",
   "id": "52e981cb-e8e5-4693-8d25-2a2c37189161",
   "metadata": {},
   "source": [
    "The condition matrix has rank 9"
   ]
  },
  {
   "cell_type": "code",
   "execution_count": 330,
   "id": "b840e31c-dbd2-43ac-80ec-86e515de72d2",
   "metadata": {},
   "outputs": [],
   "source": [
    "M = condition_matrix([p1, p2, p3, p4, p5], S, standard= \"all\")\n",
    "\n",
    "assert(M.rank() == 9)"
   ]
  },
  {
   "cell_type": "markdown",
   "id": "4802b4dc-cc0c-41a9-b2e9-cd3ea9771edf",
   "metadata": {},
   "source": [
    "construction of the cubic"
   ]
  },
  {
   "cell_type": "code",
   "execution_count": 331,
   "id": "3560314b-fbd1-4c93-8cc9-4e3a27abb640",
   "metadata": {},
   "outputs": [],
   "source": [
    "M = M.matrix_from_rows([0, 1, 3, 4, 6, 7, 9, 10, 12])\n",
    "assert(M.rank() == 9)\n",
    "\n",
    "M = M.stack(vector(S, mon))\n",
    "\n",
    "cb = M.det()"
   ]
  },
  {
   "cell_type": "code",
   "execution_count": 332,
   "id": "180d8873-a5d5-4603-87eb-a0398df788e1",
   "metadata": {},
   "outputs": [],
   "source": [
    "Ecb = eig(cb)"
   ]
  },
  {
   "cell_type": "markdown",
   "id": "aff65fb2-0472-48de-ac5c-c855ced0f3ee",
   "metadata": {},
   "source": [
    "the five points are eigenpoints"
   ]
  },
  {
   "cell_type": "code",
   "execution_count": 333,
   "id": "d30ffd75-7fd2-4bc6-b132-269e37cfddff",
   "metadata": {},
   "outputs": [],
   "source": [
    "assert(Ecb.subs(substitution(p1)) == vector(S, (0, 0, 0)))\n",
    "assert(Ecb.subs(substitution(p2)) == vector(S, (0, 0, 0)))\n",
    "assert(Ecb.subs(substitution(p3)) == vector(S, (0, 0, 0)))\n",
    "assert(Ecb.subs(substitution(p4)) == vector(S, (0, 0, 0)))\n",
    "assert(Ecb.subs(substitution(p5)) == vector(S, (0, 0, 0)))"
   ]
  },
  {
   "cell_type": "code",
   "execution_count": 334,
   "id": "b6996dab-c2d9-4cc1-94b0-1fc9aaf673e2",
   "metadata": {},
   "outputs": [],
   "source": [
    "pd = S.ideal(list(Ecb)).radical().primary_decomposition()"
   ]
  },
  {
   "cell_type": "markdown",
   "id": "fdd6ffd8-42b0-4c64-82a3-c29f79f9e5b7",
   "metadata": {},
   "source": [
    "pd should be given by 7 ideals. In addition to $p_1, \\dotsc, p_5$ we have $p_6$ and $p_7$"
   ]
  },
  {
   "cell_type": "code",
   "execution_count": 335,
   "id": "807e23e7-c134-4e8e-b7c0-f2a06660aa86",
   "metadata": {},
   "outputs": [],
   "source": [
    "assert(len(pd) == 7)"
   ]
  },
  {
   "cell_type": "markdown",
   "id": "90e04a58-7b57-4e3a-b849-d45ecce64e55",
   "metadata": {},
   "source": [
    "We select the points $p_6$ and $p_7$ and we verify that $p_1, p_6, p_7$ are aligned:"
   ]
  },
  {
   "cell_type": "code",
   "execution_count": 336,
   "id": "459340d1-9e22-435a-9ea8-9ebe78651a2c",
   "metadata": {},
   "outputs": [],
   "source": [
    "J = S.ideal(list(Ecb))\n",
    "J = J.saturation(S.ideal(matrix([(x, y, z), p1]).minors(2)))[0]\n",
    "J = J.saturation(S.ideal(matrix([(x, y, z), p2]).minors(2)))[0]\n",
    "J = J.saturation(S.ideal(matrix([(x, y, z), p3]).minors(2)))[0]\n",
    "J = J.saturation(S.ideal(matrix([(x, y, z), p4]).minors(2)))[0]\n",
    "J = J.saturation(S.ideal(matrix([(x, y, z), p5]).minors(2)))[0]\n",
    "\n",
    "pd67 = J.radical().primary_decomposition()\n",
    "assert(len(pd67) == 2)\n",
    "\n",
    "p6 = vector(S, (pd67[0].reduce(x), pd67[0].reduce(y), pd67[0].reduce(z))).subs({x:1, y:1, z:1})\n",
    "p7 = vector(S, (pd67[1].reduce(x), pd67[1].reduce(y), pd67[1].reduce(z))).subs({x:1, y:1, z:1})\n",
    "\n",
    "assert(matrix([p1, p6, p7]).det() == 0)"
   ]
  },
  {
   "cell_type": "markdown",
   "id": "6dd4403d-f810-4a14-a1d9-651ed8fb433d",
   "metadata": {},
   "source": [
    "Here we have four collinearities:\n",
    "$$[(1, 2, 3), (1, 4, 5), (1, 6, 7), (2, 4, 6)] \\ \\  \\mbox{or} \\ \\  [(1, 2, 3), (1, 4, 5), (1, 6, 7), (2, 4, 7)]$$"
   ]
  },
  {
   "cell_type": "code",
   "execution_count": 339,
   "id": "66519ec6-7075-4f54-8503-cc4386856180",
   "metadata": {},
   "outputs": [],
   "source": [
    "assert(alignments([p1, p2, p3, p4, p5, p6, p7]) in [[(1, 2, 3), (1, 4, 5), (1, 6, 7), (2, 4, 6)], [(1, 2, 3), (1, 4, 5), (1, 6, 7), (2, 4, 7)]])"
   ]
  },
  {
   "cell_type": "markdown",
   "id": "52cb21e8-e89d-4946-8d4b-48b893664c53",
   "metadata": {},
   "source": [
    "The configuration is $(C_5)$ as should be, since $p_1 = p_2 \\times p_4$"
   ]
  },
  {
   "cell_type": "markdown",
   "id": "5ffa9e8f-c859-4c98-a320-dccf7985e089",
   "metadata": {},
   "source": [
    "## Case $s_{12} = 0$, $s_{22}= 0$"
   ]
  },
  {
   "cell_type": "code",
   "execution_count": 358,
   "id": "2fef4dcd-341a-4002-aaa7-eecfefb1a55a",
   "metadata": {},
   "outputs": [],
   "source": [
    "P2 = vector(S, (1, ii, 0))\n",
    "P1 = vector(S, (A1, ii*A1, C1))\n",
    "\n",
    "P4 = vector(S, (A4, B4, C4))\n",
    "P3 = u1*P1 + u2*P2\n",
    "P5 = v1*P1+v2*P4\n",
    "\n",
    "assert(scalar_product(P1, P2) == 0)\n",
    "assert(scalar_product(P2, P2) == 0)\n",
    "\n",
    "assert(delta2(P1, P2, P3, P4, P5) == 0)\n",
    "\n",
    "rnd_exam = {S(a): small_random() for a in [A1, C1, A4, B4, C4, u1, u2, v1, v2]}\n",
    "\n",
    "p1 = P1.subs(rnd_exam)\n",
    "p2 = P2.subs(rnd_exam)\n",
    "p3 = P3.subs(rnd_exam)\n",
    "p4 = P4.subs(rnd_exam)\n",
    "p5 = P5.subs(rnd_exam)"
   ]
  },
  {
   "cell_type": "markdown",
   "id": "f27476fd-33ac-4f86-8ffb-247bef985b48",
   "metadata": {},
   "source": [
    "The condition matrix has rank 9"
   ]
  },
  {
   "cell_type": "code",
   "execution_count": 359,
   "id": "63a03162-cd88-4600-b185-c23ec1217786",
   "metadata": {},
   "outputs": [],
   "source": [
    "M = condition_matrix([p1, p2, p3, p4, p5], S, standard= \"all\")\n",
    "\n",
    "assert(M.rank() == 9)"
   ]
  },
  {
   "cell_type": "markdown",
   "id": "6deaed0c-8d8b-4b4b-a7ed-71617350f835",
   "metadata": {},
   "source": [
    "construction of the cubic:"
   ]
  },
  {
   "cell_type": "code",
   "execution_count": 360,
   "id": "b11c4175-af44-4598-acef-8d14f60cf960",
   "metadata": {},
   "outputs": [],
   "source": [
    "M = M.matrix_from_rows([0, 1, 4, 6, 7, 9, 10, 12, 13])\n",
    "assert(M.rank() == 9)\n",
    "\n",
    "M = M.stack(vector(S, mon))\n",
    "\n",
    "cb = M.det()"
   ]
  },
  {
   "cell_type": "markdown",
   "id": "74d43417-74ab-4e78-b752-ee944036917d",
   "metadata": {},
   "source": [
    "The five points are eigenpoints"
   ]
  },
  {
   "cell_type": "code",
   "execution_count": 366,
   "id": "d285b3c2-3048-4925-a071-534962b7f0ab",
   "metadata": {},
   "outputs": [],
   "source": [
    "Ecb = eig(cb)"
   ]
  },
  {
   "cell_type": "code",
   "execution_count": 367,
   "id": "50eefb4c-7298-4ee8-a119-33e015e3c6e4",
   "metadata": {},
   "outputs": [],
   "source": [
    "assert(Ecb.subs(substitution(p1)) == vector(S, (0, 0, 0)))\n",
    "assert(Ecb.subs(substitution(p2)) == vector(S, (0, 0, 0)))\n",
    "assert(Ecb.subs(substitution(p3)) == vector(S, (0, 0, 0)))\n",
    "assert(Ecb.subs(substitution(p4)) == vector(S, (0, 0, 0)))\n",
    "assert(Ecb.subs(substitution(p5)) == vector(S, (0, 0, 0)))"
   ]
  },
  {
   "cell_type": "code",
   "execution_count": 368,
   "id": "32c466f3-1c3d-4687-aba6-3dbf21ff3663",
   "metadata": {},
   "outputs": [],
   "source": [
    "pd = S.ideal(list(Ecb)).radical().primary_decomposition()"
   ]
  },
  {
   "cell_type": "markdown",
   "id": "b3b68788-d183-4f38-b131-f9ddb899ac59",
   "metadata": {},
   "source": [
    "pd should be given by 6 ideals, the first (i.e. pd[0])  should be the ideal of two points (p6, p7)"
   ]
  },
  {
   "cell_type": "code",
   "execution_count": 372,
   "id": "deb8bb71-8bde-4e0c-8645-797d7876bf44",
   "metadata": {},
   "outputs": [],
   "source": [
    "assert(len(pd) == 6)\n",
    "\n",
    "# pd[0] has a polynomial in x, y, z of degree 2\n",
    "assert(2 in [pd[0].gens()[1].degree(x), pd[0].gens()[1].degree(y), pd[0].gens()[1].degree(z)])\n",
    "\n",
    "# the two points given by pd[0] are aligned with p1 (the first generator of pd[0] is a line thorugh p1)\n",
    "\n",
    "assert(pd[0].gens()[0].subs(substitution(p1)) == 0)"
   ]
  },
  {
   "cell_type": "markdown",
   "id": "062c026e-48f4-4bfd-ba15-62897d996d34",
   "metadata": {},
   "source": [
    "No other collinearities among the seven points are possible (since pd[0] is a prime ideal)"
   ]
  },
  {
   "cell_type": "markdown",
   "id": "0d89697f-b02e-46ab-ad28-2febe049422b",
   "metadata": {},
   "source": [
    "## Case $\\sigma(P_1, P_2) = 0$ and $\\sigma(P_1, P_4) = 0$"
   ]
  },
  {
   "cell_type": "code",
   "execution_count": 379,
   "id": "6c953dc8-b6b0-404c-afd6-698615ad7243",
   "metadata": {},
   "outputs": [],
   "source": [
    "P1 = vector(S, (1, 0, 0))\n",
    "Qa = vector(S, (0, 1, ii))\n",
    "Qb = vector(S, (0, 1, -ii))\n",
    "\n",
    "P2 = m1*P1 + m2*Qa\n",
    "P4 = l1*P1 + l2*Qb\n",
    "\n",
    "assert(sigma(P1, P2) == 0)\n",
    "assert(sigma(P1, P4) == 0)\n",
    "\n",
    "P3 = u1*P1 + u2*P2\n",
    "P5 = v1*P1 + v2*P4\n",
    "\n",
    "assert(delta2(P1, P2, P3, P4, P5) == 0)\n",
    "\n",
    "rnd_exam = {S(a): small_random() for a in [m1, m2, l1, l2, u1, u2, v1, v2]}\n",
    "\n",
    "p1 = P1.subs(rnd_exam)\n",
    "p2 = P2.subs(rnd_exam)\n",
    "p3 = P3.subs(rnd_exam)\n",
    "p4 = P4.subs(rnd_exam)\n",
    "p5 = P5.subs(rnd_exam)"
   ]
  },
  {
   "cell_type": "markdown",
   "id": "a743f4e3-a499-428e-aeae-d37187b47fcd",
   "metadata": {},
   "source": [
    "Construction of the condition matrix"
   ]
  },
  {
   "cell_type": "code",
   "execution_count": 380,
   "id": "d8ee3268-4a8c-4236-8c52-17e56dc159b0",
   "metadata": {},
   "outputs": [],
   "source": [
    "M = condition_matrix([p1, p2, p3, p4, p5], S, standard= \"all\")\n",
    "\n",
    "assert(M.rank() == 9)"
   ]
  },
  {
   "cell_type": "markdown",
   "id": "842cbdde-6d0a-4c00-a75d-efaaa8b549b1",
   "metadata": {},
   "source": [
    "construction of the cubic"
   ]
  },
  {
   "cell_type": "code",
   "execution_count": 382,
   "id": "e8a2631d-f735-4898-844f-0f38137231ef",
   "metadata": {},
   "outputs": [],
   "source": [
    "M = M.matrix_from_rows([0, 1, 3, 4, 6, 7, 9, 10, 12])\n",
    "assert(M.rank() == 9)\n",
    "\n",
    "M = M.stack(vector(S, mon))\n",
    "\n",
    "cb = M.det()"
   ]
  },
  {
   "cell_type": "markdown",
   "id": "8877105c-e77e-409e-8924-a1bd5953b3b2",
   "metadata": {},
   "source": [
    "In this case the lines $p_1\\vee p_2$ ($y+iz$) and $p_1+p_4$ ($y-iz$) are lines of eigenpoints"
   ]
  },
  {
   "cell_type": "code",
   "execution_count": 395,
   "id": "3fa99f76-f3d7-48e8-9e0f-8997fcb1c2a7",
   "metadata": {},
   "outputs": [],
   "source": [
    "Ecb = eig(cb)\n",
    "\n",
    "assert(Ecb.subs(y = -ii*z)==0)\n",
    "assert(Ecb.subs(y = ii*z)==0)"
   ]
  },
  {
   "cell_type": "markdown",
   "id": "0fb13d47-3c4a-4eba-8e5d-c636a99012e7",
   "metadata": {},
   "source": [
    "This is a case in which $\\delta_2$ is zero, but we do not have seven eigenpoints"
   ]
  },
  {
   "cell_type": "markdown",
   "id": "90f9d4ff-adc6-44c8-9d2d-71cf0b1eb071",
   "metadata": {},
   "source": [
    "# Configuration $(C_5)$\n",
    "## we define $P_1 = P_2 \\times P_4$ and \n",
    "## $P_6 = (s_{15}s_{24}s_{34}+s_{15}s_{23}s_{44} -s_{13}s_{25}s_{44} -s_{13}s_{24}s_{45}) \\, P_2  + (s_{13}s_{24}s_{25}-2s_{15}s_{22}s_{34}+s_{13}s_{22} s_{45}) \\, P_4 $\n",
    "## $P_7 = (s_{16}(s_{26}s_{45}+s_{24}s_{56})-s_{26}s_{15}s_{46}-s_{24}s_{15}s_{66})P_1  - (s_{11}(s_{26}s_{45}+s_{24}s_{56})-s_{26}s_{15}s_{14}-s_{24}s_{15}s_{16})  P_6$"
   ]
  },
  {
   "cell_type": "code",
   "execution_count": 5,
   "id": "41e61b31-44ae-448c-ab03-053e14818e50",
   "metadata": {},
   "outputs": [],
   "source": [
    "P2 = vector(S, (A2, B2, C2))\n",
    "P4 = vector(S, (A4, B4, C4))\n",
    "\n",
    "P1 = wedge_product(P2, P4)\n",
    "\n",
    "P3 = u1*P1 + u2*P2\n",
    "P5 = v1*P1 + v2*P4\n",
    "\n",
    "assert(scalar_product(P1, P2) == 0)\n",
    "assert(scalar_product(P1, P4) == 0)\n",
    "\n",
    "L1 = scalar_product(P1, P5)*scalar_product(P2, P4)*scalar_product(P3, P4)+\\\n",
    "     scalar_product(P1, P5)*scalar_product(P2, P3)*scalar_product(P4, P4)-\\\n",
    "     scalar_product(P1, P3)*scalar_product(P2, P5)*scalar_product(P4, P4)-\\\n",
    "     scalar_product(P1, P3)*scalar_product(P2, P4)*scalar_product(P4, P5)\n",
    "\n",
    "L2 = scalar_product(P1, P3)*scalar_product(P2, P4)*scalar_product(P2, P5)-\\\n",
    "     2*scalar_product(P1, P5)*scalar_product(P2, P2)*scalar_product(P3, P4)+\\\n",
    "     scalar_product(P1, P3)*scalar_product(P2, P2)*scalar_product(P4, P5)\n",
    "\n",
    "\n",
    "P6 = L1*P2 + L2*P4\n",
    "\n",
    "N1 = scalar_product(P1, P6)*(scalar_product(P2, P6)*scalar_product(P4, P5)+\\\n",
    "        scalar_product(P2, P4)*scalar_product(P5, P6))-\\\n",
    "     scalar_product(P2, P6)*scalar_product(P1, P5)*scalar_product(P4, P6)-\\\n",
    "     scalar_product(P2, P4)*scalar_product(P1, P5)*scalar_product(P6, P6)\n",
    "\n",
    "N2 = scalar_product(P1, P1)*(scalar_product(P2, P6)*scalar_product(P4, P5)+\\\n",
    "        scalar_product(P2, P4)*scalar_product(P5, P6))-\\\n",
    "     scalar_product(P2, P6)*scalar_product(P1, P5)*scalar_product(P1, P4)-\\\n",
    "     scalar_product(P2, P4)*scalar_product(P1, P5)*scalar_product(P1, P6)\n",
    "\n",
    "P7 = N1*P1 - N2*P6\n",
    "\n",
    "rnd_exam = {S(a): small_random() for a in [A2, B2, C2, A4, B4, C4, u1, u2, v1, v2]}\n",
    "\n",
    "p1 = P1.subs(rnd_exam)\n",
    "p2 = P2.subs(rnd_exam)\n",
    "p3 = P3.subs(rnd_exam)\n",
    "p4 = P4.subs(rnd_exam)\n",
    "p5 = P5.subs(rnd_exam)\n",
    "p6 = P6.subs(rnd_exam)\n",
    "p7 = P7.subs(rnd_exam)"
   ]
  },
  {
   "cell_type": "markdown",
   "id": "a3df8d84-628b-40e8-be0f-187e62ac3a72",
   "metadata": {},
   "source": [
    "The seven points are in a $(C_5)$ configuration."
   ]
  },
  {
   "cell_type": "code",
   "execution_count": 6,
   "id": "541ef06f-2d05-4471-82d5-7c393746ef9f",
   "metadata": {},
   "outputs": [],
   "source": [
    "assert(alignments([p1, p2, p3, p4, p5, p6, p7]) == [(1, 2, 3), (1, 4, 5), (1, 6, 7), (2, 4, 6)])"
   ]
  },
  {
   "cell_type": "code",
   "execution_count": 7,
   "id": "91fb1446-bf8b-4003-9bfa-bedd8deda162",
   "metadata": {},
   "outputs": [],
   "source": [
    "M = condition_matrix([p1, p2, p3, p4, p5, p6, p7], S, standard= \"all\")\n",
    "\n",
    "assert(M.rank() == 9)"
   ]
  },
  {
   "cell_type": "markdown",
   "id": "9de255c7-b2d2-48b5-b0f1-cc0b563063f8",
   "metadata": {},
   "source": [
    "construction of the cubic"
   ]
  },
  {
   "cell_type": "code",
   "execution_count": 8,
   "id": "3e85be23-786b-4468-9185-da39bc268c56",
   "metadata": {},
   "outputs": [],
   "source": [
    "M = M.matrix_from_rows([0, 1, 3, 4, 6, 7, 9, 10, 12])\n",
    "\n",
    "assert(M.rank() == 9)\n",
    "\n",
    "M = M.stack(vector(S, mon))\n",
    "\n",
    "cb = M.det()"
   ]
  },
  {
   "cell_type": "code",
   "execution_count": 9,
   "id": "9d32f628-6ad1-4ee7-8071-f628439315b1",
   "metadata": {},
   "outputs": [],
   "source": [
    "Ecb = eig(cb)"
   ]
  },
  {
   "cell_type": "markdown",
   "id": "23aab161-03a1-4d4b-8f39-40d629c511e8",
   "metadata": {},
   "source": [
    "the seven points are eigenpoints"
   ]
  },
  {
   "cell_type": "code",
   "execution_count": 10,
   "id": "1422496e-c47b-4333-a2b1-9218e3f3d3e3",
   "metadata": {},
   "outputs": [],
   "source": [
    "assert(Ecb.subs(substitution(p1)) == vector(S, (0, 0, 0)))\n",
    "assert(Ecb.subs(substitution(p2)) == vector(S, (0, 0, 0)))\n",
    "assert(Ecb.subs(substitution(p3)) == vector(S, (0, 0, 0)))\n",
    "assert(Ecb.subs(substitution(p4)) == vector(S, (0, 0, 0)))\n",
    "assert(Ecb.subs(substitution(p5)) == vector(S, (0, 0, 0)))\n",
    "assert(Ecb.subs(substitution(p6)) == vector(S, (0, 0, 0)))\n",
    "assert(Ecb.subs(substitution(p7)) == vector(S, (0, 0, 0)))"
   ]
  },
  {
   "cell_type": "code",
   "execution_count": 11,
   "id": "077ae2f4-3c04-4926-bce7-ee7cc55571fb",
   "metadata": {},
   "outputs": [],
   "source": [
    "pd = S.ideal(list(Ecb)).radical().primary_decomposition()"
   ]
  },
  {
   "cell_type": "code",
   "execution_count": 12,
   "id": "239e0188-e4ab-4bb3-b078-c5a654902e93",
   "metadata": {},
   "outputs": [],
   "source": [
    "assert(len(pd) == 7)"
   ]
  },
  {
   "cell_type": "markdown",
   "id": "73b26596-03ea-4d66-b55b-f09e3553cad2",
   "metadata": {},
   "source": [
    "# Configuration $(C_8)$"
   ]
  },
  {
   "cell_type": "code",
   "execution_count": null,
   "id": "1ddc537a-4c8f-42fd-895f-6437d651bc08",
   "metadata": {},
   "outputs": [],
   "source": [
    "P1 = vector(S, (A1, B1, C1))\n",
    "P2 = vector(S, (A2, B2, C2))\n",
    "P4 = vector(S, (A4, B4, C4))\n",
    "\n",
    "P7 = wedge_product(P1, P2)*scalar_product(P1, P4)*scalar_product(P2, P4)-\\\n",
    "     scalar_product(P1, P2)*wedge_product(P1, P4)*scalar_product(P2, P4)+\\\n",
    "     scalar_product(P1, P2)*scalar_product(P1, P4)*wedge_product(P2, P4)\n",
    "\n",
    "P3 = intersection_lines(P1, P2, P4, P7)\n",
    "P5 = intersection_lines(P1, P4, P2, P7)\n",
    "P6 = intersection_lines(P1, P7, P2, P4)\n",
    "\n",
    "\n",
    "rnd_exam = {S(a): small_random() for a in [A1, B1, C1, A2, B2, C2, A4, B4, C4]}\n",
    "\n",
    "p1 = P1.subs(rnd_exam)\n",
    "p2 = P2.subs(rnd_exam)\n",
    "p3 = P3.subs(rnd_exam)\n",
    "p4 = P4.subs(rnd_exam)\n",
    "p5 = P5.subs(rnd_exam)\n",
    "p6 = P6.subs(rnd_exam)\n",
    "p7 = P7.subs(rnd_exam)"
   ]
  },
  {
   "cell_type": "markdown",
   "id": "f6c345d5-32c4-493f-8987-8ce6526485c2",
   "metadata": {},
   "source": [
    "The seven points are in a $(C_8)$ configuration"
   ]
  },
  {
   "cell_type": "code",
   "execution_count": 17,
   "id": "ba0a9ea1-a03b-4f07-ac08-e87944f9d4e1",
   "metadata": {},
   "outputs": [],
   "source": [
    "assert(alignments([p1, p2, p3, p4, p5, p6, p7]) == [(1, 2, 3), (1, 4, 5), (1, 6, 7), (2, 4, 6), (2, 5, 7), (3, 4, 7)])"
   ]
  },
  {
   "cell_type": "markdown",
   "id": "d6b8d996-aa1f-442a-8687-e5c84cfcae88",
   "metadata": {},
   "source": [
    "The condition matrix has rank 9"
   ]
  },
  {
   "cell_type": "code",
   "execution_count": 18,
   "id": "96a92b14-5f66-4dfe-bb4f-117925ce20dc",
   "metadata": {},
   "outputs": [],
   "source": [
    "M = condition_matrix([p1, p2, p3, p4, p5, p6, p7], S, standard= \"all\")\n",
    "\n",
    "assert(M.rank() == 9)"
   ]
  },
  {
   "cell_type": "markdown",
   "id": "05f0d985-40fd-4911-ba8d-c8abc851604c",
   "metadata": {},
   "source": [
    "construction of the cubic"
   ]
  },
  {
   "cell_type": "code",
   "execution_count": 20,
   "id": "8209923e-fc6e-4b62-8032-8934e46c0497",
   "metadata": {},
   "outputs": [],
   "source": [
    "M = M.matrix_from_rows([0, 1, 3, 4, 6, 7, 9, 10, 12])\n",
    "assert(M.rank() == 9)\n",
    "\n",
    "M = M.stack(vector(S, mon))\n",
    "\n",
    "cb = M.det()"
   ]
  },
  {
   "cell_type": "code",
   "execution_count": 22,
   "id": "68c5311b-bafa-4dcb-9155-2cab41e44969",
   "metadata": {},
   "outputs": [],
   "source": [
    "Ecb = eig(cb)"
   ]
  },
  {
   "cell_type": "code",
   "execution_count": 23,
   "id": "857d9932-1a0d-4b2d-b1a7-8735b7080442",
   "metadata": {},
   "outputs": [],
   "source": [
    "assert(Ecb.subs(substitution(p1)) == vector(S, (0, 0, 0)))\n",
    "assert(Ecb.subs(substitution(p2)) == vector(S, (0, 0, 0)))\n",
    "assert(Ecb.subs(substitution(p3)) == vector(S, (0, 0, 0)))\n",
    "assert(Ecb.subs(substitution(p4)) == vector(S, (0, 0, 0)))\n",
    "assert(Ecb.subs(substitution(p5)) == vector(S, (0, 0, 0)))\n",
    "assert(Ecb.subs(substitution(p6)) == vector(S, (0, 0, 0)))\n",
    "assert(Ecb.subs(substitution(p7)) == vector(S, (0, 0, 0)))"
   ]
  },
  {
   "cell_type": "code",
   "execution_count": 24,
   "id": "aa66380b-cfb7-4184-ad2f-8d75e48d60d9",
   "metadata": {},
   "outputs": [],
   "source": [
    "pd = S.ideal(list(Ecb)).radical().primary_decomposition()"
   ]
  },
  {
   "cell_type": "code",
   "execution_count": 25,
   "id": "c7eefe93-f882-4d25-bfb4-dcca0af3756a",
   "metadata": {},
   "outputs": [],
   "source": [
    "assert(len(pd) == 7)"
   ]
  }
 ],
 "metadata": {
  "kernelspec": {
   "display_name": "SageMath 10.0",
   "language": "sage",
   "name": "sagemath"
  },
  "language_info": {
   "codemirror_mode": {
    "name": "ipython",
    "version": 3
   },
   "file_extension": ".py",
   "mimetype": "text/x-python",
   "name": "python",
   "nbconvert_exporter": "python",
   "pygments_lexer": "ipython3",
   "version": "3.10.12"
  }
 },
 "nbformat": 4,
 "nbformat_minor": 5
}
