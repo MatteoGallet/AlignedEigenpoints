{
 "cells": [
  {
   "cell_type": "markdown",
   "id": "83a528f1-1b64-493a-8b44-5a40aa0b7763",
   "metadata": {},
   "source": [
    "# Configuration $(C_7)$"
   ]
  },
  {
   "cell_type": "code",
   "execution_count": 1,
   "id": "1951d93e-66c4-42aa-a69f-ad6f862838d5",
   "metadata": {},
   "outputs": [],
   "source": [
    "load(\"basic_functions.sage\")"
   ]
  },
  {
   "cell_type": "markdown",
   "id": "dec77ca4-14fd-4875-8a97-55332c03fabf",
   "metadata": {},
   "source": [
    "We consider the configuration $(C_7)$ given by:\n",
    "\n",
    "$(1, 2, 3), (1, 4, 5), (1, 6, 7), (2, 4, 6), (2, 5, 7)$\n",
    "\n",
    "and we construct 7 generic points in this configuration. So $P_1, P_2, P5, P6$\n",
    "are generic, $P_3$ is on the line $P_1, P_2$, $P_4$ and $P_7$ are \n",
    "intersection points.\n",
    "\n",
    "We verify that $P_4$ and $P_7$ are always defined."
   ]
  },
  {
   "cell_type": "code",
   "execution_count": 6,
   "id": "1d955d73-87a3-4fa7-9cc5-0cf4b270cfd7",
   "metadata": {},
   "outputs": [],
   "source": [
    "P1 = vector(S, (A1, B1, C1))\n",
    "P2 = vector(S, (A2, B2, C2))\n",
    "P5 = vector(S, (A5, B5, C5))\n",
    "P6 = vector(S, (A6, B6, C6))\n",
    "\n",
    "P4 = vector(S, list(intersection_lines(P1, P5, P2, P6)))\n",
    "P7 = vector(S, list(intersection_lines(P1, P6, P2, P5)))\n",
    "\n",
    "P3 = u1*P1+u2*P2\n",
    "\n",
    "# P4 and P7 are always defined:\n",
    "J1 = S.ideal(list(P4))\n",
    "J1 = J1.saturation(matrix([P2, P5, P6]).det())[0]\n",
    "J1 = J1.saturation(S.ideal(matrix([P1, P5]).minors(2)))[0]\n",
    "J1 = J1.saturation(S.ideal(matrix([P2, P6]).minors(2)))[0]\n",
    "assert(J1 == S.ideal(1))\n",
    "\n",
    "J1 = S.ideal(list(P7))\n",
    "J1 = J1.saturation(matrix([P2, P5, P6]).det())[0]\n",
    "J1 = J1.saturation(S.ideal(matrix([P2, P5]).minors(2)))[0]\n",
    "J1 = J1.saturation(S.ideal(matrix([P1, P6]).minors(2)))[0]\n",
    "assert(J1 == S.ideal(1))\n"
   ]
  },
  {
   "cell_type": "markdown",
   "id": "a09cbb06-9924-4933-870f-f03d3c3bd2e0",
   "metadata": {},
   "source": [
    "In the considered configuration we have:\n",
    "* $\\delta_1(P_5, P_1, P_2)=0$,\n",
    "* $\\delta_1(P_6, P_1, P_2)=0$,\n",
    "* $\\delta_1(P_4, P_1, P_2)=0$,\n",
    "* $\\delta_1(P_7, P_1, P_2)=0$,\n",
    "* $\\delta_2(P_1, P_2, P_3, P_4, P_5)=0$,\n",
    "* $\\delta_2(P_2, P_1, P_3, P_5, P_7)=0$.\n",
    "\n",
    "$\\delta_1(P_7, P_1, P_2)$ and $\\delta_1(P_4, P_1, P_2)$ can be simplified"
   ]
  },
  {
   "cell_type": "code",
   "execution_count": null,
   "id": "754d5a8c-38e3-44ee-bd65-2d7ea7df0cb3",
   "metadata": {},
   "outputs": [],
   "source": [
    "d1 = delta1(P5, P1, P2)\n",
    "d2 = delta1(P6, P1, P2)\n",
    "d3 = delta1(P4, P1, P2)\n",
    "d4 = delta1(P7, P1, P2)\n",
    "d5 = delta2(P1, P2, P3, P4, P5)\n",
    "d6 = delta2(P2, P1, P3, P5, P7)\n",
    "\n",
    "assert(d4.quo_rem(det(matrix([P1, P2, P6]))*det(matrix([P1, P2, P5])))[1] == 0)\n",
    "assert(d3.quo_rem(det(matrix([P1, P2, P6]))*det(matrix([P1, P2, P5])))[1] == 0)"
   ]
  },
  {
   "cell_type": "markdown",
   "id": "715e2670-1e2e-4174-afc1-05ec71b1f94a",
   "metadata": {},
   "source": [
    "We should consider the ideal $(d_1, \\dots, d_6)$ but it is too big, \n",
    "so we split the computations and first we define the ideal \n",
    "$J = (d_1, d_2, d_3, d_4)$"
   ]
  },
  {
   "cell_type": "code",
   "execution_count": null,
   "id": "225205bf-7acc-4a85-b9c4-10e28333ae9b",
   "metadata": {},
   "outputs": [],
   "source": [
    "d4 = d4.quo_rem(det(matrix([P1, P2, P6]))*det(matrix([P1, P2, P5])))[0]\n",
    "d3 = d3.quo_rem(det(matrix([P1, P2, P6]))*det(matrix([P1, P2, P5])))[0]\n",
    "\n",
    "J = S.ideal(d1, d2, d3, d4)"
   ]
  },
  {
   "cell_type": "markdown",
   "id": "39b47ca3-00d6-49cb-876b-00fac0865b44",
   "metadata": {},
   "source": [
    "We saturate $J$:"
   ]
  },
  {
   "cell_type": "code",
   "execution_count": 8,
   "id": "dbca9812-5569-4cef-bb0a-fe5c5ddb338f",
   "metadata": {},
   "outputs": [],
   "source": [
    "J = J.saturation(det(matrix([P1, P2, P5])))[0]\n",
    "J = J.saturation(det(matrix([P2, P5, P6])))[0]"
   ]
  },
  {
   "cell_type": "markdown",
   "id": "ec274208-9b55-46dc-b9af-1c6fdd071884",
   "metadata": {},
   "source": [
    "and now, that it is simpler, we add $d_5$ and $d_6$. We get the ideal $(1)$ so the configuration is not possible.\n"
   ]
  },
  {
   "cell_type": "code",
   "execution_count": 10,
   "id": "007261a3-d18f-4ba2-a78d-dc793de162b8",
   "metadata": {},
   "outputs": [],
   "source": [
    "J1 = J + S.ideal(d5, d6)\n",
    "J1 = J1.saturation(S.ideal(det(matrix([P1, P2, P5]))))[0]\n",
    "J1 = J1.saturation(u2)[0]\n",
    "J1 = J1.saturation(S.ideal(det(matrix([P1, P5, P6]))))[0]\n",
    "\n",
    "assert(J1 == S.ideal(1))"
   ]
  }
 ],
 "metadata": {
  "kernelspec": {
   "display_name": "SageMath 10.2",
   "language": "sage",
   "name": "sagemath"
  },
  "language_info": {
   "codemirror_mode": {
    "name": "ipython",
    "version": 3
   },
   "file_extension": ".py",
   "mimetype": "text/x-python",
   "name": "python",
   "nbconvert_exporter": "python",
   "pygments_lexer": "ipython3",
   "version": "3.9.15"
  }
 },
 "nbformat": 4,
 "nbformat_minor": 5
}
