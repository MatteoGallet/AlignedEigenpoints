{
 "cells": [
  {
   "cell_type": "markdown",
   "id": "3e119888-f9ab-46c8-99fc-a18d7cb6156e",
   "metadata": {},
   "source": [
    "#  Lemma"
   ]
  },
  {
   "cell_type": "markdown",
   "id": "6cb661e5-3e09-4690-acd7-752d154dc337",
   "metadata": {},
   "source": [
    "Let $P_1, \\dots, P_5$ be a $V$-configuration of points and assume that\n",
    "$$\n",
    "  \\left\\langle P_1, P_2 \\right\\rangle = 0 \\,, \\quad\n",
    "  \\left\\langle P_2, P_2 \\right\\rangle = 0 \\,, \\quad\n",
    "  \\left\\langle P_1, P_4 \\right\\rangle = 0 \\,, \\quad\n",
    "  \\left\\langle P_4, P_4 \\right\\rangle = 0 \\,.\n",
    "$$\n",
    "Then the matrix $\\Phi(P_1, \\dots, P_5)$ has rank $8$."
   ]
  },
  {
   "cell_type": "markdown",
   "id": "fab52766-d1dd-4ef6-aaf7-3783dba13f39",
   "metadata": {},
   "source": [
    "This is the case in which the $5$ eigenpoints $P_1$, $P_2$, $P_3$, $P_4$, $P_5$ are\n",
    "such that $P_1 \\vee P_2$ is tangent at the point $P_2$ to the isotropic conic, \n",
    "and $P_1 \\vee P_4$ is tangent to the isotropic conic at $P_4$."
   ]
  },
  {
   "cell_type": "code",
   "execution_count": 4,
   "id": "82fa8ebb-0caf-479f-a1ab-dedfeb03eb42",
   "metadata": {},
   "outputs": [],
   "source": [
    "load(\"basic_functions.sage\")"
   ]
  },
  {
   "cell_type": "markdown",
   "id": "d4b155e2-8be2-41e3-b7d5-602776c0448a",
   "metadata": {},
   "source": [
    "The argument in the paper shows that we can choose the $5$ points as follows"
   ]
  },
  {
   "cell_type": "code",
   "execution_count": 16,
   "id": "fb665a5b-9154-463e-80f6-bf949e8fe2e5",
   "metadata": {},
   "outputs": [],
   "source": [
    "P1 = vector(S, (1, 0, 0))\n",
    "P2 = vector(S, (0, ii, 1))\n",
    "P4 = vector(S, (0, -ii, 1))\n",
    "P3 = u1*P1 + u2*P2\n",
    "P5 = v1*P1 + v2*P4"
   ]
  },
  {
   "cell_type": "markdown",
   "id": "b684d413-c0b1-4bb7-8bcf-97bc371ac465",
   "metadata": {},
   "source": [
    "A remark on $\\delta_1$ and $\\delta_2$:\n",
    "$\\delta_1(P_1, P_2, P_4$ is not zero, \n",
    "while $\\delta_2(P_1, P_2, P_3, P_4, P_5)$ is zero."
   ]
  },
  {
   "cell_type": "code",
   "execution_count": 17,
   "id": "9b941a45-399a-4fba-9c12-7fdbb51f884f",
   "metadata": {},
   "outputs": [],
   "source": [
    "assert(delta1(P1, P2, P4) != 0)\n",
    "assert(delta2(P1, P2, P3, P4, P5) == 0)"
   ]
  },
  {
   "cell_type": "markdown",
   "id": "cafd9c0b-d563-46af-9bc8-c655daa6b026",
   "metadata": {},
   "source": [
    "We define the matrix of conditions of $P_1, \\dotsc, P_5$."
   ]
  },
  {
   "cell_type": "code",
   "execution_count": 18,
   "id": "8f4a894e-6c47-42b9-8865-1169923738e2",
   "metadata": {},
   "outputs": [],
   "source": [
    "M = condition_matrix([P1, P2, P3, P4, P5], S, standard=\"all\")"
   ]
  },
  {
   "cell_type": "markdown",
   "id": "10c9d08e-b21c-4e8a-a1a7-8c7f02553558",
   "metadata": {},
   "source": [
    "Dependencies between the rows of $M$"
   ]
  },
  {
   "cell_type": "code",
   "execution_count": 19,
   "id": "0d7731ea-7ca9-4f3f-8ff0-ec1e91993ff8",
   "metadata": {},
   "outputs": [],
   "source": [
    "# M[2] is the zero row\n",
    "assert(M[2] == vector(S, [0 for i in range(10)]))\n",
    "# M[3]-ii*M[4] is zero\n",
    "assert(M[3] - ii*M[4] == vector(S, [0 for i in range(10)]))\n",
    "# u2*M[6]-ii*u2*M[7]+u1*M[8] is zero\n",
    "assert(u2*M[6] -ii*u2*M[7] +u1*M[8] == vector(S, [0 for i in range(10)]))\n",
    "# M[9]+ii*M[10] is zero\n",
    "assert(M[9] + ii*M[10] == vector(S, [0 for i in range(10)]))\n",
    "# v2*M[12]+ii*v2*M[13]+v1*M[14] is zero\n",
    "assert(v2*M[12] +ii*v2*M[13] +v1*M[14] == vector(S, [0 for i in range(10)]))"
   ]
  },
  {
   "cell_type": "markdown",
   "id": "4e7cdfb9-478a-4d61-b5c9-cc54c78c0557",
   "metadata": {},
   "source": [
    "Therefore in the matrix $M$ we can erase the rows $2$, $3$, $6$, $9$, $12$."
   ]
  },
  {
   "cell_type": "code",
   "execution_count": 20,
   "id": "e175d7d4-5444-46bd-a718-12aaf3c17a40",
   "metadata": {},
   "outputs": [],
   "source": [
    "M = M.matrix_from_rows([0, 1, 4, 5, 7, 8, 10, 11, 13, 14])"
   ]
  },
  {
   "cell_type": "markdown",
   "id": "b917ea30-9e73-4e4a-9036-aaa3cbf65153",
   "metadata": {},
   "source": [
    "We compute the ideal of order $8$ minors of $M$"
   ]
  },
  {
   "cell_type": "code",
   "execution_count": 21,
   "id": "1b68701b-6374-4e17-83a5-0b90073e24ed",
   "metadata": {},
   "outputs": [],
   "source": [
    "m8 = M.minors(8)\n",
    "J8 = S.ideal(m8)"
   ]
  },
  {
   "cell_type": "markdown",
   "id": "2f01f4b1-9d94-48bf-9aff-006f034fc884",
   "metadata": {},
   "source": [
    "The ideal of order $8$ minors of $M$, once saturated by the conditions that the points are distinct, is the whole ring, so $M$ cannot have lower than $8$"
   ]
  },
  {
   "cell_type": "code",
   "execution_count": 22,
   "id": "cae9c69e-d415-4c69-9677-6e5c6dddd83e",
   "metadata": {},
   "outputs": [],
   "source": [
    "assert(S.ideal(m8).saturation(u1*u2*v1*v2)[0] == S.ideal(S.one()))"
   ]
  },
  {
   "cell_type": "markdown",
   "id": "6d14b6a1-3513-4c1d-93da-13776d22a73d",
   "metadata": {},
   "source": [
    "On the other hand, the rank of $M$ is also $\\leq 8$"
   ]
  },
  {
   "cell_type": "code",
   "execution_count": 29,
   "id": "0312a25e-2455-41f7-863b-a3dc05b3df04",
   "metadata": {},
   "outputs": [],
   "source": [
    "assert(M.det() == S.zero())\n",
    "assert(S.ideal(M.minors(9)) == S.ideal(S.zero()))"
   ]
  },
  {
   "cell_type": "markdown",
   "id": "5b41acac-964e-4c7c-bd4c-c51dcd3bfd31",
   "metadata": {},
   "source": [
    "Hence the rank of $M$ is precisely $8$."
   ]
  }
 ],
 "metadata": {
  "kernelspec": {
   "display_name": "SageMath 10.1",
   "language": "sage",
   "name": "sagemath"
  },
  "language_info": {
   "codemirror_mode": {
    "name": "ipython",
    "version": 3
   },
   "file_extension": ".py",
   "mimetype": "text/x-python",
   "name": "python",
   "nbconvert_exporter": "python",
   "pygments_lexer": "ipython3",
   "version": "3.10.6"
  }
 },
 "nbformat": 4,
 "nbformat_minor": 5
}
