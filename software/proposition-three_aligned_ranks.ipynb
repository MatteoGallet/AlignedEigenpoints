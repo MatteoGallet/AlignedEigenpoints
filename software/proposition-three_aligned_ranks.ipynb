{
 "cells": [
  {
   "cell_type": "markdown",
   "id": "0ff44912-6885-47ad-b7a9-ed8682aad20f",
   "metadata": {},
   "source": [
    "# Proposition {proposition:three_aligned_ranks}"
   ]
  },
  {
   "cell_type": "code",
   "execution_count": 1,
   "id": "2b7a04d9-c082-4b0a-a252-1621a51ff6d8",
   "metadata": {},
   "outputs": [],
   "source": [
    "load(\"basic_functions.sage\")"
   ]
  },
  {
   "cell_type": "markdown",
   "id": "7a72a992-f98e-4a68-8c71-6a39f2413ff3",
   "metadata": {},
   "source": [
    "We distinguish two cases: $P_1 = (1: 0: 0)$ and $P_1 = (1: i: 0)$."
   ]
  },
  {
   "cell_type": "markdown",
   "id": "739ab1c1-5acd-405a-b75c-4284e3318f85",
   "metadata": {
    "jp-MarkdownHeadingCollapsed": true
   },
   "source": [
    "## Case $P_1 = (1: 0: 0)$"
   ]
  },
  {
   "cell_type": "markdown",
   "id": "2f0e75f6-bab2-482c-a331-86dec77c9eb5",
   "metadata": {},
   "source": [
    "We define the points $P_1$, $P_2$, $P_3$ so that they are aligned"
   ]
  },
  {
   "cell_type": "code",
   "execution_count": 2,
   "id": "d079f827-43cf-49c1-8b7b-1ffe86d06c36",
   "metadata": {},
   "outputs": [],
   "source": [
    "P1 = vector(S, [1, 0, 0])\n",
    "P2 = vector(S, [A2, B2, C2])\n",
    "P3 = u1*P1 + u2*P2"
   ]
  },
  {
   "cell_type": "markdown",
   "id": "0c2e80c7-0e4a-4777-bfd5-7647c1b8bb1a",
   "metadata": {},
   "source": [
    "Construction of the matrix $\\Phi(P_1, P_2, P_3)$"
   ]
  },
  {
   "cell_type": "code",
   "execution_count": 3,
   "id": "309af74c-5b02-4152-9461-407597db2dde",
   "metadata": {},
   "outputs": [],
   "source": [
    "M = condition_matrix([P1, P2, P3], S, standard=\"all\")"
   ]
  },
  {
   "cell_type": "markdown",
   "id": "2c66d913-b6a9-4385-b56b-3c3f9d3fe4ef",
   "metadata": {},
   "source": [
    "The rank of $M$ is at most $6$."
   ]
  },
  {
   "cell_type": "markdown",
   "id": "cfd252d3-de46-4094-9e65-1819b44ac32e",
   "metadata": {},
   "source": [
    "We first show that the rank of $M$ cannot be less than 5"
   ]
  },
  {
   "cell_type": "markdown",
   "id": "fbfc8bbf-0434-4020-99ab-e693d3dd5605",
   "metadata": {},
   "source": [
    "To do this, we show that the ideal of order $4$ minors, up to saturations is $(1)$."
   ]
  },
  {
   "cell_type": "code",
   "execution_count": 4,
   "id": "6232975e-4237-4f34-a5a4-0db0cd81918c",
   "metadata": {},
   "outputs": [],
   "source": [
    "m4 = M.minors(4)\n",
    "J4 = S.ideal(m4)"
   ]
  },
  {
   "cell_type": "code",
   "execution_count": 8,
   "id": "b0dc91a7-3fc2-43a5-9826-eb539efcffd6",
   "metadata": {},
   "outputs": [],
   "source": [
    "H4 = J4.saturation(u1*u2)[0].saturation(\n",
    "    S.ideal(matrix([P1, P2]).minors(2))\n",
    ")[0].saturation(\n",
    "    S.ideal(matrix([P1, P3]).minors(2))\n",
    ")[0].saturation(\n",
    "    S.ideal(matrix([P2, P3]).minors(2))\n",
    ")[0]"
   ]
  },
  {
   "cell_type": "code",
   "execution_count": 12,
   "id": "ff2f96d4-c543-4790-953d-b442c1aeebca",
   "metadata": {},
   "outputs": [],
   "source": [
    "assert(H4 == S.ideal(S.one()))"
   ]
  },
  {
   "cell_type": "markdown",
   "id": "aeae5c2c-0bda-4fd1-830d-ed3a9183a305",
   "metadata": {},
   "source": [
    "We now show that $\\mathrm{rk} \\, \\Phi(P_1, P_2, P_3) = 5$ \n",
    "if and only if \n",
    "$r$ is tangent to the isotropic conic in one of the three points $P_1, P_2$, or $P_3$"
   ]
  },
  {
   "cell_type": "code",
   "execution_count": 13,
   "id": "5c252061-0d81-4665-9603-9d62e38b0a82",
   "metadata": {},
   "outputs": [],
   "source": [
    "m6 = M.minors(6)\n",
    "J6 = S.ideal(m6)"
   ]
  },
  {
   "cell_type": "markdown",
   "id": "daab9186-4a3e-4759-8a21-9530473ac03d",
   "metadata": {},
   "source": [
    "We perform standard saturations"
   ]
  },
  {
   "cell_type": "code",
   "execution_count": 18,
   "id": "c24af6b2-eace-4608-a7ea-24730f7f0bb1",
   "metadata": {},
   "outputs": [],
   "source": [
    "H6 = J6.saturation(u1*u2)[0].saturation(\n",
    "    S.ideal(matrix([P1, P2]).minors(2))\n",
    ")[0].saturation(\n",
    "    S.ideal(matrix([P1, P3]).minors(2))\n",
    ")[0].saturation(\n",
    "    S.ideal(matrix([P2, P3]).minors(2))\n",
    ")[0]"
   ]
  },
  {
   "cell_type": "code",
   "execution_count": 30,
   "id": "168d489b-1d74-4978-b344-67936b8dc6a0",
   "metadata": {},
   "outputs": [],
   "source": [
    "H6rad = H6.radical()\n",
    "assert(H6rad == S.ideal([sigma(P1, P2), A2*(u1 + u2*A2)]))"
   ]
  },
  {
   "cell_type": "markdown",
   "id": "d39c02fa-e36e-439d-b4a7-cbf3bb311388",
   "metadata": {},
   "source": [
    "This means that the line $P_1 \\vee P_2$ is tangent to the isotropic conic in the point $P_2$ or $P_3$"
   ]
  },
  {
   "cell_type": "markdown",
   "id": "91e46989-9573-4bb7-a38a-0283b7824a84",
   "metadata": {
    "jp-MarkdownHeadingCollapsed": true
   },
   "source": [
    "## Case $P_1 = (1: i: 0)$"
   ]
  },
  {
   "cell_type": "code",
   "execution_count": 31,
   "id": "fc07ae4e-ec5e-4d73-8f02-f4a8ad3d9ab5",
   "metadata": {},
   "outputs": [],
   "source": [
    "P1 = vector(S, [1, ii, 0])\n",
    "P2 = vector(S, [A2, B2, C2])\n",
    "P3 = u1*P1 + u2*P2"
   ]
  },
  {
   "cell_type": "markdown",
   "id": "6cfcd863-db56-480d-b425-bb0b48844d8a",
   "metadata": {},
   "source": [
    "Construction of the matrix $\\Phi(P_1, P_2, P_3)$"
   ]
  },
  {
   "cell_type": "code",
   "execution_count": 32,
   "id": "d5298666-e8dd-4647-af2c-95e2a12e2abb",
   "metadata": {},
   "outputs": [],
   "source": [
    "M = condition_matrix([P1, P2, P3], S, standard=\"all\")"
   ]
  },
  {
   "cell_type": "markdown",
   "id": "07235305-bdef-4f09-8a76-1e169ea5aabd",
   "metadata": {},
   "source": [
    "The rank of $M$ is at most $6$."
   ]
  },
  {
   "cell_type": "markdown",
   "id": "af2abecb-0290-4c8a-b8d1-d917112fcc04",
   "metadata": {},
   "source": [
    "We first show that the rank of $M$ cannot be less than 5"
   ]
  },
  {
   "cell_type": "markdown",
   "id": "f4b752df-bbed-4da9-b108-f2dc7412490d",
   "metadata": {},
   "source": [
    "To do this, we show that the ideal of order $4$ minors, up to saturations is $(1)$."
   ]
  },
  {
   "cell_type": "code",
   "execution_count": 33,
   "id": "adaed84b-3574-487c-a087-32d540584b85",
   "metadata": {},
   "outputs": [],
   "source": [
    "m4 = M.minors(4)\n",
    "J4 = S.ideal(m4)"
   ]
  },
  {
   "cell_type": "code",
   "execution_count": 34,
   "id": "b9ab9577-722b-46ef-863c-99b7854fc3b6",
   "metadata": {},
   "outputs": [],
   "source": [
    "H4 = J4.saturation(u1*u2)[0].saturation(\n",
    "    S.ideal(matrix([P1, P2]).minors(2))\n",
    ")[0].saturation(\n",
    "    S.ideal(matrix([P1, P3]).minors(2))\n",
    ")[0].saturation(\n",
    "    S.ideal(matrix([P2, P3]).minors(2))\n",
    ")[0]"
   ]
  },
  {
   "cell_type": "code",
   "execution_count": 35,
   "id": "cae948f5-47e5-49fc-8cbd-310d39f659d0",
   "metadata": {},
   "outputs": [],
   "source": [
    "assert(H4 == S.ideal(S.one()))"
   ]
  },
  {
   "cell_type": "markdown",
   "id": "f30acdde-4288-443d-a00e-a50fd3a22a48",
   "metadata": {},
   "source": [
    "We now show that $\\mathrm{rk} \\, \\Phi(P_1, P_2, P_3) = 5$ \n",
    "if and only if \n",
    "$r$ is tangent to the isotropic conic in one of the three points $P_1, P_2$, or $P_3$"
   ]
  },
  {
   "cell_type": "code",
   "execution_count": 36,
   "id": "d3c4d85c-ac26-4987-9b45-8a0e59680a82",
   "metadata": {},
   "outputs": [],
   "source": [
    "m6 = M.minors(6)\n",
    "J6 = S.ideal(m6)"
   ]
  },
  {
   "cell_type": "markdown",
   "id": "2d51024c-0bbf-47a1-ba68-a24ed37a0723",
   "metadata": {},
   "source": [
    "We perform standard saturations"
   ]
  },
  {
   "cell_type": "code",
   "execution_count": 37,
   "id": "7e860731-6b28-4494-a2d6-ebb7af791f3d",
   "metadata": {},
   "outputs": [],
   "source": [
    "H6 = J6.saturation(u1*u2)[0].saturation(\n",
    "    S.ideal(matrix([P1, P2]).minors(2))\n",
    ")[0].saturation(\n",
    "    S.ideal(matrix([P1, P3]).minors(2))\n",
    ")[0].saturation(\n",
    "    S.ideal(matrix([P2, P3]).minors(2))\n",
    ")[0]"
   ]
  },
  {
   "cell_type": "code",
   "execution_count": 42,
   "id": "ac1aeff4-bb1f-46fd-8c5a-e267c0835292",
   "metadata": {},
   "outputs": [],
   "source": [
    "H6rad = H6.radical()\n",
    "assert(H6rad == S.ideal(sigma(P1, P2)).radical())"
   ]
  },
  {
   "cell_type": "markdown",
   "id": "88e86abf-bdc3-4cba-9c59-616d256c3bc1",
   "metadata": {},
   "source": [
    "This means that the line $P_1 \\vee P_2$ is tangent to the isotropic conic in the point $P_1$."
   ]
  }
 ],
 "metadata": {
  "kernelspec": {
   "display_name": "SageMath 10.2",
   "language": "sage",
   "name": "sagemath"
  },
  "language_info": {
   "codemirror_mode": {
    "name": "ipython",
    "version": 3
   },
   "file_extension": ".py",
   "mimetype": "text/x-python",
   "name": "python",
   "nbconvert_exporter": "python",
   "pygments_lexer": "ipython3",
   "version": "3.9.15"
  }
 },
 "nbformat": 4,
 "nbformat_minor": 5
}
