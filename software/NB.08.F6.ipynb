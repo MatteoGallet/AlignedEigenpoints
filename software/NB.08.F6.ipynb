{
 "cells": [
  {
   "cell_type": "markdown",
   "id": "702eed0e-c261-4f07-8aa0-813adf7cbfbc",
   "metadata": {},
   "source": [
    "# NB.08.F6"
   ]
  },
  {
   "cell_type": "code",
   "execution_count": 1,
   "id": "292b40db-f4ac-4d00-8cf6-497139d6f0a8",
   "metadata": {},
   "outputs": [],
   "source": [
    "load(\"../AlignedEigenpoints/software/basic_functions.sage\")"
   ]
  },
  {
   "cell_type": "markdown",
   "id": "d631656e-387f-4564-976b-a16cf4707791",
   "metadata": {},
   "source": [
    "We assume all the $V$-configurations of points obtained from $P_1, \\dotsc, P_7$ have the matrix of condition of rank 9"
   ]
  },
  {
   "cell_type": "markdown",
   "id": "5af1ea2d-f7d9-464f-9498-e6b00d532d06",
   "metadata": {},
   "source": [
    "## First property of 4 points\n",
    "\n",
    "Given 4 generic points of the plane, it is not possible that every\n",
    "couple of different points are orthogonal."
   ]
  },
  {
   "cell_type": "code",
   "execution_count": 2,
   "id": "a8e07ee0-b7ca-46f7-9baa-7b685ad84527",
   "metadata": {},
   "outputs": [],
   "source": [
    "P1 = vector((A1, B1, C1))\n",
    "P2 = vector((A2, B2, C2))\n",
    "P4 = vector((A4, B4, C4))\n",
    "P7 = vector((A7, B7, C7))  \n",
    " \n",
    "## The following ideal is (1):\n",
    "\n",
    "JJ = S.ideal(scalar_product(P1, P2), scalar_product(P1, P4), \\\n",
    "        scalar_product(P1, P7), scalar_product(P2, P4),\n",
    "        scalar_product(P2, P7), scalar_product(P4, P7)).\\\n",
    "     saturation(S.ideal(matrix([P2, P4]).minors(2)))[0].\\\n",
    "     saturation(matrix([P2, P4, P7]).det())[0].\\\n",
    "     saturation(S.ideal(list(P1)))[0]\n",
    "\n",
    "assert(JJ == S.ideal(1))\n"
   ]
  },
  {
   "cell_type": "markdown",
   "id": "445a5457-ee51-42b5-b262-78b4931ac8ff",
   "metadata": {},
   "source": [
    "## Property of 3 points"
   ]
  },
  {
   "cell_type": "markdown",
   "id": "d4cd4b84-2d42-49c9-af59-1f183fd55cf5",
   "metadata": {},
   "source": [
    "### Given three distinct not collinear points of the plane $P_1, P_2, P_4$:\n",
    "### the three vectors $P_1 \\times P_2$, $P_1 \\times P_4$, $P_2 \\times P_4$ \n",
    "### are linearly independent."
   ]
  },
  {
   "cell_type": "code",
   "execution_count": 3,
   "id": "efbffce8-968c-40ca-9e9a-edd38fde23e1",
   "metadata": {},
   "outputs": [],
   "source": [
    "ddt = matrix([wedge_product(P1, P2), \\\n",
    "              wedge_product(P1, P4), wedge_product(P2, P4)]).det()\n",
    "assert(ddt == matrix([P1, P2, P4]).det()^2)"
   ]
  },
  {
   "cell_type": "markdown",
   "id": "4000f115-0c3f-45ce-a168-8b26129260fc",
   "metadata": {},
   "source": [
    "## A property of 7 eigenpoints in conf. $(C_8)$"
   ]
  },
  {
   "cell_type": "markdown",
   "id": "7aab42e0-7250-41ef-b68b-c1c0b86e57ee",
   "metadata": {},
   "source": [
    "### If $s_{12} = 0$ and $s_{17} = 0$, then also $s_{27}=0$."
   ]
  },
  {
   "cell_type": "markdown",
   "id": "40e9072f-703b-4fcd-a9a7-d18f772287d9",
   "metadata": {},
   "source": [
    "We define 7 points in fonfiguration $(C_8)$, which is assumed the following:\n",
    "\n",
    "$(1, 2, 3), (1, 4, 5), (1, 6, 7), (2, 4, 6), (2, 5, 7), (3, 4, 7)$\n",
    "\n",
    "We take $P_2, P_7, P_4$ generic, while $P_1 = P_2 \\times P_7$ \n",
    "(since $s_{12}=0$, $s_{17}=0$). $P_3, P_5, P_6$ as intersection of \n",
    "suitable lines"
   ]
  },
  {
   "cell_type": "code",
   "execution_count": 4,
   "id": "8a68f69b-4025-414b-9083-5d49cf01183e",
   "metadata": {},
   "outputs": [],
   "source": [
    "P2 = vector(S, (A2, B2, C2))\n",
    "P7 = vector(S, (A7, B7, C7))\n",
    "P1 = wedge_product(P2, P7)  \n",
    "P4 = vector(S, (A4, B4, C4))\n",
    "\n",
    "## hence P3, P5, P6 are forced:\n",
    "\n",
    "P3 = intersection_lines(P1, P2, P4, P7)\n",
    "P5 = intersection_lines(P1, P4, P2, P7)\n",
    "P6 = intersection_lines(P1, P7, P2, P4)\n",
    "\n",
    "## P1, ..., P7 are in config (C8)\n",
    "assert(alignments([P1, P2, P3, P4, P5, P6, P7])==\\\n",
    "       [(1, 2, 3), (1, 4, 5), (1, 6, 7), (2, 4, 6), (2, 5, 7), (3, 4, 7)])"
   ]
  },
  {
   "cell_type": "markdown",
   "id": "f9b80d9c-fa05-4359-8a60-af9fd7157179",
   "metadata": {},
   "source": [
    "It turns out that $P_3$ is not defined\n",
    "precisely when $s_{12}=0$ and $s_{22}=0$, which gives $P_1=P_2$\n",
    "\n",
    "It turns out that $P_5$ is not defined\n",
    "precisely when $s_{24}=0$ and $s_{47}=0$, which gives $P_1=P_4$\n",
    "\n",
    "It turns out that $P_6$ is not defined\n",
    "precisely when $s_{27}=0$ and $s_{77}=0$, which gives $P_1=P_7$"
   ]
  },
  {
   "cell_type": "code",
   "execution_count": 28,
   "id": "522d6e2d-16ae-4f0e-b7b3-7161e0b270d5",
   "metadata": {},
   "outputs": [],
   "source": [
    "J1 = S.ideal(list(P3))\n",
    "J1 = J1.saturation(S.ideal(matrix([P2, P7]).minors(2)))[0]\n",
    "J1 = J1.saturation(S.ideal(matrix([P4, P7]).minors(2)))[0]\n",
    "J1 = J1.saturation(matrix([P2, P4, P7]).det())[0]\n",
    "assert(J1 == S.ideal(scalar_product(P2, P7), scalar_product(P2, P2)))\n",
    "assert([J1.reduce(mm) for mm in matrix([P1, P2]).minors(2)] == [S(0), S(0), S(0)])\n",
    "\n",
    "J1 = S.ideal(list(P5))\n",
    "J1 = J1.saturation(S.ideal(matrix([P2, P4]).minors(2)))[0]\n",
    "J1 = J1.saturation(S.ideal(matrix([P4, P7]).minors(2)))[0]\n",
    "J1 = J1.saturation(matrix([P2, P4, P7]).det())[0]\n",
    "assert(J1 == S.ideal(scalar_product(P4, P7), scalar_product(P2, P4)))\n",
    "assert([J1.reduce(mm) for mm in matrix([P1, P4]).minors(2)] == [S(0), S(0), S(0)])\n",
    "\n",
    "J1 = S.ideal(list(P6))\n",
    "J1 = J1.saturation(S.ideal(matrix([P2, P7]).minors(2)))[0]\n",
    "J1 = J1.saturation(S.ideal(matrix([P4, P7]).minors(2)))[0]\n",
    "J1 = J1.saturation(matrix([P2, P4, P7]).det())[0]\n",
    "assert(J1 == S.ideal(scalar_product(P2, P7), scalar_product(P7, P7)))\n",
    "assert([J1.reduce(mm) for mm in matrix([P1, P7]).minors(2)] == [S(0), S(0), S(0)])"
   ]
  },
  {
   "cell_type": "markdown",
   "id": "c337be1f-4b7a-49bc-bf15-a0144a8d8c9d",
   "metadata": {},
   "source": [
    "In our hypotheses (matrix of the conditions of the $V$-conf. always of rank 9), we have that\n",
    "if configuration $(C_8)$ is given by eigenpoints, we must have\n",
    "$e_1 = e_2 = e_3 = 0$, where:\n",
    "$e_1 = \\delta_1(P_3, P_1, P_4)$, $e_2 = \\delta_1(P_5, P_1, P_2)$, \n",
    "$e3 = \\delta_1(P_6, P_1, P_2)$"
   ]
  },
  {
   "cell_type": "code",
   "execution_count": 6,
   "id": "7350c09b-256a-43be-a17e-0c1f1ca05f86",
   "metadata": {},
   "outputs": [],
   "source": [
    "e1 = delta1(P3, P2, P4)\n",
    "e2 = delta1(P5, P1, P2)\n",
    "e3 = delta1(P6, P1, P2)"
   ]
  },
  {
   "cell_type": "markdown",
   "id": "8ab55ce1-ca4f-4436-8180-c47db3fa39cc",
   "metadata": {},
   "source": [
    "We have: $e_2 = 0$"
   ]
  },
  {
   "cell_type": "code",
   "execution_count": 29,
   "id": "533fa30c-d118-41a6-b6ca-4a761527e296",
   "metadata": {},
   "outputs": [],
   "source": [
    "assert(e2 == S(0))"
   ]
  },
  {
   "cell_type": "markdown",
   "id": "bbb41f1e-43f7-4cf9-a651-3d88b6c696e4",
   "metadata": {},
   "source": [
    "We are going to prove that, if $s_{12}=0, s_{17}=0$, then $s_{27}=0$.\n",
    "\n",
    "$e_1$ can be obtained in different ways:\n",
    "as $\\delta_1(P_3, P_2, P_4)$, but also as $\\delta_1(P_3, P_2, P_7)$ or \\dots\n",
    "similarly the others, so we compute three ideals, Je1, Je2 Je3, the\n",
    "first is the ideal of all the ways in which $\\delta_1(P_3, \\dotsc)$ can be computed and similarly for the others."
   ]
  },
  {
   "cell_type": "code",
   "execution_count": 30,
   "id": "beda860b-74e7-409d-a5f3-cdb62a5c606d",
   "metadata": {},
   "outputs": [],
   "source": [
    "Je1 = S.ideal(delta1(P3, P1, P7), delta1(P3, P1, P4), \\\n",
    "             delta1(P3, P2, P7), delta1(P3, P2, P4)).\\\n",
    "             saturation(matrix([P2, P4, P7]).det())[0]\n",
    "\n",
    "Je2 = S.ideal(delta1(P5, P1, P2), delta1(P5, P1, P7), \\\n",
    "        delta1(P5, P2, P4), delta1(P5, P4, P7)).\\\n",
    "        saturation(matrix([P2, P4, P7]).det())[0]\n",
    "\n",
    "Je3 = S.ideal(delta1(P6, P1, P2), delta1(P6, P2, P7), \\\n",
    "             delta1(P6, P1, P4), delta1(P6, P4, P7)).\\\n",
    "             saturation(matrix([P2, P4, P7]).det())[0]\n",
    "\n",
    "## (Je2 is (0), but we leave it for symmetry)"
   ]
  },
  {
   "cell_type": "markdown",
   "id": "0808bc68-4c6d-44fd-a1ea-fb818d98b4ea",
   "metadata": {},
   "source": [
    "Then we see when $e_1=0, e_2=0, e_3=0$, and precisely, we compute\n",
    "the ideal Je1+Je2+Je3 and we see that it is the ideal $s_{27}$ \n",
    "(up to radical)"
   ]
  },
  {
   "cell_type": "code",
   "execution_count": 31,
   "id": "3b3fe683-89af-45c3-8712-ba5be9253a02",
   "metadata": {},
   "outputs": [],
   "source": [
    "assert((Je1+Je2+Je3).radical() == S.ideal(scalar_product(P2, P7)))"
   ]
  },
  {
   "cell_type": "markdown",
   "id": "91765cfa-32eb-4187-a107-8cb7db5f6cdd",
   "metadata": {},
   "source": [
    "conclusion: $s_{12} = 0, s_{17} = 0$ implies $s_{27} = 0$.\n",
    "For symmetry, it also holds: \n",
    "\n",
    "$s_{12} = 0, s_{27} = 0$ implies $s_{12} = 0$\n",
    "\n",
    "\n",
    "and $s_{27} = 0, s_{17} = 0$ implies $s_{12} = 0$"
   ]
  }
 ],
 "metadata": {
  "kernelspec": {
   "display_name": "SageMath 10.0",
   "language": "sage",
   "name": "sagemath"
  },
  "language_info": {
   "codemirror_mode": {
    "name": "ipython",
    "version": 3
   },
   "file_extension": ".py",
   "mimetype": "text/x-python",
   "name": "python",
   "nbconvert_exporter": "python",
   "pygments_lexer": "ipython3",
   "version": "3.10.12"
  }
 },
 "nbformat": 4,
 "nbformat_minor": 5
}
