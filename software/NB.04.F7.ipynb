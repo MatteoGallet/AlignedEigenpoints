{
 "cells": [
  {
   "cell_type": "code",
   "execution_count": 461,
   "id": "dc3e52a7-1077-4b2f-bd3c-8a6468f2096d",
   "metadata": {},
   "outputs": [],
   "source": [
    "load(\"../AlignedEigenpoints/software/basic_functions.sage\")"
   ]
  },
  {
   "cell_type": "code",
   "execution_count": 462,
   "id": "f58597f2-77b8-4837-83a4-6d789eb52722",
   "metadata": {},
   "outputs": [],
   "source": [
    "P1 = vector(S, (1, 0, 0))\n",
    "P2 = vector(S, (0, ii, 1))\n",
    "P4 = vector(S, (0, -ii, 1))\n",
    "P3 = u1*P1 + u2*P2\n",
    "P5 = v1*P1 + v2*P4"
   ]
  },
  {
   "cell_type": "markdown",
   "id": "9bd3973f-fa48-4002-a3e4-fa5a726609c9",
   "metadata": {},
   "source": [
    "a remark on $\\delta_1$ and $\\delta_2$:\n",
    "$\\delta_1(P_1, P_2, P_4)$ is not zero, \n",
    "while $\\delta_2(P_1, P_2, P_3, P_4, P_5)$ is 0."
   ]
  },
  {
   "cell_type": "code",
   "execution_count": 463,
   "id": "c4560ee0-4a73-4252-bdea-fb0f03558f00",
   "metadata": {},
   "outputs": [],
   "source": [
    "assert(delta1(P1, P2, P4) != 0)\n",
    "assert(delta2(P1, P2, P3, P4, P5) == 0)"
   ]
  },
  {
   "cell_type": "markdown",
   "id": "2196dfcc-40fe-4f5e-84dd-b03290d3fbfc",
   "metadata": {},
   "source": [
    "In this configuration, the line $P_1 \\vee P_2$ is tangent to\n",
    "the isotropic conic in $P_2$ and the line $P_1 \\vee P_4$ is tangent\n",
    "to the isotropic conic in $P_4$ (for all $P_3$ and $P_5$)"
   ]
  },
  {
   "cell_type": "code",
   "execution_count": 474,
   "id": "980b2217-8aa9-45c4-9b54-0935127866a1",
   "metadata": {},
   "outputs": [],
   "source": [
    "M = condition_matrix([P1, P2, P3, P4, P5], S, standard=\"all\")\n",
    "assert(M.rank() == 8)"
   ]
  },
  {
   "cell_type": "code",
   "execution_count": 481,
   "id": "1e635818-ef14-4d34-a53e-c7ec20636db2",
   "metadata": {},
   "outputs": [
    {
     "name": "stdout",
     "output_type": "stream",
     "text": [
      "95.77421900000002\n"
     ]
    }
   ],
   "source": [
    "ttA = cputime()\n",
    "m8 = M.minors(8)\n",
    "print(cputime()-ttA)"
   ]
  },
  {
   "cell_type": "markdown",
   "id": "a8753edc-9f51-43ec-b27b-f0b9cbc77848",
   "metadata": {},
   "source": [
    "The linear system $\\Lambda(M)$ is the same of the linear system $\\Lambda(M_e)$, where $M_e$ is the row echelon form of $M$\n",
    "\n",
    "In the matrix $M_e$ the rows 8, 9, 10, 11, 14 are zero, the row 7 is a multiple of the row 6 and the row 13 is a multiple of the row 12."
   ]
  },
  {
   "cell_type": "code",
   "execution_count": 505,
   "id": "9cbf9d4b-649b-46cd-82dc-defd613f2c34",
   "metadata": {},
   "outputs": [],
   "source": [
    "Me = M.echelon_form()\n",
    "assert(Me[8] == vector(S, [0 for _ in range(10)]))\n",
    "assert(Me[9] == vector(S, [0 for _ in range(10)]))\n",
    "assert(Me[10] == vector(S, [0 for _ in range(10)]))\n",
    "assert(Me[11] == vector(S, [0 for _ in range(10)]))\n",
    "assert(Me[14] == vector(S, [0 for _ in range(10)]))\n",
    "assert(Me[7]+ii*Me[6] == vector(S, [0 for _ in range(10)]))\n",
    "assert(Me[13]-ii*Me[12] == vector(S, [0 for _ in range(10)]))"
   ]
  },
  {
   "cell_type": "markdown",
   "id": "3c889972-6f60-4520-a119-924cf85a3d28",
   "metadata": {},
   "source": [
    "Hence, the family of cubics which have eigenpoints $P_1, \\dots, P_5$ is obtained from the matrix M1 below:"
   ]
  },
  {
   "cell_type": "code",
   "execution_count": 506,
   "id": "722f7efb-7b09-40d7-8381-7700be2f4763",
   "metadata": {},
   "outputs": [],
   "source": [
    "M1 = Me.matrix_from_rows([0, 1, 2, 3, 4, 5, 6, 13])"
   ]
  },
  {
   "cell_type": "markdown",
   "id": "00b70641-51fb-40fc-8fa5-856f5727db86",
   "metadata": {},
   "source": [
    "$M_1$ has rank 8, as it should be:"
   ]
  },
  {
   "cell_type": "code",
   "execution_count": 508,
   "id": "3a761d96-d23b-47cb-998b-36ec78a4bfa7",
   "metadata": {},
   "outputs": [],
   "source": [
    "assert(M1.rank() == 8)"
   ]
  },
  {
   "cell_type": "markdown",
   "id": "25636bea-843a-445f-8b83-e5fb82ad5e96",
   "metadata": {},
   "source": [
    "### Now we construct the pencil of cubics obtained from $M_1$"
   ]
  },
  {
   "cell_type": "markdown",
   "id": "161b895e-7a3a-463a-ad4e-1460c2c451b3",
   "metadata": {},
   "source": [
    "first we compute two random cubics with $P_1, \\dots, P_5$ eigenpoints:"
   ]
  },
  {
   "cell_type": "code",
   "execution_count": null,
   "id": "830ba676-d8cb-4631-80f9-f8b22370d14e",
   "metadata": {},
   "outputs": [],
   "source": [
    "ff1 = M1.stack(vector(S, [0, 1, 0, 2, -1, 3, 1, 4, -2, 3])).stack(vector(S, mon)).det()\n",
    "ff2 = M1.stack(vector(S, [1, 2, 0, 1, 5, 0, 1, 3, -1, 1])).stack(vector(S, mon)).det()"
   ]
  },
  {
   "cell_type": "markdown",
   "id": "99c615fe-d699-43e8-9d8d-32809f3a2127",
   "metadata": {},
   "source": [
    "we erase non zero factors from the two polynomials:"
   ]
  },
  {
   "cell_type": "code",
   "execution_count": null,
   "id": "a3965c30-7303-4961-b0f3-de468b8fc4d6",
   "metadata": {},
   "outputs": [],
   "source": [
    "ff1 = S.ideal(ff1).saturation(u1*u2*v1*v2)[0].gens()[0]\n",
    "ff2 = S.ideal(ff2).saturation(u1*u2*v1*v2)[0].gens()[0]"
   ]
  },
  {
   "cell_type": "markdown",
   "id": "9ae5154c-fd73-44d4-af62-1651dc595c0c",
   "metadata": {},
   "source": [
    "Now we verify that the pencil of cubics $\\langle ff_1, ff_2 \\rangle$ is also generated by the two other simpler polynomials $f_1$ and $f_2$ below."
   ]
  },
  {
   "cell_type": "code",
   "execution_count": 525,
   "id": "f9f7fcb3-ab67-4fe7-b7d8-d9f403906d85",
   "metadata": {},
   "outputs": [],
   "source": [
    "f1 = x*(x^2+3/2*y^2+3/2*z^2)\n",
    "f2 = (y + ii*z) * (y + (-ii)*z) * (y*u2*v1 + (-ii)*z*u2*v1 - y*u1*v2 + (-ii)*z*u1*v2 + (2*ii)*x*u2*v2)"
   ]
  },
  {
   "cell_type": "markdown",
   "id": "280649b6-7820-4cf9-9840-b3674ea3d389",
   "metadata": {},
   "source": [
    "The computations below show that $\\langle ff_1, ff_2 \\rangle = \\langle f_1, f_2 \\rangle$ (we convert the polynomials in 10-components vectors and \n",
    "we verify that the two vector associated to $ff_1$ is a linear combination of the two vectors associated to $f_1$ and $f_2$ (same for $ff_2$)"
   ]
  },
  {
   "cell_type": "code",
   "execution_count": 526,
   "id": "fb04dff1-948c-4f2f-90eb-1bcddb8643ed",
   "metadata": {},
   "outputs": [],
   "source": [
    "assert(matrix([[f1.coefficient(mm) for mm in mon], [f2.coefficient(mm) for mm in mon]]).rank() == 2)\n",
    "assert(matrix([[f1.coefficient(mm) for mm in mon], [f2.coefficient(mm) for mm in mon], [ff1.coefficient(mm) for mm in mon]]).rank() == 2)\n",
    "assert(matrix([[f1.coefficient(mm) for mm in mon], [f2.coefficient(mm) for mm in mon], [ff2.coefficient(mm) for mm in mon]]).rank() == 2)"
   ]
  },
  {
   "cell_type": "markdown",
   "id": "69aee84e-42e8-45c1-9a6a-84a879446989",
   "metadata": {},
   "source": [
    "hence the pencil of cubics which have eigenpoints $P_1, \\dots, P_5$ is:"
   ]
  },
  {
   "cell_type": "code",
   "execution_count": 527,
   "id": "36d78f37-fb0a-4d2c-80b7-a5d9e0f85764",
   "metadata": {},
   "outputs": [],
   "source": [
    "cb = l1*f1+l2*f2"
   ]
  },
  {
   "cell_type": "markdown",
   "id": "dcc51331-c05c-4fed-9522-99c0d20c36d8",
   "metadata": {},
   "source": [
    "The above is the equation of ALL the cubics with eigenpoints \n",
    "$P_1, P_2, P_3, P_4, P_5$ (it depends on $u_1, u_2, v_1, v_2$ and $l_1, l_2$)"
   ]
  },
  {
   "cell_type": "markdown",
   "id": "e4601b95-f664-430b-a806-d6320e0a4938",
   "metadata": {},
   "source": [
    "the polynomial $f_1$ has the lines of equation $x+iy=0$ and $x-iy=0$ of eigenpoints, hence $f_1$ does not have a finite number of eigenpoints. This means that in the study of all the cubics given by cb we can assume $l_2\\not = 0$ "
   ]
  },
  {
   "cell_type": "code",
   "execution_count": 543,
   "id": "78f0c535-84fa-4953-9987-b01dd04cc7d7",
   "metadata": {},
   "outputs": [],
   "source": [
    "assert(S.ideal(list(eig(f1))).subs(y = -ii*z) == 0)\n",
    "assert(S.ideal(list(eig(f1))).subs(y = ii*z) == 0)"
   ]
  },
  {
   "cell_type": "markdown",
   "id": "b4ec33ea-e13c-4251-bd69-08819cb875c5",
   "metadata": {},
   "source": [
    "We compute now the iegenpoints of $cb$"
   ]
  },
  {
   "cell_type": "code",
   "execution_count": 546,
   "id": "a4cd5c75-53d3-43b1-b703-b011f2c6a753",
   "metadata": {},
   "outputs": [],
   "source": [
    "ej = S.ideal(list(eig(cb)))"
   ]
  },
  {
   "cell_type": "markdown",
   "id": "648beb99-854b-40c2-90ed-6569febdaa74",
   "metadata": {},
   "source": [
    "we erase the known eigenpoints from ej:"
   ]
  },
  {
   "cell_type": "code",
   "execution_count": null,
   "id": "9387ce22-c877-427a-9250-432a5c0d023a",
   "metadata": {},
   "outputs": [],
   "source": [
    "for pp in [P1, P2, P3, P4, P5]:\n",
    "    ej = ej.saturation(S.ideal(matrix([pp, (x, y, z)]).minors(2)))[0]"
   ]
  },
  {
   "cell_type": "code",
   "execution_count": 551,
   "id": "5f686500-a09d-4224-8e31-4ee4b4eeadc4",
   "metadata": {},
   "outputs": [],
   "source": [
    "ej = ej.saturation(u1*u2*v1*v2*l2)[0]"
   ]
  },
  {
   "cell_type": "code",
   "execution_count": 554,
   "id": "96f67412-1966-4ce1-bb60-6914fb84bc03",
   "metadata": {},
   "outputs": [],
   "source": [
    "ej = ej.radical()\n",
    "assert(ej.is_prime())"
   ]
  },
  {
   "cell_type": "markdown",
   "id": "6ef7bf4e-c355-4fd0-8b99-8d46328c3643",
   "metadata": {},
   "source": [
    "Now $ej$ is a prime ideal with two generators: a polynomial $rt$ of degree 1 in $x, y, z$ and a polynomial of degree 2 in $x, y, z$. Since $ej$ \n",
    "gives the remaining eigenpoints of $cb$, we see that they are the intersection of a line $rt$ and a conic $qn$"
   ]
  },
  {
   "cell_type": "code",
   "execution_count": 561,
   "id": "ef07d179-8706-4d91-8539-feb12508249a",
   "metadata": {},
   "outputs": [],
   "source": [
    "rt = y*u2*v1 + (-ii)*z*u2*v1 + y*u1*v2 + ii*z*u1*v2 \n",
    "\n",
    "qn = 12*x*y*u1*v2*l2 + (12*ii)*x*z*u1*v2*l2 + (-8*ii)*x^2*u2*v2*l2 + (4*ii)*y^2*u2*v2*l2 + (4*ii)*z^2*u2*v2*l2 + 3*y^2*l1 + 3*z^2*l1\n",
    "\n",
    "assert(ej == S.ideal(rt, qn).saturation(u1*u2*v1*v2)[0])"
   ]
  },
  {
   "cell_type": "markdown",
   "id": "4ef6ffca-4b5e-4f0b-80b8-db988523371e",
   "metadata": {},
   "source": [
    "The line $rt$ contains therefore the points $P_6$ and $P_7$ and it passes through $P_1$:"
   ]
  },
  {
   "cell_type": "code",
   "execution_count": 563,
   "id": "5e665f69-d0b2-40c3-bd17-75dfee53ca0e",
   "metadata": {},
   "outputs": [],
   "source": [
    "assert(rt.subs(substitution(P1))== 0)"
   ]
  },
  {
   "cell_type": "markdown",
   "id": "9627ccdf-5ccb-430d-9edc-63adacb5d1c3",
   "metadata": {},
   "source": [
    "The line  $rt$ is orthogonal to the line  $P_3 \\vee P_5$, as follows from these computations:"
   ]
  },
  {
   "cell_type": "code",
   "execution_count": 564,
   "id": "0006ea74-4d8f-4743-b2fb-7a36c30ff386",
   "metadata": {},
   "outputs": [],
   "source": [
    "r35 = matrix([P3, P5, (x, y, z)]).det()"
   ]
  },
  {
   "cell_type": "markdown",
   "id": "ad8ae6cb-dcc9-442d-95e6-d2efe0c43069",
   "metadata": {},
   "source": [
    "r35 and rt are orthogonal:"
   ]
  },
  {
   "cell_type": "code",
   "execution_count": 565,
   "id": "a4ed83d7-d4c9-49fb-8a08-e8a92e4e8468",
   "metadata": {},
   "outputs": [],
   "source": [
    "assert(scalar_product([r35.coefficient(xx) for xx in (x, y, z)], \\\n",
    "                  [rt.coefficient(xx) for xx in (x, y, z)]).is_zero())"
   ]
  },
  {
   "cell_type": "markdown",
   "id": "19c988c0-c8eb-4bdf-bb33-e21463ab5495",
   "metadata": {},
   "source": [
    "The points $P_6$ and $P_7$, which are the itersecton point of $rt$ and conic, do not have coordinates in $\\mathbb{Q}[i][A, B, C, u, v]$, since the ideal \n",
    "$ej$ is prime."
   ]
  },
  {
   "cell_type": "markdown",
   "id": "b7e82e82-b9ee-4120-8107-e9a3c11f4533",
   "metadata": {},
   "source": [
    "## Subcases:\n",
    "We want to see if there are other alignments among the points. We have to consider three cases:\n",
    "\n",
    "###  Case 1: $P_2, P_4, P_6$ aligned\n",
    "###  Case 2: $P_2, P_5, P_6$ aligned\n",
    "###  Case 3: $P_3, P_5, P_7$ (or $P_3, P_5, P_6$) aligned "
   ]
  },
  {
   "cell_type": "markdown",
   "id": "011bd2b2-5b62-4617-b2fb-983bbd99d633",
   "metadata": {},
   "source": [
    "## Case 1: $P_2, P_4, P_6$ aligned. "
   ]
  },
  {
   "cell_type": "markdown",
   "id": "292978f8-ba10-4925-a5e3-d1db51651cd4",
   "metadata": {},
   "source": [
    "The line $P_2 \\vee P_4$ is $r24 = x$:"
   ]
  },
  {
   "cell_type": "code",
   "execution_count": 566,
   "id": "5995de5b-b3bc-4e2c-b613-73071c35afda",
   "metadata": {},
   "outputs": [],
   "source": [
    "r24 = x\n",
    "assert(matrix([P2, P4, (x, y, z)]).det() == 2*ii*x)"
   ]
  },
  {
   "cell_type": "markdown",
   "id": "80db16ea-7339-4a85-9eb2-02c5f478c96e",
   "metadata": {},
   "source": [
    "Construction of the point $P_6$ as intersection of the lines rt and r24:"
   ]
  },
  {
   "cell_type": "code",
   "execution_count": 567,
   "id": "679ae509-502f-4dbf-a53a-5d05fc5f3325",
   "metadata": {},
   "outputs": [],
   "source": [
    "P6 = vector(S, (0, rt.coefficient(z), -rt.coefficient(y)))"
   ]
  },
  {
   "cell_type": "code",
   "execution_count": 569,
   "id": "818321c2-2dca-4fd3-a507-5238699185f5",
   "metadata": {},
   "outputs": [],
   "source": [
    "assert(rt.subs(substitution(P6)) == 0)\n",
    "assert(r24.subs(substitution(P6)) == 0)"
   ]
  },
  {
   "cell_type": "markdown",
   "id": "b02a6a35-73da-47a1-897d-3796a86402c2",
   "metadata": {},
   "source": [
    "$P_6$ always exists:"
   ]
  },
  {
   "cell_type": "code",
   "execution_count": 571,
   "id": "81246367-31d1-4598-b7b5-5d47615a5c05",
   "metadata": {},
   "outputs": [],
   "source": [
    "assert(S.ideal(list(P6)).saturation(u1*u2*v1*v2)[0] == S.ideal(1))"
   ]
  },
  {
   "cell_type": "markdown",
   "id": "8c646078-a174-4842-90a5-b265d0521af8",
   "metadata": {},
   "source": [
    "If $P_6$ is an eigenpoint, it must be a point of the conic. This condition gives that \n",
    "$l_1 = u_2v_2$, $l_2 = 3/4i$:"
   ]
  },
  {
   "cell_type": "code",
   "execution_count": 572,
   "id": "08839add-bc37-478c-bae9-98137a3861c0",
   "metadata": {},
   "outputs": [],
   "source": [
    "assert(conic.subs(substitution(P6)) == ((16*ii))*v2*v1*u2*u1*(u2*v2*l2 + (-3/4*ii)*l1))"
   ]
  },
  {
   "cell_type": "markdown",
   "id": "ad2ae12b-58df-4065-b0a8-a890f7ad5cc3",
   "metadata": {},
   "source": [
    "the family of  cubics in which $P_6$ is aligned with $P_2$ and $P_4$ is therefore obtained from cb as follows:"
   ]
  },
  {
   "cell_type": "code",
   "execution_count": 573,
   "id": "7a8b850e-a98d-4c9a-9e9e-4fc79b07eae2",
   "metadata": {},
   "outputs": [],
   "source": [
    "cb1 = S(cb.subs({l1: u2*v2, l2: 3/4*ii}))"
   ]
  },
  {
   "cell_type": "markdown",
   "id": "2d6dfd72-b438-4c0c-be59-7394fc78dd0d",
   "metadata": {},
   "source": [
    "cb1 is smooth:"
   ]
  },
  {
   "cell_type": "code",
   "execution_count": 581,
   "id": "813f6a78-e52f-4bd6-8c19-73793a017d7c",
   "metadata": {},
   "outputs": [],
   "source": [
    "assert(S.ideal(list(gdn(cb1))).saturation(u1*u2*v1*v2)[0].radical() == S.ideal(x, y, z))"
   ]
  },
  {
   "cell_type": "markdown",
   "id": "8f7f46e6-fdb2-4b85-b69f-f1a93b4fb1bd",
   "metadata": {},
   "source": [
    "Construction of $P_7$. It is the second intersection of rt and conic, and these two polynomials give the ideal ej: first we evaluate ej on $l_1 = u_2v_2$, $l_2 = 3/4i$, \n",
    "then we saturate the ideal, we divide it by the ideal of $P_6$, we get the ideal pp7 which gives the coordinates of the point $P_7$"
   ]
  },
  {
   "cell_type": "code",
   "execution_count": 585,
   "id": "ae195506-12bd-4716-9525-79d690ed3e10",
   "metadata": {},
   "outputs": [],
   "source": [
    "ej1 = ej.subs({l1: u2*v2, l2: 3/4*ii})"
   ]
  },
  {
   "cell_type": "code",
   "execution_count": 591,
   "id": "a7d09b28-0eff-4d42-80b9-7464c7938e3b",
   "metadata": {},
   "outputs": [],
   "source": [
    "ej1 = ej1.saturation(u1*u2*v1*v2)[0]"
   ]
  },
  {
   "cell_type": "code",
   "execution_count": 594,
   "id": "c81d6a0d-0595-449b-bf19-59fa732e7f99",
   "metadata": {},
   "outputs": [],
   "source": [
    "pp7 = ej1.saturation(S.ideal(matrix([P6, (x, y, z)]).minors(2)))[0]"
   ]
  },
  {
   "cell_type": "code",
   "execution_count": 602,
   "id": "8b85daa1-29f4-49c3-864f-689d14547e84",
   "metadata": {},
   "outputs": [],
   "source": [
    "p7coord = matrix([[pp7.gens()[0].coefficient(xx) for xx in [x, y, z]], [pp7.gens()[1].coefficient(xx) for xx in [x, y, z]]]).minors(2)"
   ]
  },
  {
   "cell_type": "code",
   "execution_count": null,
   "id": "140b4711-e8c3-4207-9046-68ebefdff3bf",
   "metadata": {},
   "outputs": [],
   "source": [
    "P7 = vector(S, (p7coord[2], -p7coord[1], p7coord[0]))"
   ]
  },
  {
   "cell_type": "markdown",
   "id": "2471deba-62ff-49a0-92d4-0b8c6ccdb77c",
   "metadata": {},
   "source": [
    "P7 is a common point of rt and conic (i.e. a zero of ej1) and $P_7$ always exists:"
   ]
  },
  {
   "cell_type": "code",
   "execution_count": 617,
   "id": "d54d3a96-6a7b-4282-af1e-f183061f52e6",
   "metadata": {},
   "outputs": [],
   "source": [
    "assert(ej1.subs(substitution(P7)) == S.ideal(0))"
   ]
  },
  {
   "cell_type": "code",
   "execution_count": 618,
   "id": "e62545cc-a8b1-409f-9514-b2aca6311b24",
   "metadata": {},
   "outputs": [],
   "source": [
    "assert(S.ideal(list(P7)).saturation(u1*u2*v1*v2)[0] == S.ideal(1))"
   ]
  },
  {
   "cell_type": "markdown",
   "id": "922ef5d7-cfc3-47ec-8589-0b785ec0be7f",
   "metadata": {},
   "source": [
    "$P_6$ is obtained from the formula:\n",
    "$P_6 = s_{11}s_{15}P_3-2s_{13}s_{15}P_1+s_{11}s_{15}P_5$"
   ]
  },
  {
   "cell_type": "code",
   "execution_count": 619,
   "id": "e3fb2c16-76be-4846-8ec4-2e1c3e47ee05",
   "metadata": {},
   "outputs": [],
   "source": [
    "P6a = scalar_product(P1, P1)*scalar_product(P1, P5)*P3-\\\n",
    "       2*scalar_product(P1, P3)*scalar_product(P1, P5)*P1 +\\\n",
    "       scalar_product(P1, P1)*scalar_product(P1, P3)*P5\n",
    "\n",
    "assert(S.ideal(matrix([P6, P6a]).minors(2)) == S.ideal(0))"
   ]
  },
  {
   "cell_type": "markdown",
   "id": "106cdedd-d0e2-4da2-a310-b4bf5302aec2",
   "metadata": {},
   "source": [
    "$P_7$ is obtained from the formula:\n",
    "$P_7 = s_{11}s_{15}P_3+s_{13}s_{15}P_1+s_{11}s_{15}P_5$"
   ]
  },
  {
   "cell_type": "code",
   "execution_count": 620,
   "id": "e5a378f0-efcc-409d-b7c6-b7f2969f4930",
   "metadata": {},
   "outputs": [],
   "source": [
    "P7a = scalar_product(P1, P1)*scalar_product(P1, P5)*P3+\\\n",
    "      scalar_product(P1, P3)*scalar_product(P1, P5)*P1 +\\\n",
    "      scalar_product(P1, P1)*scalar_product(P1, P3)*P5\n",
    "\n",
    "assert(S.ideal(matrix([P7, P7a]).minors(2)) == S.ideal(0))"
   ]
  },
  {
   "cell_type": "markdown",
   "id": "1e5129fd-69b8-499a-8662-cebbafc38310",
   "metadata": {},
   "source": [
    "The eigenpoints $P_1, \\dots, P_7$ have the following alignments: $[(1, 2, 3), (1, 4, 5), (1, 6, 7), (2, 4, 6)]$\n"
   ]
  },
  {
   "cell_type": "code",
   "execution_count": 623,
   "id": "f4bd26b5-3a47-4cca-8245-eaba9dabea28",
   "metadata": {},
   "outputs": [],
   "source": [
    "assert(alignments([P1, P2, P3, P4, P5, P6, P7]) == [(1, 2, 3), (1, 4, 5), (1, 6, 7), (2, 4, 6)])"
   ]
  },
  {
   "cell_type": "markdown",
   "id": "eef69fad-e1e3-4a0b-a13b-35b2299cc4e6",
   "metadata": {},
   "source": [
    "There are no subcases in which the seven eigenpints have other alignments:"
   ]
  },
  {
   "cell_type": "code",
   "execution_count": 624,
   "id": "f14bf119-ee22-461c-a310-386a1ea833c1",
   "metadata": {},
   "outputs": [],
   "source": [
    "lp = [P1, P2, P3, P4, P5, P6, P7]\n",
    "\n",
    "for i in range(5):\n",
    "    for j in range(i+1, 6):\n",
    "        for k in range(j+1, 7):\n",
    "            if not ((i+1, j+1, k+1) in [(1, 2, 3), (1, 4, 5), (1, 6, 7), (2, 4, 6)]):\n",
    "                assert(S.ideal(matrix([lp[i], lp[j], lp[k]]).det()).saturation(u1*u2*v1*v2)[0] == S.ideal(S.one()))"
   ]
  },
  {
   "cell_type": "markdown",
   "id": "cf2ea0ac-7995-4875-bbaa-7e76e806170a",
   "metadata": {},
   "source": [
    "We have the following orthogonalities:\n",
    "($P_1 \\vee P_2$ ort $P_2 \\vee P_4$), \n",
    "($P_1 \\vee P_6$ ort $P_2 \\vee P_4$), \n",
    "($P_1 \\vee P_4$ ort $P_2 \\vee P_4$), \n",
    "($P_1 \\vee P_6$ ort $P_3 \\vee P_5$)"
   ]
  },
  {
   "cell_type": "code",
   "execution_count": 626,
   "id": "cd1bcd62-08a5-4e6f-a078-64d2c7722279",
   "metadata": {},
   "outputs": [],
   "source": [
    "assert(scalar_product(wedge_product(P1, P2), wedge_product(P2, P4)) == 0)\n",
    "assert(scalar_product(wedge_product(P1, P6), wedge_product(P2, P4)) == 0)\n",
    "assert(scalar_product(wedge_product(P1, P4), wedge_product(P2, P4)) == 0)\n",
    "assert(scalar_product(wedge_product(P1, P6), wedge_product(P3, P5)) == 0)"
   ]
  },
  {
   "cell_type": "markdown",
   "id": "8e5f6614-858e-452c-82bd-c9b949d3e5ed",
   "metadata": {},
   "source": [
    "In particular, we have that $P_1 = P_2 \\times P_4$ and the configuration is $(C_5)$\n",
    "\n",
    "The formulas for $P_6$ and $P_7$ will be considered later.\n",
    "\n",
    "This concludes case 1"
   ]
  },
  {
   "cell_type": "markdown",
   "id": "b3c1acd4-f133-4b37-b025-3aa16a7ed8d0",
   "metadata": {
    "jp-MarkdownHeadingCollapsed": true
   },
   "source": [
    "##  Case 2: $P_2, P_5, P_6$ aligned"
   ]
  },
  {
   "cell_type": "markdown",
   "id": "3f2b978b-3e3d-4299-a268-4559adac898d",
   "metadata": {},
   "source": [
    "equation line $P_2 \\vee P_5$: $r25 = yv_1 -izv_1 + 2ixv_2$"
   ]
  },
  {
   "cell_type": "code",
   "execution_count": 627,
   "id": "e93110f4-2508-45b4-b2bf-e0e5b369d54d",
   "metadata": {},
   "outputs": [],
   "source": [
    "r25 = matrix([P2, P5, (x, y, z)]).det()\n",
    "assert(r25 == y*v1 + (-ii)*z*v1 + (2*ii)*x*v2)"
   ]
  },
  {
   "cell_type": "markdown",
   "id": "28f1ab01-b5a5-42cc-b853-aaabdd6afe38",
   "metadata": {},
   "source": [
    "construction of the point $P_6$ intersection of the lines rt and r25:"
   ]
  },
  {
   "cell_type": "code",
   "execution_count": 629,
   "id": "daee49c0-d8e6-49e3-9b9c-5f593896f5bd",
   "metadata": {},
   "outputs": [],
   "source": [
    "slz6 = matrix([[r25.coefficient(xx) for xx in (x, y, z)], [rt.coefficient(xx) for xx in (x, y, z)]]).minors(2)\n",
    "\n",
    "P6 = vector(S, (slz6[2], -slz6[1], slz6[0]))"
   ]
  },
  {
   "cell_type": "markdown",
   "id": "754ad954-8afa-4543-8726-72be35742cca",
   "metadata": {},
   "source": [
    "check that $P_6$ is $rt \\cap r25$:"
   ]
  },
  {
   "cell_type": "code",
   "execution_count": 630,
   "id": "5f163299-c663-4a41-932a-63d8659af238",
   "metadata": {},
   "outputs": [],
   "source": [
    "assert(r25.subs(substitution(P6)).is_zero() and  rt.subs(substitution(P6)).is_zero())"
   ]
  },
  {
   "cell_type": "markdown",
   "id": "d3c65b0b-8a13-4434-92fa-f28b9321dad6",
   "metadata": {},
   "source": [
    "$P_6$ always exists:"
   ]
  },
  {
   "cell_type": "code",
   "execution_count": 631,
   "id": "47882071-4938-42e7-b67c-357cd2cc467d",
   "metadata": {},
   "outputs": [],
   "source": [
    "assert(S.ideal(list(P6)).saturation(u1*u2*v1*v2)[0] == S.ideal(S.one()))"
   ]
  },
  {
   "cell_type": "markdown",
   "id": "388ff7f7-c8e5-4654-85c6-e2e7689a1e9b",
   "metadata": {},
   "source": [
    "if $P_6$ is an eigenpoint, it must be a point of the conic. This condiiton gives that  \n",
    "$u_1v_1l_2 + u_2v_2l_2 -3/4il_1 = 0$:"
   ]
  },
  {
   "cell_type": "code",
   "execution_count": 632,
   "id": "773fac46-1fee-4808-8fae-669d5f08a275",
   "metadata": {},
   "outputs": [],
   "source": [
    "assert(conic.subs(substitution(P6)) == \\\n",
    "((-64*ii)) * v1 * u2 * u1 * v2^3 * (u1*v1*l2 + u2*v2*l2 + (-3/4*ii)*l1))"
   ]
  },
  {
   "cell_type": "markdown",
   "id": "cc170fd5-1801-45dc-9b4b-e2fa6df258b2",
   "metadata": {},
   "source": [
    "Hence the values for $l_1$ and $l_2$ is: $l_1: u_1v_1+u_2v_2: l_2: 3/4i$. This gives a cubic cb1"
   ]
  },
  {
   "cell_type": "code",
   "execution_count": 633,
   "id": "512e6ab3-1b2a-4c02-b62f-68b1558ad206",
   "metadata": {},
   "outputs": [],
   "source": [
    "cb1 = S(cb.subs({l1: u1*v1+u2*v2, l2: 3/4*ii}))"
   ]
  },
  {
   "cell_type": "markdown",
   "id": "909499d6-992e-4560-bd04-66c365cef06f",
   "metadata": {},
   "source": [
    "If we assume $(2u_1v_1+3u_2v_2)(u_1v_1+u_2v_2)(u_1v_1+3u_2v_2) \\not =  0$, \n",
    "then  cb1 is smooth:"
   ]
  },
  {
   "cell_type": "code",
   "execution_count": 640,
   "id": "e861236c-ab52-42d2-b6e7-b420d4baa96c",
   "metadata": {},
   "outputs": [],
   "source": [
    "irr = S.ideal(list(gdn(cb1))).saturation(u1*u2*v1*v2)[0].saturation(2*u1*v1+3*u2*v2)[0].\\\n",
    "saturation(u1*v1+u2*v2)[0].saturation(u1*v1+3*u2*v2)[0]\n",
    "assert(irr.radical() == S.ideal(x, y, z))"
   ]
  },
  {
   "cell_type": "markdown",
   "id": "9ff92322-912b-4529-8c02-999eaf230218",
   "metadata": {},
   "source": [
    "In particular we see that the cubic cb1 is not necessarily smooth.\n",
    "\n",
    "Now we construct the point $P_7$. We compute the ideal e_cb1 of the iegenpoints of cb1 and we saturate it w.r.t. the eigenpoints $P_1, \\dots, P_6$:"
   ]
  },
  {
   "cell_type": "code",
   "execution_count": 645,
   "id": "a56140c0-a2db-4fb0-a043-8d3ab64ad8df",
   "metadata": {},
   "outputs": [],
   "source": [
    "e_cb1 = S.ideal(list(eig(cb1))).saturation(u1*u2*v1*v2)[0]\n",
    "\n",
    "for pp in [P1, P2, P3, P4, P5, P6]:\n",
    "    e_cb1 = e_cb1.saturation(S.ideal(matrix([pp, (x, y, z)]).minors(2)))[0]"
   ]
  },
  {
   "cell_type": "markdown",
   "id": "095039c3-cbbf-4b23-aa9f-cd35a9144407",
   "metadata": {},
   "source": [
    "Now the ideal e-cb1 is the ideal of the point $P_7$. It is given by three polynomials, but it is generated by the first two polynoials:"
   ]
  },
  {
   "cell_type": "code",
   "execution_count": 656,
   "id": "fd3ee669-aaf7-4ca4-b4c0-34fe617f9e9b",
   "metadata": {},
   "outputs": [],
   "source": [
    "assert(len(e_cb1.gens()) == 3)\n",
    "pl1, pl2 = tuple(e_cb1.gens()[:2])\n",
    "assert(e_cb1 == S.ideal(pl1, pl2))"
   ]
  },
  {
   "cell_type": "markdown",
   "id": "b6556b5e-42c7-4d58-ad5c-12d9807741ed",
   "metadata": {},
   "source": [
    "We use the two polynomials pl1 and pl2, which are linear in $x, y, z$, to construct $P_7$:"
   ]
  },
  {
   "cell_type": "code",
   "execution_count": 658,
   "id": "2aea305b-8633-4041-96b0-aabb6d3ef242",
   "metadata": {},
   "outputs": [],
   "source": [
    "slz = matrix([[pl1.coefficient(xx) for xx in (x, y, z)], \\\n",
    "              [pl2.coefficient(xx) for xx in (x, y, z)]]).minors(2)\n",
    "\n",
    "P7 = vector(S, [slz[2], -slz[1], slz[0]])"
   ]
  },
  {
   "cell_type": "markdown",
   "id": "bcf833d6-cafe-4bb3-8cf2-a6594286212d",
   "metadata": {},
   "source": [
    "$P_7$ is an eigenpoint of cb1 and it always exists:"
   ]
  },
  {
   "cell_type": "code",
   "execution_count": null,
   "id": "1439685c-76bf-4614-93fd-701ead2f06c8",
   "metadata": {},
   "outputs": [],
   "source": [
    "assert(eig(cb1).subs(substitution(P7))==vector(S, (0, 0, 0)))\n",
    "\n",
    "assert(S.ideal(list(P7)).saturation(u1*u2*v1*v2)[0] == S.ideal(S.one()))"
   ]
  },
  {
   "cell_type": "markdown",
   "id": "a1fb184b-4337-47f5-9ccd-4e15a2b4779b",
   "metadata": {},
   "source": [
    "The seven eigenpoints have the following alignments:\n",
    "$$\n",
    "[(1, 2, 3), (1, 4, 5), (1, 6, 7), (2, 5, 6), (3, 4, 6), (3, 5, 7)]\n",
    "$$\n",
    "Hence we get the configuration $(C_8)$"
   ]
  },
  {
   "cell_type": "code",
   "execution_count": 665,
   "id": "e6cac40a-921b-42a0-833d-e07c7da3597c",
   "metadata": {},
   "outputs": [],
   "source": [
    "assert(alignments([P1, P2, P3, P4, P5, P6, P7]) == [(1, 2, 3), (1, 4, 5), (1, 6, 7), (2, 5, 6), (3, 4, 6), (3, 5, 7)])"
   ]
  },
  {
   "cell_type": "markdown",
   "id": "d03f2f21-da26-461f-9e9a-ded4bc360287",
   "metadata": {},
   "source": [
    "We also have the relation $P_3 = Q_3$, where $Q_3$ is given by the formula above (is the orthocenter):"
   ]
  },
  {
   "cell_type": "code",
   "execution_count": 666,
   "id": "fcd3a11c-e361-4208-9182-d8d1aa5bdb4c",
   "metadata": {},
   "outputs": [],
   "source": [
    "Q3 = wedge_product(P1, P5)*scalar_product(P1, P6)*scalar_product(P5, P6)-\\\n",
    "      scalar_product(P1, P5)*wedge_product(P1, P6)*scalar_product(P5, P6)+\\\n",
    "      scalar_product(P1, P5)*scalar_product(P1, P6)*wedge_product(P5, P6)\n",
    "\n",
    "assert(Q3 != vector(S, (0, 0, 0)))\n",
    "assert(matrix([P3, Q3]).minors(2) == [0, 0, 0])"
   ]
  },
  {
   "cell_type": "markdown",
   "id": "831631c9-34a8-45e6-bad8-47f939a375c9",
   "metadata": {},
   "source": [
    "and we have some orthogonalities of the lines joining the eigenpoints:"
   ]
  },
  {
   "cell_type": "code",
   "execution_count": 668,
   "id": "ae9e1b6c-cf31-4d32-b39c-98e25d48ffee",
   "metadata": {},
   "outputs": [],
   "source": [
    "assert(scalar_product(wedge_product(P1, P4), wedge_product(P3, P4))==0)\n",
    "assert(scalar_product(wedge_product(P1, P2), wedge_product(P2, P5))==0)\n",
    "assert(scalar_product(wedge_product(P3, P5), wedge_product(P1, P6))==0)"
   ]
  },
  {
   "cell_type": "code",
   "execution_count": null,
   "id": "99654042-ad3a-435a-9d22-d25fe7fbf1f7",
   "metadata": {},
   "outputs": [],
   "source": []
  },
  {
   "cell_type": "markdown",
   "id": "177ed177-9e00-451c-a136-1c883804b3d6",
   "metadata": {},
   "source": [
    "## Case 3: $P_3, P_5, P_7$ aligned"
   ]
  },
  {
   "cell_type": "markdown",
   "id": "414bca60-35b9-485a-b7ca-7e8cdbd54591",
   "metadata": {},
   "source": [
    "Here we call P7 the point of rt which is aligned with \n",
    "$P_3$ and $P_5$\n",
    "\n",
    "equation line r35 = $P_3 \\vee P_5$. It turn out to be:\n",
    "y*u2*v1 + (-ii)*z*u2*v1 - y*u1*v2 + (-ii)*z*u1*v2 + (2*ii)*x*u2*v2"
   ]
  },
  {
   "cell_type": "code",
   "execution_count": null,
   "id": "84c5d4fe-5123-4e05-aacb-36079c41f699",
   "metadata": {},
   "outputs": [],
   "source": [
    "r35 = matrix([P3, P5, (x, y, z)]).det()\n",
    "assert(r35 == y*u2*v1 + (-ii)*z*u2*v1 - y*u1*v2 + (-ii)*z*u1*v2 + (2*ii)*x*u2*v2)"
   ]
  },
  {
   "cell_type": "markdown",
   "id": "983adfbf-b675-41e6-8147-4f0e586d1b4d",
   "metadata": {},
   "source": [
    "Construction of the point $P_7$ intersection of the lines rt and r35:"
   ]
  },
  {
   "cell_type": "code",
   "execution_count": 669,
   "id": "1c588f84-6e8c-4e60-b5dc-d120fb2f2b29",
   "metadata": {},
   "outputs": [],
   "source": [
    "slz7 = matrix([[r35.coefficient(xx) for xx in (x, y, z)], [rt.coefficient(xx) for xx in (x, y, z)]]).minors(2)\n",
    "P7 = vector(S, (slz7[2], -slz7[1], slz7[0]))\n",
    "\n",
    "assert(r35.subs(substitution(P7)).is_zero() and  rt.subs(substitution(P7)).is_zero())"
   ]
  },
  {
   "cell_type": "markdown",
   "id": "35094cac-c769-4111-a2da-756931e9ff14",
   "metadata": {},
   "source": [
    "$P_7$ always exists:"
   ]
  },
  {
   "cell_type": "code",
   "execution_count": 670,
   "id": "980b127d-ec1a-4cb0-b92a-f5b7f0262c51",
   "metadata": {},
   "outputs": [],
   "source": [
    "assert(S.ideal(list(P7)).saturation(u1*u2*v1*v2)[0] == S.ideal(S.one()))"
   ]
  },
  {
   "cell_type": "markdown",
   "id": "03544db4-5c28-416f-ac5f-27a9132c8a39",
   "metadata": {},
   "source": [
    "If $P_7$ is an eigenpoint, it must be a point of the conic. Hence\n",
    "\n",
    "u1*v1*l2 + u2*v2*l2 + (-3/4*ii)*l1\n",
    "\n",
    "indeed:"
   ]
  },
  {
   "cell_type": "code",
   "execution_count": 671,
   "id": "d770a6ce-99d3-4dba-ab66-47392925aa57",
   "metadata": {},
   "outputs": [],
   "source": [
    "assert(conic.subs(substitution(P7)) == \\\n",
    "((-64*ii)) * v1 * u1 * v2^3 * u2^3 * (u1*v1*l2 + u2*v2*l2 + (-3/4*ii)*l1))"
   ]
  },
  {
   "cell_type": "markdown",
   "id": "ff23b52f-3fe5-42ac-8e34-e0698e11080a",
   "metadata": {},
   "source": [
    "Hence the substitution into cb is: {l1: u1*v1+u2*v2, l2: 3/4*ii}"
   ]
  },
  {
   "cell_type": "code",
   "execution_count": 673,
   "id": "2f533428-8424-477b-b82d-8c3ed0cda5ee",
   "metadata": {},
   "outputs": [],
   "source": [
    "cb1bis = S(cb.subs({l1: u1*v1+u2*v2, l2: 3/4*ii}))"
   ]
  },
  {
   "cell_type": "markdown",
   "id": "e653253a-8bd7-4103-a22b-bd756da13cc5",
   "metadata": {},
   "source": [
    "We obtain that the new cubic is the same the cubic cb1 of the previous case, so this case is already studied above."
   ]
  },
  {
   "cell_type": "code",
   "execution_count": 674,
   "id": "06dd9344-ea93-4fe3-9be6-e114879db679",
   "metadata": {},
   "outputs": [],
   "source": [
    "assert(cb1bis == cb1)"
   ]
  },
  {
   "cell_type": "markdown",
   "id": "be303799-5159-4c74-8169-35776ca74be9",
   "metadata": {},
   "source": [
    "In conclusion, we have two possible configurations: $(C_5)$ and $(C_8)$\n",
    "(and a case of two lines of eigenpoints)\n",
    "the line $P_3 \\vee P_5$ and the line $P_1 \\vee P_6 \\vee P_7$ are always orthogonal."
   ]
  },
  {
   "cell_type": "markdown",
   "id": "1a43f05b-5afa-44ee-a570-a758cc47c5ac",
   "metadata": {},
   "source": [
    "## Final computations: formulas for $P_6$ and $P_7$\n",
    "\n",
    "We want to find the formulas for $P_6$ and $P_7$ given above (in Case 1: $P_2, P_6, P_6$ collinear)\n",
    "\n",
    "This part, if doLongComputations is true, requires about 30 minutes."
   ]
  },
  {
   "cell_type": "markdown",
   "id": "98bef960-bc76-4224-94e3-d6f00de53729",
   "metadata": {},
   "source": [
    "We define 5 generic points such that:\n",
    "$P_2$ and $P_4$ are on the isotropic conic, $P_1 \\vee P_2$ and $P_1 \\vee P_4$ are tangent to the isotropic conic and $P_3$ is a point on $P_1 \\vee P_2$ and $P_5$ is a point on $P_1 \\vee P_4$ (parameteres: u1, u2, l1, l2, v1, v2, m1, m2):"
   ]
  },
  {
   "cell_type": "code",
   "execution_count": 41,
   "id": "888c69de-9861-409b-b056-cb6c8b7204c5",
   "metadata": {},
   "outputs": [],
   "source": [
    "P1 = vector(S, (2*u1*v1 + 2*u2*v2, (2*ii)*u1*v1 + (-2*ii)*u2*v2, (2*ii)*u2*v1 + (2*ii)*u1*v2))\n",
    "P2 = vector(S, ((-ii)*u1^2 + (-ii)*u2^2, u1^2 - u2^2, 2*u1*u2))\n",
    "P3 = vector(S, (2*u1*v1*l1 + 2*u2*v2*l1 + (-ii)*u1^2*l2 + (-ii)*u2^2*l2, \\\n",
    "                 (2*ii)*u1*v1*l1 + (-2*ii)*u2*v2*l1 + u1^2*l2 - u2^2*l2, (2*ii)*u2*v1*l1 + (2*ii)*u1*v2*l1 + 2*u1*u2*l2))\n",
    "P4 = vector(S, ((-ii)*v1^2 + (-ii)*v2^2, v1^2 - v2^2, 2*v1*v2))\n",
    "P5 = vector(S, (2*u1*v1*m1 + 2*u2*v2*m1 + (-ii)*v1^2*m2 + (-ii)*v2^2*m2, \\\n",
    "                 (2*ii)*u1*v1*m1 + (-2*ii)*u2*v2*m1 + v1^2*m2 - v2^2*m2, (2*ii)*u2*v1*m1 + (2*ii)*u1*v2*m1 + 2*v1*v2*m2))"
   ]
  },
  {
   "cell_type": "code",
   "execution_count": 42,
   "id": "a1dbb5b5-8851-4a24-98d2-06a584ddb1fc",
   "metadata": {},
   "outputs": [],
   "source": [
    "assert(Ciso.subs(substitution(P2)) == 0)\n",
    "assert(Ciso.subs(substitution(P4)) == 0)\n",
    "assert(alignments([P1, P2, P3, P4, P5]) == [(1, 2, 3), (1, 4, 5)])"
   ]
  },
  {
   "cell_type": "markdown",
   "id": "137881c7-5a15-4d1c-9749-ea55a35d745c",
   "metadata": {},
   "source": [
    "It holds: \n",
    "$$ \n",
    "P_1 = P_2 \\times P_4\n",
    "$$"
   ]
  },
  {
   "cell_type": "code",
   "execution_count": 43,
   "id": "fb2275d0-e7d1-4394-a3c6-a63c8d523a73",
   "metadata": {},
   "outputs": [],
   "source": [
    "assert(matrix([P1, wedge_product(P2, P4)]).minors(2) == [0, 0, 0])"
   ]
  },
  {
   "cell_type": "markdown",
   "id": "692a5f17-5d30-4304-beff-7334c0ab26b5",
   "metadata": {},
   "source": [
    "We know that the $V$ - configuration $P_1, \\dots, P_5$ has rank 8"
   ]
  },
  {
   "cell_type": "code",
   "execution_count": 44,
   "id": "ad8f4068-a6a2-4a82-a382-39774dada0c7",
   "metadata": {},
   "outputs": [],
   "source": [
    "# The following computation if executed, requires about 1' 30''\n",
    "# assert(matrixEigenpoints([P1, P2, P3, P4, P5]).rank() == 8)"
   ]
  },
  {
   "cell_type": "markdown",
   "id": "8c5e3dd0-be79-4398-b267-6cc3537ba5c4",
   "metadata": {},
   "source": [
    "We want to see when a point $P_6$ on the line $P_2 \\vee P_4$ is an eigenpoint. Therefore we define $P_6$ and we try to see when it is an eigenpoint, i.e. when $\\Phi(P_1, \\dots, P_6)$ has rank $\\leq 9$."
   ]
  },
  {
   "cell_type": "code",
   "execution_count": 45,
   "id": "fd752800-a5a0-4aca-82d8-5de79d459988",
   "metadata": {},
   "outputs": [],
   "source": [
    "P6 = w1*P2+w2*P4"
   ]
  },
  {
   "cell_type": "code",
   "execution_count": 46,
   "id": "2caf359f-14b3-477f-80ae-d28bbb48a389",
   "metadata": {},
   "outputs": [],
   "source": [
    "MM = condition_matrix([P1, P2, P3, P4, P5, P6], S, standard = \"all\")"
   ]
  },
  {
   "cell_type": "markdown",
   "id": "9665237a-b54d-4f41-af7c-8340871dcc14",
   "metadata": {},
   "source": [
    "The next computations show that $P_6$ is an eigenpoint iff w2*l2*m1 - w1*l1*m2 = 0. This result requires 25 minutes.\n",
    "\n",
    "We select some order 10-minors of MM in such a \n",
    "way that the ideal they generate gives precisely the conditions \n",
    "for which $P_6$ is an eigenpoint.\n",
    "Remember that we can assume (u2*v1-u1*v2) != 0, since $P_2$ and $P_4$ \n",
    "are distinct. It turns out that \n",
    "all the determinants of the order 10-minors of MM can be divided by\n",
    "(u2*v1-u1*v2)^24.\n",
    "\n",
    "The next block contains these computations:\n"
   ]
  },
  {
   "cell_type": "code",
   "execution_count": 47,
   "id": "09463fa5-2177-448f-a612-6e78c91ae975",
   "metadata": {},
   "outputs": [],
   "source": [
    "doLongComputations = false"
   ]
  },
  {
   "cell_type": "code",
   "execution_count": 48,
   "id": "7e051222-6908-4dfe-b779-6568861b7b47",
   "metadata": {},
   "outputs": [],
   "source": [
    "if doLongComputations:\n",
    "    Lrw = [[0, 1, 3, 4, 6, 9, 10, 12, 15, 16],\\\n",
    "     [0, 1, 3, 4, 6, 9, 10, 12, 15, 17],\\\n",
    "     [0, 2, 3, 4, 6, 9, 10, 12, 15, 16],\\\n",
    "     [0, 1, 3, 4, 7, 9, 10, 12, 15, 16],\\\n",
    "     [0, 1, 3, 4, 6, 9, 10, 13, 15, 16],\\\n",
    "     [0, 1, 3, 4, 6, 9, 11, 12, 15, 16],\\\n",
    "     [0, 1, 3, 5, 6, 9, 10, 12, 15, 16],\\\n",
    "     [1, 2, 3, 4, 7, 9, 10, 13, 15, 16],\\\n",
    "     [0, 2, 3, 4, 6, 9, 10, 12, 15, 17],\\\n",
    "     [0, 1, 3, 4, 7, 9, 11, 12, 15, 16],\\\n",
    "     [0, 1, 3, 5, 6, 9, 11, 12, 15, 17],\\\n",
    "     [0, 1, 3, 5, 6, 9, 10, 13, 15, 16],\\\n",
    "     [0, 1, 3, 4, 7, 9, 10, 12, 15, 17],\\\n",
    "     [0, 1, 3, 4, 6, 9, 10, 13, 15, 17],\\\n",
    "     [1, 2, 3, 4, 7, 9, 10, 13, 15, 17],\\\n",
    "     [0, 1, 3, 4, 6, 9, 10, 12, 16, 17],\\\n",
    "     [0, 1, 3, 5, 6, 9, 11, 12, 16, 17],\\\n",
    "     [0, 2, 3, 4, 6, 9, 10, 12, 16, 17]]\n",
    "\n",
    "    Jb = S.ideal(0)\n",
    "    flag = 1\n",
    "    for ll in Lrw:\n",
    "        print(ll)\n",
    "        sleep(1)\n",
    "        ttA = cputime()\n",
    "        Mx = MM.matrix_from_rows(ll)\n",
    "        ddt = Mx.det()\n",
    "        print(\"computed long determinant\")\n",
    "        sleep(1)\n",
    "        ddtDiv = ddt.quo_rem((u2*v1-u1*v2)^24) ## it turns out this happens\n",
    "        if ddtDiv[1] == 0:\n",
    "            ff = ddtDiv[0]\n",
    "        else:\n",
    "            ff = ddt\n",
    "            print(\"just in case...\") ## In practise, this never happens\n",
    "        print(cputime()-ttA)\n",
    "        sleep(1)\n",
    "        ffId = S.ideal(ff)\n",
    "        ## we saturate w.r.t. conditions that are surely satisfied.\n",
    "        ffId = ffId.saturation((u2*v1-u1*v2)*m1*m2*l1*l2*w1*w2)[0]\n",
    "        Jb = Jb + ffId\n",
    "        Jb = Jb.saturation((u2*v1-u1*v2)*m1*m2*l1*l2*w1*w2)[0]\n",
    "        print(\"computation n. : \"+str(flag)+\" over \"+ str(len(Lrw)))\n",
    "        print(\"\")\n",
    "        flag += 1\n",
    "        sleep(1)\n",
    "else:\n",
    "    Jb = S.ideal(w2*l2*m1 - w1*l1*m2)"
   ]
  },
  {
   "cell_type": "markdown",
   "id": "672f7df2-5b04-4748-a088-a4ee78e3bdf8",
   "metadata": {},
   "source": [
    "The only condition we get is: w2*l2*m1 - w1*l1*m2 = 0"
   ]
  },
  {
   "cell_type": "code",
   "execution_count": 49,
   "id": "072e6f30-9e39-48c8-b2fb-ec1d92c17873",
   "metadata": {},
   "outputs": [],
   "source": [
    "assert(Jb == S.ideal(w2*l2*m1 - w1*l1*m2))"
   ]
  },
  {
   "cell_type": "markdown",
   "id": "01a07ae2-383b-437d-9bc9-60ceaa8093b4",
   "metadata": {},
   "source": [
    "We construct a matrix whose determinant is the cubic\n",
    "which has $P_1, P_2, P_3, P_4, P_5$ as eigenpoints and a row of $\\phi(P_6)$:"
   ]
  },
  {
   "cell_type": "markdown",
   "id": "6f4a995b-4685-4b32-ae45-3012defd3786",
   "metadata": {},
   "source": [
    "We construct $P_6$ with this condition:"
   ]
  },
  {
   "cell_type": "code",
   "execution_count": 50,
   "id": "3ab17df3-c3be-4dc0-b8bc-967a83fe4d99",
   "metadata": {},
   "outputs": [],
   "source": [
    "PP6 = P6.subs({w1:l2*m1, w2: l1*m2})"
   ]
  },
  {
   "cell_type": "markdown",
   "id": "4e1ede9a-05ec-450d-a7aa-acab2d060dca",
   "metadata": {},
   "source": [
    "It holds: \n",
    "$$\n",
    "P_6 = s_{11}s_{15}P_3-2s_{13}s_{15}P_1+s_{11}s_{13}P_5\n",
    "$$\n",
    "and also:\n",
    "$$\n",
    "P_6 = s_{15}s_{34}P_2+s_{13}s_{25}P_4\n",
    "$$"
   ]
  },
  {
   "cell_type": "code",
   "execution_count": 51,
   "id": "e209b472-ab45-4a2d-85ab-3e9b242c0041",
   "metadata": {},
   "outputs": [],
   "source": [
    "PP6a = scalar_product(P1, P1)*scalar_product(P1, P5)*P3-2*scalar_product(P1, P3)*scalar_product(P1, P5)*P1 + scalar_product(P1, P1)*scalar_product(P1, P3)*P5\n",
    "\n",
    "assert(S.ideal(matrix([PP6, PP6a]).minors(2)) == S.ideal(0))\n",
    "\n",
    "PP6b = scalar_product(P1, P5)*scalar_product(P3, P4)*P2+scalar_product(P1, P3)*scalar_product(P2, P5)*P4\n",
    "assert(S.ideal(matrix([PP6, PP6b]).minors(2)) == S.ideal(0))"
   ]
  },
  {
   "cell_type": "markdown",
   "id": "994eede4-f5b3-43cd-a911-29e0349e2dcc",
   "metadata": {},
   "source": [
    "We construct the cubic whose eigenpoints are $P_1, \\dots, P_6$:"
   ]
  },
  {
   "cell_type": "code",
   "execution_count": 52,
   "id": "5f1a4ba7-be53-42fa-a78d-10b5db081a60",
   "metadata": {},
   "outputs": [
    {
     "name": "stdout",
     "output_type": "stream",
     "text": [
      "A computation of 146 seconds\n"
     ]
    }
   ],
   "source": [
    "\n",
    "MM1 = condition_matrix([P1, P2, P3, P4, P5, PP6], S, standard = \"all\").matrix_from_rows([0, 1, 3, 4, 6, 9, 10, 12, 16])\n",
    "MM1 = MM1.stack(vector(mon))\n",
    "\n",
    "## the following computation requires 146 seconds:\n",
    "print(\"A computation of 146 seconds\")\n",
    "sleep(1)\n",
    "cbc = MM1.det()"
   ]
  },
  {
   "cell_type": "markdown",
   "id": "e4def168-2b0b-4013-83c3-a2ee35ba7225",
   "metadata": {},
   "source": [
    "We can find that $P_7$ is given by the formula:\n",
    "$$\n",
    "s_{11}s_{15}P_3+s_{13}s_{15}P_1+s_{11}s_{13}P_5\n",
    "$$\n",
    "and also by:\n",
    "$$\n",
    "s_{15}(s_{26}s_{46}+s_{24}s_{66})P_1+s_{11}s_{24}s_{56}P_6\n",
    "$$"
   ]
  },
  {
   "cell_type": "code",
   "execution_count": 53,
   "id": "290c7b84-93a4-4f48-8d3c-d6ce2f7da316",
   "metadata": {},
   "outputs": [],
   "source": [
    "PP7b = scalar_product(P1, P5)*(scalar_product(P2, PP6)*scalar_product(P4, PP6)+\\\n",
    "       scalar_product(P2, P4)*scalar_product(PP6, PP6))*P1+\\\n",
    "       scalar_product(P1, P1)*scalar_product(P2, P4)*scalar_product(P5, PP6)*PP6\n",
    "\n",
    "\n",
    "\n",
    "PP7 = scalar_product(P1, P1)*scalar_product(P1, P5)*P3+scalar_product(P1, P3)*scalar_product(P1, P5)*P1 + scalar_product(P1, P1)*scalar_product(P1, P3)*P5"
   ]
  },
  {
   "cell_type": "markdown",
   "id": "685d1d49-edc1-49aa-960b-808ffb8e548c",
   "metadata": {},
   "source": [
    "PP7 and PP7b are the same point:"
   ]
  },
  {
   "cell_type": "code",
   "execution_count": 54,
   "id": "9cb17815-b5fc-4b7f-b80e-b5b510f6484f",
   "metadata": {},
   "outputs": [],
   "source": [
    "assert(matrix([PP7, PP7b]).minors(2) == [0, 0, 0])"
   ]
  },
  {
   "cell_type": "markdown",
   "id": "0fbef86d-d4f7-494c-a5da-1504de32d880",
   "metadata": {},
   "source": [
    "$P_7$ is an eigenpoint:"
   ]
  },
  {
   "cell_type": "code",
   "execution_count": 55,
   "id": "71c19133-77c3-47f6-b8e1-f99a66d61977",
   "metadata": {},
   "outputs": [],
   "source": [
    "assert(S.ideal(list(eig(cbc))).subs(substitution(PP7)) == S.ideal(0))"
   ]
  },
  {
   "cell_type": "code",
   "execution_count": null,
   "id": "102ad372-30c4-4633-bfa8-3e2290a5f557",
   "metadata": {},
   "outputs": [],
   "source": []
  }
 ],
 "metadata": {
  "kernelspec": {
   "display_name": "SageMath 10.0",
   "language": "sage",
   "name": "sagemath"
  },
  "language_info": {
   "codemirror_mode": {
    "name": "ipython",
    "version": 3
   },
   "file_extension": ".py",
   "mimetype": "text/x-python",
   "name": "python",
   "nbconvert_exporter": "python",
   "pygments_lexer": "ipython3",
   "version": "3.10.12"
  }
 },
 "nbformat": 4,
 "nbformat_minor": 5
}
