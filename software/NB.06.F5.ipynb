{
 "cells": [
  {
   "cell_type": "markdown",
   "id": "b6379b07-fe45-4e3c-bdf4-360346eb343e",
   "metadata": {},
   "source": [
    "# Theorem"
   ]
  },
  {
   "cell_type": "markdown",
   "id": "7c8c1202-d5aa-4ce7-a98c-d885d2cef40a",
   "metadata": {},
   "source": [
    "Suppose that $\\Gamma$ is a conic and let $C$ be a cubic such that $\\Gamma \\subseteq \\mathrm{Eig}(C)$. Then we have three possible cases:\n",
    "* $\\Gamma = \\mathcal{Q}_{\\mathrm{iso}}$. This is true if and only if $C = \\ell \\mathcal{Q}_{\\mathrm{iso}}$ where $\\ell$ is any line of the plane;\n",
    "* $\\Gamma$ is bitangent to $\\mathcal{Q}_{\\mathrm{iso}}$ in two distinct points $P_1$ and $P_2$. This is true iff $C = r(\\lambda \\mathcal{Q}_{\\mathrm{iso}} + \\mu r^2)$, where $\\lambda, \\mu \\in \\mathbb{C}$, $r = P_1 \\vee P_2$. In this case $\\Gamma = \\lambda \\mathcal{Q}_{\\mathrm{iso}} + 3 \\mu r^2$;\n",
    "* $\\Gamma$ is iperosculating $\\mathcal{Q}_{\\mathrm{iso}}$ in a point $P$. This is true iff $C = r(\\mathcal{Q}_{\\mathrm{iso}}-r^2)$, where $r$ is the tangent to $\\mathcal{Q}_{\\mathrm{iso}}$ in $P$. In this case $\\Gamma = \\mathcal{Q}_{\\mathrm{iso}}-3r^2$."
   ]
  },
  {
   "cell_type": "code",
   "execution_count": 1,
   "id": "bb01e34b-fb4a-47cd-b9e4-535ac7cb75af",
   "metadata": {},
   "outputs": [],
   "source": [
    "load(\"basic_functions.sage\")"
   ]
  },
  {
   "cell_type": "markdown",
   "id": "94013b6d-e5e3-40ec-a706-50d1b2506155",
   "metadata": {},
   "source": [
    "If `do_long_computations` is `True`, we perform all the computations, \n",
    "if it is `False`, we load the computations done in a previous session."
   ]
  },
  {
   "cell_type": "code",
   "execution_count": 2,
   "id": "871ffa46-8b9a-4906-96bf-3c60c5c06938",
   "metadata": {},
   "outputs": [],
   "source": [
    "do_long_computations = True"
   ]
  },
  {
   "cell_type": "markdown",
   "id": "aa090668-32ff-4016-8411-9b3a6a0d5389",
   "metadata": {},
   "source": [
    "## Four distinct eigenpoints $P_1, \\dotsc, P_4$ on the isotropic conic"
   ]
  },
  {
   "cell_type": "markdown",
   "id": "e9d632c1-1634-4e13-ac29-3067ab6b5709",
   "metadata": {},
   "source": [
    "We assume $P_1 = (1: i: 0)$ and we define the generic point on the isotropic conic, which \n",
    "depends on two parameteres: $l_1$ and $l_2$. We can assume $l_2 \\neq 0$:"
   ]
  },
  {
   "cell_type": "code",
   "execution_count": 3,
   "id": "7f58b226-e51d-48fb-bf6f-10d774322034",
   "metadata": {},
   "outputs": [],
   "source": [
    "P1 = vector(S, (1, ii, 0))\n",
    "Pg = vector(S, ((-ii)*l1^2 + (-ii)*l2^2, l1^2 - l2^2, 2*l1*l2))"
   ]
  },
  {
   "cell_type": "code",
   "execution_count": 4,
   "id": "09b673c1-2ad1-4056-9c2f-1e19e248a8c7",
   "metadata": {},
   "outputs": [],
   "source": [
    "assert(matrix([P1, Pg.subs(l2=0)]).rank() == 1)"
   ]
  },
  {
   "cell_type": "markdown",
   "id": "43d2499b-682f-4a5c-8004-e69658813f06",
   "metadata": {},
   "source": [
    "Now we define three points on the isotropic conic and the matrix of conditions of the four eigenpoints"
   ]
  },
  {
   "cell_type": "code",
   "execution_count": 5,
   "id": "b58a7c13-5d15-4aa1-b014-d03726f392fd",
   "metadata": {},
   "outputs": [],
   "source": [
    "P2 = Pg.subs({l1:u1, l2:1})\n",
    "P3 = Pg.subs({l1:v1, l2:1})\n",
    "P4 = Pg.subs({l1:w1, l2:1})\n",
    "\n",
    "M = condition_matrix([P1, P2, P3, P4], S, standard=\"all\")"
   ]
  },
  {
   "cell_type": "markdown",
   "id": "d1c7fda6-b6cd-4079-a1bb-8e6146a606d4",
   "metadata": {},
   "source": [
    "### First, we assume that none of the four points is $(1: -i: 0)$."
   ]
  },
  {
   "cell_type": "markdown",
   "id": "8206f3df-abac-4bd8-b0be-b08ddff68ccd",
   "metadata": {},
   "source": [
    "Since the point $(1, -i, 0)$ is NOT one of the \n",
    "points $P_2, P_3, P_4$, we can assume that $u_1, v_1, w_1$ are not zero.\n",
    "The consequence is that the third coordinate of $P_2, P_3, P_4$ is \n",
    "not zero. First we see that if $(1: -i:0)$ is one of the points $P_2, P_3, P_4$ then \n",
    "we have $u_1$ or $v_1$ or $w_1$ zero."
   ]
  },
  {
   "cell_type": "code",
   "execution_count": 6,
   "id": "dd5b929d-2206-4314-9b23-c2edb8defbef",
   "metadata": {},
   "outputs": [],
   "source": [
    "assert(S.ideal(matrix([(1, -ii, 0), P2]).minors(2)).groebner_basis()==[u1])\n",
    "assert(S.ideal(matrix([(1, -ii, 0), P3]).minors(2)).groebner_basis()==[v1])\n",
    "assert(S.ideal(matrix([(1, -ii, 0), P4]).minors(2)).groebner_basis()==[w1])\n",
    "\n",
    "assert(P2[2] == 2*u1)\n",
    "assert(P3[2] == 2*v1)\n",
    "assert(P4[2] == 2*w1)"
   ]
  },
  {
   "cell_type": "markdown",
   "id": "ac41a143-51c1-4239-aa85-b4c2b3befab7",
   "metadata": {},
   "source": [
    "Since \n",
    "$$\n",
    "P_{2, z} M_{(4)} - P_{2, y} M_{(5)} + P_{2, x} M_{(6)}=0\n",
    "$$\n",
    "$$\n",
    "P_{3, z} M_{(7)} - P_{3, y} M_{(8)} + P_{3, x} M_{(9)}]=0\n",
    "$$\n",
    "$$\n",
    "P_{4, z} M_{(10)} - P_{4, y} M_{(11)} + P_{4, x} M_{(12)}=0\n",
    "$$\n",
    "the rows $M_{(4)}, M_{(7)}, M_{(10)}$ are unnecessary in our hypothesis;\n",
    "similarly, the row $M_{(2)}$ is also unnecessary. We construct the matrix $M_1$ eraising the rows $2, 3, 6, 9$ from $M$:"
   ]
  },
  {
   "cell_type": "code",
   "execution_count": 7,
   "id": "cd861658-cb32-42e1-b00b-ea87cb260a9a",
   "metadata": {},
   "outputs": [],
   "source": [
    "M1 = M.matrix_from_rows([0, 1, 4, 5, 7, 8, 10, 11]) "
   ]
  },
  {
   "cell_type": "markdown",
   "id": "5699628b-6b83-4c41-974b-4c3c4a3004f2",
   "metadata": {},
   "source": [
    "$M_1$ has always rank $7$:\n",
    "it cannot have rank $8$, since all the order $8$ minors are zero:"
   ]
  },
  {
   "cell_type": "code",
   "execution_count": 8,
   "id": "368dc001-182e-480d-b3a0-86ac304fba87",
   "metadata": {},
   "outputs": [],
   "source": [
    "assert(Set(M1.minors(8)) == Set([S.zero()]))"
   ]
  },
  {
   "cell_type": "markdown",
   "id": "7849c535-69f9-439e-a6d2-b41c72eecc47",
   "metadata": {},
   "source": [
    "If we impose that all the 7-minors of $M_1$ are zero, we get \n",
    "that (if the points $P_1, P_2, P_3, P_4$ are distinct) there are no\n",
    "solutions:"
   ]
  },
  {
   "cell_type": "code",
   "execution_count": 9,
   "id": "1aafa569-2ee0-42d5-bedf-79335333c25a",
   "metadata": {},
   "outputs": [],
   "source": [
    "mm7 = S.ideal(M1.minors(7))\n",
    "mm7 = mm7.saturation(S.ideal(u1*v1*w1))[0]\n",
    "mm7 = mm7.saturation(S.ideal((u1-v1)*(u1-w1)*(v1-w1)))[0]\n",
    "assert(mm7 == S.ideal(S(1)))"
   ]
  },
  {
   "cell_type": "markdown",
   "id": "8a0cd123-fbdf-43ce-a50b-9f40b4f7ec77",
   "metadata": {},
   "source": [
    "All the cubics of the form $\\ell*\\mathcal{Q}_{\\mathrm{iso}}$ have $\\mathcal{Q}_{\\mathrm{iso}}$ in the eigenscheme:"
   ]
  },
  {
   "cell_type": "code",
   "execution_count": 10,
   "id": "98d6f554-f720-45a3-8851-6cae4252a508",
   "metadata": {},
   "outputs": [],
   "source": [
    "assert(gcd(eig((x*u2+y*v2+z*w2)*Ciso)).quo_rem(Ciso)[1]== 0)"
   ]
  },
  {
   "cell_type": "markdown",
   "id": "cb299afb-d0cc-4164-b455-0be9bb5102a9",
   "metadata": {},
   "source": [
    "Conclusion 1: If four distinc points of $\\mathcal{Q}_{\\mathrm{iso}}$ are eigenpoints of \n",
    "a cubic (and if one of the points is not $(1, -i, 0)$), then the cubic \n",
    "splits into $\\mathcal{Q}_{\\mathrm{iso}}$ and a line."
   ]
  },
  {
   "cell_type": "markdown",
   "id": "35151847-d6fa-4987-b5b8-34be429e66a9",
   "metadata": {},
   "source": [
    "_Proof_: The matrix $M_1$ has always rank $7$, hence all the cubics \n",
    "with $P_1$, $P_2$, $P_3$, $P_4$ as eigenpoints are a linear variety in $\\mathbb{P}^9$ of \n",
    "dimension $2$.\n",
    "However, this family contains all the cubics which split \n",
    "into $\\mathcal{Q}_{\\mathrm{iso}}$ and a line of the plane, which is of dimension $2$, hence\n",
    "the two families coincide."
   ]
  },
  {
   "cell_type": "markdown",
   "id": "6c8ad524-fd0d-49d2-9184-0ef862eb8af7",
   "metadata": {},
   "source": [
    "### Now we assume that $P_2$ is $(1: -i, 0)$"
   ]
  },
  {
   "cell_type": "code",
   "execution_count": 11,
   "id": "8fcd76c6-de51-4954-b701-6688d2f67f8a",
   "metadata": {},
   "outputs": [],
   "source": [
    "P2 = vector(S, (1, -ii, 0))\n",
    "P3 = Pg.subs({l1:v1, l2:1})\n",
    "P4 = Pg.subs({l1:w1, l2:1})\n",
    "\n",
    "M = condition_matrix([P1, P2, P3, P4], S, standard=\"all\")"
   ]
  },
  {
   "cell_type": "markdown",
   "id": "b0e17279-2498-4542-915f-c499b55e907b",
   "metadata": {},
   "source": [
    "As above, we have that $M_{(3)}$, $M_{(6)}$, $M_{(7)}$, $M_{(10)}$ are unnecessary\n",
    "so we erase these rows from $M$:"
   ]
  },
  {
   "cell_type": "code",
   "execution_count": 12,
   "id": "54e3c3fc-d674-4f59-8615-31ef254f021b",
   "metadata": {},
   "outputs": [],
   "source": [
    "M1 = M.matrix_from_rows([0, 1, 3, 4, 7, 8, 10, 11]) "
   ]
  },
  {
   "cell_type": "markdown",
   "id": "34f60278-62a8-45de-9f73-0948a955417e",
   "metadata": {},
   "source": [
    "$M_1$ has rank $7$. It cannot have rank $8$:"
   ]
  },
  {
   "cell_type": "code",
   "execution_count": 13,
   "id": "7882fed6-8f4d-4db7-8312-c0197b7eb128",
   "metadata": {},
   "outputs": [],
   "source": [
    "assert(Set(M1.minors(8)) == Set([S.zero()]))"
   ]
  },
  {
   "cell_type": "code",
   "execution_count": 14,
   "id": "414feb76-d864-4460-9eac-5a50bea79885",
   "metadata": {},
   "outputs": [],
   "source": [
    "mm7 = S.ideal(M1.minors(7))\n",
    "mm7 = mm7.saturation(S.ideal(v1*w1))[0]\n",
    "mm7 = mm7.saturation(S.ideal((v1-w1)))[0]\n",
    "assert(mm7 == S.ideal(S.one()))"
   ]
  },
  {
   "cell_type": "markdown",
   "id": "40990d7c-84f6-45f8-b8e1-8afcba5e5ac7",
   "metadata": {},
   "source": [
    "Conclusion 2: Also in case one of the point $(1, -i, 0)$ we \n",
    "obtain the same conclusion: if four eigenpoints of a cubic are on $\\mathcal{Q}_{\\mathrm{iso}}$, then $\\mathcal{Q}_{\\mathrm{iso}}$ is contained in the eigenscheme of the cubic."
   ]
  },
  {
   "cell_type": "markdown",
   "id": "f9ecf8c3-ea47-4b6f-a43e-eff0b6bc6655",
   "metadata": {},
   "source": [
    "## Case $\\Gamma$ tangent to $\\mathcal{Q}_{\\mathrm{iso}}$ in $P_1$ and passing through $P_2$ and $P_3$"
   ]
  },
  {
   "cell_type": "markdown",
   "id": "ab4eb5f1-bc17-40fd-a64d-39c0e3f41abc",
   "metadata": {},
   "source": [
    "We redefine $P_1=(1:i:0)$, here we define the generic point $P_g$ on $\\mathcal{Q}_{\\mathrm{iso}}$ and two\n",
    "points $P_2$ and $P_3$ on $\\mathcal{Q}_{\\mathrm{iso}}$:"
   ]
  },
  {
   "cell_type": "code",
   "execution_count": 15,
   "id": "26afc427-4d6b-4919-b290-0fd869ed274e",
   "metadata": {},
   "outputs": [],
   "source": [
    "P1 = vector(S, (1, ii, 0))\n",
    "Pg = vector(S, ((-ii)*l1^2 + (-ii)*l2^2, l1^2 - l2^2, 2*l1*l2))\n",
    "assert(matrix([P1, Pg.subs(l2=0)]).rank() == 1)\n",
    "\n",
    "P2 = Pg.subs({l1:u1, l2:1})\n",
    "P3 = Pg.subs({l1:v1, l2:1})"
   ]
  },
  {
   "cell_type": "markdown",
   "id": "b1d4b6a1-368d-4fdb-bf88-2071c6737e44",
   "metadata": {},
   "source": [
    "Also here we consider two cases: \n",
    "* $(1: -i: 0)$ is not one of the points $P_2$, $P_3$;\n",
    "* $P_3=(1:-i:0)$."
   ]
  },
  {
   "cell_type": "markdown",
   "id": "448bba60-5316-434f-806d-fa7698184fbd",
   "metadata": {},
   "source": [
    "### Case $P_2$ and $P_3$ not $(1: -i: 0)$."
   ]
  },
  {
   "cell_type": "markdown",
   "id": "9000aeff-9594-447e-8c78-c37da41844ba",
   "metadata": {},
   "source": [
    "Hence, as above, we can assume that $u_1$ and $v_1$ are not zero."
   ]
  },
  {
   "cell_type": "markdown",
   "id": "2b5d6023-f5d9-46e2-9fd3-d214b5803864",
   "metadata": {},
   "source": [
    "We compute the pencil of conics $C_g$ passing through $P_1, P_2, P_3$ and\n",
    "tangent to $\\mathcal{Q}_{\\mathrm{iso}}$ in $P_1$:\n",
    "\n",
    "$c_2$ is the conic given by the two lines $P_1 \\vee P_2$ and $P_1 \\vee P_3$"
   ]
  },
  {
   "cell_type": "code",
   "execution_count": 16,
   "id": "36add695-d7e6-4073-95d0-1ebf143b2363",
   "metadata": {},
   "outputs": [],
   "source": [
    "c2 = matrix([P1, P2, [x, y, z]]).det()*matrix([P1, P3, [x, y, z]]).det()\n",
    "Cg = Ciso+l1*c2"
   ]
  },
  {
   "cell_type": "markdown",
   "id": "8a31c0d3-faf6-4b21-aeb7-e190ff490354",
   "metadata": {},
   "source": [
    "Now we construct a generic point (different from $P_1$) on $C_g$, \n",
    "depending on the parameter $w_1$ ($P_{gn}$ is the generic point on $C_g$)"
   ]
  },
  {
   "cell_type": "code",
   "execution_count": 17,
   "id": "2ad7eaf8-f43a-4e2b-a3e9-ba99f1deb79d",
   "metadata": {},
   "outputs": [],
   "source": [
    "foo = Cg.subs(y=ii*x+w1*z).factor()[-1][0]\n",
    "\n",
    "Pgn = vector(\n",
    "    S, \n",
    "    (\n",
    "        foo.coefficient(z), \n",
    "        ii*(foo.coefficient(z)) + w1*(-foo.coefficient(x)),\n",
    "        -foo.coefficient(x)\n",
    "    )\n",
    ")\n",
    "\n",
    "## Pg is the following:\n",
    "assert(\n",
    "    Pgn == \n",
    "    vector(\n",
    "        S, \n",
    "        (\n",
    "            u1*v1*w1^2*l1 + u1*w1*l1 + v1*w1*l1 + 1/4*w1^2 + l1 + 1/4,\n",
    "            ii*u1*v1*w1^2*l1 + ii*u1*w1*l1 + ii*v1*w1*l1 + (-1/4*ii)*w1^2 + ii*l1 + (1/4*ii),\n",
    "            (-1/2*ii)*w1\n",
    "        )\n",
    "    )\n",
    ")\n",
    "\n",
    "Pg1, Pg2 = Pgn.subs({w1:w1}), Pgn.subs({w1:w2})"
   ]
  },
  {
   "cell_type": "markdown",
   "id": "1fc484f0-db31-43f7-88b1-a056f393c478",
   "metadata": {},
   "source": [
    "$Pg_1$, $Pg_2$ are two points on $C_g$.\n",
    "We can assume $l_1$, $u_1$, $v_1$, $w_1$, $w_2$, $(w_1-w_2)$, $(u_1-v_1)$,\n",
    "$(v_1 w_2+1)$, $(u_1 w_2+1)$, $(v_1 w_1+1)$, $(u_1 w_1+1)$\n",
    "all different from 0. \n",
    "\n",
    "Indeed, $l_1 = 0$ gives $C_g = \\mathcal{Q}_{\\mathrm{iso}}$ (condition already considered above)\n",
    "$u_1 = 0$ or $v_1 = 0$ gives that $P_2$ or $P_3$ is the point $(1, -i, 0)$, and we \n",
    "are in case $1$, so this is not possible; \n",
    "\n",
    "$w_1 = 0$ gives $Pg_1 = P_1$:\n",
    "\n",
    "$w_2 = 0$ gives $Pg_2 = P1$:\n",
    "\n",
    "$w_1-w_2 = 0$ gives $Pg_1 = Pg_2$\n",
    "\n",
    "$u_1-v_1 = 0$ gives $P_2 = P_3$\n",
    "\n",
    "$v_1 w_2+1 = 0$ gives $P_3 = Pg_2$:"
   ]
  },
  {
   "cell_type": "code",
   "execution_count": 18,
   "id": "2f01d473-da8b-44e8-b4af-81cc3670407e",
   "metadata": {},
   "outputs": [],
   "source": [
    "assert(Set(matrix([Pg1.subs(w1=0), P1]).minors(2)) == Set([S(0)]))\n",
    "assert(Set(matrix([Pg2.subs(w2=0), P1]).minors(2)) == Set([S(0)]))\n",
    "assert(\n",
    "    S.ideal(\n",
    "        matrix([P3, Pg2]).minors(2)\n",
    "    ).saturation(w2)[0] == S.ideal(v1*w2+1)\n",
    ")"
   ]
  },
  {
   "cell_type": "markdown",
   "id": "11d10f01-67b5-40a8-88cc-79e5f26ad9b1",
   "metadata": {},
   "source": [
    "Similarly, $(u_1 w_2+1)$, $(v_1 w_1+1)$, $(u_1 w_1+1)$ give, respectively:\n",
    "$P_2 = Pg_2$, $P_3 = Pg_1$, $P_2 = Pg_1$. Hence we define a polynomial `degenerate_cases`,\n",
    "which contains all these degenerate cases and we can saturate our \n",
    "computations w.r.t. this polynomial. So we construct the polynomial of \n",
    "degenerate cases, in order to compute saturations."
   ]
  },
  {
   "cell_type": "code",
   "execution_count": 19,
   "id": "70e8fdd5-46d1-43fa-bcce-4f1d5882616f",
   "metadata": {},
   "outputs": [],
   "source": [
    "degenerate_cases = l1*v1*u1*w1*w2*(w1-w2)*(u1-v1)*(v1*w2+1)*(u1*w2+1)*(v1*w1+1)*(u1*w1+1)"
   ]
  },
  {
   "cell_type": "markdown",
   "id": "7c3d1d12-290a-41bd-a9c0-30d74c01d330",
   "metadata": {},
   "source": [
    "The points $P_1$, $P_2$, $P_3$, $Pg_1$, $Pg_2$ are $5$ points on the conic $C_g$.\n",
    "If they are eigenpoints, the following matrix must have rank 9 or less:"
   ]
  },
  {
   "cell_type": "code",
   "execution_count": 20,
   "id": "43802cbe-4fa2-4bd8-ae47-7b8fb456fc2e",
   "metadata": {},
   "outputs": [],
   "source": [
    "M = condition_matrix([P1, P2, P3, Pg1, Pg2], S, standard=\"all\")"
   ]
  },
  {
   "cell_type": "markdown",
   "id": "0794c43c-e674-4baa-a2c1-d0c3d3ee50bd",
   "metadata": {},
   "source": [
    "We have $P_{1, z} M_{(1)} - P_{1, y} M_{(2)} + P_{1, x} M_{(3)} = 0$ and $P_{1, x} = 1$\n",
    "so $M_{(3)}$ is linearly dependent on $M_{(1)}$ and $M_{(2)}$, and can be omitted."
   ]
  },
  {
   "cell_type": "code",
   "execution_count": 21,
   "id": "883f34f2-a20b-491d-a0c0-ed8dff53da1b",
   "metadata": {},
   "outputs": [],
   "source": [
    "assert(P1[2]*M[0]-P1[1]*M[1]+P1[0]*M[2] == 0)\n",
    "assert(P1[0] == 1)"
   ]
  },
  {
   "cell_type": "markdown",
   "id": "81bbcdaa-0bae-4376-a907-4d3484744771",
   "metadata": {},
   "source": [
    "We have $P_{2, z} M_{(4)} - P_{2, y} M_{(4)} + P_{2, x} M_{(6)} = 0$ $P_{2, z} = 2 u_1$\n",
    "which, under our hypothesis, is always not zero, so $M_{(4)}$ can be omitted."
   ]
  },
  {
   "cell_type": "code",
   "execution_count": 22,
   "id": "3f3adcf8-2db2-4ace-ab57-d6409d4e0981",
   "metadata": {},
   "outputs": [],
   "source": [
    "assert(P2[2]*M[3]-P2[1]*M[4]+P2[0]*M[5] == 0)\n",
    "assert(P2[2] == 2*u1)"
   ]
  },
  {
   "cell_type": "markdown",
   "id": "d0e1b8f2-fe91-4f02-a0c3-42888f76b4ec",
   "metadata": {},
   "source": [
    "In a similar way, $M_{(7)}$, $M_{(10)}$, $M_{(13)}$, $_{(16)}$ can be omitted.\n",
    "Hence we construct the square matrix of order $10$:"
   ]
  },
  {
   "cell_type": "code",
   "execution_count": 23,
   "id": "bb9505ca-2edb-45f3-8284-5538ce9f97a0",
   "metadata": {},
   "outputs": [],
   "source": [
    "MM1 = M.matrix_from_rows([0, 1, 4, 5, 7, 8, 10, 11, 13, 14])"
   ]
  },
  {
   "cell_type": "markdown",
   "id": "0843a16e-96da-4e46-bda8-8f0443981094",
   "metadata": {},
   "source": [
    "The first row of MM1 is $(-3i, 3, 3i, -3, 0, 0, 0, 0, 0, 0)$.\n",
    "The second row is $(0, 0, 0, 0, 1, i, -1, 0, 0, 0)$"
   ]
  },
  {
   "cell_type": "code",
   "execution_count": 24,
   "id": "57cb6cf7-81d9-4c61-843f-e56413d83290",
   "metadata": {},
   "outputs": [],
   "source": [
    "assert(MM1[0] == vector(S, ((-3*ii), 3, (3*ii), -3, 0, 0, 0, 0, 0, 0)))\n",
    "assert(MM1[1] == vector(S, (0, 0, 0, 0, 1, ii, -1, 0, 0, 0)))"
   ]
  },
  {
   "cell_type": "markdown",
   "id": "9e4e77a4-d17a-4a53-8a89-42dcfc48af07",
   "metadata": {},
   "source": [
    "So with elementary row operations we can simplify MM1:"
   ]
  },
  {
   "cell_type": "code",
   "execution_count": 25,
   "id": "a44676bc-149c-44f0-b5a9-5ec6be7cdc9d",
   "metadata": {},
   "outputs": [],
   "source": [
    "MM1.rescale_row(0, 1/3*ii)\n",
    "for i in range(2, 10):\n",
    "    MM1.add_multiple_of_row(i, 0, -MM1[i][0])\n",
    "\n",
    "for i in range(2, 10):\n",
    "    MM1.add_multiple_of_row(i, 1, -MM1[i][4])"
   ]
  },
  {
   "cell_type": "markdown",
   "id": "5ff58bcd-3610-42a8-b4ad-72b836c11576",
   "metadata": {},
   "source": [
    "Now the 0-th column of MM1 is $(1, 0, \\dotsc , 0)$\n",
    "\n",
    "and the 4-th column of MM1 is $(0, 1, 0, \\dotsc, 0)$"
   ]
  },
  {
   "cell_type": "code",
   "execution_count": 26,
   "id": "434780e8-e894-4c5b-8a35-e933318d9bf4",
   "metadata": {},
   "outputs": [],
   "source": [
    "assert([MM1[i, 0] for i in range(10)] == [1, 0, 0, 0, 0, 0, 0, 0, 0, 0])\n",
    "assert([MM1[i, 4] for i in range(10)] == [0, 1, 0, 0, 0, 0, 0, 0, 0, 0])"
   ]
  },
  {
   "cell_type": "markdown",
   "id": "5c6dd9fd-bfc1-4716-b610-114e868ef39b",
   "metadata": {},
   "source": [
    "We extract from MM1 an order 8 square matrix, \n",
    "extracting the last 8 rows and the columns of position\n",
    "1, 2, 3, 5, 6, 7, 8, 9. \n",
    "\n",
    "We get a new matrix MM1.\n",
    "\n",
    "\n",
    "This new matrix MM1 has rank $n$ iff the original MM1 has rank $n+2$\n",
    "(iff M has rank $n+2$)\n",
    "In particular, we want to see if MM1 can have rank $\\leq 6$."
   ]
  },
  {
   "cell_type": "code",
   "execution_count": 27,
   "id": "f52fb169-3d1d-4099-ac6a-25f80639315e",
   "metadata": {},
   "outputs": [],
   "source": [
    "MM1 = MM1.matrix_from_rows_and_columns(\n",
    "    [2, 3, 4, 5, 6, 7, 8, 9],\n",
    "    [1, 2, 3, 5, 6, 7, 8, 9]\n",
    ")"
   ]
  },
  {
   "cell_type": "code",
   "execution_count": 28,
   "id": "104ae64b-52c5-4778-8c80-3565b1b6f3c2",
   "metadata": {},
   "outputs": [
    {
     "name": "stdout",
     "output_type": "stream",
     "text": [
      "Computation of the 64 order 7 minors:\n",
      "time: 295.01199800000006\n"
     ]
    }
   ],
   "source": [
    "if do_long_computations:\n",
    "   ttA = cputime()\n",
    "   mm1_7 = MM1.minors(7)\n",
    "   print(\"Computation of the 64 order 7 minors:\")\n",
    "   print(\"time: \"+str(cputime()-ttA))\n",
    "   save(mm1_7, \"NB.06.F5-mm1_7.sobj\")\n",
    "else:\n",
    "   mm1_7 = load(\"NB.06.F5-mm1_7.sobj\")"
   ]
  },
  {
   "cell_type": "code",
   "execution_count": 29,
   "id": "ddd3c0d0-b501-4a52-ad2a-6fa4d7bf301e",
   "metadata": {},
   "outputs": [],
   "source": [
    "J7 = S.ideal(mm1_7)\n",
    "J7 = J7.saturation(degenerate_cases)[0]"
   ]
  },
  {
   "cell_type": "markdown",
   "id": "f29416a2-102b-4b97-8caf-c2d1d7de2344",
   "metadata": {},
   "source": [
    "The above ideal is $(1)$, so it is not possible to have that the \n",
    "matrix MM1 has rank $\\leq 6$ (hence it is not possible that $M$ has rank $\\leq 8$)"
   ]
  },
  {
   "cell_type": "code",
   "execution_count": 30,
   "id": "bff4ff31-c190-4a97-bd12-8b71037aa576",
   "metadata": {},
   "outputs": [],
   "source": [
    "assert(J7 == S.ideal(S(1)))"
   ]
  },
  {
   "cell_type": "markdown",
   "id": "02a7d955-2cb5-4807-8a66-eedf3f8e0024",
   "metadata": {},
   "source": [
    "In order to have $P_1$, $P_2$, $Pg_1$, $Pg_2$, $Pg_3$ eigenpoints, \n",
    "M must have zero determinant. But $\\det(M) = \\det(MM1)$. So we compute \n",
    "$\\det(MM1)$ and we saturate it w.r.t. `degenerate_cases`."
   ]
  },
  {
   "cell_type": "code",
   "execution_count": 32,
   "id": "9bb8f00f-514b-429c-a6cc-bc4dde0c3ce0",
   "metadata": {},
   "outputs": [
    {
     "name": "stdout",
     "output_type": "stream",
     "text": [
      "0.020036000000004606\n"
     ]
    }
   ],
   "source": [
    "if do_long_computations:\n",
    "   ttA = cputime()\n",
    "   ddt = MM1.det()\n",
    "   ddt = S.ideal(ddt).saturation(degenerate_cases)[0].gens()[0]\n",
    "   print(cputime()-ttA)\n",
    "   sleep(1)\n",
    "else:\n",
    "   ddt = (16) * (l1 + 1/4)^2 * (u1*w1*w2 + v1*w1*w2 + w1 + w2)\n",
    "\n",
    "assert(ddt == (16) * (l1 + 1/4)^2 * (u1*w1*w2 + v1*w1*w2 + w1 + w2))"
   ]
  },
  {
   "cell_type": "markdown",
   "id": "c34b1f76-9267-4e2b-b849-68fcca313ac8",
   "metadata": {},
   "source": [
    "Hence we have two possibilities: \n",
    "* $l_1 + 1/4 = 0$, or\n",
    "* $u_1 w_1 w_2 + v_1 w_1 w_2 + w_1 + w_2 = 0$."
   ]
  },
  {
   "cell_type": "markdown",
   "id": "98c3b806-1cdb-4ee2-aba5-819444d8c3c6",
   "metadata": {},
   "source": [
    "This second condition must be satisfied for every point $Pg_2$ of \n",
    "the conic $C_g$, i.e. for every $w_2$, therefore this condition is \n",
    "impossible. "
   ]
  },
  {
   "cell_type": "markdown",
   "id": "643ec903-ae96-46ed-96e4-253b1d0cb659",
   "metadata": {},
   "source": [
    "Hence the only possible case is $l_1 = -1/4$.\n",
    "In this case $C_g$ splits into two lines:\n",
    "* the line $x + i y$\n",
    "* the line $x u_1 v_1 + i y u_1 v_1 + i z u_1 + i z v_1 + x - i y$\n",
    "\n",
    "The first line is the tangent line to $\\mathcal{Q}_{\\mathrm{iso}}$ in the point $P_1$ and the second line is the line passing through the points $P_2$ and $P_3$:"
   ]
  },
  {
   "cell_type": "code",
   "execution_count": 33,
   "id": "14af0d5c-eeda-4fd9-bd58-a0d4966f2e25",
   "metadata": {},
   "outputs": [],
   "source": [
    "assert(S.ideal(Ciso, x+ii*y).groebner_basis() == [z^2, x + ii*y])\n",
    "\n",
    "assert(\n",
    "    Cg.subs(l1=-1/4) ==\n",
    "    (x+ii*y)*S(matrix([P2, P3, (x, y, z)]).det()/(2*(u1-v1)))\n",
    ")"
   ]
  },
  {
   "cell_type": "markdown",
   "id": "3530063b-25de-4920-86e4-74a511569479",
   "metadata": {},
   "source": [
    "The matrix `M.matrix_from_rows([0, 1, 4, 5, 7, 8, 10, 11, 13, 14])`\n",
    "i.e., the original matrix extracted from $M$, with the condition \n",
    "$l_1=-1/4$ has rank $9$:"
   ]
  },
  {
   "cell_type": "code",
   "execution_count": 34,
   "id": "be041b01-2178-4110-b1b3-1572de7976a3",
   "metadata": {},
   "outputs": [],
   "source": [
    "MM2 = M.matrix_from_rows([0, 1, 4, 5, 7, 8, 10, 11, 13, 14]).subs(l1 = -1/4)\n",
    "assert(MM2.rank() == 9)"
   ]
  },
  {
   "cell_type": "markdown",
   "id": "de6f2b51-3ab0-4347-80ff-879be4796c01",
   "metadata": {},
   "source": [
    "and the last row of MM2 is linearly dependent w.r.t. the other \n",
    "rows of MM2. Indeed, the rank of MM2 without the last row is \n",
    "still 9:"
   ]
  },
  {
   "cell_type": "code",
   "execution_count": 35,
   "id": "e3c0d0f9-7f09-4657-a14a-beaa593f2637",
   "metadata": {},
   "outputs": [],
   "source": [
    "MM3 = MM2.matrix_from_rows([0, 1, 2, 3, 4, 5, 6, 7, 8])\n",
    "assert(MM3.rank() == 9)"
   ]
  },
  {
   "cell_type": "markdown",
   "id": "12516cc2-f1d5-45ef-8cf5-cfc60cc4b9d5",
   "metadata": {},
   "source": [
    "hence the cubic corresponding to the matrix MM2 is:"
   ]
  },
  {
   "cell_type": "code",
   "execution_count": 39,
   "id": "ea7eddf9-23e8-44c3-b53d-bd9bfd649ca3",
   "metadata": {},
   "outputs": [
    {
     "name": "stdout",
     "output_type": "stream",
     "text": [
      "40.211033999999984 seconds of computation\n",
      "10.736583999999937 seconds of computation\n"
     ]
    }
   ],
   "source": [
    "if do_long_computations:\n",
    "    ttA = cputime()\n",
    "    cbb = det(MM3.stack(matrix([mon])))\n",
    "    print(str(cputime()-ttA) + \" seconds of computation\")\n",
    "    sleep(1)\n",
    "    ttA = cputime()\n",
    "    sleep(1)\n",
    "    cbb = S.ideal(cbb).saturation(degenerate_cases)[0].gens()[0]\n",
    "    print(str(cputime()-ttA) + \" seconds of computation\")\n",
    "else:\n",
    "    cbb = (x + ii*y) * (u1*v1 - 1) * (x*u1*v1 + ii*y*u1*v1 + ii*z*u1 + ii*z*v1 + x + (-ii)*y)^2\n",
    "\n",
    "assert(cbb == (x + ii*y) * (u1*v1 - 1) * (x*u1*v1 + ii*y*u1*v1 + ii*z*u1 + ii*z*v1 + x + (-ii)*y)^2)"
   ]
  },
  {
   "cell_type": "markdown",
   "id": "885329d3-7ea0-4040-ae8c-f3e2a80d54b6",
   "metadata": {},
   "source": [
    "`cbb` is the cubic obtained from the matrix MM3, hence is the unique cubic that has \n",
    "$P_1, P_2, P_3$, $Pg_1$, $Pg_2$ as eigenpoints\n",
    "and `cbb` splits into the line $(P_1 \\vee P_2)^2$ and the tangent to \n",
    "$\\mathcal{Q}_{\\mathrm{iso}}$ in the point $P_1$. The eigenpoints are the line $P_1 \\vee P_2$ plus \n",
    "other points and is not a conic.\n",
    "\n",
    "This conclude the case $\\Gamma$ tangent to $\\mathcal{Q}_{\\mathrm{iso}}$ in one point in case $P_2$ and $P_3$ are different from the point $(1: -i: 0)$."
   ]
  },
  {
   "cell_type": "markdown",
   "id": "efe793af-5892-42d5-971e-229b9b4149ef",
   "metadata": {},
   "source": [
    "### Case $P_3 = (1: -i: 0)$"
   ]
  },
  {
   "cell_type": "code",
   "execution_count": 40,
   "id": "d95b065f-8686-492a-8a6b-8241efe4cd36",
   "metadata": {},
   "outputs": [],
   "source": [
    "P3 = ii*P3.subs(v1=0)\n",
    "assert(P3 == vector(S, (1, -ii, 0)))"
   ]
  },
  {
   "cell_type": "markdown",
   "id": "900cb6d0-0460-4376-a9f2-874bcad7ccd1",
   "metadata": {},
   "source": [
    "We construct the conic given by two lines $P_1 \\vee P_2$ and $P_1 \\vee P_3$\n",
    "and the generic conic tangent to $\\mathcal{Q}_{\\mathrm{iso}}$ in $P_1$ and passing through $P_2$ and $P_3$\n",
    "(it depends on the parameter $l_1$):"
   ]
  },
  {
   "cell_type": "code",
   "execution_count": 41,
   "id": "501ba6c1-d76f-452c-ac36-b6411a49d993",
   "metadata": {},
   "outputs": [],
   "source": [
    "c2 = matrix([P1, P2, [x, y, z]]).det()*matrix([P1, P3, [x, y, z]]).det()\n",
    "\n",
    "Cg = Ciso+l1*c2"
   ]
  },
  {
   "cell_type": "markdown",
   "id": "5ba61708-bd98-4c1f-a4a1-50a4a10cc3d8",
   "metadata": {},
   "source": [
    "Construction of a generic point (different from $(1, i, 0)$) on $C_g$ and\n",
    "generic point of $C_g$ (depends on the parameter $w_1$) and construction of \n",
    "$Pg_1$ and $Pg_2$ (two points on $C_g$)"
   ]
  },
  {
   "cell_type": "code",
   "execution_count": 42,
   "id": "04af1c45-ba92-43f7-bc28-bff40455314b",
   "metadata": {},
   "outputs": [],
   "source": [
    "foo = Cg.subs(y=ii*x+w1*z).factor()[-1][0]\n",
    "\n",
    "Pg = vector(\n",
    "    S, \n",
    "    (\n",
    "        foo.coefficient(z),\n",
    "        ii*(foo.coefficient(z)) + w1*(-foo.coefficient(x)),\n",
    "        -foo.coefficient(x)\n",
    "    )\n",
    ")"
   ]
  },
  {
   "cell_type": "code",
   "execution_count": 43,
   "id": "0519b4b0-76b3-4087-9965-ec30fa3f8246",
   "metadata": {},
   "outputs": [],
   "source": [
    "Pg1, Pg2 = Pg.subs({w1:w1}), Pg.subs({w1:w2})"
   ]
  },
  {
   "cell_type": "markdown",
   "id": "54596940-e99e-4194-a793-4556ab1d6837",
   "metadata": {},
   "source": [
    "Matrix of conditions of $P_1$, $P_2$, $P_3$, $Pg_1$, $Pg_2$:"
   ]
  },
  {
   "cell_type": "code",
   "execution_count": 44,
   "id": "093b5fd6-9f62-4778-a539-e19c579070b3",
   "metadata": {},
   "outputs": [],
   "source": [
    "M = condition_matrix([P1, P2, P3, Pg1, Pg2], S, standard=\"all\")"
   ]
  },
  {
   "cell_type": "markdown",
   "id": "42c7e629-10f7-49c6-b7d1-70ec12504a4a",
   "metadata": {},
   "source": [
    "We have P1[2]*M[0]-P1[1]*M[1]+P1[0]*M[2] = 0 and P1[0] = 1\n",
    "so M[2] is lin dep of M[0] and M[1] and can be omitted.\n",
    "\n",
    "We have P2[2]*M[3]-P2[1]*M[4]+P2[0]*M[5] = 0 and P2[2] = 2*u1\n",
    "which, under our hypothesis, is always not zero, \n",
    "so M[3] can be omitted."
   ]
  },
  {
   "cell_type": "code",
   "execution_count": 45,
   "id": "ff4c2d04-b7a6-496e-9ac7-e14acede31c7",
   "metadata": {},
   "outputs": [],
   "source": [
    "assert(P1[2]*M[0]-P1[1]*M[1]+P1[0]*M[2] == 0)\n",
    "assert(P1[0] == 1)\n",
    "assert( P2[2]*M[3]-P2[1]*M[4]+P2[0]*M[5] == 0)\n",
    "assert(P2[2] == 2*u1)"
   ]
  },
  {
   "cell_type": "markdown",
   "id": "88ad777b-7594-4ff1-8465-2e40e37ce0f6",
   "metadata": {},
   "source": [
    "In a similar way, M[9], M[12], M[15] can be omitted.\n",
    "\n",
    "P3[2]*M[6]-P3[1]*M[7]+P3[0]*M[8] = 0 and P3[0] = 1, \n",
    "hence M[8] can be omitted.\n",
    "\n",
    "Hence we construct the square matrix of order 10:"
   ]
  },
  {
   "cell_type": "code",
   "execution_count": 46,
   "id": "36f4c754-c692-437f-8ac5-92c7cdbb7f73",
   "metadata": {},
   "outputs": [],
   "source": [
    "MM1 = M.matrix_from_rows([0, 1, 4, 5, 6, 7, 10, 11, 13, 14])"
   ]
  },
  {
   "cell_type": "markdown",
   "id": "aac087df-72dd-441e-8c5e-6652c644b35d",
   "metadata": {},
   "source": [
    "The first row of MM1 is ((-3*ii), 3, (3*ii), -3, 0, 0, 0, 0, 0, 0)\n",
    "\n",
    "The second row is (0, 0, 0, 0, 1, ii, -1, 0, 0, 0)"
   ]
  },
  {
   "cell_type": "code",
   "execution_count": 47,
   "id": "b17c2e2d-f874-4bde-88be-36fcbcc7dc19",
   "metadata": {},
   "outputs": [],
   "source": [
    "assert(MM1[0] == vector(S, ((-3*ii), 3, (3*ii), -3, 0, 0, 0, 0, 0, 0)))\n",
    "assert(MM1[1] == vector(S, (0, 0, 0, 0, 1, ii, -1, 0, 0, 0)))"
   ]
  },
  {
   "cell_type": "markdown",
   "id": "dba8529f-d054-4fa9-ac4a-b1876fc9626e",
   "metadata": {},
   "source": [
    "so with elementary row operations we can simplify MM1:"
   ]
  },
  {
   "cell_type": "code",
   "execution_count": 48,
   "id": "c4b5792b-7e0f-4a3f-8add-84a9e9a462a0",
   "metadata": {},
   "outputs": [],
   "source": [
    "MM1.rescale_row(0, 1/3*ii)\n",
    "for i in range(2, 10):\n",
    "    MM1.add_multiple_of_row(i, 0, -MM1[i][0])\n",
    "\n",
    "for i in range(2, 10):\n",
    "    MM1.add_multiple_of_row(i, 1, -MM1[i][4])"
   ]
  },
  {
   "cell_type": "markdown",
   "id": "7f633aae-bd8f-4fc7-b80f-f7c56a4c7b1e",
   "metadata": {},
   "source": [
    "Now the 0-th column of MM1 is (1, 0, ..., 0)\n",
    "and the 4-th column of MM1 is (0, 1, 0, ..., 0)"
   ]
  },
  {
   "cell_type": "code",
   "execution_count": 49,
   "id": "4fec6263-9d0a-489b-9857-2387dabbb53d",
   "metadata": {},
   "outputs": [],
   "source": [
    "assert([MM1[i, 0] for i in range(10)] == [1, 0, 0, 0, 0, 0, 0, 0, 0, 0])\n",
    "assert([MM1[i, 4] for i in range(10)] == [0, 1, 0, 0, 0, 0, 0, 0, 0, 0])"
   ]
  },
  {
   "cell_type": "markdown",
   "id": "392145fe-e864-45cc-88fd-ba1e5ce3d27e",
   "metadata": {},
   "source": [
    "We extract from MM1 an order 8 square matrix, \n",
    "extracting the last 8 rows and the columns of position\n",
    "1, 2, 3, 5, 6, 7, 8, 9. "
   ]
  },
  {
   "cell_type": "code",
   "execution_count": 50,
   "id": "136beb6f-f644-4145-b472-5f77eb5adaa0",
   "metadata": {},
   "outputs": [],
   "source": [
    "MM1 = MM1.matrix_from_rows_and_columns(\n",
    "    [2, 3, 4, 5, 6, 7, 8, 9],\n",
    "    [1, 2, 3, 5, 6, 7, 8, 9]\n",
    ")"
   ]
  },
  {
   "cell_type": "markdown",
   "id": "19d7ec2f-ed3a-47b7-97d3-3c5327b57c46",
   "metadata": {},
   "source": [
    "This new matrix MM1 has rank n iff the original MM1 has rank n+2\n",
    "(iff M has rank n+2)\n",
    "In particular, we want to see if MM1 can have rank <= 6."
   ]
  },
  {
   "cell_type": "code",
   "execution_count": 51,
   "id": "d0d2b729-e59a-4306-99d5-7d0e6ff74613",
   "metadata": {},
   "outputs": [
    {
     "name": "stdout",
     "output_type": "stream",
     "text": [
      "Computation of the 64 order 7 minors:\n",
      "time: 14.641388000000006\n"
     ]
    }
   ],
   "source": [
    "if do_long_computations:\n",
    "   ttA = cputime()\n",
    "   mm1_7b = MM1.minors(7)\n",
    "   print(\"Computation of the 64 order 7 minors:\")\n",
    "   sleep(1)\n",
    "   print(\"time: \" + str(cputime()-ttA))\n",
    "   save(mm1_7b, \"NB.06.F5-mm1_7b.sobj\")\n",
    "else:\n",
    "   mm1_7b = load(\"NB.06.F5-mm1_7b.sobj\")"
   ]
  },
  {
   "cell_type": "code",
   "execution_count": 52,
   "id": "d146a750-94de-4590-8130-2b0774878f5d",
   "metadata": {},
   "outputs": [],
   "source": [
    "dgnCs = l1*u1*w1*w2*(w1-w2)*(u1-v1)*(v1*w2+1)*(u1*w2+1)*(v1*w1+1)*(u1*w1+1)"
   ]
  },
  {
   "cell_type": "code",
   "execution_count": 53,
   "id": "719eb496-d055-4b10-bbfe-c7ebef0f9500",
   "metadata": {},
   "outputs": [],
   "source": [
    "J7 = S.ideal(mm1_7b)\n",
    "J7 = J7.saturation(dgnCs)[0]"
   ]
  },
  {
   "cell_type": "markdown",
   "id": "4ea89e73-8dd1-455a-8888-a878d0d078f0",
   "metadata": {},
   "source": [
    "The above ideal is (1), so it is not possible to have that the \n",
    "matrix MM1 has rank <= 6 (hence it is not possible that M has rank <= 8)"
   ]
  },
  {
   "cell_type": "code",
   "execution_count": 54,
   "id": "ca4d9aad-12a4-464b-b622-de57cbb151b7",
   "metadata": {},
   "outputs": [],
   "source": [
    "assert(J7 == S.ideal(S(1)))"
   ]
  },
  {
   "cell_type": "markdown",
   "id": "10cb6a01-73aa-4f7e-adff-8982e68e4155",
   "metadata": {},
   "source": [
    "We want now to compute the determinant of the original MM1 \n",
    "(the order 10 matrix) which is equal to the determiant of the order \n",
    "8 matrix MM1:"
   ]
  },
  {
   "cell_type": "code",
   "execution_count": 55,
   "id": "a4307f22-f5fe-43d6-ab64-8c09062d64f9",
   "metadata": {},
   "outputs": [],
   "source": [
    "dt2 = MM1.det()\n",
    "dt2 = S.ideal(dt2).saturation(dgnCs)[0].gens()[0]"
   ]
  },
  {
   "cell_type": "markdown",
   "id": "245941cd-ad13-462c-9148-3e52c1758ab2",
   "metadata": {},
   "source": [
    "we get that dt2 is:\n",
    "\n",
    "(16) * (l1 + (-1/4*ii))^2 * (u1*w1*w2 + w1 + w2)"
   ]
  },
  {
   "cell_type": "code",
   "execution_count": 56,
   "id": "7c1b6590-3608-4bf4-8a5b-71b9e4ed06f0",
   "metadata": {},
   "outputs": [],
   "source": [
    "assert(dt2 == (16) * (l1 + (-1/4*ii))^2 * (u1*w1*w2 + w1 + w2))"
   ]
  },
  {
   "cell_type": "markdown",
   "id": "8ccbc5a3-f7b8-4315-a78f-1e9d13ad3a25",
   "metadata": {},
   "source": [
    "We have u1*w1*w2+w1+w2 = 0 and, as in the previous case, since w2 is generic, does not \n",
    "give solutions.\n",
    "\n",
    "The case l1 = 1/4*ii\n",
    "In this case Cg splits into the line x+ii*y (tangent line to Cg in P1)\n",
    "and the line P2+P3:"
   ]
  },
  {
   "cell_type": "code",
   "execution_count": 57,
   "id": "bfe4ede2-9c7a-4f5d-88fe-9cc8fd6abc2c",
   "metadata": {},
   "outputs": [],
   "source": [
    "assert(\n",
    "    (-2)*u1*Cg.subs(l1=1/4*ii) \n",
    "    == ii*(x+ii*y)*matrix([P2, P3, (x, y, z)]).det()\n",
    ")"
   ]
  },
  {
   "cell_type": "markdown",
   "id": "06572585-101d-4da4-a914-88db1dd702bb",
   "metadata": {},
   "source": [
    "We consider the substitution of l1=1/4*ii in the original MM,\n",
    "i.e. in MM1 = M.matrix_from_rows([0, 1, 4, 5, 6, 7, 10, 11, 13, 14])"
   ]
  },
  {
   "cell_type": "code",
   "execution_count": 58,
   "id": "aaaea94f-3074-4090-8211-07164384d98f",
   "metadata": {},
   "outputs": [],
   "source": [
    "MM2 = M.matrix_from_rows([0, 1, 4, 5, 6, 7, 10, 11, 13, 14]).subs(l1=1/4*ii)"
   ]
  },
  {
   "cell_type": "markdown",
   "id": "487d16d5-bd15-4f31-b5bd-cc9df7138fd2",
   "metadata": {},
   "source": [
    "Also here the last row of MM2 is unnecessary:"
   ]
  },
  {
   "cell_type": "code",
   "execution_count": 59,
   "id": "5f508cb2-074b-43f2-b968-e58e9b5b5245",
   "metadata": {},
   "outputs": [],
   "source": [
    "assert(MM2.rank() == MM2.matrix_from_rows(range(9)).rank())"
   ]
  },
  {
   "cell_type": "markdown",
   "id": "82d352ec-f063-468a-8b2c-2e50b4db81dc",
   "metadata": {},
   "source": [
    "Hence we compute the cubic:"
   ]
  },
  {
   "cell_type": "code",
   "execution_count": 60,
   "id": "2bd732a9-e800-4000-84f6-4797f6b6ec0d",
   "metadata": {},
   "outputs": [],
   "source": [
    "M3 = (MM2.matrix_from_rows(range(9))).stack(matrix([mon]))\n",
    "cb2 = M3.det()"
   ]
  },
  {
   "cell_type": "markdown",
   "id": "d0e02321-4087-4a47-af36-739220c397e7",
   "metadata": {},
   "source": [
    "The cubic splits into the line tangent to $\\mathcal{Q}_{\\mathrm{iso}}$ in $P_1$ and the \n",
    "reducible conic given by $(P_2 \\vee P_3)^2$"
   ]
  },
  {
   "cell_type": "code",
   "execution_count": 61,
   "id": "2d590469-d47e-4725-a62b-ce519e62aea3",
   "metadata": {},
   "outputs": [],
   "source": [
    "assert(\n",
    "    S.ideal(cb2).saturation(dgnCs)[0].gens()[0] \n",
    "    == (x + ii*y) * (z*u1 + (-ii)*x - y)^2\n",
    ")"
   ]
  },
  {
   "cell_type": "markdown",
   "id": "baf3c3a9-81a7-48dc-82f1-5661f327b1bc",
   "metadata": {},
   "source": [
    "also in this case, we do not get a cubic which has a conic among its \n",
    "eigenpoints.\n",
    "\n",
    "This conclude the case of $\\Gamma$ tangent to $\\mathcal{Q}_{\\mathrm{iso}}$"
   ]
  },
  {
   "cell_type": "markdown",
   "id": "2c296d49-cb4b-41f0-b3d1-bc0c65f2007a",
   "metadata": {},
   "source": [
    "## $\\Gamma$ bitangent to $\\mathcal{Q}_{\\mathrm{iso}}$"
   ]
  },
  {
   "cell_type": "markdown",
   "id": "eecb38ab-51af-481e-b045-e242813e27d0",
   "metadata": {},
   "source": [
    "Now we consider the case in which among the eigenpoints of a cubic, we have a concic $\\Gamma$ which is bitangent to $\\mathcal{Q}_{\\mathrm{iso}}$ in two points $P_1$ and $P_2$. We restart the computations:"
   ]
  },
  {
   "cell_type": "code",
   "execution_count": 62,
   "id": "46beb69a-b998-40c1-bab8-5d624a6b4dca",
   "metadata": {},
   "outputs": [],
   "source": [
    "do_long_computations = True"
   ]
  },
  {
   "cell_type": "markdown",
   "id": "9335bb4f-f808-4b56-9afa-a23bef37e1ff",
   "metadata": {},
   "source": [
    "Construction of a generic point Pg on the isotropic conic:"
   ]
  },
  {
   "cell_type": "code",
   "execution_count": 63,
   "id": "44abaf81-fd5a-4728-b8c2-8b784d2fccc5",
   "metadata": {},
   "outputs": [],
   "source": [
    "P1 = vector(S, (1, ii, 0))\n",
    "rt1 = l1*(y-ii*x)+l2*z\n",
    "\n",
    "rt1.subs({x:P1[0], y:P1[1], z:P1[2]})\n",
    "\n",
    "scndP = S.ideal(Ciso, rt1).radical().primary_decomposition()[1]\n",
    "aux = scndP.gens()[:2]\n",
    "mm2 = matrix(\n",
    "    [\n",
    "        [aux[0].coefficient(x), aux[0].coefficient(y), aux[0].coefficient(z)],\n",
    "        [aux[1].coefficient(x), aux[1].coefficient(y), aux[1].coefficient(z)]\n",
    "    ]\n",
    ").minors(2)"
   ]
  },
  {
   "cell_type": "code",
   "execution_count": 64,
   "id": "ee67d5f3-a95d-4ea8-a5df-56a083e8571c",
   "metadata": {},
   "outputs": [],
   "source": [
    "Pg = vector(S, (mm2[2], -mm2[1], mm2[0]))"
   ]
  },
  {
   "cell_type": "code",
   "execution_count": 65,
   "id": "042142cf-a73a-4dcf-91a7-25388a1e0a22",
   "metadata": {},
   "outputs": [],
   "source": [
    "assert(scndP.subs({x:Pg[0], y:Pg[1], z:Pg[2]}) == S.ideal(S(0)))\n",
    "assert(Ciso.subs({x:Pg[0], y:Pg[1], z:Pg[2]}) == S(0))"
   ]
  },
  {
   "cell_type": "markdown",
   "id": "63da3404-4316-4238-8ac4-2c25a165afa9",
   "metadata": {},
   "source": [
    "We can always assume that l2 != 0, since l2 = 0 gives that \n",
    "Pg = P1"
   ]
  },
  {
   "cell_type": "code",
   "execution_count": 66,
   "id": "e0c4e7fc-c93d-43eb-84f0-6bbd1602fd72",
   "metadata": {},
   "outputs": [],
   "source": [
    "assert(matrix([P1, Pg.subs(l2=0)]).rank() == 1)"
   ]
  },
  {
   "cell_type": "markdown",
   "id": "e820b212-bc12-4c68-be01-d687c6fde487",
   "metadata": {},
   "source": [
    "We construct P2, a generic point on $\\mathcal{Q}_{\\mathrm{iso}}$ (it depends on u1)"
   ]
  },
  {
   "cell_type": "code",
   "execution_count": 67,
   "id": "790d1137-76bb-4bdb-9b49-bf4248428abf",
   "metadata": {},
   "outputs": [],
   "source": [
    "P2 = Pg.subs({l1:u1, l2:1})"
   ]
  },
  {
   "cell_type": "markdown",
   "id": "378e676d-1664-454b-9fe1-3781c64a174f",
   "metadata": {},
   "source": [
    "And now we construct the tangent line to $\\mathcal{Q}_{\\mathrm{iso}}$ in P1, the tangent line to $\\mathcal{Q}_{\\mathrm{iso}}$ in P2, \n",
    "the pencil of conics tangent to $\\mathcal{Q}_{\\mathrm{iso}}$ in P1 and P2 (it depends on l1)"
   ]
  },
  {
   "cell_type": "code",
   "execution_count": 68,
   "id": "f1a9f913-883e-4201-9237-11956611292d",
   "metadata": {},
   "outputs": [],
   "source": [
    "rtg1 = scalar_product(P1, vector((x, y, z))-P1)\n",
    "rtg2 = scalar_product(P2, vector((x, y, z))-P2)*ii\n",
    "\n",
    "Cg = Ciso + l1*rtg1*rtg2"
   ]
  },
  {
   "cell_type": "markdown",
   "id": "939d811c-a2b2-4030-9cda-f296c0664521",
   "metadata": {},
   "source": [
    "If l1 = -1, Cg is the conic given by (P1+P2)^2, so we can assume\n",
    "l1+1 != 0"
   ]
  },
  {
   "cell_type": "code",
   "execution_count": 69,
   "id": "6767eb54-0811-41e8-af55-dbafb677ac2e",
   "metadata": {},
   "outputs": [],
   "source": [
    "assert(4*Cg.subs(l1=-1) == det(matrix([P1, P2, (x, y, z)]))^2)"
   ]
  },
  {
   "cell_type": "markdown",
   "id": "ecebd9f3-98de-40d9-afbb-98ded3aecbdb",
   "metadata": {},
   "source": [
    "construction of a generic point (different from (1, ii, 0)) on Cg:"
   ]
  },
  {
   "cell_type": "code",
   "execution_count": 70,
   "id": "34d98804-f772-4fb9-8d54-c14dba517074",
   "metadata": {},
   "outputs": [],
   "source": [
    "foo = Cg.subs(y=ii*x+w1*z).factor()[-1][0]"
   ]
  },
  {
   "cell_type": "markdown",
   "id": "bd557c30-9a7c-44ba-b243-4830b0cd150f",
   "metadata": {},
   "source": [
    "Generic point of Cg (depends on the parameter w1):"
   ]
  },
  {
   "cell_type": "code",
   "execution_count": 71,
   "id": "b8adbb63-3b09-43dc-8e43-88bda821d13e",
   "metadata": {},
   "outputs": [],
   "source": [
    "Pg2 = vector(\n",
    "    S, \n",
    "    (\n",
    "        foo.coefficient(z),\n",
    "        ii*(foo.coefficient(z)) + w1*(-foo.coefficient(x)),\n",
    "        -foo.coefficient(x)\n",
    "    )\n",
    ")"
   ]
  },
  {
   "cell_type": "markdown",
   "id": "0cafc958-d11b-4977-9a11-74de3d2e2cb5",
   "metadata": {},
   "source": [
    "the last coordinate of Pg2 is ((2*ii)) * (l1 + 1) * w1. \n",
    "If w1 = 0, then Pg2 = P1, hence we can assume w1 != 0."
   ]
  },
  {
   "cell_type": "code",
   "execution_count": 72,
   "id": "bebf5ea1-a1a0-4f30-a6ac-ccc72e8c8c18",
   "metadata": {},
   "outputs": [],
   "source": [
    "assert(matrix([P1, Pg2.subs(w1=0)]).rank() == 1)"
   ]
  },
  {
   "cell_type": "markdown",
   "id": "d0ab301b-99ec-42a0-896c-910d059bf7cb",
   "metadata": {},
   "source": [
    "Now we define three points on Cg:"
   ]
  },
  {
   "cell_type": "code",
   "execution_count": 73,
   "id": "64e84545-5f8d-4adb-b990-54a611547f63",
   "metadata": {},
   "outputs": [],
   "source": [
    "Pa1, Pa2 = Pg2.subs({w1:w1}), Pg2.subs({w1:w2})\n",
    "Pa3 = Pg2.subs({w1:m1})"
   ]
  },
  {
   "cell_type": "markdown",
   "id": "45b926b6-f6f5-4a6e-8f36-dad818634ca6",
   "metadata": {},
   "source": [
    "and we can assume w1, w2, m1 != 0.\n",
    "\n",
    "the following matrix must have rank <= 9:"
   ]
  },
  {
   "cell_type": "code",
   "execution_count": 74,
   "id": "0d731caf-f153-4795-ab9e-0b664f171542",
   "metadata": {},
   "outputs": [],
   "source": [
    "M = condition_matrix([P1, P2, Pa1, Pa2, Pa3], S, standard=\"all\")"
   ]
  },
  {
   "cell_type": "markdown",
   "id": "e135e2cd-dbd7-4f61-b340-cd6deb9dfec3",
   "metadata": {},
   "source": [
    "### We assume that $u_1 \\not= 0$, so $P_2$ is not the point $(1: -i: 0)$."
   ]
  },
  {
   "cell_type": "markdown",
   "id": "064b1ce9-5ed0-403d-9577-0549f2e1b32d",
   "metadata": {},
   "source": [
    "Under this hypothesis, we have that we can extract from M\n",
    "the rows: 0, 1; 4, 5; 7, 8; 10, 11; 13, 14.\n",
    "(Remember that w1, w2, m1 are not zero)."
   ]
  },
  {
   "cell_type": "code",
   "execution_count": 75,
   "id": "00a2ebfe-5ca3-40d7-ad26-304a7bc731a4",
   "metadata": {},
   "outputs": [],
   "source": [
    "MM1 = M.matrix_from_rows([0, 1, 4, 5, 7, 8, 10, 11, 13, 14])"
   ]
  },
  {
   "cell_type": "code",
   "execution_count": 76,
   "id": "31900d63-eb5d-4d67-a1e2-be89da0ec23a",
   "metadata": {},
   "outputs": [],
   "source": [
    "# we make a copy of MM1\n",
    "MM2 = M.matrix_from_rows([0, 1, 4, 5, 7, 8, 10, 11, 13, 14])"
   ]
  },
  {
   "cell_type": "markdown",
   "id": "5de23898-8cb7-464b-ab43-3b8d8af9c28a",
   "metadata": {},
   "source": [
    "Using the fact that the first two rows are good\n",
    "(MM2[0,0] is a non zero constant, and MM2[1, 4] is 1)\n",
    "we can reduce MM2 with elementary rows and columns operations."
   ]
  },
  {
   "cell_type": "code",
   "execution_count": 77,
   "id": "0ee95157-47cc-40be-99b8-ed78327a83f2",
   "metadata": {},
   "outputs": [],
   "source": [
    "MM2.rescale_row(0, ii/3)\n",
    "for i in range(2, 10):\n",
    "    MM2.add_multiple_of_row(i, 0, -MM2[i][0])\n",
    "\n",
    "for i in range(2, 10):\n",
    "    MM2.add_multiple_of_row(i, 1, -MM2[i][4])"
   ]
  },
  {
   "cell_type": "markdown",
   "id": "f6285f86-1311-4695-b558-1aaff76593b8",
   "metadata": {},
   "source": [
    "We extract from MM2 an order 8 square matrix, \n",
    "extracting the last 8 rows and the columns of position\n",
    "1, 2, 3, 5, 6, 7, 8, 9. "
   ]
  },
  {
   "cell_type": "code",
   "execution_count": 78,
   "id": "1723a412-377b-4679-b5c7-58c27d9d26b7",
   "metadata": {},
   "outputs": [],
   "source": [
    "MM2 = MM2.matrix_from_rows_and_columns(\n",
    "    [2, 3, 4, 5, 6, 7, 8, 9],\n",
    "    [1, 2, 3, 5, 6, 7, 8, 9]\n",
    ")"
   ]
  },
  {
   "cell_type": "markdown",
   "id": "8eb32ecd-7fe0-4ce5-8ffc-c1a06242b3ef",
   "metadata": {},
   "source": [
    "The computation of det(MM2) gives 0 (time of computation: 3' 20'')"
   ]
  },
  {
   "cell_type": "code",
   "execution_count": 79,
   "id": "a50b2213-73d8-4f66-b198-914f30556a65",
   "metadata": {},
   "outputs": [
    {
     "name": "stdout",
     "output_type": "stream",
     "text": [
      "Computation of the determinant of MM2:\n",
      "time: 103.08253500000006\n"
     ]
    }
   ],
   "source": [
    "if do_long_computations:\n",
    "   ttA = cputime()\n",
    "   dtMM2 = MM2.det()\n",
    "   print(\"Computation of the determinant of MM2:\")\n",
    "   print(\"time: \"+str(cputime()-ttA))\n",
    "   sleep(1)\n",
    "else:\n",
    "   dtMM2 = S.zero()\n",
    "\n",
    "assert(dtMM2 == S.zero())"
   ]
  },
  {
   "cell_type": "markdown",
   "id": "b8d19b56-9c5f-459f-91b1-753972bd3839",
   "metadata": {},
   "source": [
    "Hence M and MM1 have rank <= 9.\n",
    "We want to see when M has rank <=8, i.e. when MM2 has rank <=6\n",
    "hence we compute the ideal of the order 7-minors of MM2.\n",
    "Time of computation: 35'\n",
    "\n",
    "If doLongComputations=false, it takes some seconds to load the file"
   ]
  },
  {
   "cell_type": "code",
   "execution_count": 80,
   "id": "6cb37402-66fc-4af6-a3e9-bc2f61d7532f",
   "metadata": {},
   "outputs": [
    {
     "name": "stdout",
     "output_type": "stream",
     "text": [
      "Computation of the order 7 minors:\n",
      "time: 1000.0280200000001\n"
     ]
    }
   ],
   "source": [
    "if do_long_computations:\n",
    "   ttA = cputime()\n",
    "   mm2_7 = MM2.minors(7)\n",
    "   print(\"Computation of the order 7 minors:\")\n",
    "   print(\"time: \"+str(cputime()-ttA))\n",
    "   save(mm2_7, \"NB.06.F5-mm2_7.sobj\")\n",
    "   sleep(1)\n",
    "else:\n",
    "   mm2_7 = load(\"NB.06.F5-mm2_7.sobj\")"
   ]
  },
  {
   "cell_type": "markdown",
   "id": "b69c8d10-e4fe-431a-b84d-2dab651018d5",
   "metadata": {},
   "source": [
    "here is a list of factors that cannot be zero:"
   ]
  },
  {
   "cell_type": "code",
   "execution_count": 81,
   "id": "d3666b0c-aea7-4b02-be93-54a90c92d354",
   "metadata": {},
   "outputs": [],
   "source": [
    "nonZeroFt = [\n",
    "    l1,v1,u1,w1,w2,m1,l1+1, \n",
    "    (w1-w2),\n",
    "    (u1-v1),\n",
    "    (w2-m1),\n",
    "    (w1-m1),\n",
    "    (v1*w2+1),\n",
    "    (u1*w2+1),\n",
    "    (v1*w1+1),\n",
    "    (u1*w1+1),\n",
    "    (u1*m1+1)\n",
    "]"
   ]
  },
  {
   "cell_type": "code",
   "execution_count": 82,
   "id": "477261e7-4b6d-4415-bc57-2824ca0c6ea2",
   "metadata": {},
   "outputs": [],
   "source": [
    "# an auxiliary function:\n",
    "# input: a polynomial pol and a list of polynomials listFt:\n",
    "# output: a list of polynomials obtained deleting from the factors of pol\n",
    "# those factors which are contained in the list listFt. Each factor is taken \n",
    "# with exponent 1.\n",
    "# example:\n",
    "# erase_superfluous_factors(x^3*(x+1)^4*(z+y)^3*(x+y+z)^5, [x, z+y, z])\n",
    "# answer: [x+1, x+y+z]"
   ]
  },
  {
   "cell_type": "code",
   "execution_count": 83,
   "id": "c28ea142-0156-4b3a-b9fd-320467cfae1a",
   "metadata": {},
   "outputs": [],
   "source": [
    "def erase_superfluous_factors(pol, list_factors):\n",
    "    if pol == S.zero():\n",
    "        return(pol)\n",
    "    ftOK = []\n",
    "    for ft in list(pol.factor()):\n",
    "        if not ft[0] in list_factors:\n",
    "            ftOK.append(ft[0])\n",
    "    return(ftOK)"
   ]
  },
  {
   "cell_type": "markdown",
   "id": "075ab581-78f7-4b03-a3f9-0bf02726dfd3",
   "metadata": {},
   "source": [
    "here from each order 7-minor of MM2 (i.e. every element \n",
    "of mm2_7) we clear off the superfluous factors and \n",
    "we construct the ideal J7 of these polynomials (7'' of computation)"
   ]
  },
  {
   "cell_type": "code",
   "execution_count": 84,
   "id": "7f5db0c0-75d3-4d8e-8dc7-3e491b0cfee5",
   "metadata": {},
   "outputs": [],
   "source": [
    "J7 = []\n",
    "for ff in mm2_7:\n",
    "    J7.append(prod(erase_superfluous_factors(ff, nonZeroFt)))"
   ]
  },
  {
   "cell_type": "markdown",
   "id": "769fbcc4-8514-459d-b996-f66df9e14ff4",
   "metadata": {},
   "source": [
    "since the ideal J7 (after suitable saturation) is (1), we have \n",
    "that the matrix MM2 cannot have rank 6 or smaller, hence\n",
    "M cannot have rank 8 or smaller:"
   ]
  },
  {
   "cell_type": "code",
   "execution_count": 85,
   "id": "2caa656a-4b76-4c89-a026-575904f9da50",
   "metadata": {},
   "outputs": [],
   "source": [
    "assert(S.ideal(J7).saturation((l1+1)*(w2-m1))[0] == S.ideal(S(1)))"
   ]
  },
  {
   "cell_type": "markdown",
   "id": "f2f51ea9-1469-416e-a292-30daa82fe99a",
   "metadata": {},
   "source": [
    "The above computations show that the matrix $M$ has rank 9,\n",
    "there is thereofre only one cubic given by $M$ and is obtained \n",
    "from the determinant of the matrix Mc below, given when we \n",
    "stack to MM1 the row ginven  by the list mon.\n",
    "\n",
    "The next block constructs the cubic Cbc, which is the unique cubic \n",
    "given by the matrix M."
   ]
  },
  {
   "cell_type": "code",
   "execution_count": 86,
   "id": "cf08dc42-63f8-4702-9331-282cc57bd118",
   "metadata": {},
   "outputs": [],
   "source": [
    "Mc = MM1.matrix_from_rows(range(9))  \n",
    "Mc = Mc.stack(matrix([mon]))"
   ]
  },
  {
   "cell_type": "code",
   "execution_count": 87,
   "id": "bc40f62b-2b59-4397-b0fd-c0c4aaf19439",
   "metadata": {},
   "outputs": [
    {
     "name": "stdout",
     "output_type": "stream",
     "text": [
      "Computation of the cubic:\n",
      "time: 1077.124312\n"
     ]
    }
   ],
   "source": [
    "if do_long_computations:\n",
    "   ttA = cputime()\n",
    "   dtMc = Mc.det()\n",
    "   print(\"Computation of the cubic:\")\n",
    "   print(\"time: \"+str(cputime()-ttA))\n",
    "   save(dtMc, \"NB.06.F5-dtMc.sobj\")\n",
    "   sleep(1)\n",
    "else:\n",
    "   dtMc = load(\"NB.06.F5-dtMc.sobj\")"
   ]
  },
  {
   "cell_type": "code",
   "execution_count": 88,
   "id": "6efe0408-04ac-4ed8-b92f-4ce6063aa867",
   "metadata": {},
   "outputs": [],
   "source": [
    "## from dtMc we erase useless factors:\n",
    "\n",
    "dt1 = erase_superfluous_factors(dtMc, nonZeroFt)"
   ]
  },
  {
   "cell_type": "markdown",
   "id": "d8476fd2-d95e-4a58-9267-a1c91c9f054c",
   "metadata": {},
   "source": [
    "We get that dt1 is a list of 4 elements, which are:"
   ]
  },
  {
   "cell_type": "code",
   "execution_count": 89,
   "id": "f534fecd-05db-4d21-82f7-24b40b3b8c62",
   "metadata": {},
   "outputs": [],
   "source": [
    "Ls = [\n",
    "    x*u1 + ii*y*u1 + ii*z,\n",
    "    u1*w1*w2 + 1/2*w1 + 1/2*w2,\n",
    "    u1^2*l1*m1^2 - l1*m1^2 - 2*u1*m1 - m1^2 - 1,\n",
    "    x^2*u1^2*l1 + (2*ii)*x*y*u1^2*l1 - y^2*u1^2*l1 + (2*ii)*x*z*u1*l1 \n",
    "    - 2*y*z*u1*l1 + 3*x^2*l1 + 3*y^2*l1 + 2*z^2*l1 + 3*x^2 + 3*y^2 + 3*z^2\n",
    "]"
   ]
  },
  {
   "cell_type": "code",
   "execution_count": 90,
   "id": "0ecfd110-9236-4393-aa2b-45a3797dc640",
   "metadata": {},
   "outputs": [],
   "source": [
    "assert(dt1 == Ls)"
   ]
  },
  {
   "cell_type": "markdown",
   "id": "9ef635b6-2ac5-4436-9f30-0beebe525326",
   "metadata": {},
   "source": [
    "We select the two factors which are a line and a conic and whose \n",
    "product is the desired cubic.\n",
    "\n",
    "The factor dt1[0] is the line r12 given by P1+P2:"
   ]
  },
  {
   "cell_type": "code",
   "execution_count": 91,
   "id": "9d5413cb-ff8a-44a9-a6c2-e7dd893c75e4",
   "metadata": {},
   "outputs": [],
   "source": [
    "r12 = det(matrix([P1, P2, (x, y, z)]))/(2*ii)"
   ]
  },
  {
   "cell_type": "code",
   "execution_count": 92,
   "id": "cf50382c-0239-4aad-aba5-5452c688aecb",
   "metadata": {},
   "outputs": [],
   "source": [
    "assert(dt1[0] == r12)"
   ]
  },
  {
   "cell_type": "markdown",
   "id": "37a6d2f6-e92f-4472-bfcc-ef674843b390",
   "metadata": {},
   "source": [
    "The factor Lt[3] is the l1*r12^2+3*(l1+1)*Ciso:"
   ]
  },
  {
   "cell_type": "code",
   "execution_count": 93,
   "id": "2478d192-0f39-452d-bad9-cf84ca8a8e48",
   "metadata": {},
   "outputs": [],
   "source": [
    "assert(dt1[3] == l1*r12^2+3*(l1+1)*Ciso)"
   ]
  },
  {
   "cell_type": "markdown",
   "id": "a65fff2f-f7bc-4c94-8813-81475025a407",
   "metadata": {},
   "source": [
    "The cubic is therefore:"
   ]
  },
  {
   "cell_type": "code",
   "execution_count": 94,
   "id": "340f6856-a6c0-4634-b89c-8b1ae7967325",
   "metadata": {},
   "outputs": [],
   "source": [
    "Cbc = dt1[0]*dt1[3]"
   ]
  },
  {
   "cell_type": "markdown",
   "id": "6673b6aa-df30-46ff-8acd-1d7236a53cbd",
   "metadata": {},
   "source": [
    "The cubic Cbc is of the form r12*(u*r12^2+v*Ciso) for suitable u, v"
   ]
  },
  {
   "cell_type": "code",
   "execution_count": 95,
   "id": "bca50e4b-f12a-405f-9ddc-40357ebafa0b",
   "metadata": {},
   "outputs": [],
   "source": [
    "assert(Cbc == r12*(l1*r12^2+3*(l1+1)*Ciso))"
   ]
  },
  {
   "cell_type": "markdown",
   "id": "2f82238e-8c97-4f86-b89e-535136d9da8e",
   "metadata": {},
   "source": [
    "now we compute the eigenpoints of Cbc:"
   ]
  },
  {
   "cell_type": "code",
   "execution_count": 96,
   "id": "80755357-6cb8-4b4a-8bb3-dd1024f028dc",
   "metadata": {},
   "outputs": [],
   "source": [
    "Je = S.ideal(\n",
    "    matrix(\n",
    "        [\n",
    "            [\n",
    "                Cbc.derivative(x),\n",
    "                Cbc.derivative(y),\n",
    "                Cbc.derivative(z)\n",
    "            ],\n",
    "            [x, y, z]\n",
    "        ]\n",
    "    ).minors(2)\n",
    ")"
   ]
  },
  {
   "cell_type": "markdown",
   "id": "5d1a026c-4079-48ac-b8e0-6c22b5d4905d",
   "metadata": {},
   "source": [
    "we get two components, which are: the ideal generated by rtg1, rtg2 (hence is a point)\n",
    "and the principal ideal generated by Ciso+l1*rtg1*rtg2"
   ]
  },
  {
   "cell_type": "code",
   "execution_count": 97,
   "id": "e0908d9d-17b4-46b1-9d67-3b0e44403ecf",
   "metadata": {},
   "outputs": [],
   "source": [
    "PDe = Je.primary_decomposition()"
   ]
  },
  {
   "cell_type": "code",
   "execution_count": 98,
   "id": "e4af42a2-eab8-4735-9c39-3dce94e9837c",
   "metadata": {},
   "outputs": [],
   "source": [
    "assert(len(PDe) == 2)\n",
    "assert(PDe[0] == S.ideal(rtg1, rtg2))\n",
    "assert(PDe[1] == S.ideal(Ciso+l1*rtg1*rtg2))"
   ]
  },
  {
   "cell_type": "markdown",
   "id": "12ba180b-ccb3-4496-bb38-c6771350d20b",
   "metadata": {},
   "source": [
    "Conversely, we assume here that the cubic C is of the \n",
    "form C1 = (l1*Ciso+l2*(u1*x+v1*y+w1*z)^2)*(u1*x+v1*y+w1*z)\n",
    "where u1*x+v1*y+w1*z is a generic line of the plane and l1 and l2 \n",
    "are parameters."
   ]
  },
  {
   "cell_type": "code",
   "execution_count": 99,
   "id": "e880edbd-067b-4310-8ccb-2a971f232224",
   "metadata": {},
   "outputs": [],
   "source": [
    "C1 = (l1*Ciso+l2*(u1*x+v1*y+w1*z)^2)*(u1*x+v1*y+w1*z)"
   ]
  },
  {
   "cell_type": "markdown",
   "id": "aa61cdd4-6736-4a9a-87b0-e4cfaa16c1ff",
   "metadata": {},
   "source": [
    "We compute the eigenpoints of C1:\n",
    "and the primary decomposition of the ideal of the eigenpoints. \n",
    "We get two components: \n",
    "\n",
    "The first is:\n",
    "\n",
    "Ideal (z*v1 - y*w1, z*u1 - x*w1, y*u1 - x*v1)\n",
    "\n",
    "i.e. the point (u1, v1, w1)\n",
    "\n",
    "and the second component is the conic \n",
    "\n",
    "l1*Ciso+3*l2*(u1*x+v1*y+w1*z)^2"
   ]
  },
  {
   "cell_type": "code",
   "execution_count": 100,
   "id": "3ec5a529-7ddc-4c4c-8d8e-d7dc6e0fec35",
   "metadata": {},
   "outputs": [],
   "source": [
    "JJ = S.ideal(\n",
    "    matrix(\n",
    "        [\n",
    "            [\n",
    "                C1.derivative(x),\n",
    "                C1.derivative(y),\n",
    "                C1.derivative(z)\n",
    "            ], \n",
    "            [x, y, z]\n",
    "        ]\n",
    "    ).minors(2)\n",
    ")"
   ]
  },
  {
   "cell_type": "code",
   "execution_count": 101,
   "id": "cc01b549-b218-4965-a0d7-9e51f9ca2751",
   "metadata": {},
   "outputs": [],
   "source": [
    "pdJJ = JJ.primary_decomposition()"
   ]
  },
  {
   "cell_type": "code",
   "execution_count": 102,
   "id": "6955bb1e-6b1a-4868-bf7e-bfad64085ed7",
   "metadata": {},
   "outputs": [],
   "source": [
    "assert(pdJJ[0] == S.ideal (z*v1 - y*w1, z*u1 - x*w1, y*u1 - x*v1))\n",
    "assert(pdJJ[1] == S.ideal(l1*Ciso+3*l2*(u1*x+v1*y+w1*z)^2))"
   ]
  },
  {
   "cell_type": "markdown",
   "id": "45999f57-bd4d-4b2d-89b3-35c284397172",
   "metadata": {},
   "source": [
    "In case $P_2 \\not= (1: -i:0)$ we have:\n",
    "\n",
    "A cubic C of the plane has in its eigenpoints a conic bitanget to $\\mathcal{Q}_{\\mathrm{iso}}$ if and only if \n",
    "C is of the form (l1*Ciso+l2*(u1*x+v1*y+w1*z)^2)*(u1*x+v1*y+w1*z)\n",
    "\n",
    "Moreover (for any $P_2$), if a cubic is of the above form, the conic l1*Ciso+3*l2*(u1*x+v1*y+w1*z)^2\n",
    "is contained in its eigenpoints."
   ]
  },
  {
   "cell_type": "markdown",
   "id": "6051b3d7-12dd-47f4-bb2c-698f2a7ae54f",
   "metadata": {},
   "source": [
    "### Case $P_2  = (1: -i: 0)$."
   ]
  },
  {
   "cell_type": "markdown",
   "id": "4a125ee3-f21e-40e9-8dc7-b21d6fdd7c65",
   "metadata": {},
   "source": [
    "We start as before, so we define the points $P_1, P_2$, the tangent lines\n",
    "to $\\mathcal{Q}_{\\mathrm{iso}}$ in $P_1$ and $P_2$, the pencil of conics Cg bitangent to $\\mathcal{Q}_{\\mathrm{iso}}$ \n",
    "in $P_1$ and $P_2$, we construct three points, here called Pg1, Pg2 and Pg3 on Cg. We \n",
    "observe that we can assume that some used parameters are not 0"
   ]
  },
  {
   "cell_type": "code",
   "execution_count": 103,
   "id": "9f2cbedd-be91-4010-8979-2e0956801a74",
   "metadata": {},
   "outputs": [],
   "source": [
    "P1 = vector(S, (1, ii, 0))\n",
    "P2 = vector(S, (1, -ii, 0))"
   ]
  },
  {
   "cell_type": "code",
   "execution_count": 104,
   "id": "4074be87-1874-45de-a366-163316b4b47e",
   "metadata": {},
   "outputs": [],
   "source": [
    "## Tangent line to Ciso in P1:\n",
    "rtg1 = scalar_product(P1, vector((x, y, z))-P1)\n",
    "\n",
    "\n",
    "## Tangent line to Ciso in P2:\n",
    "rtg2 = scalar_product(P2, vector((x, y, z))-P2)\n",
    "\n",
    "## Pencil of conics tangent to P1 and P2 to Ciso:\n",
    "Cg = Ciso + l1*rtg1*rtg2\n",
    "\n",
    "## If l1 = -1, Cg is the conic given by (P1+P2)^2, so we can assume\n",
    "## l1+1 != 0\n",
    "assert(-4*Cg.subs(l1=-1) == det(matrix([P1, P2, (x, y, z)]))^2)\n",
    "\n",
    "## construction of a generic point (different from (1, ii, 0)) on Cg:\n",
    "\n",
    "foo = Cg.subs(y=ii*x+w1*z).factor()[-1][0]\n",
    "\n",
    "## generic point of Cg (depends on the parameter w1):\n",
    "Pg = vector(S, (foo.coefficient(z), ii*(foo.coefficient(z))+\\\n",
    "                     w1*(-foo.coefficient(x)), -foo.coefficient(x)))\n",
    "\n",
    "## the last coordinate of Pg is ((-2*ii)) * (l1 + 1) * w1. \n",
    "## If w1 = 0, then Pg = P1, hence we can assume w1 != 0.\n",
    "assert(matrix([P1, Pg.subs(w1=0)]).rank() == 1)\n",
    "\n",
    "## Now we define three points on Cg:\n",
    "\n",
    "Pg1, Pg2 = Pg.subs({w1:w1}), Pg.subs({w1:w2})\n",
    "Pg3 = Pg.subs({w1:m1})\n",
    "\n",
    "## and we can assume w1, w2, m1 != 0."
   ]
  },
  {
   "cell_type": "markdown",
   "id": "69522290-36f9-4a40-a53e-0b7292be036a",
   "metadata": {},
   "source": [
    "Now we construct the matrix of conditions of the points P1, P2, Pg1, Pg2, Pg3\n",
    "and we study its rank. We see that the matrix $M$ has rank <=9."
   ]
  },
  {
   "cell_type": "code",
   "execution_count": 105,
   "id": "02b5e277-4127-4c81-acdb-914123f2dcad",
   "metadata": {},
   "outputs": [],
   "source": [
    "\n",
    "## the following matrix must have rank <= 9:\n",
    "\n",
    "M = condition_matrix([P1, P2, Pg1, Pg2, Pg3], S, standard=\"all\")\n",
    "\n",
    "## Under this hypothesis, we have that we can extract from M\n",
    "## the rows: 0, 1; 3, 4; 7, 8; 10, 11; 13, 14.\n",
    "## (Remember that w1, w2, m1 are not zero).\n",
    "\n",
    "MM1 = M.matrix_from_rows([0, 1, 3, 4, 7, 8, 10, 11, 13, 14])\n",
    "\n",
    "## we make a copy of MM1\n",
    "MM2 = M.matrix_from_rows([0, 1, 3, 4, 7, 8, 10, 11, 13, 14])\n",
    "\n",
    "## Using the fact that the first two rows are good\n",
    "## (MM2[0,0] is a non zero constant, and MM2[1, 4] is 1)\n",
    "## we can reduce MM2 with elementary rows and columns operations.\n",
    "\n",
    "MM2.rescale_row(0, ii/3)\n",
    "for i in range(2, 10):\n",
    "    MM2.add_multiple_of_row(i, 0, -MM2[i][0])\n",
    "\n",
    "\n",
    "for i in range(2, 10):\n",
    "    MM2.add_multiple_of_row(i, 1, -MM2[i][4])\n",
    "\n",
    "## We extract from MM2 an order 8 square matrix, \n",
    "## extracting the last 8 rows and the columns of position\n",
    "## 1, 2, 3, 5, 6, 7, 8, 9. \n",
    "MM2 = MM2.matrix_from_rows_and_columns([2, 3, 4, 5, 6, 7, 8, 9], \\\n",
    "                                       [1, 2, 3, 5, 6, 7, 8, 9])\n",
    "\n",
    "## The computation of det(MM2) gives 0 \n",
    "dtMM2 = MM2.det()\n",
    "assert(dtMM2 == S(0))\n",
    "\n",
    "## Hence M and MM1 have rank <= 9."
   ]
  },
  {
   "cell_type": "markdown",
   "id": "c79823b2-0a3b-4fb3-943e-0bf19cfe8aaa",
   "metadata": {},
   "source": [
    "Now we want to see if $M$ can have rank < 9. We will see that $M$ cannot have \n",
    "rank 8 or smaller:"
   ]
  },
  {
   "cell_type": "code",
   "execution_count": 106,
   "id": "e8b0c345-d99d-42fd-ba97-b17ae2a9c7a2",
   "metadata": {},
   "outputs": [],
   "source": [
    "## We want to see when M has rank <=8, i.e. when MM2 has rank <=6\n",
    "## hence we compute the ideal of the order 7-minors of MM2.\n",
    "## Time of computation: 15''\n",
    "\n",
    "mm2_7 = MM2.minors(7)\n",
    "    \n",
    "## here is a list of factors that cannot be zero:\n",
    "nonZeroFt = [l1, l1+1, w1, w2, m1, w1-w2, w1-m1, w2-m1]\n",
    "\n",
    "\n",
    "## here from each order 7-minor of MM2 (i.e. every element \n",
    "## of mm2_7) we clear off the superfluous factors and \n",
    "## we construct the ideal J7 of these polynomials (7'' of computation)\n",
    "\n",
    "J7 = []\n",
    "for ff in mm2_7:\n",
    "    J7.append(prod(erase_superfluous_factors(ff, nonZeroFt)))\n",
    "\n",
    "## since the ideal J7 is (1), we have \n",
    "## that the matrix MM2 cannot have rank 6 or smaller, hence\n",
    "## M cannot have rank 8 or smaller:\n",
    "assert(S.ideal(J7) == S.ideal(S(1)))"
   ]
  },
  {
   "cell_type": "markdown",
   "id": "7f7ea5ab-73d7-4d64-adcf-a2cdc01b6953",
   "metadata": {},
   "source": [
    "The above computation show that the matrix $M$ has rank 9. Therefore\n",
    "there is only one cubic given by $M$ and is obtained from the determinant \n",
    "of the matrix Mc below. We get therefore the cubic Cbc below."
   ]
  },
  {
   "cell_type": "code",
   "execution_count": 107,
   "id": "112472ca-f6d6-41b9-abf9-170eb1cbff27",
   "metadata": {},
   "outputs": [],
   "source": [
    "Mc = MM1.matrix_from_rows(range(9))  \n",
    "Mc = Mc.stack(matrix([mon]))\n",
    "\n",
    "dtMc = Mc.det()\n",
    "\n",
    "## from dtMc we erase useless factors:\n",
    "\n",
    "dt1 = erase_superfluous_factors(dtMc, nonZeroFt)\n",
    "\n",
    "## We get that dt1 is a list of 4 elements, which are:\n",
    "Ls = [w1 + w2, z, l1*m1^2 + m1^2 + 1, \\\n",
    "      x^2*l1 + y^2*l1 + 2/3*z^2*l1 + x^2 + y^2 + z^2]\n",
    "\n",
    "assert(dt1 == Ls)\n",
    "\n",
    "## we select the two factors which are a line and a conic and whose \n",
    "## product is the desired cubic.\n",
    "\n",
    "## The factor dt1[1] is the line r12 given by P1+P2:\n",
    "\n",
    "r12 = -det(matrix([P1, P2, (x, y, z)]))/(2*ii)\n",
    "\n",
    "assert(dt1[1] == r12)\n",
    "\n",
    "## The factor Lt[3] is the l1*r12^2+3*(l1+1)*Ciso:\n",
    "\n",
    "assert(dt1[3] == (l1+1)*Ciso-1/3*l1*r12^2)\n",
    "\n",
    "## The cubic is therefore:\n",
    "\n",
    "Cbc = dt1[1]*dt1[3]\n",
    "\n",
    "assert(Cbc == r12*((l1+1)*Ciso-1/3*l1*r12^2))\n"
   ]
  },
  {
   "cell_type": "markdown",
   "id": "29de89ff-b02f-4c3f-a866-666dca11b17e",
   "metadata": {},
   "source": [
    "The above cubic is of the form desired, i.e. is of the form\n",
    "r*(u*r^2+v*Ciso) for suitable u, v in K. Now we compute the eigenpoints of Cbc\n",
    "and we see that they are of the desired form:\n"
   ]
  },
  {
   "cell_type": "code",
   "execution_count": 108,
   "id": "7b554961-9467-47ca-ab6b-fc567b555f9d",
   "metadata": {},
   "outputs": [],
   "source": [
    "Je = S.ideal(\n",
    "    matrix(\n",
    "        [\n",
    "            [Cbc.derivative(x), Cbc.derivative(y), Cbc.derivative(z)], \n",
    "            [x, y, z]\n",
    "        ]\n",
    "    ).minors(2)\n",
    ")\n",
    "\n",
    "## we get two components: \n",
    "PDe = Je.primary_decomposition()\n",
    "\n",
    "assert(len(PDe) == 2)\n",
    "\n",
    "assert(PDe[0] == S.ideal(rtg1, rtg2))\n",
    "\n",
    "assert(PDe[1] == S.ideal(Ciso+l1*rtg1*rtg2))"
   ]
  },
  {
   "cell_type": "markdown",
   "id": "69169cfc-b07b-476c-bf10-a80ff5260fce",
   "metadata": {},
   "source": [
    "This concludes the case $P_2 =(1:-i:0)$ and there are no differences w.r.t. the case $P_2 \\not= (1:-i:0)$"
   ]
  },
  {
   "cell_type": "markdown",
   "id": "d94ce90d-ed72-4b92-adde-99f8f0eb7d32",
   "metadata": {},
   "source": [
    "## $\\Gamma$ osculating the isotropic conic in $P_1=(1:i:0)$."
   ]
  },
  {
   "cell_type": "markdown",
   "id": "b4f060ca-d093-49f4-bcb8-c5cd77fd7dc7",
   "metadata": {},
   "source": [
    "Time of computations: about 800 seconds.\n",
    "\n",
    "Here we want to see the case in which a cubic has among its eigenpoints, a conic which is\n",
    "osculating $\\mathcal{Q}_{\\mathrm{iso}}$ in the point $P_1=(1:i:0)$.\n",
    "We define $P_2$ a generic point on $\\mathcal{Q}_{\\mathrm{iso}}$ different \n",
    "from $P_1$ ($P_2$ depends on the parameter $u_1$). \n",
    "We define the tangent lines to $\\mathcal{Q}_{\\mathrm{iso}}$ in $P_1$ and $P_2$, \n",
    "we define the pencil of conics Cg that pass through $P_2$\n",
    "and are osculating $\\mathcal{Q}_{\\mathrm{iso}}$ in $P_1$.\n",
    "Then we define 6 \"random\" points $P_3, \\dots, P_8$ on Cg"
   ]
  },
  {
   "cell_type": "code",
   "execution_count": 109,
   "id": "e5502422-9034-4b3b-8003-237a3f2d9b7d",
   "metadata": {},
   "outputs": [],
   "source": [
    "P1 = vector(S, (1, ii, 0))\n",
    "P2 = vector(S, ((-ii)*u1^2 + (-ii), u1^2 - 1, 2*u1))\n",
    "\n",
    "## Tangent line to Ciso in P1:\n",
    "rtg = scalar_product(P1, vector((x, y, z))-P1)\n",
    "\n",
    "## line P1 + P2\n",
    "r12 = matrix([P1, P2, (x, y, z)]).det()\n",
    "\n",
    "## Pencil of conics osculating Ciso in P1 and passing through P2:\n",
    "Cg = Ciso + l1*rtg*r12\n",
    "\n",
    "## If l1 = 0, Cg is Ciso, so we can assume\n",
    "## l1 != 0\n",
    "assert(Cg.subs(l1=0) == Ciso)\n",
    "\n",
    "## construction of a generic point (different from (1, ii, 0)) on Cg:\n",
    "\n",
    "foo = Cg.subs(y=ii*x+w1*z).factor()[-1][0]\n",
    "\n",
    "## generic point of Cg (it depends on the parameter w1):\n",
    "Pg = vector(\n",
    "    S, \n",
    "    (\n",
    "        foo.coefficient(z), \n",
    "        ii*(foo.coefficient(z))+w1*(-foo.coefficient(x)), \n",
    "        -foo.coefficient(x)\n",
    "    )\n",
    ")\n",
    "\n",
    "## Pg is on Cg:\n",
    "assert(Cg.subs(substitution(Pg)) == 0)\n",
    "\n",
    "\n",
    "## If w1 = 0, then Pg = P1, hence we can assume w1 != 0.\n",
    "assert(matrix([P1, Pg.subs(w1=0)]).rank() == 1)\n",
    "\n",
    "## Now we define six specific points on Cg:\n",
    "\n",
    "P3 = Pg.subs(w1=-1)\n",
    "P4 = Pg.subs(w1=-2)\n",
    "P5 = Pg.subs(w1=-3)\n",
    "P6 = Pg.subs(w1=4)\n",
    "P7 = Pg.subs(w1=-4)\n",
    "P8 = Pg.subs(w1=-6)"
   ]
  },
  {
   "cell_type": "markdown",
   "id": "b42dbc69-12bb-453f-885f-296a53cc7b34",
   "metadata": {
    "scrolled": true
   },
   "source": [
    "Then we construct two matrices, MT1 and MT2 of conditions that must have \n",
    "rank $\\leq 9$. We manipulate these matrices and at the end of the block below, we \n",
    "have two matrices (called again MT1 and MT2) that, if $P_1, \\dotsc, P_8$ are eigenpoints, \n",
    "must have rank $\\leq 8$."
   ]
  },
  {
   "cell_type": "code",
   "execution_count": 110,
   "id": "01637df0-4c08-4925-a95e-a70925bf9bba",
   "metadata": {},
   "outputs": [],
   "source": [
    "MT1 = condition_matrix([P1, P2, P3, P4, P5], S, standard=\"all\")\n",
    "MT2 = condition_matrix([P1, P2, P6, P7, P8], S, standard=\"all\")\n",
    "\n",
    "## Since the 0-row of MT1 and MT2 is numeric and also the 1-row \n",
    "## of MT1 and MT2 is numeric, we can use them to simplify MT1 and MT2. \n",
    "\n",
    "assert(MT1[0] == vector(S, ((-3*ii), 3, (3*ii), -3, 0, 0, 0, 0, 0, 0)))\n",
    "assert(MT2[0] == vector(S, ((-3*ii), 3, (3*ii), -3, 0, 0, 0, 0, 0, 0)))\n",
    "assert(MT1[1] == vector(S, (0, 0, 0, 0, 1, ii, -1, 0, 0, 0)))\n",
    "assert(MT2[1] == vector(S, (0, 0, 0, 0, 1, ii, -1, 0, 0, 0)))\n",
    "\n",
    "MT1.rescale_row(0, ii/3)\n",
    "for i in range(2, 10):\n",
    "    MT1.add_multiple_of_row(i, 0, -MT1[i][0])\n",
    "\n",
    "\n",
    "MT1.rescale_row(1, 1)\n",
    "for i in range(2, 10):\n",
    "    MT1.add_multiple_of_row(i, 1, -MT1[i][4])\n",
    "\n",
    "\n",
    "MT1 = MT1.matrix_from_columns([1, 2, 3, 5, 6, 7, 8, 9])\n",
    "MT1 = MT1.matrix_from_rows(range(3, 15))\n",
    "\n",
    "## same for MT2:\n",
    "\n",
    "MT2.rescale_row(0, ii/3)\n",
    "for i in range(2, 10):\n",
    "    MT2.add_multiple_of_row(i, 0, -MT2[i][0])\n",
    "\n",
    "\n",
    "MT2.rescale_row(1, 1)\n",
    "for i in range(2, 10):\n",
    "    MT2.add_multiple_of_row(i, 1, -MT2[i][4])\n",
    "\n",
    "\n",
    "MT2 = MT2.matrix_from_columns([1, 2, 3, 5, 6, 7, 8, 9])\n",
    "MT2 = MT2.matrix_from_rows(range(3, 15))\n",
    "\n",
    "## If P1, P2, P3, P4, P5, P6, P7, P8 are eigenpoints, \n",
    "## the order 8 minors of MT1 and of MT2 must all be zero.\n"
   ]
  },
  {
   "cell_type": "markdown",
   "id": "21755217-599f-42a7-b19c-f3103348a557",
   "metadata": {},
   "source": [
    "Now we compute the two ideals of the minors of order 8 of MT1 and MT2.\n",
    "The next computations require about 200 seconds.\n",
    "At the end of the computations below, we have two ideals, j1 and j2 which are \n",
    "such that when the parameters are a zero of j1+j2, then MT1 and MT2 have rank <=8"
   ]
  },
  {
   "cell_type": "code",
   "execution_count": 111,
   "id": "8e8fe35f-33c7-46d6-9174-02d9d4ef3884",
   "metadata": {},
   "outputs": [
    {
     "name": "stdout",
     "output_type": "stream",
     "text": [
      "About 63 seconds of computation...\n",
      "41.41182299999991\n",
      "About 80 seconds of computation...\n",
      "46.731866999999966\n",
      "Now 36 seconds of computations\n",
      "25.96072499999991\n"
     ]
    }
   ],
   "source": [
    "## this computation requires about 63\":\n",
    "print(\"About 63 seconds of computation...\")\n",
    "sleep(1)\n",
    "ttA = cputime()\n",
    "mt1_8 = MT1.minors(8)\n",
    "print(cputime()-ttA)\n",
    "\n",
    "\n",
    "## this computation requires about 80\"\n",
    "print(\"About 80 seconds of computation...\")\n",
    "sleep(1)\n",
    "ttA = cputime()\n",
    "mt2_8 = MT2.minors(8)\n",
    "print(cputime()-ttA)\n",
    "\n",
    "\n",
    "## To speed up the computations, we keep separated the two ideals\n",
    "\n",
    "## The following block requires 36 seconds.\n",
    "print(\"Now 36 seconds of computations\")\n",
    "sleep(1)\n",
    "JJ1 = S.ideal(mt1_8)\n",
    "JJ2 = S.ideal(mt2_8)\n",
    "\n",
    "\n",
    "ttA = cputime()\n",
    "j1 = S.ideal(JJ1).saturation(l1)[0]\n",
    "\n",
    "## we saturate w.r.t. the conditions that P2 and P3, P4, P5\n",
    "## are different:\n",
    "\n",
    "plSat = prod(\n",
    "    [\n",
    "        S.ideal(matrix([P2, pp]).minors(2)).groebner_basis()[0]\n",
    "        for pp in [P3, P4, P5]\n",
    "    ]\n",
    ")\n",
    "\n",
    "j1 = j1.saturation(plSat)[0]\n",
    "\n",
    "## similarly for JJ2.\n",
    "## we saturate w.r.t. the conditions that P2 and P6, P7, P8\n",
    "## are different:\n",
    "\n",
    "j2 = S.ideal(JJ2).saturation(l1)[0]\n",
    "\n",
    "plSat = prod(\n",
    "    [\n",
    "        S.ideal(matrix([P2, pp]).minors(2)).groebner_basis()[0]\n",
    "        for pp in [P6, P7, P8]\n",
    "    ]\n",
    ")\n",
    "\n",
    "j2 = j2.saturation(plSat)[0]\n",
    "\n",
    "print(cputime()-ttA)\n"
   ]
  },
  {
   "cell_type": "markdown",
   "id": "3466de8c-3ca3-468d-8016-7b2b467ee540",
   "metadata": {},
   "source": [
    "In order to study the zeros of j1 and j2, we compute their radical, \n",
    "then we sum the two radicals and we get the ideal (1). This means that \n",
    "the matrices MT1 and MT2 cannot have rank 8 Time of computations: about 146 seconds."
   ]
  },
  {
   "cell_type": "code",
   "execution_count": 112,
   "id": "f135cb73-87d8-4bf1-b874-9c16b479b8b5",
   "metadata": {},
   "outputs": [
    {
     "name": "stdout",
     "output_type": "stream",
     "text": [
      "Computation of a radical: 54 seconds\n",
      "39.453751999999895\n",
      "computation of the second radical: 73 seconds\n",
      "52.07700100000011\n",
      "about 15 seconds\n",
      "10.753017999999884\n"
     ]
    }
   ],
   "source": [
    "## We compute the radical of j1 and j2:\n",
    "print(\"Computation of a radical: 54 seconds\")\n",
    "sleep(1)\n",
    "ttA = cputime()\n",
    "rJ1 = j1.radical()\n",
    "print(cputime()-ttA)\n",
    "\n",
    "print(\"computation of the second radical: 73 seconds\")\n",
    "sleep(1)\n",
    "ttA = cputime()\n",
    "rJ2 = j2.radical()\n",
    "print(cputime()-ttA)\n",
    "\n",
    "\n",
    "## now we sum the two ideals and we get \n",
    "## the ideal (1).\n",
    "\n",
    "print(\"about 15 seconds\")\n",
    "sleep(1)\n",
    "ttA = cputime()\n",
    "assert(rJ1+rJ2 == S.ideal(1))\n",
    "print(cputime()-ttA)\n",
    "\n"
   ]
  },
  {
   "cell_type": "markdown",
   "id": "127363c8-1a27-48f4-b899-85a7fbed6cf0",
   "metadata": {},
   "source": [
    "The above computations show that it is almost sure that it is not possible to have \n",
    "$P_1, \\dotsc, P_8$ eigenpoints. In order to be sure, we have to repeat the computation for \n",
    "other points and to see if we get again that also these points on Cs cannot be \n",
    "eigenpoint for a cubic. The next block repeat therefore the computations for other \n",
    "points. The time of computation is 420 seconds."
   ]
  },
  {
   "cell_type": "code",
   "execution_count": 113,
   "id": "3d40fb26-ed70-4fff-b63d-fbf77db7333a",
   "metadata": {},
   "outputs": [
    {
     "name": "stdout",
     "output_type": "stream",
     "text": [
      "Half of the computation. Now the same computations with other points\n"
     ]
    }
   ],
   "source": [
    "print(\"Half of the computation. Now the same computations with other points\")\n",
    "\n",
    "P3 = Pg.subs(w1=1)\n",
    "P4 = Pg.subs(w1=2)\n",
    "P5 = Pg.subs(w1=3)\n",
    "P6 = Pg.subs(w1=5)\n",
    "P7 = Pg.subs(w1=-5)\n",
    "P8 = Pg.subs(w1=6)\n",
    "\n",
    "\n",
    "\n",
    "## the following two matrices must have rank <= 9:\n",
    "\n",
    "MT1 = condition_matrix([P1, P2, P3, P4, P5], S, standard=\"all\")\n",
    "MT2 = condition_matrix([P1, P2, P6, P7, P8], S, standard=\"all\")\n",
    "\n",
    "## Since the 0-row of MT1 and MT2 is numeric and also the 1-row \n",
    "## of MT1 and MT2 is numeric, we can use them to simplify MT1 and MT2. \n",
    "\n",
    "## assert(MT1[0] == \n",
    "MT1.rescale_row(0, ii/3)\n",
    "for i in range(2, 10):\n",
    "    MT1.add_multiple_of_row(i, 0, -MT1[i][0])\n",
    "\n",
    "\n",
    "MT1.rescale_row(1, 1)\n",
    "for i in range(2, 10):\n",
    "    MT1.add_multiple_of_row(i, 1, -MT1[i][4])\n",
    "\n",
    "\n",
    "MT1 = MT1.matrix_from_columns([1, 2, 3, 5, 6, 7, 8, 9])\n",
    "MT1 = MT1.matrix_from_rows(range(3, 15))\n",
    "\n",
    "## same for MT2:\n",
    "##assert(MT1[0] == MT2[0])\n",
    "##assert(MT1[1] == MT2[1])\n",
    "\n",
    "MT2.rescale_row(0, ii/3)\n",
    "for i in range(2, 10):\n",
    "    MT2.add_multiple_of_row(i, 0, -MT2[i][0])\n",
    "\n",
    "\n",
    "MT2.rescale_row(1, 1)\n",
    "for i in range(2, 10):\n",
    "    MT2.add_multiple_of_row(i, 1, -MT2[i][4])\n",
    "\n",
    "\n",
    "MT2 = MT2.matrix_from_columns([1, 2, 3, 5, 6, 7, 8, 9])\n",
    "MT2 = MT2.matrix_from_rows(range(3, 15))"
   ]
  },
  {
   "cell_type": "code",
   "execution_count": 114,
   "id": "0e5bcc0a-7c2e-4571-8d15-7855fe457393",
   "metadata": {},
   "outputs": [
    {
     "name": "stdout",
     "output_type": "stream",
     "text": [
      "About 62 seconds of computation...\n",
      "35.11327500000016\n",
      "About 97 seconds of computation...\n",
      "51.91341700000021\n"
     ]
    }
   ],
   "source": [
    "## If P1, P2, P3, P4, P5, P6, P7, P8 are eigenpoints, \n",
    "## the order 8 minors of MT1 and of MT2 must all be zero.\n",
    "\n",
    "## this computation requires about 62\":\n",
    "print(\"About 62 seconds of computation...\")\n",
    "sleep(1)\n",
    "ttA = cputime()\n",
    "mt1_8 = MT1.minors(8)\n",
    "print(cputime()-ttA)\n",
    "\n",
    "## this computation requires about 97\"\n",
    "print(\"About 97 seconds of computation...\")\n",
    "sleep(1)\n",
    "ttA = cputime()\n",
    "mt2_8 = MT2.minors(8)\n",
    "print(cputime()-ttA)"
   ]
  },
  {
   "cell_type": "code",
   "execution_count": 115,
   "id": "f1024189-7319-4921-9643-8747f26601d6",
   "metadata": {},
   "outputs": [
    {
     "name": "stdout",
     "output_type": "stream",
     "text": [
      "Now 46 seconds of computations\n"
     ]
    }
   ],
   "source": [
    "## To speed up the computations, we keep separated the two ideals\n",
    "\n",
    "## The following block requires 46 seconds.\n",
    "print(\"Now 46 seconds of computations\")\n",
    "sleep(1)\n",
    "JJ1 = S.ideal(mt1_8)\n",
    "JJ2 = S.ideal(mt2_8)\n",
    "\n",
    "ttA = cputime()\n",
    "j1 = S.ideal(JJ1).saturation(l1)[0]"
   ]
  },
  {
   "cell_type": "code",
   "execution_count": 116,
   "id": "033fddba-fe92-481e-afbc-cd56f0c9ac20",
   "metadata": {},
   "outputs": [],
   "source": [
    "## we saturate w.r.t. the conditions that P2 and P3, P4, P5\n",
    "## are different:\n",
    "\n",
    "plSat = prod(\n",
    "    [\n",
    "        S.ideal(matrix([P2, pp]).minors(2)).groebner_basis()[0]\n",
    "        for pp in [P3, P4, P5]\n",
    "    ]\n",
    ")\n",
    "\n",
    "j1 = j1.saturation(plSat)[0]"
   ]
  },
  {
   "cell_type": "code",
   "execution_count": 117,
   "id": "32606331-9b8a-47f5-bb8b-79cfab3c2144",
   "metadata": {},
   "outputs": [
    {
     "name": "stdout",
     "output_type": "stream",
     "text": [
      "32.323909000000185\n"
     ]
    }
   ],
   "source": [
    "## similarly for JJ2.\n",
    "## we saturate w.r.t. the conditions that P2 and P6, P7, P8\n",
    "## are different:\n",
    "\n",
    "j2 = S.ideal(JJ2).saturation(l1)[0]\n",
    "\n",
    "plSat = prod(\n",
    "    [\n",
    "        S.ideal(\n",
    "            matrix([P2, pp]).minors(2)\n",
    "        ).groebner_basis()[0]\n",
    "        for pp in [P6, P7, P8]\n",
    "    ]\n",
    ")\n",
    "\n",
    "j2 = j2.saturation(plSat)[0]\n",
    "\n",
    "print(cputime()-ttA)"
   ]
  },
  {
   "cell_type": "code",
   "execution_count": 118,
   "id": "e7ff48f9-ece8-4070-9c13-deb34ab81af2",
   "metadata": {},
   "outputs": [
    {
     "name": "stdout",
     "output_type": "stream",
     "text": [
      "Computation of a radical: 55 seconds\n",
      "38.51320700000042\n",
      "computation of the second radical: 116 seconds\n",
      "79.28385499999968\n"
     ]
    }
   ],
   "source": [
    "## We compute the radical of j1 and j2:\n",
    "print(\"Computation of a radical: 55 seconds\")\n",
    "sleep(1)\n",
    "ttA = cputime()\n",
    "rJ1 = j1.radical()\n",
    "print(cputime()-ttA)\n",
    "\n",
    "print(\"computation of the second radical: 116 seconds\")\n",
    "sleep(1)\n",
    "\n",
    "ttA = cputime()\n",
    "rJ2 = j2.radical()\n",
    "print(cputime()-ttA)"
   ]
  },
  {
   "cell_type": "code",
   "execution_count": 119,
   "id": "1f28289d-ecca-4cbe-b961-a61a90b1025f",
   "metadata": {},
   "outputs": [
    {
     "name": "stdout",
     "output_type": "stream",
     "text": [
      "about 20 seconds\n",
      "13.807926000000407\n"
     ]
    }
   ],
   "source": [
    "## now we sum the two ideals and we get \n",
    "## the ideal (1).\n",
    "\n",
    "print(\"about 20 seconds\")\n",
    "sleep(1)\n",
    "ttA = cputime()\n",
    "assert(rJ1+rJ2 == S.ideal(1))\n",
    "print(cputime()-ttA)"
   ]
  },
  {
   "cell_type": "markdown",
   "id": "a2dde0b6-3a3b-400d-81cf-cc9f44e4ef5f",
   "metadata": {},
   "source": [
    "Conclusion of the above comptations: it is not possible to have a cubic whose eigenpoints \n",
    "contain a conic which is osculating the isotropic conic in a point."
   ]
  },
  {
   "cell_type": "markdown",
   "id": "dbc35ef1-ac8f-4c33-a611-eb94a5cd5bce",
   "metadata": {},
   "source": [
    "## $\\Gamma$ iperosculating the isotropic conic $\\mathcal{Q}_{\\mathrm{iso}}$ in $P_1 = (1:i:0)$"
   ]
  },
  {
   "cell_type": "markdown",
   "id": "c8bbc32b-e091-4605-9218-62e65db26858",
   "metadata": {},
   "source": [
    "We want to see now if there are cubics such that among their eigenpoints \n",
    "have a conic which is iperosculating $\\mathcal{Q}_{\\mathrm{iso}}$ in a point that, as usual, can \n",
    "be the point $P_1=(1:i:0)$. The computations are similar to the computations\n",
    "in the previous case: \n",
    "\n",
    "We construct the pencil of conics Cg iperosculating $\\mathcal{Q}_{\\mathrm{iso}}$ in $P_1$, \n",
    "we define 8 further points \"random\" on Cg and we construct two matrices MT1\n",
    "and MT2 whose rank must be $\\leq 9$. We study the ideal obtained from these \n",
    "conditions."
   ]
  },
  {
   "cell_type": "code",
   "execution_count": 120,
   "id": "00b82672-c87c-4eb3-879b-d629e6d79bba",
   "metadata": {},
   "outputs": [],
   "source": [
    "P1 = vector(S, (1, ii, 0))"
   ]
  },
  {
   "cell_type": "code",
   "execution_count": 121,
   "id": "a76981f7-3412-41f6-86c4-ed59ba088f11",
   "metadata": {},
   "outputs": [],
   "source": [
    "## Tangent line to Ciso in P1:\n",
    "rtg = scalar_product(P1, vector((x, y, z))-P1)"
   ]
  },
  {
   "cell_type": "code",
   "execution_count": 122,
   "id": "ce0bc8a2-aa62-4dd4-9438-948e4fb56d9d",
   "metadata": {},
   "outputs": [],
   "source": [
    "## Pencil of conics iperosculating Ciso in P1\n",
    "Cg = Ciso + l1*rtg^2"
   ]
  },
  {
   "cell_type": "code",
   "execution_count": 123,
   "id": "772273c9-a088-4ece-801d-da21c7db9ad6",
   "metadata": {},
   "outputs": [],
   "source": [
    "## If l1 = 0, Cg is Ciso, so we can assume\n",
    "## l1 != 0\n",
    "assert(Cg.subs(l1=0) == Ciso)"
   ]
  },
  {
   "cell_type": "code",
   "execution_count": 124,
   "id": "fc6ea0fd-391b-4f8b-b795-fff9a052913b",
   "metadata": {},
   "outputs": [],
   "source": [
    "## construction of a generic point (different from (1, ii, 0)) on Cg:\n",
    "\n",
    "foo = Cg.subs(y=ii*x+w1*z).factor()[-1][0]"
   ]
  },
  {
   "cell_type": "code",
   "execution_count": 125,
   "id": "a551d15d-a63b-451a-8a8d-da9a039f743e",
   "metadata": {},
   "outputs": [],
   "source": [
    "## generic point of Cg (it depends on the parameter w1):\n",
    "Pg = vector(\n",
    "    S, \n",
    "    (\n",
    "        foo.coefficient(z),\n",
    "        ii*(foo.coefficient(z)) + w1*(-foo.coefficient(x)),\n",
    "        -foo.coefficient(x)\n",
    "    )\n",
    ")"
   ]
  },
  {
   "cell_type": "code",
   "execution_count": 126,
   "id": "149d6a7c-2e16-4423-a823-edb27bae8389",
   "metadata": {},
   "outputs": [],
   "source": [
    "## Pg is on Cg:\n",
    "assert(Cg.subs(substitution(Pg)) == 0)"
   ]
  },
  {
   "cell_type": "code",
   "execution_count": 127,
   "id": "6943a1fc-3c0c-4eb4-a082-aa8729c2c826",
   "metadata": {},
   "outputs": [],
   "source": [
    "## If w1 = 0, then Pg = P1, hence we can assume w1 != 0.\n",
    "assert(matrix([P1, Pg.subs(w1=0)]).rank() == 1)"
   ]
  },
  {
   "cell_type": "code",
   "execution_count": 128,
   "id": "afadbbe7-c15b-4318-8030-e451014ab750",
   "metadata": {},
   "outputs": [],
   "source": [
    "## Now we define eight specific points on Cg:"
   ]
  },
  {
   "cell_type": "code",
   "execution_count": 129,
   "id": "7388e0ea-e937-4fea-9991-303c59595266",
   "metadata": {},
   "outputs": [],
   "source": [
    "P2 = Pg.subs(w1=-1)\n",
    "P3 = Pg.subs(w1=-2)\n",
    "P4 = Pg.subs(w1=-3)\n",
    "P5 = Pg.subs(w1=3)\n",
    "P6 = Pg.subs(w1=1)\n",
    "P7 = Pg.subs(w1=2)\n",
    "P8 = Pg.subs(w1=5)\n",
    "P9 = Pg.subs(w1=7)"
   ]
  },
  {
   "cell_type": "code",
   "execution_count": 130,
   "id": "1c7c9257-c459-4024-bbde-f82a8879b3ba",
   "metadata": {},
   "outputs": [],
   "source": [
    "## the following two matrices must have rank <= 9:\n",
    "\n",
    "MT1 = condition_matrix([P1, P2, P3, P4, P5], S, standard=\"all\")\n",
    "MT2 = condition_matrix([P1, P6, P7, P8, P9], S, standard=\"all\")"
   ]
  },
  {
   "cell_type": "markdown",
   "id": "9fbafbd6-cc3a-47f8-ae01-dec05a783e71",
   "metadata": {},
   "source": [
    "We manipulate MT1 and MT2 in order to see if it is possible that their rank is \n",
    "$\\leq 9$. At the end of these computations, we see that we have to study the condition \n",
    "given by the groebner basis gb which is l1*(l1 + 3) (about 10 seconds of computations)"
   ]
  },
  {
   "cell_type": "code",
   "execution_count": 131,
   "id": "648b9f6d-3675-4bba-9d9b-8eb561080d30",
   "metadata": {},
   "outputs": [],
   "source": [
    "MT1.rescale_row(0, ii/3)\n",
    "for i in range(2, 10):\n",
    "    MT1.add_multiple_of_row(i, 0, -MT1[i][0])\n",
    "\n",
    "\n",
    "MT1.rescale_row(1, 1)\n",
    "for i in range(2, 10):\n",
    "    MT1.add_multiple_of_row(i, 1, -MT1[i][4])\n",
    "    \n",
    "MT1 = MT1.matrix_from_columns([1, 2, 3, 5, 6, 7, 8, 9])\n",
    "MT1 = MT1.matrix_from_rows(range(3, 15))\n",
    "\n",
    "m8 = MT1.minors(8)\n",
    "\n",
    "I = S.ideal(m8)\n",
    "\n",
    "MT2.rescale_row(0, ii/3)\n",
    "for i in range(2, 10):\n",
    "    MT2.add_multiple_of_row(i, 0, -MT2[i][0])\n",
    "\n",
    "\n",
    "MT2.rescale_row(1, 1)\n",
    "for i in range(2, 10):\n",
    "    MT2.add_multiple_of_row(i, 1, -MT2[i][4])\n",
    "    \n",
    "MT2 = MT2.matrix_from_columns([1, 2, 3, 5, 6, 7, 8, 9])\n",
    "MT2 = MT2.matrix_from_rows(range(3, 15))\n",
    "\n",
    "m8 = MT2.minors(8)\n",
    "\n",
    "J = S.ideal(m8)\n",
    "\n",
    "gb = (I+J).groebner_basis()\n",
    "\n",
    "assert(gb == [l1*(l1 + 3)])"
   ]
  },
  {
   "cell_type": "markdown",
   "id": "01d31822-326d-4e8a-947d-c4fee73b5c54",
   "metadata": {},
   "source": [
    "Here we see that we have to study the case l1 = -3.\n",
    "We study the cubic we obtain and we see it is of the form $t(\\mathcal{Q}_{iso}-t^2)$,\n",
    "while the eigenpoints are given by $\\mathcal{Q}_{iso} -3t^2$ ($t$ is the tangent line)"
   ]
  },
  {
   "cell_type": "code",
   "execution_count": 132,
   "id": "74624c22-e7d6-4500-ab73-55e55392a079",
   "metadata": {},
   "outputs": [],
   "source": [
    "# we particularize Cg  and we define Cs:\n",
    "\n",
    "Cs = Cg.subs({l1:-3})\n",
    "## we define the matrix of conditions for the case l1 = -3:\n",
    "M = condition_matrix([P1, P2, P3, P4, P5], S, standard = 'all').subs({l1:-3})\n",
    "assert(M.rank() == 9)\n",
    "\n",
    "# select a suitable 9x10 submatrix of rank 9\n",
    "N = M.matrix_from_rows([0,1,3,4,6,7,9,10,12])\n",
    "assert(N.rank() == 9)\n",
    "\n",
    "# determine the cubic from M (and N)\n",
    "C = N.stack(vector(S, mon)).det()\n",
    "\n",
    "pd = (S.ideal(list(eig(C)))).primary_decomposition()\n",
    "\n",
    "## we get two ideals. One is the double point P_1\n",
    "\n",
    "assert(len(pd) == 2)\n",
    "\n",
    "assert(pd[1] == S.ideal(z, x^2 + (2*ii)*x*y - y^2))\n",
    "\n",
    "## the other ideal is the conic Cs:\n",
    "assert(pd[0] == S.ideal(Cs))\n",
    "\n",
    "## The cubic C is of the form rtg*(Ciso-rtg^2)\n",
    "## the conic Cs is of the form Ciso-3*rtg^2:\n",
    "assert(S.ideal(C) == S.ideal(rtg*(Ciso-rtg^2)))\n",
    "assert(S.ideal(Cs) == S.ideal(Ciso-3*rtg^2))\n",
    "\n",
    "## Moreover, rtg*(1/2*Cs + Ciso)) and rtg*(Ciso - rtg^2)\n",
    "## are the same cubic\n",
    "assert(S.ideal(rtg*(1/2*Cs + Ciso)) == S.ideal(rtg*(Ciso - rtg^2)))"
   ]
  },
  {
   "cell_type": "markdown",
   "id": "071fa678-c951-4b28-881a-163751e971a3",
   "metadata": {},
   "source": [
    "The conclusion of this computation is that if a cubic $C$ has among the eigenpoints a conic\n",
    "which is iperosculating $\\mathcal{Q}_{\\mathrm{iso}}$ in a point $P_1$, then  the cubic is of the form \n",
    "$t(\\mathcal{Q}_{iso}-t^2)$ and the conic of eigenpoints is $\\mathcal{Q}_{iso}-3t^2$. The converse is also true and is immediately verified, because is given by the computation of the ideal pd above, which is the ideal of the eigenpoints of the cubic $t(\\mathcal{Q}_{iso}-t^2)$."
   ]
  },
  {
   "cell_type": "markdown",
   "id": "0fd8b546-05ff-4091-b090-bad143817e0c",
   "metadata": {},
   "source": [
    "This concludes the proof of the theorem."
   ]
  }
 ],
 "metadata": {
  "kernelspec": {
   "display_name": "SageMath 10.2",
   "language": "sage",
   "name": "sagemath"
  },
  "language_info": {
   "codemirror_mode": {
    "name": "ipython",
    "version": 3
   },
   "file_extension": ".py",
   "mimetype": "text/x-python",
   "name": "python",
   "nbconvert_exporter": "python",
   "pygments_lexer": "ipython3",
   "version": "3.9.15"
  }
 },
 "nbformat": 4,
 "nbformat_minor": 5
}
