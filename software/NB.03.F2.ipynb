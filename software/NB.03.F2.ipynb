{
 "cells": [
  {
   "cell_type": "markdown",
   "id": "dce915b7-c3fe-46dd-a468-01bde6fe71e0",
   "metadata": {},
   "source": [
    "# Proposition"
   ]
  },
  {
   "cell_type": "markdown",
   "id": "c189eed2-d1e1-4adc-b916-15f6d40e240d",
   "metadata": {},
   "source": [
    "Let $P_1, P_2, P_3, P_4$ be four distinct points of the plane such that\n",
    "$P_1, P_2, P_3$ are aligned and let $r$ be the line joining them.\n",
    "\n",
    "If $\\mathrm{rk} \\,\\Phi(P_1, P_2, P_3, P_4) \\leq 7$ then $r$ is tangent to the isotropic conic in one of the three points $P_1$,  $P_2$, and $P_3$."
   ]
  },
  {
   "cell_type": "code",
   "execution_count": 2,
   "id": "774c145e-e4eb-458a-80f5-934883bae0c8",
   "metadata": {},
   "outputs": [],
   "source": [
    "load(\"basic_functions.sage\")"
   ]
  },
  {
   "cell_type": "markdown",
   "id": "d81a2ae9-cea6-4ad9-bb81-ca7a4f0763d0",
   "metadata": {},
   "source": [
    "We distinguish two cases: $P_1 = (1: 0: 0)$ and $P_1 = (1: i: 0)$."
   ]
  },
  {
   "cell_type": "markdown",
   "id": "2d939f2e-5b68-4c14-b78a-86b3849c3813",
   "metadata": {},
   "source": [
    "## Case $P_1 = (1: 0: 0)$"
   ]
  },
  {
   "cell_type": "markdown",
   "id": "50ac6a98-0213-49ac-9d85-2daf6ca97c7d",
   "metadata": {},
   "source": [
    "We define four points, so that $P_1$, $P_2$, and $P_3$ are aligned."
   ]
  },
  {
   "cell_type": "code",
   "execution_count": 3,
   "id": "72705fd9-93c3-4697-81e2-a619f1cc3c1f",
   "metadata": {},
   "outputs": [],
   "source": [
    "P1 = vector((1, 0, 0))\n",
    "P2 = vector((A2, B2, C2))\n",
    "P3 = u1*P1 + u2*P2\n",
    "P4 = vector((A4, B4, C4))"
   ]
  },
  {
   "cell_type": "markdown",
   "id": "dd4b9ac8-ea76-41f3-b88b-59c5c3a83c13",
   "metadata": {},
   "source": [
    "We define the matrix of conditions of $P_1$, $P_2$, $P_3$ and $P_4$."
   ]
  },
  {
   "cell_type": "code",
   "execution_count": 4,
   "id": "263084a5-c744-401b-9447-97e7caf85f5e",
   "metadata": {},
   "outputs": [],
   "source": [
    "M = condition_matrix([P1, P2, P3, P4], S, standard=\"all\")"
   ]
  },
  {
   "cell_type": "markdown",
   "id": "3c99c4be-faf0-4c73-8d54-0396b6e57e60",
   "metadata": {},
   "source": [
    "We compute the ideal of minors of order $8$ of $M$."
   ]
  },
  {
   "cell_type": "code",
   "execution_count": 5,
   "id": "9cbc16d8-4a61-40aa-8f2e-27662b1799b6",
   "metadata": {},
   "outputs": [],
   "source": [
    "J8 = S.ideal(M.minors(8))"
   ]
  },
  {
   "cell_type": "markdown",
   "id": "462fca2c-1c92-4eb8-ac0a-b433c38822e0",
   "metadata": {},
   "source": [
    "We saturate $J_8$ with respect to the conditions that the points $P_1$, $P_2$, $P_3$, and $P_4$ are distinct."
   ]
  },
  {
   "cell_type": "code",
   "execution_count": 8,
   "id": "3b1a8679-e701-4af5-8049-e29a0609c2dd",
   "metadata": {},
   "outputs": [],
   "source": [
    "J8 = J8.saturation(\n",
    "    S.ideal(matrix(S, [P1, P2]).minors(2))\n",
    ")[0].saturation(\n",
    "    S.ideal(matrix(S, [P1, P3]).minors(2))\n",
    ")[0].saturation(\n",
    "    S.ideal(matrix(S, [P2, P3]).minors(2))\n",
    ")[0].saturation(\n",
    "    S.ideal(matrix(S, [P1, P4]).minors(2))\n",
    ")[0].saturation(\n",
    "    S.ideal(matrix(S, [P2, P4]).minors(2))\n",
    ")[0].saturation(\n",
    "    S.ideal(matrix(S, [P3, P4]).minors(2))\n",
    ")[0]"
   ]
  },
  {
   "cell_type": "markdown",
   "id": "8897c3e5-4fa8-4069-a24b-2fd4fab5bc3b",
   "metadata": {},
   "source": [
    "We saturate $J_8$ with respect to the conditions that the points $P_1$, $P_2$, and $P_4$ are not aligned."
   ]
  },
  {
   "cell_type": "code",
   "execution_count": 11,
   "id": "16f3629a-1766-4306-971e-ccd9fad0fccb",
   "metadata": {},
   "outputs": [],
   "source": [
    "J8 = J8.saturation(\n",
    "    S.ideal(matrix(S, [P1, P2, P4]).det())\n",
    ")[0]"
   ]
  },
  {
   "cell_type": "markdown",
   "id": "d7e63d21-d6d6-428e-9125-9fca4fd8ef90",
   "metadata": {},
   "source": [
    "The condition imposed by $J_8$ is equivalent to the one \n",
    "that the line joining $P_1$, $P_2$, and $P_3$ is tangent to the isotropic conic in one of the three points,\n",
    "namely, $\\sigma(P_1, P_2) = 0$ and $\\left\\langle P_1, P_2 \\right\\rangle = \\left\\langle P_1, P_3 \\right\\rangle = 0$."
   ]
  },
  {
   "cell_type": "code",
   "execution_count": 20,
   "id": "438dd0e5-aec3-4b9c-96d3-3438d1c59284",
   "metadata": {},
   "outputs": [],
   "source": [
    "assert(J8 == S.ideal(\n",
    "    [\n",
    "        sigma(P1, P2),\n",
    "        scalar_product(P1, P3)*scalar_product(P1, P2)\n",
    "    ]\n",
    "))"
   ]
  },
  {
   "cell_type": "markdown",
   "id": "17ca66e6-52cf-456b-a82b-fac4bde5a226",
   "metadata": {},
   "source": [
    "## Case $P_1 = (1: i: 0)$"
   ]
  },
  {
   "cell_type": "markdown",
   "id": "71c0dc73-5ae4-475e-9f8f-402b4b23b3df",
   "metadata": {},
   "source": [
    "We define four points, so that $P_1$, $P_2$, and $P_3$ are aligned."
   ]
  },
  {
   "cell_type": "code",
   "execution_count": 21,
   "id": "4a4bbafe-f098-42dd-a931-00f35bb226ef",
   "metadata": {},
   "outputs": [],
   "source": [
    "P1 = vector((1, ii, 0))\n",
    "P2 = vector((A2, B2, C2))\n",
    "P3 = u1*P1 + u2*P2\n",
    "P4 = vector((A4, B4, C4))"
   ]
  },
  {
   "cell_type": "markdown",
   "id": "5245808a-6130-49dc-96b0-4536d3aed2e5",
   "metadata": {},
   "source": [
    "We define the matrix of conditions of $P_1$, $P_2$, and $P_4$."
   ]
  },
  {
   "cell_type": "code",
   "execution_count": 22,
   "id": "d1aaa94a-81f6-40e0-8c56-664c2a10d223",
   "metadata": {},
   "outputs": [],
   "source": [
    "M = condition_matrix([P1, P2, P3, P4], S, standard=\"all\")"
   ]
  },
  {
   "cell_type": "markdown",
   "id": "ba2bf16e-adc1-4036-acb9-15c7b64424dc",
   "metadata": {},
   "source": [
    "We compute the ideal of minors of order $8$ of $M$."
   ]
  },
  {
   "cell_type": "code",
   "execution_count": 23,
   "id": "8989ab02-a729-45b4-b041-b39b2c5d1ec0",
   "metadata": {},
   "outputs": [],
   "source": [
    "J8 = S.ideal(M.minors(8))"
   ]
  },
  {
   "cell_type": "markdown",
   "id": "57dfce22-38c5-4828-b108-4b04a14f6a3f",
   "metadata": {},
   "source": [
    "We saturate $J_8$ with respect to the conditions that the points $P_1$, $P_2$, $P_3$, and $P_4$ are distinct."
   ]
  },
  {
   "cell_type": "code",
   "execution_count": 24,
   "id": "fb1ed497-b218-4517-9ed5-bae4eef8d11b",
   "metadata": {},
   "outputs": [],
   "source": [
    "J8 = J8.saturation(\n",
    "    S.ideal(matrix(S, [P1, P2]).minors(2))\n",
    ")[0].saturation(\n",
    "    S.ideal(matrix(S, [P1, P3]).minors(2))\n",
    ")[0].saturation(\n",
    "    S.ideal(matrix(S, [P2, P3]).minors(2))\n",
    ")[0].saturation(\n",
    "    S.ideal(matrix(S, [P1, P4]).minors(2))\n",
    ")[0].saturation(\n",
    "    S.ideal(matrix(S, [P2, P4]).minors(2))\n",
    ")[0].saturation(\n",
    "    S.ideal(matrix(S, [P3, P4]).minors(2))\n",
    ")[0]"
   ]
  },
  {
   "cell_type": "markdown",
   "id": "6c9ff8da-c940-4483-9593-cc85bc08adc5",
   "metadata": {},
   "source": [
    "We saturate $J_8$ with respect to the conditions that the points $P_1$, $P_2$, and $P_4$ are not aligned."
   ]
  },
  {
   "cell_type": "code",
   "execution_count": 25,
   "id": "1cef5843-3eab-4e61-8ad6-66a5fe5eba9d",
   "metadata": {},
   "outputs": [],
   "source": [
    "J8 = J8.saturation(\n",
    "    S.ideal(matrix(S, [P1, P2, P4]).det())\n",
    ")[0]"
   ]
  },
  {
   "cell_type": "markdown",
   "id": "16baf63e-6b7e-4c47-9cd6-0bcffebd652b",
   "metadata": {},
   "source": [
    "The condition imposed by $J_8$ is equivalent to the one \n",
    "that the line joining $P_1$, $P_2$, and $P_3$ is tangent to the isotropic conic in one of the three points,\n",
    "namely, $\\left\\langle P_1, P_2 \\right\\rangle = 0$."
   ]
  },
  {
   "cell_type": "code",
   "execution_count": 28,
   "id": "6900db29-24dc-4de6-81e6-b230b665ed38",
   "metadata": {},
   "outputs": [],
   "source": [
    "assert(J8 == S.ideal(\n",
    "    [\n",
    "        scalar_product(P1, P2)\n",
    "    ]\n",
    "))"
   ]
  }
 ],
 "metadata": {
  "kernelspec": {
   "display_name": "SageMath 10.1",
   "language": "sage",
   "name": "sagemath"
  },
  "language_info": {
   "codemirror_mode": {
    "name": "ipython",
    "version": 3
   },
   "file_extension": ".py",
   "mimetype": "text/x-python",
   "name": "python",
   "nbconvert_exporter": "python",
   "pygments_lexer": "ipython3",
   "version": "3.10.6"
  }
 },
 "nbformat": 4,
 "nbformat_minor": 5
}
